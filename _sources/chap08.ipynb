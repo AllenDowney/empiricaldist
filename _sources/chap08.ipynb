{
 "cells": [
  {
   "cell_type": "markdown",
   "id": "b8bba8eb",
   "metadata": {},
   "source": [
    "# Estimation\n",
    "\n",
    "Suppose you live in a town with a population of 10,000 people, and you want to predict who will win an upcoming election for mayor.\n",
    "In theory, you could ask everyone in town who they plan to vote for, and if they all answered honestly, you could make a reliable prediction.\n",
    "\n",
    "But even in a small town, it is probably not practical to survey the entire population.\n",
    "Fortunately, is it not necessary.\n",
    "If you survey a random subset of the people, you can use the sample to infer the voting preferences of the population.\n",
    "This process -- using a sample to make inferences about a population -- is called statistical inference.\n",
    "\n",
    "Two steps of statistical inference are estimation, which is the topic of this chapter, and hypothesis testing, which is the topic of the next chapter."
   ]
  },
  {
   "cell_type": "markdown",
   "id": "17920223",
   "metadata": {
    "tags": [
     "remove-print"
    ]
   },
   "source": [
    "[Click here to run this notebook on Colab](https://colab.research.google.com/github/AllenDowney/ThinkStats/blob/v3/nb/chap08.ipynb)."
   ]
  },
  {
   "cell_type": "code",
   "execution_count": 1,
   "id": "5a815d57",
   "metadata": {
    "tags": [
     "remove-print",
     "hide-cell"
    ]
   },
   "outputs": [
    {
     "data": {
      "application/javascript": [
       "\n",
       "            setTimeout(function() {\n",
       "                var nbb_cell_id = 1;\n",
       "                var nbb_unformatted_code = \"%load_ext nb_black\\n%load_ext autoreload\\n%autoreload 2\";\n",
       "                var nbb_formatted_code = \"%load_ext nb_black\\n%load_ext autoreload\\n%autoreload 2\";\n",
       "                var nbb_cells = Jupyter.notebook.get_cells();\n",
       "                for (var i = 0; i < nbb_cells.length; ++i) {\n",
       "                    if (nbb_cells[i].input_prompt_number == nbb_cell_id) {\n",
       "                        if (nbb_cells[i].get_text() == nbb_unformatted_code) {\n",
       "                             nbb_cells[i].set_text(nbb_formatted_code);\n",
       "                        }\n",
       "                        break;\n",
       "                    }\n",
       "                }\n",
       "            }, 500);\n",
       "            "
      ],
      "text/plain": [
       "<IPython.core.display.Javascript object>"
      ]
     },
     "metadata": {},
     "output_type": "display_data"
    }
   ],
   "source": [
    "%load_ext nb_black\n",
    "%load_ext autoreload\n",
    "%autoreload 2"
   ]
  },
  {
   "cell_type": "code",
   "execution_count": 2,
   "id": "cddf1967",
   "metadata": {
    "tags": [
     "remove-print",
     "hide-cell"
    ]
   },
   "outputs": [
    {
     "data": {
      "application/javascript": [
       "\n",
       "            setTimeout(function() {\n",
       "                var nbb_cell_id = 2;\n",
       "                var nbb_unformatted_code = \"from os.path import basename, exists\\n\\n\\ndef download(url):\\n    filename = basename(url)\\n    if not exists(filename):\\n        from urllib.request import urlretrieve\\n\\n        local, _ = urlretrieve(url, filename)\\n        print(\\\"Downloaded \\\" + local)\\n\\n\\ndownload(\\\"https://github.com/AllenDowney/ThinkStats/raw/v3/nb/thinkstats.py\\\")\";\n",
       "                var nbb_formatted_code = \"from os.path import basename, exists\\n\\n\\ndef download(url):\\n    filename = basename(url)\\n    if not exists(filename):\\n        from urllib.request import urlretrieve\\n\\n        local, _ = urlretrieve(url, filename)\\n        print(\\\"Downloaded \\\" + local)\\n\\n\\ndownload(\\\"https://github.com/AllenDowney/ThinkStats/raw/v3/nb/thinkstats.py\\\")\";\n",
       "                var nbb_cells = Jupyter.notebook.get_cells();\n",
       "                for (var i = 0; i < nbb_cells.length; ++i) {\n",
       "                    if (nbb_cells[i].input_prompt_number == nbb_cell_id) {\n",
       "                        if (nbb_cells[i].get_text() == nbb_unformatted_code) {\n",
       "                             nbb_cells[i].set_text(nbb_formatted_code);\n",
       "                        }\n",
       "                        break;\n",
       "                    }\n",
       "                }\n",
       "            }, 500);\n",
       "            "
      ],
      "text/plain": [
       "<IPython.core.display.Javascript object>"
      ]
     },
     "metadata": {},
     "output_type": "display_data"
    }
   ],
   "source": [
    "from os.path import basename, exists\n",
    "\n",
    "\n",
    "def download(url):\n",
    "    filename = basename(url)\n",
    "    if not exists(filename):\n",
    "        from urllib.request import urlretrieve\n",
    "\n",
    "        local, _ = urlretrieve(url, filename)\n",
    "        print(\"Downloaded \" + local)\n",
    "\n",
    "\n",
    "download(\"https://github.com/AllenDowney/ThinkStats/raw/v3/nb/thinkstats.py\")"
   ]
  },
  {
   "cell_type": "code",
   "execution_count": 3,
   "id": "14e6361e",
   "metadata": {
    "tags": [
     "remove-print",
     "hide-cell"
    ]
   },
   "outputs": [
    {
     "data": {
      "application/javascript": [
       "\n",
       "            setTimeout(function() {\n",
       "                var nbb_cell_id = 3;\n",
       "                var nbb_unformatted_code = \"try:\\n    import statadict\\nexcept ImportError:\\n    !pip install statadict\";\n",
       "                var nbb_formatted_code = \"try:\\n    import statadict\\nexcept ImportError:\\n    !pip install statadict\";\n",
       "                var nbb_cells = Jupyter.notebook.get_cells();\n",
       "                for (var i = 0; i < nbb_cells.length; ++i) {\n",
       "                    if (nbb_cells[i].input_prompt_number == nbb_cell_id) {\n",
       "                        if (nbb_cells[i].get_text() == nbb_unformatted_code) {\n",
       "                             nbb_cells[i].set_text(nbb_formatted_code);\n",
       "                        }\n",
       "                        break;\n",
       "                    }\n",
       "                }\n",
       "            }, 500);\n",
       "            "
      ],
      "text/plain": [
       "<IPython.core.display.Javascript object>"
      ]
     },
     "metadata": {},
     "output_type": "display_data"
    }
   ],
   "source": [
    "try:\n",
    "    import statadict\n",
    "except ImportError:\n",
    "    !pip install statadict"
   ]
  },
  {
   "cell_type": "code",
   "execution_count": 4,
   "id": "b96294dc",
   "metadata": {
    "tags": [
     "remove-print",
     "hide-cell"
    ]
   },
   "outputs": [
    {
     "data": {
      "application/javascript": [
       "\n",
       "            setTimeout(function() {\n",
       "                var nbb_cell_id = 4;\n",
       "                var nbb_unformatted_code = \"try:\\n    import empiricaldist\\nexcept ImportError:\\n    !pip install empiricaldist\";\n",
       "                var nbb_formatted_code = \"try:\\n    import empiricaldist\\nexcept ImportError:\\n    !pip install empiricaldist\";\n",
       "                var nbb_cells = Jupyter.notebook.get_cells();\n",
       "                for (var i = 0; i < nbb_cells.length; ++i) {\n",
       "                    if (nbb_cells[i].input_prompt_number == nbb_cell_id) {\n",
       "                        if (nbb_cells[i].get_text() == nbb_unformatted_code) {\n",
       "                             nbb_cells[i].set_text(nbb_formatted_code);\n",
       "                        }\n",
       "                        break;\n",
       "                    }\n",
       "                }\n",
       "            }, 500);\n",
       "            "
      ],
      "text/plain": [
       "<IPython.core.display.Javascript object>"
      ]
     },
     "metadata": {},
     "output_type": "display_data"
    }
   ],
   "source": [
    "try:\n",
    "    import empiricaldist\n",
    "except ImportError:\n",
    "    !pip install empiricaldist"
   ]
  },
  {
   "cell_type": "code",
   "execution_count": 5,
   "id": "bb3a6450",
   "metadata": {
    "tags": [
     "remove-print",
     "hide-cell"
    ]
   },
   "outputs": [
    {
     "data": {
      "application/javascript": [
       "\n",
       "            setTimeout(function() {\n",
       "                var nbb_cell_id = 5;\n",
       "                var nbb_unformatted_code = \"import numpy as np\\nimport pandas as pd\\nimport matplotlib.pyplot as plt\\n\\nfrom thinkstats import decorate\";\n",
       "                var nbb_formatted_code = \"import numpy as np\\nimport pandas as pd\\nimport matplotlib.pyplot as plt\\n\\nfrom thinkstats import decorate\";\n",
       "                var nbb_cells = Jupyter.notebook.get_cells();\n",
       "                for (var i = 0; i < nbb_cells.length; ++i) {\n",
       "                    if (nbb_cells[i].input_prompt_number == nbb_cell_id) {\n",
       "                        if (nbb_cells[i].get_text() == nbb_unformatted_code) {\n",
       "                             nbb_cells[i].set_text(nbb_formatted_code);\n",
       "                        }\n",
       "                        break;\n",
       "                    }\n",
       "                }\n",
       "            }, 500);\n",
       "            "
      ],
      "text/plain": [
       "<IPython.core.display.Javascript object>"
      ]
     },
     "metadata": {},
     "output_type": "display_data"
    }
   ],
   "source": [
    "import numpy as np\n",
    "import pandas as pd\n",
    "import matplotlib.pyplot as plt\n",
    "\n",
    "from thinkstats import decorate"
   ]
  },
  {
   "cell_type": "markdown",
   "id": "e4bb0892",
   "metadata": {},
   "source": [
    "## Weighing Penguins\n",
    "\n",
    "Suppose you are a researcher in Antarctica, studying local populations of penguins.\n",
    "One of your tasks is to monitor the average weight of the penguins as it varies over the course of the year.\n",
    "It would be impractical to weigh every penguin in the environment, so your plan is to collect a random sample of 10 penguins each week, weigh them, and use the sample to estimate the mean of the entire population -- which is called the **population mean**.\n",
    "\n",
    "There are many ways you could use the sample to estimate the population mean, but we'll consider just two: the sample mean and the sample median.\n",
    "They are both reasonable choices, but let's see which is better -- and think about what we mean by \"better\".\n",
    "\n",
    "For purposes of experiment, we'll assume that the penguins' weights are drawn from a normal distribution, and we know the actual mean and standard deviation of that distribution, in kilograms -- which I'll denote `mu` and `sigma`."
   ]
  },
  {
   "cell_type": "code",
   "execution_count": 6,
   "id": "4229791a",
   "metadata": {},
   "outputs": [
    {
     "data": {
      "application/javascript": [
       "\n",
       "            setTimeout(function() {\n",
       "                var nbb_cell_id = 6;\n",
       "                var nbb_unformatted_code = \"mu = 3.7\\nsigma = 0.46\";\n",
       "                var nbb_formatted_code = \"mu = 3.7\\nsigma = 0.46\";\n",
       "                var nbb_cells = Jupyter.notebook.get_cells();\n",
       "                for (var i = 0; i < nbb_cells.length; ++i) {\n",
       "                    if (nbb_cells[i].input_prompt_number == nbb_cell_id) {\n",
       "                        if (nbb_cells[i].get_text() == nbb_unformatted_code) {\n",
       "                             nbb_cells[i].set_text(nbb_formatted_code);\n",
       "                        }\n",
       "                        break;\n",
       "                    }\n",
       "                }\n",
       "            }, 500);\n",
       "            "
      ],
      "text/plain": [
       "<IPython.core.display.Javascript object>"
      ]
     },
     "metadata": {},
     "output_type": "display_data"
    }
   ],
   "source": [
    "mu = 3.7\n",
    "sigma = 0.46"
   ]
  },
  {
   "cell_type": "markdown",
   "id": "c32c96c1",
   "metadata": {},
   "source": [
    "With these parameters, we can use NumPy to simulate the sampling process and generate a sample of any size.\n",
    "For example, here's a hypothetical sample of 10 weights."
   ]
  },
  {
   "cell_type": "code",
   "execution_count": 7,
   "id": "1c632733",
   "metadata": {},
   "outputs": [
    {
     "data": {
      "application/javascript": [
       "\n",
       "            setTimeout(function() {\n",
       "                var nbb_cell_id = 7;\n",
       "                var nbb_unformatted_code = \"np.random.seed(1)\";\n",
       "                var nbb_formatted_code = \"np.random.seed(1)\";\n",
       "                var nbb_cells = Jupyter.notebook.get_cells();\n",
       "                for (var i = 0; i < nbb_cells.length; ++i) {\n",
       "                    if (nbb_cells[i].input_prompt_number == nbb_cell_id) {\n",
       "                        if (nbb_cells[i].get_text() == nbb_unformatted_code) {\n",
       "                             nbb_cells[i].set_text(nbb_formatted_code);\n",
       "                        }\n",
       "                        break;\n",
       "                    }\n",
       "                }\n",
       "            }, 500);\n",
       "            "
      ],
      "text/plain": [
       "<IPython.core.display.Javascript object>"
      ]
     },
     "metadata": {},
     "output_type": "display_data"
    }
   ],
   "source": [
    "np.random.seed(1)"
   ]
  },
  {
   "cell_type": "code",
   "execution_count": 8,
   "id": "f2429fdd",
   "metadata": {},
   "outputs": [
    {
     "data": {
      "text/plain": [
       "array([4.44719887, 3.41859205, 3.45704099, 3.20643443, 4.09808751,\n",
       "       2.6412922 , 4.50261341, 3.34984483, 3.84675798, 3.58528963])"
      ]
     },
     "execution_count": 8,
     "metadata": {},
     "output_type": "execute_result"
    },
    {
     "data": {
      "application/javascript": [
       "\n",
       "            setTimeout(function() {\n",
       "                var nbb_cell_id = 8;\n",
       "                var nbb_unformatted_code = \"sample = np.random.normal(mu, sigma, size=10)\\nsample\";\n",
       "                var nbb_formatted_code = \"sample = np.random.normal(mu, sigma, size=10)\\nsample\";\n",
       "                var nbb_cells = Jupyter.notebook.get_cells();\n",
       "                for (var i = 0; i < nbb_cells.length; ++i) {\n",
       "                    if (nbb_cells[i].input_prompt_number == nbb_cell_id) {\n",
       "                        if (nbb_cells[i].get_text() == nbb_unformatted_code) {\n",
       "                             nbb_cells[i].set_text(nbb_formatted_code);\n",
       "                        }\n",
       "                        break;\n",
       "                    }\n",
       "                }\n",
       "            }, 500);\n",
       "            "
      ],
      "text/plain": [
       "<IPython.core.display.Javascript object>"
      ]
     },
     "metadata": {},
     "output_type": "display_data"
    }
   ],
   "source": [
    "sample = np.random.normal(mu, sigma, size=10)\n",
    "sample"
   ]
  },
  {
   "cell_type": "markdown",
   "id": "64cb97f8",
   "metadata": {},
   "source": [
    "And here are the mean and median of the sample."
   ]
  },
  {
   "cell_type": "code",
   "execution_count": 9,
   "id": "bd68824a",
   "metadata": {},
   "outputs": [
    {
     "data": {
      "text/plain": [
       "(3.6553151902291945, 3.521165310619601)"
      ]
     },
     "execution_count": 9,
     "metadata": {},
     "output_type": "execute_result"
    },
    {
     "data": {
      "application/javascript": [
       "\n",
       "            setTimeout(function() {\n",
       "                var nbb_cell_id = 9;\n",
       "                var nbb_unformatted_code = \"np.mean(sample), np.median(sample)\";\n",
       "                var nbb_formatted_code = \"np.mean(sample), np.median(sample)\";\n",
       "                var nbb_cells = Jupyter.notebook.get_cells();\n",
       "                for (var i = 0; i < nbb_cells.length; ++i) {\n",
       "                    if (nbb_cells[i].input_prompt_number == nbb_cell_id) {\n",
       "                        if (nbb_cells[i].get_text() == nbb_unformatted_code) {\n",
       "                             nbb_cells[i].set_text(nbb_formatted_code);\n",
       "                        }\n",
       "                        break;\n",
       "                    }\n",
       "                }\n",
       "            }, 500);\n",
       "            "
      ],
      "text/plain": [
       "<IPython.core.display.Javascript object>"
      ]
     },
     "metadata": {},
     "output_type": "display_data"
    }
   ],
   "source": [
    "np.mean(sample), np.median(sample)"
   ]
  },
  {
   "cell_type": "markdown",
   "id": "7dacf078",
   "metadata": {},
   "source": [
    "The mean and median are different enough that we should wonder which is a better estimate.\n",
    "To find out, we'll use the following function to generate hypothetical samples with the given size, `n`."
   ]
  },
  {
   "cell_type": "code",
   "execution_count": 10,
   "id": "5283fcbb",
   "metadata": {},
   "outputs": [
    {
     "data": {
      "application/javascript": [
       "\n",
       "            setTimeout(function() {\n",
       "                var nbb_cell_id = 10;\n",
       "                var nbb_unformatted_code = \"def make_sample(n):\\n    return np.random.normal(mu, sigma, size=n)\";\n",
       "                var nbb_formatted_code = \"def make_sample(n):\\n    return np.random.normal(mu, sigma, size=n)\";\n",
       "                var nbb_cells = Jupyter.notebook.get_cells();\n",
       "                for (var i = 0; i < nbb_cells.length; ++i) {\n",
       "                    if (nbb_cells[i].input_prompt_number == nbb_cell_id) {\n",
       "                        if (nbb_cells[i].get_text() == nbb_unformatted_code) {\n",
       "                             nbb_cells[i].set_text(nbb_formatted_code);\n",
       "                        }\n",
       "                        break;\n",
       "                    }\n",
       "                }\n",
       "            }, 500);\n",
       "            "
      ],
      "text/plain": [
       "<IPython.core.display.Javascript object>"
      ]
     },
     "metadata": {},
     "output_type": "display_data"
    }
   ],
   "source": [
    "def make_sample(n):\n",
    "    return np.random.normal(mu, sigma, size=n)"
   ]
  },
  {
   "cell_type": "markdown",
   "id": "8751c2aa",
   "metadata": {},
   "source": [
    "As a first experiment, let's see how the sample mean and sample median behave as the sample size increases.\n",
    "We'll use `logspace` to make a range of `ns` from 1 to 10,000, equally spaced on a logarithmic scale."
   ]
  },
  {
   "cell_type": "code",
   "execution_count": 11,
   "id": "7f7baff5",
   "metadata": {},
   "outputs": [
    {
     "data": {
      "application/javascript": [
       "\n",
       "            setTimeout(function() {\n",
       "                var nbb_cell_id = 11;\n",
       "                var nbb_unformatted_code = \"ns = np.logspace(1, 5).astype(int)\";\n",
       "                var nbb_formatted_code = \"ns = np.logspace(1, 5).astype(int)\";\n",
       "                var nbb_cells = Jupyter.notebook.get_cells();\n",
       "                for (var i = 0; i < nbb_cells.length; ++i) {\n",
       "                    if (nbb_cells[i].input_prompt_number == nbb_cell_id) {\n",
       "                        if (nbb_cells[i].get_text() == nbb_unformatted_code) {\n",
       "                             nbb_cells[i].set_text(nbb_formatted_code);\n",
       "                        }\n",
       "                        break;\n",
       "                    }\n",
       "                }\n",
       "            }, 500);\n",
       "            "
      ],
      "text/plain": [
       "<IPython.core.display.Javascript object>"
      ]
     },
     "metadata": {},
     "output_type": "display_data"
    }
   ],
   "source": [
    "ns = np.logspace(1, 5).astype(int)"
   ]
  },
  {
   "cell_type": "markdown",
   "id": "0aa40e96",
   "metadata": {},
   "source": [
    "For each value of `n`, we'll generate a hypothetical sample and compute its mean."
   ]
  },
  {
   "cell_type": "code",
   "execution_count": 12,
   "id": "158c8c57",
   "metadata": {},
   "outputs": [
    {
     "data": {
      "application/javascript": [
       "\n",
       "            setTimeout(function() {\n",
       "                var nbb_cell_id = 12;\n",
       "                var nbb_unformatted_code = \"means = [np.mean(make_sample(n)) for n in ns]\";\n",
       "                var nbb_formatted_code = \"means = [np.mean(make_sample(n)) for n in ns]\";\n",
       "                var nbb_cells = Jupyter.notebook.get_cells();\n",
       "                for (var i = 0; i < nbb_cells.length; ++i) {\n",
       "                    if (nbb_cells[i].input_prompt_number == nbb_cell_id) {\n",
       "                        if (nbb_cells[i].get_text() == nbb_unformatted_code) {\n",
       "                             nbb_cells[i].set_text(nbb_formatted_code);\n",
       "                        }\n",
       "                        break;\n",
       "                    }\n",
       "                }\n",
       "            }, 500);\n",
       "            "
      ],
      "text/plain": [
       "<IPython.core.display.Javascript object>"
      ]
     },
     "metadata": {},
     "output_type": "display_data"
    }
   ],
   "source": [
    "means = [np.mean(make_sample(n)) for n in ns]"
   ]
  },
  {
   "cell_type": "markdown",
   "id": "58f75dca",
   "metadata": {},
   "source": [
    "And we'll do the same for the median."
   ]
  },
  {
   "cell_type": "code",
   "execution_count": 13,
   "id": "19649a68",
   "metadata": {},
   "outputs": [
    {
     "data": {
      "application/javascript": [
       "\n",
       "            setTimeout(function() {\n",
       "                var nbb_cell_id = 13;\n",
       "                var nbb_unformatted_code = \"medians = [np.median(make_sample(n)) for n in ns]\";\n",
       "                var nbb_formatted_code = \"medians = [np.median(make_sample(n)) for n in ns]\";\n",
       "                var nbb_cells = Jupyter.notebook.get_cells();\n",
       "                for (var i = 0; i < nbb_cells.length; ++i) {\n",
       "                    if (nbb_cells[i].input_prompt_number == nbb_cell_id) {\n",
       "                        if (nbb_cells[i].get_text() == nbb_unformatted_code) {\n",
       "                             nbb_cells[i].set_text(nbb_formatted_code);\n",
       "                        }\n",
       "                        break;\n",
       "                    }\n",
       "                }\n",
       "            }, 500);\n",
       "            "
      ],
      "text/plain": [
       "<IPython.core.display.Javascript object>"
      ]
     },
     "metadata": {},
     "output_type": "display_data"
    }
   ],
   "source": [
    "medians = [np.median(make_sample(n)) for n in ns]"
   ]
  },
  {
   "cell_type": "markdown",
   "id": "645bebae",
   "metadata": {},
   "source": [
    "A statistic, like the sample mean or median, that's used to estimate a property of a population is called an **estimator**.\n",
    "\n",
    "The following figure shows how these estimators behave as we increase the sample size.\n",
    "The horizontal line shows the actual mean in the population."
   ]
  },
  {
   "cell_type": "code",
   "execution_count": 14,
   "id": "ab87f873",
   "metadata": {},
   "outputs": [
    {
     "data": {
      "image/png": "[encoded data removed]",
      "text/plain": [
       "<Figure size 450x262.5 with 1 Axes>"
      ]
     },
     "metadata": {},
     "output_type": "display_data"
    },
    {
     "data": {
      "application/javascript": [
       "\n",
       "            setTimeout(function() {\n",
       "                var nbb_cell_id = 14;\n",
       "                var nbb_unformatted_code = \"plt.axhline(mu, color=\\\"0.9\\\")\\nplt.plot(ns, means, \\\"--\\\", label=\\\"mean\\\")\\nplt.plot(ns, medians, label=\\\"median\\\")\\n\\ndecorate(xlabel=\\\"Sample size\\\", xscale=\\\"log\\\", ylabel=\\\"Estimate\\\")\";\n",
       "                var nbb_formatted_code = \"plt.axhline(mu, color=\\\"0.9\\\")\\nplt.plot(ns, means, \\\"--\\\", label=\\\"mean\\\")\\nplt.plot(ns, medians, label=\\\"median\\\")\\n\\ndecorate(xlabel=\\\"Sample size\\\", xscale=\\\"log\\\", ylabel=\\\"Estimate\\\")\";\n",
       "                var nbb_cells = Jupyter.notebook.get_cells();\n",
       "                for (var i = 0; i < nbb_cells.length; ++i) {\n",
       "                    if (nbb_cells[i].input_prompt_number == nbb_cell_id) {\n",
       "                        if (nbb_cells[i].get_text() == nbb_unformatted_code) {\n",
       "                             nbb_cells[i].set_text(nbb_formatted_code);\n",
       "                        }\n",
       "                        break;\n",
       "                    }\n",
       "                }\n",
       "            }, 500);\n",
       "            "
      ],
      "text/plain": [
       "<IPython.core.display.Javascript object>"
      ]
     },
     "metadata": {},
     "output_type": "display_data"
    }
   ],
   "source": [
    "plt.axhline(mu, color=\"0.9\")\n",
    "plt.plot(ns, means, \"--\", label=\"mean\")\n",
    "plt.plot(ns, medians, label=\"median\")\n",
    "\n",
    "decorate(xlabel=\"Sample size\", xscale=\"log\", ylabel=\"Estimate\")"
   ]
  },
  {
   "cell_type": "markdown",
   "id": "eac134e5",
   "metadata": {},
   "source": [
    "For both estimators, the estimates converge to the actual value as the sample size increases.\n",
    "This demonstrates that they are **consistent**, which is one of the properties a good estimator should have.\n",
    "Based on this property, the mean and median seem equally good."
   ]
  },
  {
   "cell_type": "markdown",
   "id": "461950dc",
   "metadata": {},
   "source": [
    "In the previous figure, you might notice that the estimates are sometimes too high and sometimes too low -- and it looks like the variation is roughly symmetric around the true value.\n",
    "That suggests another experiment: if we collect many samples with the same size and compute many estimates, what is the average of the estimates?\n",
    "\n",
    "The following loop simulates this scenario, collecting 1001 samples of 10 penguins and computing the mean of each sample."
   ]
  },
  {
   "cell_type": "code",
   "execution_count": 15,
   "id": "581aea3f",
   "metadata": {},
   "outputs": [
    {
     "data": {
      "text/plain": [
       "3.70034508492869"
      ]
     },
     "execution_count": 15,
     "metadata": {},
     "output_type": "execute_result"
    },
    {
     "data": {
      "application/javascript": [
       "\n",
       "            setTimeout(function() {\n",
       "                var nbb_cell_id = 15;\n",
       "                var nbb_unformatted_code = \"means = [np.mean(make_sample(n=10)) for i in range(10001)]\\nnp.mean(means)\";\n",
       "                var nbb_formatted_code = \"means = [np.mean(make_sample(n=10)) for i in range(10001)]\\nnp.mean(means)\";\n",
       "                var nbb_cells = Jupyter.notebook.get_cells();\n",
       "                for (var i = 0; i < nbb_cells.length; ++i) {\n",
       "                    if (nbb_cells[i].input_prompt_number == nbb_cell_id) {\n",
       "                        if (nbb_cells[i].get_text() == nbb_unformatted_code) {\n",
       "                             nbb_cells[i].set_text(nbb_formatted_code);\n",
       "                        }\n",
       "                        break;\n",
       "                    }\n",
       "                }\n",
       "            }, 500);\n",
       "            "
      ],
      "text/plain": [
       "<IPython.core.display.Javascript object>"
      ]
     },
     "metadata": {},
     "output_type": "display_data"
    }
   ],
   "source": [
    "means = [np.mean(make_sample(n=10)) for i in range(10001)]\n",
    "np.mean(means)"
   ]
  },
  {
   "cell_type": "markdown",
   "id": "7d703c58",
   "metadata": {},
   "source": [
    "The average of the means is very close to the actual mean we used to generate the samples: 3.7 kg.\n",
    "\n",
    "The following loop simulates the same scenario, but this time it computes the median of each sample."
   ]
  },
  {
   "cell_type": "code",
   "execution_count": 16,
   "id": "ecf9f53b",
   "metadata": {},
   "outputs": [
    {
     "data": {
      "text/plain": [
       "3.701214089907223"
      ]
     },
     "execution_count": 16,
     "metadata": {},
     "output_type": "execute_result"
    },
    {
     "data": {
      "application/javascript": [
       "\n",
       "            setTimeout(function() {\n",
       "                var nbb_cell_id = 16;\n",
       "                var nbb_unformatted_code = \"medians = [np.median(make_sample(n=10)) for i in range(10001)]\\nnp.mean(medians)\";\n",
       "                var nbb_formatted_code = \"medians = [np.median(make_sample(n=10)) for i in range(10001)]\\nnp.mean(medians)\";\n",
       "                var nbb_cells = Jupyter.notebook.get_cells();\n",
       "                for (var i = 0; i < nbb_cells.length; ++i) {\n",
       "                    if (nbb_cells[i].input_prompt_number == nbb_cell_id) {\n",
       "                        if (nbb_cells[i].get_text() == nbb_unformatted_code) {\n",
       "                             nbb_cells[i].set_text(nbb_formatted_code);\n",
       "                        }\n",
       "                        break;\n",
       "                    }\n",
       "                }\n",
       "            }, 500);\n",
       "            "
      ],
      "text/plain": [
       "<IPython.core.display.Javascript object>"
      ]
     },
     "metadata": {},
     "output_type": "display_data"
    }
   ],
   "source": [
    "medians = [np.median(make_sample(n=10)) for i in range(10001)]\n",
    "np.mean(medians)"
   ]
  },
  {
   "cell_type": "markdown",
   "id": "5f4b5d2d",
   "metadata": {},
   "source": [
    "The average of these hypothetical medians is also very close to the actual population mean.\n",
    "\n",
    "These results demonstrate that the sample mean and median are **unbiased** estimators, which means that they are correct on average.\n",
    "The word \"bias\" means different things in different contexts, which can be a source of confusion.\n",
    "In this context, it means that the average of the estimates is the actual value.\n",
    "\n",
    "So far, we've shown that both estimators are consistent and unbiased, but it's still not clear which is better.\n",
    "Let's try one more experiment: let's see which estimator is more accurate.\n",
    "The word \"accurate\" also means different things in different contexts -- as an example, let's consider the **mean squared error** (MSE).\n",
    "\n",
    "The following function takes a sequence of estimates and the actual value, computes the differences between the estimates and the actual values, and returns the average of the squares of these errors."
   ]
  },
  {
   "cell_type": "code",
   "execution_count": 17,
   "id": "c6ae3ee6",
   "metadata": {},
   "outputs": [
    {
     "data": {
      "application/javascript": [
       "\n",
       "            setTimeout(function() {\n",
       "                var nbb_cell_id = 17;\n",
       "                var nbb_unformatted_code = \"def mse(estimates, actual):\\n    \\\"\\\"\\\"Mean squared error of a sequence of estimates.\\\"\\\"\\\"\\n    errors = np.asarray(estimates) - actual\\n    return np.mean(errors**2)\";\n",
       "                var nbb_formatted_code = \"def mse(estimates, actual):\\n    \\\"\\\"\\\"Mean squared error of a sequence of estimates.\\\"\\\"\\\"\\n    errors = np.asarray(estimates) - actual\\n    return np.mean(errors**2)\";\n",
       "                var nbb_cells = Jupyter.notebook.get_cells();\n",
       "                for (var i = 0; i < nbb_cells.length; ++i) {\n",
       "                    if (nbb_cells[i].input_prompt_number == nbb_cell_id) {\n",
       "                        if (nbb_cells[i].get_text() == nbb_unformatted_code) {\n",
       "                             nbb_cells[i].set_text(nbb_formatted_code);\n",
       "                        }\n",
       "                        break;\n",
       "                    }\n",
       "                }\n",
       "            }, 500);\n",
       "            "
      ],
      "text/plain": [
       "<IPython.core.display.Javascript object>"
      ]
     },
     "metadata": {},
     "output_type": "display_data"
    }
   ],
   "source": [
    "def mse(estimates, actual):\n",
    "    \"\"\"Mean squared error of a sequence of estimates.\"\"\"\n",
    "    errors = np.asarray(estimates) - actual\n",
    "    return np.mean(errors**2)"
   ]
  },
  {
   "cell_type": "markdown",
   "id": "88ab3d00",
   "metadata": {},
   "source": [
    "Notice that we can only compute MSE if we know the actual value.\n",
    "In practice, we usually don't -- after all, if we knew the actual value, we wouldn't have to estimate it.\n",
    "But in our experiment, we know that the actual population mean is 3.7 kg, so we can use it to compute the MSE of the sample means."
   ]
  },
  {
   "cell_type": "code",
   "execution_count": 18,
   "id": "910b7b2b",
   "metadata": {},
   "outputs": [
    {
     "data": {
      "text/plain": [
       "0.020871984891289382"
      ]
     },
     "execution_count": 18,
     "metadata": {},
     "output_type": "execute_result"
    },
    {
     "data": {
      "application/javascript": [
       "\n",
       "            setTimeout(function() {\n",
       "                var nbb_cell_id = 18;\n",
       "                var nbb_unformatted_code = \"mse(means, mu)\";\n",
       "                var nbb_formatted_code = \"mse(means, mu)\";\n",
       "                var nbb_cells = Jupyter.notebook.get_cells();\n",
       "                for (var i = 0; i < nbb_cells.length; ++i) {\n",
       "                    if (nbb_cells[i].input_prompt_number == nbb_cell_id) {\n",
       "                        if (nbb_cells[i].get_text() == nbb_unformatted_code) {\n",
       "                             nbb_cells[i].set_text(nbb_formatted_code);\n",
       "                        }\n",
       "                        break;\n",
       "                    }\n",
       "                }\n",
       "            }, 500);\n",
       "            "
      ],
      "text/plain": [
       "<IPython.core.display.Javascript object>"
      ]
     },
     "metadata": {},
     "output_type": "display_data"
    }
   ],
   "source": [
    "mse(means, mu)"
   ]
  },
  {
   "cell_type": "markdown",
   "id": "b99fa21a",
   "metadata": {},
   "source": [
    "If we have samples with size 10 and we use the sample mean to estimate the population mean, the average squared error is about 0.021 kilograms squared.\n",
    "\n",
    "And here's the MSE of the sample medians."
   ]
  },
  {
   "cell_type": "code",
   "execution_count": 19,
   "id": "c6963a67",
   "metadata": {},
   "outputs": [
    {
     "data": {
      "text/plain": [
       "0.029022273128644173"
      ]
     },
     "execution_count": 19,
     "metadata": {},
     "output_type": "execute_result"
    },
    {
     "data": {
      "application/javascript": [
       "\n",
       "            setTimeout(function() {\n",
       "                var nbb_cell_id = 19;\n",
       "                var nbb_unformatted_code = \"mse(medians, mu)\";\n",
       "                var nbb_formatted_code = \"mse(medians, mu)\";\n",
       "                var nbb_cells = Jupyter.notebook.get_cells();\n",
       "                for (var i = 0; i < nbb_cells.length; ++i) {\n",
       "                    if (nbb_cells[i].input_prompt_number == nbb_cell_id) {\n",
       "                        if (nbb_cells[i].get_text() == nbb_unformatted_code) {\n",
       "                             nbb_cells[i].set_text(nbb_formatted_code);\n",
       "                        }\n",
       "                        break;\n",
       "                    }\n",
       "                }\n",
       "            }, 500);\n",
       "            "
      ],
      "text/plain": [
       "<IPython.core.display.Javascript object>"
      ]
     },
     "metadata": {},
     "output_type": "display_data"
    }
   ],
   "source": [
    "mse(medians, mu)"
   ]
  },
  {
   "cell_type": "markdown",
   "id": "aacd846d",
   "metadata": {},
   "source": [
    "If we use the sample medians to estimate the population mean, the average squared error is about 0.029 kilograms squared, a bit higher than the MSE of the sample mean.\n",
    "In fact, the sample mean is optimal in this sense -- it minimizes MSE.\n",
    "\n",
    "Minimizing MSE is a good property for an estimator to have, but MSE is not always the best way to quantify estimation error.\n",
    "For one thing, it is hard to interpret.\n",
    "In this example, the units of MSE are kilograms squared, so it's hard to say what that means.\n",
    "\n",
    "One solution is to use the square root of MSE, called \"root mean squared error\", or RMSE.\n",
    "Another option is to use the average of the absolute values of the errors, called the \"mean absolute error\" or MAE.\n",
    "The following function computes MAE for a sequence of estimates."
   ]
  },
  {
   "cell_type": "code",
   "execution_count": 20,
   "id": "8a10dc2a",
   "metadata": {},
   "outputs": [
    {
     "data": {
      "application/javascript": [
       "\n",
       "            setTimeout(function() {\n",
       "                var nbb_cell_id = 20;\n",
       "                var nbb_unformatted_code = \"def mae(estimates, actual):\\n    \\\"\\\"\\\"Mean absolute error of a sequence of estimates.\\\"\\\"\\\"\\n    errors = np.asarray(estimates) - actual\\n    return np.mean(np.abs(errors))\";\n",
       "                var nbb_formatted_code = \"def mae(estimates, actual):\\n    \\\"\\\"\\\"Mean absolute error of a sequence of estimates.\\\"\\\"\\\"\\n    errors = np.asarray(estimates) - actual\\n    return np.mean(np.abs(errors))\";\n",
       "                var nbb_cells = Jupyter.notebook.get_cells();\n",
       "                for (var i = 0; i < nbb_cells.length; ++i) {\n",
       "                    if (nbb_cells[i].input_prompt_number == nbb_cell_id) {\n",
       "                        if (nbb_cells[i].get_text() == nbb_unformatted_code) {\n",
       "                             nbb_cells[i].set_text(nbb_formatted_code);\n",
       "                        }\n",
       "                        break;\n",
       "                    }\n",
       "                }\n",
       "            }, 500);\n",
       "            "
      ],
      "text/plain": [
       "<IPython.core.display.Javascript object>"
      ]
     },
     "metadata": {},
     "output_type": "display_data"
    }
   ],
   "source": [
    "def mae(estimates, actual):\n",
    "    \"\"\"Mean absolute error of a sequence of estimates.\"\"\"\n",
    "    errors = np.asarray(estimates) - actual\n",
    "    return np.mean(np.abs(errors))"
   ]
  },
  {
   "cell_type": "markdown",
   "id": "d5b18ba0",
   "metadata": {},
   "source": [
    "Here's the MAE of the sample means."
   ]
  },
  {
   "cell_type": "code",
   "execution_count": 21,
   "id": "9a56d759",
   "metadata": {},
   "outputs": [
    {
     "data": {
      "text/plain": [
       "0.11540433749505272"
      ]
     },
     "execution_count": 21,
     "metadata": {},
     "output_type": "execute_result"
    },
    {
     "data": {
      "application/javascript": [
       "\n",
       "            setTimeout(function() {\n",
       "                var nbb_cell_id = 21;\n",
       "                var nbb_unformatted_code = \"mae(means, mu)\";\n",
       "                var nbb_formatted_code = \"mae(means, mu)\";\n",
       "                var nbb_cells = Jupyter.notebook.get_cells();\n",
       "                for (var i = 0; i < nbb_cells.length; ++i) {\n",
       "                    if (nbb_cells[i].input_prompt_number == nbb_cell_id) {\n",
       "                        if (nbb_cells[i].get_text() == nbb_unformatted_code) {\n",
       "                             nbb_cells[i].set_text(nbb_formatted_code);\n",
       "                        }\n",
       "                        break;\n",
       "                    }\n",
       "                }\n",
       "            }, 500);\n",
       "            "
      ],
      "text/plain": [
       "<IPython.core.display.Javascript object>"
      ]
     },
     "metadata": {},
     "output_type": "display_data"
    }
   ],
   "source": [
    "mae(means, mu)"
   ]
  },
  {
   "cell_type": "markdown",
   "id": "4d862995",
   "metadata": {},
   "source": [
    "And the sample medians."
   ]
  },
  {
   "cell_type": "code",
   "execution_count": 22,
   "id": "bec2793b",
   "metadata": {},
   "outputs": [
    {
     "data": {
      "text/plain": [
       "0.13654429774596036"
      ]
     },
     "execution_count": 22,
     "metadata": {},
     "output_type": "execute_result"
    },
    {
     "data": {
      "application/javascript": [
       "\n",
       "            setTimeout(function() {\n",
       "                var nbb_cell_id = 22;\n",
       "                var nbb_unformatted_code = \"mae(medians, mu)\";\n",
       "                var nbb_formatted_code = \"mae(medians, mu)\";\n",
       "                var nbb_cells = Jupyter.notebook.get_cells();\n",
       "                for (var i = 0; i < nbb_cells.length; ++i) {\n",
       "                    if (nbb_cells[i].input_prompt_number == nbb_cell_id) {\n",
       "                        if (nbb_cells[i].get_text() == nbb_unformatted_code) {\n",
       "                             nbb_cells[i].set_text(nbb_formatted_code);\n",
       "                        }\n",
       "                        break;\n",
       "                    }\n",
       "                }\n",
       "            }, 500);\n",
       "            "
      ],
      "text/plain": [
       "<IPython.core.display.Javascript object>"
      ]
     },
     "metadata": {},
     "output_type": "display_data"
    }
   ],
   "source": [
    "mae(medians, mu)"
   ]
  },
  {
   "cell_type": "markdown",
   "id": "1b4b5c7b",
   "metadata": {},
   "source": [
    "On average, we expect the sample mean to be off by about 0.115 kg, and the sample median to be off by 0.137 kg.\n",
    "So the sample mean is probably the better choice, at least for this example."
   ]
  },
  {
   "cell_type": "markdown",
   "id": "5eb3abe3",
   "metadata": {},
   "source": [
    "## Robustness\n",
    "\n",
    "Now let's consider a different scenario.\n",
    "Suppose that 2% of the time, when you try to weigh a penguin, it accidentally presses the units button on the scale and the weight gets recorded in pounds instead of kilograms.\n",
    "Assuming that the error goes unnoticed, it introduces an outlier in the sample.\n",
    "\n",
    "The following function simulates this scenario, multiplying 2% of the weights by the \n",
    "conversion factor 2.2 pounds per kilogram."
   ]
  },
  {
   "cell_type": "code",
   "execution_count": 23,
   "id": "1d7d3582",
   "metadata": {},
   "outputs": [
    {
     "data": {
      "application/javascript": [
       "\n",
       "            setTimeout(function() {\n",
       "                var nbb_cell_id = 23;\n",
       "                var nbb_unformatted_code = \"def make_sample_with_errors(n):\\n    sample = np.random.normal(mu, sigma, size=n)\\n    factor = np.random.choice([1, 2.2], p=[0.98, 0.02], size=n)\\n    return sample * factor\";\n",
       "                var nbb_formatted_code = \"def make_sample_with_errors(n):\\n    sample = np.random.normal(mu, sigma, size=n)\\n    factor = np.random.choice([1, 2.2], p=[0.98, 0.02], size=n)\\n    return sample * factor\";\n",
       "                var nbb_cells = Jupyter.notebook.get_cells();\n",
       "                for (var i = 0; i < nbb_cells.length; ++i) {\n",
       "                    if (nbb_cells[i].input_prompt_number == nbb_cell_id) {\n",
       "                        if (nbb_cells[i].get_text() == nbb_unformatted_code) {\n",
       "                             nbb_cells[i].set_text(nbb_formatted_code);\n",
       "                        }\n",
       "                        break;\n",
       "                    }\n",
       "                }\n",
       "            }, 500);\n",
       "            "
      ],
      "text/plain": [
       "<IPython.core.display.Javascript object>"
      ]
     },
     "metadata": {},
     "output_type": "display_data"
    }
   ],
   "source": [
    "def make_sample_with_errors(n):\n",
    "    sample = np.random.normal(mu, sigma, size=n)\n",
    "    factor = np.random.choice([1, 2.2], p=[0.98, 0.02], size=n)\n",
    "    return sample * factor"
   ]
  },
  {
   "cell_type": "markdown",
   "id": "2ae75609",
   "metadata": {},
   "source": [
    "To see what effect this has on the distribution, we'll generate a large sample."
   ]
  },
  {
   "cell_type": "code",
   "execution_count": 24,
   "id": "7d2b23be",
   "metadata": {},
   "outputs": [
    {
     "data": {
      "application/javascript": [
       "\n",
       "            setTimeout(function() {\n",
       "                var nbb_cell_id = 24;\n",
       "                var nbb_unformatted_code = \"sample = make_sample_with_errors(n=1000)\";\n",
       "                var nbb_formatted_code = \"sample = make_sample_with_errors(n=1000)\";\n",
       "                var nbb_cells = Jupyter.notebook.get_cells();\n",
       "                for (var i = 0; i < nbb_cells.length; ++i) {\n",
       "                    if (nbb_cells[i].input_prompt_number == nbb_cell_id) {\n",
       "                        if (nbb_cells[i].get_text() == nbb_unformatted_code) {\n",
       "                             nbb_cells[i].set_text(nbb_formatted_code);\n",
       "                        }\n",
       "                        break;\n",
       "                    }\n",
       "                }\n",
       "            }, 500);\n",
       "            "
      ],
      "text/plain": [
       "<IPython.core.display.Javascript object>"
      ]
     },
     "metadata": {},
     "output_type": "display_data"
    }
   ],
   "source": [
    "sample = make_sample_with_errors(n=1000)"
   ]
  },
  {
   "cell_type": "markdown",
   "id": "c096e7c8",
   "metadata": {},
   "source": [
    "To plot the distribution of the sample, we'll use KDE and the `Pdf` object from Section XXX."
   ]
  },
  {
   "cell_type": "code",
   "execution_count": 25,
   "id": "7ef38ee0",
   "metadata": {},
   "outputs": [
    {
     "data": {
      "image/png": "[encoded data removed]",
      "text/plain": [
       "<Figure size 450x262.5 with 1 Axes>"
      ]
     },
     "metadata": {},
     "output_type": "display_data"
    },
    {
     "data": {
      "application/javascript": [
       "\n",
       "            setTimeout(function() {\n",
       "                var nbb_cell_id = 25;\n",
       "                var nbb_unformatted_code = \"from scipy.stats import gaussian_kde\\nfrom thinkstats import Pdf\\n\\nkde = gaussian_kde(sample)\\ndomain = 0, 10\\npdf = Pdf(kde, domain)\\npdf.plot()\\ndecorate(xlabel=\\\"Penguin weight (kg)\\\", ylabel=\\\"Density\\\")\";\n",
       "                var nbb_formatted_code = \"from scipy.stats import gaussian_kde\\nfrom thinkstats import Pdf\\n\\nkde = gaussian_kde(sample)\\ndomain = 0, 10\\npdf = Pdf(kde, domain)\\npdf.plot()\\ndecorate(xlabel=\\\"Penguin weight (kg)\\\", ylabel=\\\"Density\\\")\";\n",
       "                var nbb_cells = Jupyter.notebook.get_cells();\n",
       "                for (var i = 0; i < nbb_cells.length; ++i) {\n",
       "                    if (nbb_cells[i].input_prompt_number == nbb_cell_id) {\n",
       "                        if (nbb_cells[i].get_text() == nbb_unformatted_code) {\n",
       "                             nbb_cells[i].set_text(nbb_formatted_code);\n",
       "                        }\n",
       "                        break;\n",
       "                    }\n",
       "                }\n",
       "            }, 500);\n",
       "            "
      ],
      "text/plain": [
       "<IPython.core.display.Javascript object>"
      ]
     },
     "metadata": {},
     "output_type": "display_data"
    }
   ],
   "source": [
    "from scipy.stats import gaussian_kde\n",
    "from thinkstats import Pdf\n",
    "\n",
    "kde = gaussian_kde(sample)\n",
    "domain = 0, 10\n",
    "pdf = Pdf(kde, domain)\n",
    "pdf.plot()\n",
    "decorate(xlabel=\"Penguin weight (kg)\", ylabel=\"Density\")"
   ]
  },
  {
   "cell_type": "markdown",
   "id": "0a886569",
   "metadata": {},
   "source": [
    "In addition to the mode near 3.7 kg, the measurement errors introduce a second mode near 8 kilograms.\n",
    "\n",
    "Now let's repeat the previous experiment, simulating many samples with size 10, computing the mean of each sample, and then computing the average of the sample means."
   ]
  },
  {
   "cell_type": "code",
   "execution_count": 26,
   "id": "1ab50ca1",
   "metadata": {},
   "outputs": [
    {
     "data": {
      "text/plain": [
       "3.786352945690677"
      ]
     },
     "execution_count": 26,
     "metadata": {},
     "output_type": "execute_result"
    },
    {
     "data": {
      "application/javascript": [
       "\n",
       "            setTimeout(function() {\n",
       "                var nbb_cell_id = 26;\n",
       "                var nbb_unformatted_code = \"means = [np.mean(make_sample_with_errors(n=10)) for i in range(10001)]\\nnp.mean(means)\";\n",
       "                var nbb_formatted_code = \"means = [np.mean(make_sample_with_errors(n=10)) for i in range(10001)]\\nnp.mean(means)\";\n",
       "                var nbb_cells = Jupyter.notebook.get_cells();\n",
       "                for (var i = 0; i < nbb_cells.length; ++i) {\n",
       "                    if (nbb_cells[i].input_prompt_number == nbb_cell_id) {\n",
       "                        if (nbb_cells[i].get_text() == nbb_unformatted_code) {\n",
       "                             nbb_cells[i].set_text(nbb_formatted_code);\n",
       "                        }\n",
       "                        break;\n",
       "                    }\n",
       "                }\n",
       "            }, 500);\n",
       "            "
      ],
      "text/plain": [
       "<IPython.core.display.Javascript object>"
      ]
     },
     "metadata": {},
     "output_type": "display_data"
    }
   ],
   "source": [
    "means = [np.mean(make_sample_with_errors(n=10)) for i in range(10001)]\n",
    "np.mean(means)"
   ]
  },
  {
   "cell_type": "markdown",
   "id": "ea6a1e16",
   "metadata": {},
   "source": [
    "The measurement errors cause the sample mean to be higher, on average, than 3.7 kg.\n",
    "\n",
    "Now here's the same experiment using sample medians."
   ]
  },
  {
   "cell_type": "code",
   "execution_count": 27,
   "id": "69294688",
   "metadata": {},
   "outputs": [
    {
     "data": {
      "text/plain": [
       "3.7121869836715353"
      ]
     },
     "execution_count": 27,
     "metadata": {},
     "output_type": "execute_result"
    },
    {
     "data": {
      "application/javascript": [
       "\n",
       "            setTimeout(function() {\n",
       "                var nbb_cell_id = 27;\n",
       "                var nbb_unformatted_code = \"medians = [np.median(make_sample_with_errors(n=10)) for i in range(10001)]\\nnp.mean(medians)\";\n",
       "                var nbb_formatted_code = \"medians = [np.median(make_sample_with_errors(n=10)) for i in range(10001)]\\nnp.mean(medians)\";\n",
       "                var nbb_cells = Jupyter.notebook.get_cells();\n",
       "                for (var i = 0; i < nbb_cells.length; ++i) {\n",
       "                    if (nbb_cells[i].input_prompt_number == nbb_cell_id) {\n",
       "                        if (nbb_cells[i].get_text() == nbb_unformatted_code) {\n",
       "                             nbb_cells[i].set_text(nbb_formatted_code);\n",
       "                        }\n",
       "                        break;\n",
       "                    }\n",
       "                }\n",
       "            }, 500);\n",
       "            "
      ],
      "text/plain": [
       "<IPython.core.display.Javascript object>"
      ]
     },
     "metadata": {},
     "output_type": "display_data"
    }
   ],
   "source": [
    "medians = [np.median(make_sample_with_errors(n=10)) for i in range(10001)]\n",
    "np.mean(medians)"
   ]
  },
  {
   "cell_type": "markdown",
   "id": "a368c52e",
   "metadata": {},
   "source": [
    "The average of the sample medians is also higher than 3.7 kg, but it is not off by nearly as much.\n",
    "If we compare the MSE of the estimates, we see that the sample medians are substantially more accurate."
   ]
  },
  {
   "cell_type": "code",
   "execution_count": 28,
   "id": "c0620a58",
   "metadata": {},
   "outputs": [
    {
     "data": {
      "text/plain": [
       "(0.06853430354724438, 0.031164467796883758)"
      ]
     },
     "execution_count": 28,
     "metadata": {},
     "output_type": "execute_result"
    },
    {
     "data": {
      "application/javascript": [
       "\n",
       "            setTimeout(function() {\n",
       "                var nbb_cell_id = 28;\n",
       "                var nbb_unformatted_code = \"mse(means, mu), mse(medians, mu)\";\n",
       "                var nbb_formatted_code = \"mse(means, mu), mse(medians, mu)\";\n",
       "                var nbb_cells = Jupyter.notebook.get_cells();\n",
       "                for (var i = 0; i < nbb_cells.length; ++i) {\n",
       "                    if (nbb_cells[i].input_prompt_number == nbb_cell_id) {\n",
       "                        if (nbb_cells[i].get_text() == nbb_unformatted_code) {\n",
       "                             nbb_cells[i].set_text(nbb_formatted_code);\n",
       "                        }\n",
       "                        break;\n",
       "                    }\n",
       "                }\n",
       "            }, 500);\n",
       "            "
      ],
      "text/plain": [
       "<IPython.core.display.Javascript object>"
      ]
     },
     "metadata": {},
     "output_type": "display_data"
    }
   ],
   "source": [
    "mse(means, mu), mse(medians, mu)"
   ]
  },
  {
   "cell_type": "markdown",
   "id": "cf65739b",
   "metadata": {},
   "source": [
    "If measurements actually come from a normal distribution, the sample mean minimizes MSE, but this scenario violates that assumption, so the sample mean doesn't minimize MSE.\n",
    "The sample median is less sensitive to outliers than the sample mean, so it is less biased and its MSE is smaller.\n",
    "Estimators that deal well with outliers -- and similar violations of assumptions -- are said to be **robust**."
   ]
  },
  {
   "cell_type": "markdown",
   "id": "981535aa",
   "metadata": {},
   "source": [
    "## Estimating Variance\n",
    "\n",
    "As another example, suppose we want to estimate variance in the penguin's weights.\n",
    "In Section XXX, we saw that there are two ways to compute the variance of a sample.\n",
    "I promised to explain the difference later -- and later is now.\n",
    "\n",
    "The reason there are two ways to compute the variance of a sample is that one is a biased estimator of the population variance, and the other is unbiased.\n",
    "The following function computes the biased estimator, which is the sum of the squared deviations divided by `n`."
   ]
  },
  {
   "cell_type": "code",
   "execution_count": 29,
   "id": "1323320b",
   "metadata": {},
   "outputs": [
    {
     "data": {
      "application/javascript": [
       "\n",
       "            setTimeout(function() {\n",
       "                var nbb_cell_id = 29;\n",
       "                var nbb_unformatted_code = \"def biased_var(xs):\\n    \\\"\\\"\\\"Population variance with n in the denominator\\\"\\\"\\\"\\n    n = len(xs)\\n    deviations = xs - np.mean(xs)\\n    return np.sum(deviations**2) / n\";\n",
       "                var nbb_formatted_code = \"def biased_var(xs):\\n    \\\"\\\"\\\"Population variance with n in the denominator\\\"\\\"\\\"\\n    n = len(xs)\\n    deviations = xs - np.mean(xs)\\n    return np.sum(deviations**2) / n\";\n",
       "                var nbb_cells = Jupyter.notebook.get_cells();\n",
       "                for (var i = 0; i < nbb_cells.length; ++i) {\n",
       "                    if (nbb_cells[i].input_prompt_number == nbb_cell_id) {\n",
       "                        if (nbb_cells[i].get_text() == nbb_unformatted_code) {\n",
       "                             nbb_cells[i].set_text(nbb_formatted_code);\n",
       "                        }\n",
       "                        break;\n",
       "                    }\n",
       "                }\n",
       "            }, 500);\n",
       "            "
      ],
      "text/plain": [
       "<IPython.core.display.Javascript object>"
      ]
     },
     "metadata": {},
     "output_type": "display_data"
    }
   ],
   "source": [
    "def biased_var(xs):\n",
    "    \"\"\"Population variance with n in the denominator\"\"\"\n",
    "    n = len(xs)\n",
    "    deviations = xs - np.mean(xs)\n",
    "    return np.sum(deviations**2) / n"
   ]
  },
  {
   "cell_type": "markdown",
   "id": "b5b80b87",
   "metadata": {},
   "source": [
    "To test it, we'll simulate many samples with size 10, compute the biased variance of each sample, and then compute the average of the variances."
   ]
  },
  {
   "cell_type": "code",
   "execution_count": 30,
   "id": "0739a9d4",
   "metadata": {},
   "outputs": [
    {
     "data": {
      "text/plain": [
       "0.19049277659404473"
      ]
     },
     "execution_count": 30,
     "metadata": {},
     "output_type": "execute_result"
    },
    {
     "data": {
      "application/javascript": [
       "\n",
       "            setTimeout(function() {\n",
       "                var nbb_cell_id = 30;\n",
       "                var nbb_unformatted_code = \"biased_vars = [biased_var(make_sample(n=10)) for i in range(10001)]\\nnp.mean(biased_vars)\";\n",
       "                var nbb_formatted_code = \"biased_vars = [biased_var(make_sample(n=10)) for i in range(10001)]\\nnp.mean(biased_vars)\";\n",
       "                var nbb_cells = Jupyter.notebook.get_cells();\n",
       "                for (var i = 0; i < nbb_cells.length; ++i) {\n",
       "                    if (nbb_cells[i].input_prompt_number == nbb_cell_id) {\n",
       "                        if (nbb_cells[i].get_text() == nbb_unformatted_code) {\n",
       "                             nbb_cells[i].set_text(nbb_formatted_code);\n",
       "                        }\n",
       "                        break;\n",
       "                    }\n",
       "                }\n",
       "            }, 500);\n",
       "            "
      ],
      "text/plain": [
       "<IPython.core.display.Javascript object>"
      ]
     },
     "metadata": {},
     "output_type": "display_data"
    }
   ],
   "source": [
    "biased_vars = [biased_var(make_sample(n=10)) for i in range(10001)]\n",
    "np.mean(biased_vars)"
   ]
  },
  {
   "cell_type": "markdown",
   "id": "86400c71",
   "metadata": {},
   "source": [
    "The result is about 0.19, but in this case, we know that the actual population variance is about 0.21, so the biased sample variance is too low on average -- in other words, it is biased."
   ]
  },
  {
   "cell_type": "code",
   "execution_count": 31,
   "id": "e6969baf",
   "metadata": {},
   "outputs": [
    {
     "data": {
      "text/plain": [
       "0.2116"
      ]
     },
     "execution_count": 31,
     "metadata": {},
     "output_type": "execute_result"
    },
    {
     "data": {
      "application/javascript": [
       "\n",
       "            setTimeout(function() {\n",
       "                var nbb_cell_id = 31;\n",
       "                var nbb_unformatted_code = \"actual_var = sigma**2\\nactual_var\";\n",
       "                var nbb_formatted_code = \"actual_var = sigma**2\\nactual_var\";\n",
       "                var nbb_cells = Jupyter.notebook.get_cells();\n",
       "                for (var i = 0; i < nbb_cells.length; ++i) {\n",
       "                    if (nbb_cells[i].input_prompt_number == nbb_cell_id) {\n",
       "                        if (nbb_cells[i].get_text() == nbb_unformatted_code) {\n",
       "                             nbb_cells[i].set_text(nbb_formatted_code);\n",
       "                        }\n",
       "                        break;\n",
       "                    }\n",
       "                }\n",
       "            }, 500);\n",
       "            "
      ],
      "text/plain": [
       "<IPython.core.display.Javascript object>"
      ]
     },
     "metadata": {},
     "output_type": "display_data"
    }
   ],
   "source": [
    "actual_var = sigma**2\n",
    "actual_var"
   ]
  },
  {
   "cell_type": "markdown",
   "id": "8ab9d50d",
   "metadata": {},
   "source": [
    "The following function computes the unbiased estimator, which is the sum of the squared deviations divided by `n-1`."
   ]
  },
  {
   "cell_type": "code",
   "execution_count": 32,
   "id": "b15c3444",
   "metadata": {},
   "outputs": [
    {
     "data": {
      "application/javascript": [
       "\n",
       "            setTimeout(function() {\n",
       "                var nbb_cell_id = 32;\n",
       "                var nbb_unformatted_code = \"def unbiased_var(xs):\\n    \\\"\\\"\\\"Population variance with n in the denominator\\\"\\\"\\\"\\n    n = len(xs)\\n    deviations = xs - np.mean(xs)\\n    return np.sum(deviations**2) / (n - 1)\";\n",
       "                var nbb_formatted_code = \"def unbiased_var(xs):\\n    \\\"\\\"\\\"Population variance with n in the denominator\\\"\\\"\\\"\\n    n = len(xs)\\n    deviations = xs - np.mean(xs)\\n    return np.sum(deviations**2) / (n - 1)\";\n",
       "                var nbb_cells = Jupyter.notebook.get_cells();\n",
       "                for (var i = 0; i < nbb_cells.length; ++i) {\n",
       "                    if (nbb_cells[i].input_prompt_number == nbb_cell_id) {\n",
       "                        if (nbb_cells[i].get_text() == nbb_unformatted_code) {\n",
       "                             nbb_cells[i].set_text(nbb_formatted_code);\n",
       "                        }\n",
       "                        break;\n",
       "                    }\n",
       "                }\n",
       "            }, 500);\n",
       "            "
      ],
      "text/plain": [
       "<IPython.core.display.Javascript object>"
      ]
     },
     "metadata": {},
     "output_type": "display_data"
    }
   ],
   "source": [
    "def unbiased_var(xs):\n",
    "    \"\"\"Population variance with n in the denominator\"\"\"\n",
    "    n = len(xs)\n",
    "    deviations = xs - np.mean(xs)\n",
    "    return np.sum(deviations**2) / (n - 1)"
   ]
  },
  {
   "cell_type": "markdown",
   "id": "8957d10b",
   "metadata": {},
   "source": [
    "We can test it by generating many samples and computing the unbiased variance for each one."
   ]
  },
  {
   "cell_type": "code",
   "execution_count": 33,
   "id": "ddb825d1",
   "metadata": {},
   "outputs": [
    {
     "data": {
      "text/plain": [
       "0.21159109492300626"
      ]
     },
     "execution_count": 33,
     "metadata": {},
     "output_type": "execute_result"
    },
    {
     "data": {
      "application/javascript": [
       "\n",
       "            setTimeout(function() {\n",
       "                var nbb_cell_id = 33;\n",
       "                var nbb_unformatted_code = \"unbiased_vars = [unbiased_var(make_sample(n=10)) for i in range(10001)]\\nnp.mean(unbiased_vars)\";\n",
       "                var nbb_formatted_code = \"unbiased_vars = [unbiased_var(make_sample(n=10)) for i in range(10001)]\\nnp.mean(unbiased_vars)\";\n",
       "                var nbb_cells = Jupyter.notebook.get_cells();\n",
       "                for (var i = 0; i < nbb_cells.length; ++i) {\n",
       "                    if (nbb_cells[i].input_prompt_number == nbb_cell_id) {\n",
       "                        if (nbb_cells[i].get_text() == nbb_unformatted_code) {\n",
       "                             nbb_cells[i].set_text(nbb_formatted_code);\n",
       "                        }\n",
       "                        break;\n",
       "                    }\n",
       "                }\n",
       "            }, 500);\n",
       "            "
      ],
      "text/plain": [
       "<IPython.core.display.Javascript object>"
      ]
     },
     "metadata": {},
     "output_type": "display_data"
    }
   ],
   "source": [
    "unbiased_vars = [unbiased_var(make_sample(n=10)) for i in range(10001)]\n",
    "np.mean(unbiased_vars)"
   ]
  },
  {
   "cell_type": "markdown",
   "id": "14a7cde1",
   "metadata": {},
   "source": [
    "The average of the unbiased sample variances is very close to the actual value -- as advertised, it is an unbiased estimator.\n",
    "\n",
    "With sample size 10, the difference between the biased and unbiased estimators is about 10%, which might be non-negligible.\n",
    "With sample size 100, the difference is only 1%, which is small enough that is probably doesn't matter in practice."
   ]
  },
  {
   "cell_type": "code",
   "execution_count": 34,
   "id": "7a2a0142",
   "metadata": {
    "tags": [
     "remove-print"
    ]
   },
   "outputs": [
    {
     "data": {
      "text/plain": [
       "0.09999999999999998"
      ]
     },
     "execution_count": 34,
     "metadata": {},
     "output_type": "execute_result"
    },
    {
     "data": {
      "application/javascript": [
       "\n",
       "            setTimeout(function() {\n",
       "                var nbb_cell_id = 34;\n",
       "                var nbb_unformatted_code = \"n = 10\\n1 - (n - 1) / n\";\n",
       "                var nbb_formatted_code = \"n = 10\\n1 - (n - 1) / n\";\n",
       "                var nbb_cells = Jupyter.notebook.get_cells();\n",
       "                for (var i = 0; i < nbb_cells.length; ++i) {\n",
       "                    if (nbb_cells[i].input_prompt_number == nbb_cell_id) {\n",
       "                        if (nbb_cells[i].get_text() == nbb_unformatted_code) {\n",
       "                             nbb_cells[i].set_text(nbb_formatted_code);\n",
       "                        }\n",
       "                        break;\n",
       "                    }\n",
       "                }\n",
       "            }, 500);\n",
       "            "
      ],
      "text/plain": [
       "<IPython.core.display.Javascript object>"
      ]
     },
     "metadata": {},
     "output_type": "display_data"
    }
   ],
   "source": [
    "n = 10\n",
    "1 - (n - 1) / n"
   ]
  },
  {
   "cell_type": "code",
   "execution_count": 35,
   "id": "ba98446c",
   "metadata": {
    "tags": [
     "remove-print"
    ]
   },
   "outputs": [
    {
     "data": {
      "text/plain": [
       "0.010000000000000009"
      ]
     },
     "execution_count": 35,
     "metadata": {},
     "output_type": "execute_result"
    },
    {
     "data": {
      "application/javascript": [
       "\n",
       "            setTimeout(function() {\n",
       "                var nbb_cell_id = 35;\n",
       "                var nbb_unformatted_code = \"n = 100\\n1 - (n - 1) / n\";\n",
       "                var nbb_formatted_code = \"n = 100\\n1 - (n - 1) / n\";\n",
       "                var nbb_cells = Jupyter.notebook.get_cells();\n",
       "                for (var i = 0; i < nbb_cells.length; ++i) {\n",
       "                    if (nbb_cells[i].input_prompt_number == nbb_cell_id) {\n",
       "                        if (nbb_cells[i].get_text() == nbb_unformatted_code) {\n",
       "                             nbb_cells[i].set_text(nbb_formatted_code);\n",
       "                        }\n",
       "                        break;\n",
       "                    }\n",
       "                }\n",
       "            }, 500);\n",
       "            "
      ],
      "text/plain": [
       "<IPython.core.display.Javascript object>"
      ]
     },
     "metadata": {},
     "output_type": "display_data"
    }
   ],
   "source": [
    "n = 100\n",
    "1 - (n - 1) / n"
   ]
  },
  {
   "cell_type": "markdown",
   "id": "a6e4fdb6",
   "metadata": {},
   "source": [
    "## Sampling Distributions\n",
    "\n",
    "The section introduces an important idea in statistical inference, the sampling distribution.\n",
    "To demonstrate, we'll use a sample of penguin weights.\n",
    "So let's start with the data.\n",
    "\n",
    "Between 2007 and 2010, researchers at Palmer Station in Antarctica measured and weighed 342 penguins from local populations of penguins.\n",
    "The data they collected is freely available -- instructions for downloading it are in the notebook for this chapter."
   ]
  },
  {
   "cell_type": "markdown",
   "id": "8e2b1e65",
   "metadata": {
    "tags": [
     "remove-print"
    ]
   },
   "source": [
    "The following cell downloads the data from a repository created by Allison Horst."
   ]
  },
  {
   "cell_type": "code",
   "execution_count": 36,
   "id": "c16ba016",
   "metadata": {
    "tags": [
     "remove-print"
    ]
   },
   "outputs": [
    {
     "data": {
      "application/javascript": [
       "\n",
       "            setTimeout(function() {\n",
       "                var nbb_cell_id = 36;\n",
       "                var nbb_unformatted_code = \"download(\\n    \\\"https://raw.githubusercontent.com/allisonhorst/palmerpenguins/c19a904462482430170bfe2c718775ddb7dbb885/inst/extdata/penguins_raw.csv\\\"\\n)\";\n",
       "                var nbb_formatted_code = \"download(\\n    \\\"https://raw.githubusercontent.com/allisonhorst/palmerpenguins/c19a904462482430170bfe2c718775ddb7dbb885/inst/extdata/penguins_raw.csv\\\"\\n)\";\n",
       "                var nbb_cells = Jupyter.notebook.get_cells();\n",
       "                for (var i = 0; i < nbb_cells.length; ++i) {\n",
       "                    if (nbb_cells[i].input_prompt_number == nbb_cell_id) {\n",
       "                        if (nbb_cells[i].get_text() == nbb_unformatted_code) {\n",
       "                             nbb_cells[i].set_text(nbb_formatted_code);\n",
       "                        }\n",
       "                        break;\n",
       "                    }\n",
       "                }\n",
       "            }, 500);\n",
       "            "
      ],
      "text/plain": [
       "<IPython.core.display.Javascript object>"
      ]
     },
     "metadata": {},
     "output_type": "display_data"
    }
   ],
   "source": [
    "download(\n",
    "    \"https://raw.githubusercontent.com/allisonhorst/palmerpenguins/c19a904462482430170bfe2c718775ddb7dbb885/inst/extdata/penguins_raw.csv\"\n",
    ")"
   ]
  },
  {
   "cell_type": "markdown",
   "id": "23e818d1",
   "metadata": {},
   "source": [
    "We can use Pandas to read the data."
   ]
  },
  {
   "cell_type": "code",
   "execution_count": 37,
   "id": "0aede435",
   "metadata": {},
   "outputs": [
    {
     "data": {
      "text/plain": [
       "(342, 17)"
      ]
     },
     "execution_count": 37,
     "metadata": {},
     "output_type": "execute_result"
    },
    {
     "data": {
      "application/javascript": [
       "\n",
       "            setTimeout(function() {\n",
       "                var nbb_cell_id = 37;\n",
       "                var nbb_unformatted_code = \"penguins = pd.read_csv(\\\"penguins_raw.csv\\\").dropna(subset=[\\\"Body Mass (g)\\\"])\\npenguins.shape\";\n",
       "                var nbb_formatted_code = \"penguins = pd.read_csv(\\\"penguins_raw.csv\\\").dropna(subset=[\\\"Body Mass (g)\\\"])\\npenguins.shape\";\n",
       "                var nbb_cells = Jupyter.notebook.get_cells();\n",
       "                for (var i = 0; i < nbb_cells.length; ++i) {\n",
       "                    if (nbb_cells[i].input_prompt_number == nbb_cell_id) {\n",
       "                        if (nbb_cells[i].get_text() == nbb_unformatted_code) {\n",
       "                             nbb_cells[i].set_text(nbb_formatted_code);\n",
       "                        }\n",
       "                        break;\n",
       "                    }\n",
       "                }\n",
       "            }, 500);\n",
       "            "
      ],
      "text/plain": [
       "<IPython.core.display.Javascript object>"
      ]
     },
     "metadata": {},
     "output_type": "display_data"
    }
   ],
   "source": [
    "penguins = pd.read_csv(\"penguins_raw.csv\").dropna(subset=[\"Body Mass (g)\"])\n",
    "penguins.shape"
   ]
  },
  {
   "cell_type": "markdown",
   "id": "8841b218",
   "metadata": {},
   "source": [
    "The dataset includes three penguins species."
   ]
  },
  {
   "cell_type": "code",
   "execution_count": 38,
   "id": "b32828eb",
   "metadata": {},
   "outputs": [
    {
     "data": {
      "text/plain": [
       "Species\n",
       "Adelie Penguin (Pygoscelis adeliae)          151\n",
       "Gentoo penguin (Pygoscelis papua)            123\n",
       "Chinstrap penguin (Pygoscelis antarctica)     68\n",
       "Name: count, dtype: int64"
      ]
     },
     "execution_count": 38,
     "metadata": {},
     "output_type": "execute_result"
    },
    {
     "data": {
      "application/javascript": [
       "\n",
       "            setTimeout(function() {\n",
       "                var nbb_cell_id = 38;\n",
       "                var nbb_unformatted_code = \"penguins[\\\"Species\\\"].value_counts()\";\n",
       "                var nbb_formatted_code = \"penguins[\\\"Species\\\"].value_counts()\";\n",
       "                var nbb_cells = Jupyter.notebook.get_cells();\n",
       "                for (var i = 0; i < nbb_cells.length; ++i) {\n",
       "                    if (nbb_cells[i].input_prompt_number == nbb_cell_id) {\n",
       "                        if (nbb_cells[i].get_text() == nbb_unformatted_code) {\n",
       "                             nbb_cells[i].set_text(nbb_formatted_code);\n",
       "                        }\n",
       "                        break;\n",
       "                    }\n",
       "                }\n",
       "            }, 500);\n",
       "            "
      ],
      "text/plain": [
       "<IPython.core.display.Javascript object>"
      ]
     },
     "metadata": {},
     "output_type": "display_data"
    }
   ],
   "source": [
    "penguins[\"Species\"].value_counts()"
   ]
  },
  {
   "cell_type": "markdown",
   "id": "9a8c5ae0",
   "metadata": {},
   "source": [
    "For the first example we'll select just the Chinstrap penguins."
   ]
  },
  {
   "cell_type": "code",
   "execution_count": 39,
   "id": "b63e96c2",
   "metadata": {},
   "outputs": [
    {
     "data": {
      "application/javascript": [
       "\n",
       "            setTimeout(function() {\n",
       "                var nbb_cell_id = 39;\n",
       "                var nbb_unformatted_code = \"chinstrap = penguins.query('Species.str.startswith(\\\"Chinstrap\\\")')\";\n",
       "                var nbb_formatted_code = \"chinstrap = penguins.query('Species.str.startswith(\\\"Chinstrap\\\")')\";\n",
       "                var nbb_cells = Jupyter.notebook.get_cells();\n",
       "                for (var i = 0; i < nbb_cells.length; ++i) {\n",
       "                    if (nbb_cells[i].input_prompt_number == nbb_cell_id) {\n",
       "                        if (nbb_cells[i].get_text() == nbb_unformatted_code) {\n",
       "                             nbb_cells[i].set_text(nbb_formatted_code);\n",
       "                        }\n",
       "                        break;\n",
       "                    }\n",
       "                }\n",
       "            }, 500);\n",
       "            "
      ],
      "text/plain": [
       "<IPython.core.display.Javascript object>"
      ]
     },
     "metadata": {},
     "output_type": "display_data"
    }
   ],
   "source": [
    "chinstrap = penguins.query('Species.str.startswith(\"Chinstrap\")')"
   ]
  },
  {
   "cell_type": "markdown",
   "id": "3c6c5db4",
   "metadata": {},
   "source": [
    "We'll use this function to plot estimated PDFs."
   ]
  },
  {
   "cell_type": "code",
   "execution_count": 40,
   "id": "8ed61ac8",
   "metadata": {},
   "outputs": [
    {
     "data": {
      "application/javascript": [
       "\n",
       "            setTimeout(function() {\n",
       "                var nbb_cell_id = 40;\n",
       "                var nbb_unformatted_code = \"def plot_kde(sample, name=\\\"\\\", **options):\\n    \\\"\\\"\\\"Plot an estimated PDF.\\\"\\\"\\\"\\n    \\n    kde = gaussian_kde(sample)\\n    m, s = np.mean(sample), np.std(sample)\\n    plt.axvline(m, ls=\\\":\\\", color=\\\"0.3\\\")\\n\\n    domain = m - 4 * s, m + 4 * s\\n    pdf = Pdf(kde, domain, name)\\n    pdf.plot(**options)\";\n",
       "                var nbb_formatted_code = \"def plot_kde(sample, name=\\\"\\\", **options):\\n    \\\"\\\"\\\"Plot an estimated PDF.\\\"\\\"\\\"\\n\\n    kde = gaussian_kde(sample)\\n    m, s = np.mean(sample), np.std(sample)\\n    plt.axvline(m, ls=\\\":\\\", color=\\\"0.3\\\")\\n\\n    domain = m - 4 * s, m + 4 * s\\n    pdf = Pdf(kde, domain, name)\\n    pdf.plot(**options)\";\n",
       "                var nbb_cells = Jupyter.notebook.get_cells();\n",
       "                for (var i = 0; i < nbb_cells.length; ++i) {\n",
       "                    if (nbb_cells[i].input_prompt_number == nbb_cell_id) {\n",
       "                        if (nbb_cells[i].get_text() == nbb_unformatted_code) {\n",
       "                             nbb_cells[i].set_text(nbb_formatted_code);\n",
       "                        }\n",
       "                        break;\n",
       "                    }\n",
       "                }\n",
       "            }, 500);\n",
       "            "
      ],
      "text/plain": [
       "<IPython.core.display.Javascript object>"
      ]
     },
     "metadata": {},
     "output_type": "display_data"
    }
   ],
   "source": [
    "def plot_kde(sample, name=\"\", **options):\n",
    "    \"\"\"Plot an estimated PDF.\"\"\"\n",
    "\n",
    "    kde = gaussian_kde(sample)\n",
    "    m, s = np.mean(sample), np.std(sample)\n",
    "    plt.axvline(m, ls=\":\", color=\"0.3\")\n",
    "\n",
    "    domain = m - 4 * s, m + 4 * s\n",
    "    pdf = Pdf(kde, domain, name)\n",
    "    pdf.plot(**options)"
   ]
  },
  {
   "cell_type": "markdown",
   "id": "ced5fb7d",
   "metadata": {},
   "source": [
    "Here's the distribution of chinstrap penguin weights in kilograms.\n",
    "The vertical dotted line shows the sample mean."
   ]
  },
  {
   "cell_type": "code",
   "execution_count": 41,
   "id": "daff46dc",
   "metadata": {},
   "outputs": [
    {
     "data": {
      "image/png": "[encoded data removed]",
      "text/plain": [
       "<Figure size 450x262.5 with 1 Axes>"
      ]
     },
     "metadata": {},
     "output_type": "display_data"
    },
    {
     "data": {
      "application/javascript": [
       "\n",
       "            setTimeout(function() {\n",
       "                var nbb_cell_id = 41;\n",
       "                var nbb_unformatted_code = \"weights = chinstrap[\\\"Body Mass (g)\\\"] / 1000\\nplot_kde(weights)\\ndecorate(xlabel=\\\"Penguin weight (kg)\\\", ylabel=\\\"Density\\\")\";\n",
       "                var nbb_formatted_code = \"weights = chinstrap[\\\"Body Mass (g)\\\"] / 1000\\nplot_kde(weights)\\ndecorate(xlabel=\\\"Penguin weight (kg)\\\", ylabel=\\\"Density\\\")\";\n",
       "                var nbb_cells = Jupyter.notebook.get_cells();\n",
       "                for (var i = 0; i < nbb_cells.length; ++i) {\n",
       "                    if (nbb_cells[i].input_prompt_number == nbb_cell_id) {\n",
       "                        if (nbb_cells[i].get_text() == nbb_unformatted_code) {\n",
       "                             nbb_cells[i].set_text(nbb_formatted_code);\n",
       "                        }\n",
       "                        break;\n",
       "                    }\n",
       "                }\n",
       "            }, 500);\n",
       "            "
      ],
      "text/plain": [
       "<IPython.core.display.Javascript object>"
      ]
     },
     "metadata": {},
     "output_type": "display_data"
    }
   ],
   "source": [
    "weights = chinstrap[\"Body Mass (g)\"] / 1000\n",
    "plot_kde(weights)\n",
    "decorate(xlabel=\"Penguin weight (kg)\", ylabel=\"Density\")"
   ]
  },
  {
   "cell_type": "markdown",
   "id": "a32eba6e",
   "metadata": {},
   "source": [
    "The sample mean is about 3.7 kg."
   ]
  },
  {
   "cell_type": "code",
   "execution_count": 42,
   "id": "c3cdbfdf",
   "metadata": {},
   "outputs": [
    {
     "data": {
      "text/plain": [
       "3.733088235294118"
      ]
     },
     "execution_count": 42,
     "metadata": {},
     "output_type": "execute_result"
    },
    {
     "data": {
      "application/javascript": [
       "\n",
       "            setTimeout(function() {\n",
       "                var nbb_cell_id = 42;\n",
       "                var nbb_unformatted_code = \"sample_mean = np.mean(weights)\\nsample_mean\";\n",
       "                var nbb_formatted_code = \"sample_mean = np.mean(weights)\\nsample_mean\";\n",
       "                var nbb_cells = Jupyter.notebook.get_cells();\n",
       "                for (var i = 0; i < nbb_cells.length; ++i) {\n",
       "                    if (nbb_cells[i].input_prompt_number == nbb_cell_id) {\n",
       "                        if (nbb_cells[i].get_text() == nbb_unformatted_code) {\n",
       "                             nbb_cells[i].set_text(nbb_formatted_code);\n",
       "                        }\n",
       "                        break;\n",
       "                    }\n",
       "                }\n",
       "            }, 500);\n",
       "            "
      ],
      "text/plain": [
       "<IPython.core.display.Javascript object>"
      ]
     },
     "metadata": {},
     "output_type": "display_data"
    }
   ],
   "source": [
    "sample_mean = np.mean(weights)\n",
    "sample_mean"
   ]
  },
  {
   "cell_type": "markdown",
   "id": "1d22df97",
   "metadata": {},
   "source": [
    "If you are asked to estimate the population mean, 3.7 kg is a reasonable choice -- but how accurate is that estimate?\n",
    "\n",
    "One way to answer that question is to compute a **sampling distribution**, which shows how much the mean varies from one sample to another.\n",
    "If we knew the actual mean and standard deviation in the population, we could simulate the sampling process and compute the sampling distribution.\n",
    "But if we knew the actual population mean, we wouldn't have to estimate it!\n",
    "\n",
    "Fortunately, there's a simple way to approximate the sampling distribution, called **resampling**.\n",
    "The core idea is to use the sample to make a model of the population, then use the model to simulate the sampling process.\n",
    "\n",
    "More specifically, we'll use **bootstrap resampling**, which works by treating the sample as if it is the entire population, and drawing new samples from it.\n",
    "Even more specifically, we'll use **parametric** bootstrap resampling, which means we'll use the sample to estimate the parameters of the population -- the mean and standard deviation -- and then use a normal distribution to generate new samples.\n",
    "\n",
    "The following function implements this process."
   ]
  },
  {
   "cell_type": "code",
   "execution_count": 43,
   "id": "bf1c85e7",
   "metadata": {},
   "outputs": [
    {
     "data": {
      "application/javascript": [
       "\n",
       "            setTimeout(function() {\n",
       "                var nbb_cell_id = 43;\n",
       "                var nbb_unformatted_code = \"def resample(weights):\\n    \\\"\\\"\\\"Generate a sample from a normal distribution.\\\"\\\"\\\"\\n    m, s = np.mean(weights), np.std(weights)\\n    return np.random.normal(m, s, len(weights))\";\n",
       "                var nbb_formatted_code = \"def resample(weights):\\n    \\\"\\\"\\\"Generate a sample from a normal distribution.\\\"\\\"\\\"\\n    m, s = np.mean(weights), np.std(weights)\\n    return np.random.normal(m, s, len(weights))\";\n",
       "                var nbb_cells = Jupyter.notebook.get_cells();\n",
       "                for (var i = 0; i < nbb_cells.length; ++i) {\n",
       "                    if (nbb_cells[i].input_prompt_number == nbb_cell_id) {\n",
       "                        if (nbb_cells[i].get_text() == nbb_unformatted_code) {\n",
       "                             nbb_cells[i].set_text(nbb_formatted_code);\n",
       "                        }\n",
       "                        break;\n",
       "                    }\n",
       "                }\n",
       "            }, 500);\n",
       "            "
      ],
      "text/plain": [
       "<IPython.core.display.Javascript object>"
      ]
     },
     "metadata": {},
     "output_type": "display_data"
    }
   ],
   "source": [
    "def resample(weights):\n",
    "    \"\"\"Generate a sample from a normal distribution.\"\"\"\n",
    "    m, s = np.mean(weights), np.std(weights)\n",
    "    return np.random.normal(m, s, len(weights))"
   ]
  },
  {
   "cell_type": "markdown",
   "id": "77a6bb34",
   "metadata": {},
   "source": [
    "The following loop uses `resample` to generate many samples and compute the mean of each one."
   ]
  },
  {
   "cell_type": "code",
   "execution_count": 44,
   "id": "121f81d5",
   "metadata": {},
   "outputs": [
    {
     "data": {
      "application/javascript": [
       "\n",
       "            setTimeout(function() {\n",
       "                var nbb_cell_id = 44;\n",
       "                var nbb_unformatted_code = \"sample_means = [np.mean(resample(weights)) for i in range(1001)]\";\n",
       "                var nbb_formatted_code = \"sample_means = [np.mean(resample(weights)) for i in range(1001)]\";\n",
       "                var nbb_cells = Jupyter.notebook.get_cells();\n",
       "                for (var i = 0; i < nbb_cells.length; ++i) {\n",
       "                    if (nbb_cells[i].input_prompt_number == nbb_cell_id) {\n",
       "                        if (nbb_cells[i].get_text() == nbb_unformatted_code) {\n",
       "                             nbb_cells[i].set_text(nbb_formatted_code);\n",
       "                        }\n",
       "                        break;\n",
       "                    }\n",
       "                }\n",
       "            }, 500);\n",
       "            "
      ],
      "text/plain": [
       "<IPython.core.display.Javascript object>"
      ]
     },
     "metadata": {},
     "output_type": "display_data"
    }
   ],
   "source": [
    "sample_means = [np.mean(resample(weights)) for i in range(1001)]"
   ]
  },
  {
   "cell_type": "markdown",
   "id": "6d5686a9",
   "metadata": {},
   "source": [
    "The following figure shows the distribution of these sample means."
   ]
  },
  {
   "cell_type": "code",
   "execution_count": 45,
   "id": "057d5c03",
   "metadata": {},
   "outputs": [
    {
     "data": {
      "image/png": "[encoded data removed]",
      "text/plain": [
       "<Figure size 450x262.5 with 1 Axes>"
      ]
     },
     "metadata": {},
     "output_type": "display_data"
    },
    {
     "data": {
      "application/javascript": [
       "\n",
       "            setTimeout(function() {\n",
       "                var nbb_cell_id = 45;\n",
       "                var nbb_unformatted_code = \"plot_kde(sample_means, \\\"Chinstrap\\\")\\ndecorate(xlabel=\\\"Sample mean of weight (kg)\\\", ylabel=\\\"Density\\\")\";\n",
       "                var nbb_formatted_code = \"plot_kde(sample_means, \\\"Chinstrap\\\")\\ndecorate(xlabel=\\\"Sample mean of weight (kg)\\\", ylabel=\\\"Density\\\")\";\n",
       "                var nbb_cells = Jupyter.notebook.get_cells();\n",
       "                for (var i = 0; i < nbb_cells.length; ++i) {\n",
       "                    if (nbb_cells[i].input_prompt_number == nbb_cell_id) {\n",
       "                        if (nbb_cells[i].get_text() == nbb_unformatted_code) {\n",
       "                             nbb_cells[i].set_text(nbb_formatted_code);\n",
       "                        }\n",
       "                        break;\n",
       "                    }\n",
       "                }\n",
       "            }, 500);\n",
       "            "
      ],
      "text/plain": [
       "<IPython.core.display.Javascript object>"
      ]
     },
     "metadata": {},
     "output_type": "display_data"
    }
   ],
   "source": [
    "plot_kde(sample_means, \"Chinstrap\")\n",
    "decorate(xlabel=\"Sample mean of weight (kg)\", ylabel=\"Density\")"
   ]
  },
  {
   "cell_type": "markdown",
   "id": "fca724e8",
   "metadata": {},
   "source": [
    "This result is the sampling distribution of the sample mean.\n",
    "It shows how much we expect the sample mean to vary if we collect many samples of the same size -- assuming that our model of the population is accurate.\n",
    "\n",
    "Informally, we can see that the sample mean could be as low as 3.55, if we collected another sample, or as high as 3.9."
   ]
  },
  {
   "cell_type": "markdown",
   "id": "99c32d10",
   "metadata": {},
   "source": [
    "## Standard Error\n",
    "\n",
    "To quantify the width of the sampling distribution, one option is to compute its standard deviation -- the result is called the **standard error**."
   ]
  },
  {
   "cell_type": "code",
   "execution_count": 46,
   "id": "2dd7b940",
   "metadata": {},
   "outputs": [
    {
     "data": {
      "text/plain": [
       "0.04626531069684985"
      ]
     },
     "execution_count": 46,
     "metadata": {},
     "output_type": "execute_result"
    },
    {
     "data": {
      "application/javascript": [
       "\n",
       "            setTimeout(function() {\n",
       "                var nbb_cell_id = 46;\n",
       "                var nbb_unformatted_code = \"standard_error = np.std(sample_means)\\nstandard_error\";\n",
       "                var nbb_formatted_code = \"standard_error = np.std(sample_means)\\nstandard_error\";\n",
       "                var nbb_cells = Jupyter.notebook.get_cells();\n",
       "                for (var i = 0; i < nbb_cells.length; ++i) {\n",
       "                    if (nbb_cells[i].input_prompt_number == nbb_cell_id) {\n",
       "                        if (nbb_cells[i].get_text() == nbb_unformatted_code) {\n",
       "                             nbb_cells[i].set_text(nbb_formatted_code);\n",
       "                        }\n",
       "                        break;\n",
       "                    }\n",
       "                }\n",
       "            }, 500);\n",
       "            "
      ],
      "text/plain": [
       "<IPython.core.display.Javascript object>"
      ]
     },
     "metadata": {},
     "output_type": "display_data"
    }
   ],
   "source": [
    "standard_error = np.std(sample_means)\n",
    "standard_error"
   ]
  },
  {
   "cell_type": "markdown",
   "id": "c8e4cfc9",
   "metadata": {},
   "source": [
    "In this case, the standard error is about 0.045 kg -- so if we collect many samples, we expect the sample means to vary by about 0.045 kg, on average.\n",
    "\n",
    "With larger samples, there is less variation in the sample means, so the standard error is smaller.\n",
    "To demonstrate, let's compute the sampling distribution and standard error for the Adélie penguins."
   ]
  },
  {
   "cell_type": "code",
   "execution_count": 47,
   "id": "190a73ed",
   "metadata": {},
   "outputs": [
    {
     "data": {
      "text/plain": [
       "(151, 68)"
      ]
     },
     "execution_count": 47,
     "metadata": {},
     "output_type": "execute_result"
    },
    {
     "data": {
      "application/javascript": [
       "\n",
       "            setTimeout(function() {\n",
       "                var nbb_cell_id = 47;\n",
       "                var nbb_unformatted_code = \"adelie = penguins.query('Species.str.startswith(\\\"Adelie\\\")')\\nlen(adelie), len(chinstrap)\";\n",
       "                var nbb_formatted_code = \"adelie = penguins.query('Species.str.startswith(\\\"Adelie\\\")')\\nlen(adelie), len(chinstrap)\";\n",
       "                var nbb_cells = Jupyter.notebook.get_cells();\n",
       "                for (var i = 0; i < nbb_cells.length; ++i) {\n",
       "                    if (nbb_cells[i].input_prompt_number == nbb_cell_id) {\n",
       "                        if (nbb_cells[i].get_text() == nbb_unformatted_code) {\n",
       "                             nbb_cells[i].set_text(nbb_formatted_code);\n",
       "                        }\n",
       "                        break;\n",
       "                    }\n",
       "                }\n",
       "            }, 500);\n",
       "            "
      ],
      "text/plain": [
       "<IPython.core.display.Javascript object>"
      ]
     },
     "metadata": {},
     "output_type": "display_data"
    }
   ],
   "source": [
    "adelie = penguins.query('Species.str.startswith(\"Adelie\")')\n",
    "len(adelie), len(chinstrap)"
   ]
  },
  {
   "cell_type": "markdown",
   "id": "b72adc4f",
   "metadata": {},
   "source": [
    "The dataset includes weights for 151 Adélie penguins, compared to only 68 chinstraps.\n",
    "The sample mean for Adélie penguins is about 3.7 kg."
   ]
  },
  {
   "cell_type": "code",
   "execution_count": 48,
   "id": "0bb7f6da",
   "metadata": {},
   "outputs": [
    {
     "data": {
      "text/plain": [
       "3.7006622516556287"
      ]
     },
     "execution_count": 48,
     "metadata": {},
     "output_type": "execute_result"
    },
    {
     "data": {
      "application/javascript": [
       "\n",
       "            setTimeout(function() {\n",
       "                var nbb_cell_id = 48;\n",
       "                var nbb_unformatted_code = \"weights2 = adelie[\\\"Body Mass (g)\\\"] / 1000\\nsample_mean2 = np.mean(weights2)\\nsample_mean2\";\n",
       "                var nbb_formatted_code = \"weights2 = adelie[\\\"Body Mass (g)\\\"] / 1000\\nsample_mean2 = np.mean(weights2)\\nsample_mean2\";\n",
       "                var nbb_cells = Jupyter.notebook.get_cells();\n",
       "                for (var i = 0; i < nbb_cells.length; ++i) {\n",
       "                    if (nbb_cells[i].input_prompt_number == nbb_cell_id) {\n",
       "                        if (nbb_cells[i].get_text() == nbb_unformatted_code) {\n",
       "                             nbb_cells[i].set_text(nbb_formatted_code);\n",
       "                        }\n",
       "                        break;\n",
       "                    }\n",
       "                }\n",
       "            }, 500);\n",
       "            "
      ],
      "text/plain": [
       "<IPython.core.display.Javascript object>"
      ]
     },
     "metadata": {},
     "output_type": "display_data"
    }
   ],
   "source": [
    "weights2 = adelie[\"Body Mass (g)\"] / 1000\n",
    "sample_mean2 = np.mean(weights2)\n",
    "sample_mean2"
   ]
  },
  {
   "cell_type": "markdown",
   "id": "035839dc",
   "metadata": {},
   "source": [
    "The following loop uses `resample` to generate simulated samples and compute their means."
   ]
  },
  {
   "cell_type": "code",
   "execution_count": 49,
   "id": "c51efe47",
   "metadata": {},
   "outputs": [
    {
     "data": {
      "application/javascript": [
       "\n",
       "            setTimeout(function() {\n",
       "                var nbb_cell_id = 49;\n",
       "                var nbb_unformatted_code = \"sample_means2 = [np.mean(resample(weights2)) for i in range(1001)]\";\n",
       "                var nbb_formatted_code = \"sample_means2 = [np.mean(resample(weights2)) for i in range(1001)]\";\n",
       "                var nbb_cells = Jupyter.notebook.get_cells();\n",
       "                for (var i = 0; i < nbb_cells.length; ++i) {\n",
       "                    if (nbb_cells[i].input_prompt_number == nbb_cell_id) {\n",
       "                        if (nbb_cells[i].get_text() == nbb_unformatted_code) {\n",
       "                             nbb_cells[i].set_text(nbb_formatted_code);\n",
       "                        }\n",
       "                        break;\n",
       "                    }\n",
       "                }\n",
       "            }, 500);\n",
       "            "
      ],
      "text/plain": [
       "<IPython.core.display.Javascript object>"
      ]
     },
     "metadata": {},
     "output_type": "display_data"
    }
   ],
   "source": [
    "sample_means2 = [np.mean(resample(weights2)) for i in range(1001)]"
   ]
  },
  {
   "cell_type": "markdown",
   "id": "7bd6bd76",
   "metadata": {},
   "source": [
    "Here's the sampling distribution for Adélie penguins, compared to the sampling distribution for chinstraps."
   ]
  },
  {
   "cell_type": "code",
   "execution_count": 50,
   "id": "2b4b311b",
   "metadata": {},
   "outputs": [
    {
     "data": {
      "image/png": "[encoded data removed]",
      "text/plain": [
       "<Figure size 450x262.5 with 1 Axes>"
      ]
     },
     "metadata": {},
     "output_type": "display_data"
    },
    {
     "data": {
      "application/javascript": [
       "\n",
       "            setTimeout(function() {\n",
       "                var nbb_cell_id = 50;\n",
       "                var nbb_unformatted_code = \"plot_kde(sample_means, \\\"Chinstrap\\\")\\nplot_kde(sample_means2, \\\"Ad\\u00e9lie\\\", ls=\\\"--\\\")\\ndecorate(xlabel=\\\"Sample mean of weight (kg)\\\", ylabel=\\\"Density\\\")\";\n",
       "                var nbb_formatted_code = \"plot_kde(sample_means, \\\"Chinstrap\\\")\\nplot_kde(sample_means2, \\\"Ad\\u00e9lie\\\", ls=\\\"--\\\")\\ndecorate(xlabel=\\\"Sample mean of weight (kg)\\\", ylabel=\\\"Density\\\")\";\n",
       "                var nbb_cells = Jupyter.notebook.get_cells();\n",
       "                for (var i = 0; i < nbb_cells.length; ++i) {\n",
       "                    if (nbb_cells[i].input_prompt_number == nbb_cell_id) {\n",
       "                        if (nbb_cells[i].get_text() == nbb_unformatted_code) {\n",
       "                             nbb_cells[i].set_text(nbb_formatted_code);\n",
       "                        }\n",
       "                        break;\n",
       "                    }\n",
       "                }\n",
       "            }, 500);\n",
       "            "
      ],
      "text/plain": [
       "<IPython.core.display.Javascript object>"
      ]
     },
     "metadata": {},
     "output_type": "display_data"
    }
   ],
   "source": [
    "plot_kde(sample_means, \"Chinstrap\")\n",
    "plot_kde(sample_means2, \"Adélie\", ls=\"--\")\n",
    "decorate(xlabel=\"Sample mean of weight (kg)\", ylabel=\"Density\")"
   ]
  },
  {
   "cell_type": "markdown",
   "id": "a93f09d0",
   "metadata": {},
   "source": [
    "The sample distribution for Adélie penguins is a narrower because the sample size is bigger. And the standard error is smaller, too."
   ]
  },
  {
   "cell_type": "code",
   "execution_count": 51,
   "id": "5a3a0993",
   "metadata": {},
   "outputs": [
    {
     "data": {
      "text/plain": [
       "0.03637933631301007"
      ]
     },
     "execution_count": 51,
     "metadata": {},
     "output_type": "execute_result"
    },
    {
     "data": {
      "application/javascript": [
       "\n",
       "            setTimeout(function() {\n",
       "                var nbb_cell_id = 51;\n",
       "                var nbb_unformatted_code = \"standard_error2 = np.std(sample_means2)\\nstandard_error2\";\n",
       "                var nbb_formatted_code = \"standard_error2 = np.std(sample_means2)\\nstandard_error2\";\n",
       "                var nbb_cells = Jupyter.notebook.get_cells();\n",
       "                for (var i = 0; i < nbb_cells.length; ++i) {\n",
       "                    if (nbb_cells[i].input_prompt_number == nbb_cell_id) {\n",
       "                        if (nbb_cells[i].get_text() == nbb_unformatted_code) {\n",
       "                             nbb_cells[i].set_text(nbb_formatted_code);\n",
       "                        }\n",
       "                        break;\n",
       "                    }\n",
       "                }\n",
       "            }, 500);\n",
       "            "
      ],
      "text/plain": [
       "<IPython.core.display.Javascript object>"
      ]
     },
     "metadata": {},
     "output_type": "display_data"
    }
   ],
   "source": [
    "standard_error2 = np.std(sample_means2)\n",
    "standard_error2"
   ]
  },
  {
   "cell_type": "markdown",
   "id": "de079f18",
   "metadata": {},
   "source": [
    "People often confuse standard error and standard deviation. Remember:\n",
    "\n",
    "* Standard deviation quantifies variation in measurements. \n",
    "\n",
    "* Standard error quantifies the precision of an estimate. \n",
    "\n",
    "In this dataset, the standard deviation of penguin weights is about 0.38 kg for chinstrap penguins and 0.46 kg for Adélie penguins."
   ]
  },
  {
   "cell_type": "code",
   "execution_count": 52,
   "id": "a092855b",
   "metadata": {},
   "outputs": [
    {
     "data": {
      "text/plain": [
       "(0.3814986213564681, 0.457045172712245)"
      ]
     },
     "execution_count": 52,
     "metadata": {},
     "output_type": "execute_result"
    },
    {
     "data": {
      "application/javascript": [
       "\n",
       "            setTimeout(function() {\n",
       "                var nbb_cell_id = 52;\n",
       "                var nbb_unformatted_code = \"np.std(weights), np.std(weights2)\";\n",
       "                var nbb_formatted_code = \"np.std(weights), np.std(weights2)\";\n",
       "                var nbb_cells = Jupyter.notebook.get_cells();\n",
       "                for (var i = 0; i < nbb_cells.length; ++i) {\n",
       "                    if (nbb_cells[i].input_prompt_number == nbb_cell_id) {\n",
       "                        if (nbb_cells[i].get_text() == nbb_unformatted_code) {\n",
       "                             nbb_cells[i].set_text(nbb_formatted_code);\n",
       "                        }\n",
       "                        break;\n",
       "                    }\n",
       "                }\n",
       "            }, 500);\n",
       "            "
      ],
      "text/plain": [
       "<IPython.core.display.Javascript object>"
      ]
     },
     "metadata": {},
     "output_type": "display_data"
    }
   ],
   "source": [
    "np.std(weights), np.std(weights2)"
   ]
  },
  {
   "cell_type": "markdown",
   "id": "6d5c96ac",
   "metadata": {},
   "source": [
    "The standard error of the average weight is about 0.045 kg for chinstrap penguins and 0.0.035 kg for Adélie penguins."
   ]
  },
  {
   "cell_type": "code",
   "execution_count": 53,
   "id": "23dfb8d2",
   "metadata": {},
   "outputs": [
    {
     "data": {
      "text/plain": [
       "(0.04626531069684985, 0.03637933631301007)"
      ]
     },
     "execution_count": 53,
     "metadata": {},
     "output_type": "execute_result"
    },
    {
     "data": {
      "application/javascript": [
       "\n",
       "            setTimeout(function() {\n",
       "                var nbb_cell_id = 53;\n",
       "                var nbb_unformatted_code = \"np.std(sample_means), np.std(sample_means2)\";\n",
       "                var nbb_formatted_code = \"np.std(sample_means), np.std(sample_means2)\";\n",
       "                var nbb_cells = Jupyter.notebook.get_cells();\n",
       "                for (var i = 0; i < nbb_cells.length; ++i) {\n",
       "                    if (nbb_cells[i].input_prompt_number == nbb_cell_id) {\n",
       "                        if (nbb_cells[i].get_text() == nbb_unformatted_code) {\n",
       "                             nbb_cells[i].set_text(nbb_formatted_code);\n",
       "                        }\n",
       "                        break;\n",
       "                    }\n",
       "                }\n",
       "            }, 500);\n",
       "            "
      ],
      "text/plain": [
       "<IPython.core.display.Javascript object>"
      ]
     },
     "metadata": {},
     "output_type": "display_data"
    }
   ],
   "source": [
    "np.std(sample_means), np.std(sample_means2)"
   ]
  },
  {
   "cell_type": "markdown",
   "id": "8a9ae37b",
   "metadata": {},
   "source": [
    "Standard deviation tells you how much penguins differ in weight.\n",
    "Standard error tells you how precise an estimate is.\n",
    "They are answers to different questions.\n",
    "\n",
    "However, there is a relationship between them.\n",
    "If we know the standard deviation and sample size, we can approximate the standard error like this:"
   ]
  },
  {
   "cell_type": "code",
   "execution_count": 54,
   "id": "6c913bd8",
   "metadata": {},
   "outputs": [
    {
     "data": {
      "application/javascript": [
       "\n",
       "            setTimeout(function() {\n",
       "                var nbb_cell_id = 54;\n",
       "                var nbb_unformatted_code = \"def approximate_standard_error(sample):\\n    n = len(sample)\\n    return np.std(sample) / np.sqrt(n)\";\n",
       "                var nbb_formatted_code = \"def approximate_standard_error(sample):\\n    n = len(sample)\\n    return np.std(sample) / np.sqrt(n)\";\n",
       "                var nbb_cells = Jupyter.notebook.get_cells();\n",
       "                for (var i = 0; i < nbb_cells.length; ++i) {\n",
       "                    if (nbb_cells[i].input_prompt_number == nbb_cell_id) {\n",
       "                        if (nbb_cells[i].get_text() == nbb_unformatted_code) {\n",
       "                             nbb_cells[i].set_text(nbb_formatted_code);\n",
       "                        }\n",
       "                        break;\n",
       "                    }\n",
       "                }\n",
       "            }, 500);\n",
       "            "
      ],
      "text/plain": [
       "<IPython.core.display.Javascript object>"
      ]
     },
     "metadata": {},
     "output_type": "display_data"
    }
   ],
   "source": [
    "def approximate_standard_error(sample):\n",
    "    n = len(sample)\n",
    "    return np.std(sample) / np.sqrt(n)"
   ]
  },
  {
   "cell_type": "code",
   "execution_count": 55,
   "id": "1a9d1058",
   "metadata": {},
   "outputs": [
    {
     "data": {
      "text/plain": [
       "0.046263503290595163"
      ]
     },
     "execution_count": 55,
     "metadata": {},
     "output_type": "execute_result"
    },
    {
     "data": {
      "application/javascript": [
       "\n",
       "            setTimeout(function() {\n",
       "                var nbb_cell_id = 55;\n",
       "                var nbb_unformatted_code = \"approximate_standard_error(weights)\";\n",
       "                var nbb_formatted_code = \"approximate_standard_error(weights)\";\n",
       "                var nbb_cells = Jupyter.notebook.get_cells();\n",
       "                for (var i = 0; i < nbb_cells.length; ++i) {\n",
       "                    if (nbb_cells[i].input_prompt_number == nbb_cell_id) {\n",
       "                        if (nbb_cells[i].get_text() == nbb_unformatted_code) {\n",
       "                             nbb_cells[i].set_text(nbb_formatted_code);\n",
       "                        }\n",
       "                        break;\n",
       "                    }\n",
       "                }\n",
       "            }, 500);\n",
       "            "
      ],
      "text/plain": [
       "<IPython.core.display.Javascript object>"
      ]
     },
     "metadata": {},
     "output_type": "display_data"
    }
   ],
   "source": [
    "approximate_standard_error(weights)"
   ]
  },
  {
   "cell_type": "code",
   "execution_count": 56,
   "id": "58ececdc",
   "metadata": {},
   "outputs": [
    {
     "data": {
      "text/plain": [
       "0.037193808669029625"
      ]
     },
     "execution_count": 56,
     "metadata": {},
     "output_type": "execute_result"
    },
    {
     "data": {
      "application/javascript": [
       "\n",
       "            setTimeout(function() {\n",
       "                var nbb_cell_id = 56;\n",
       "                var nbb_unformatted_code = \"approximate_standard_error(weights2)\";\n",
       "                var nbb_formatted_code = \"approximate_standard_error(weights2)\";\n",
       "                var nbb_cells = Jupyter.notebook.get_cells();\n",
       "                for (var i = 0; i < nbb_cells.length; ++i) {\n",
       "                    if (nbb_cells[i].input_prompt_number == nbb_cell_id) {\n",
       "                        if (nbb_cells[i].get_text() == nbb_unformatted_code) {\n",
       "                             nbb_cells[i].set_text(nbb_formatted_code);\n",
       "                        }\n",
       "                        break;\n",
       "                    }\n",
       "                }\n",
       "            }, 500);\n",
       "            "
      ],
      "text/plain": [
       "<IPython.core.display.Javascript object>"
      ]
     },
     "metadata": {},
     "output_type": "display_data"
    }
   ],
   "source": [
    "approximate_standard_error(weights2)"
   ]
  },
  {
   "cell_type": "markdown",
   "id": "431934ea",
   "metadata": {},
   "source": [
    "These results are close to what we got by resampling."
   ]
  },
  {
   "cell_type": "markdown",
   "id": "138cc65f",
   "metadata": {},
   "source": [
    "## Confidence Intervals\n",
    "\n",
    "Another way to summarize the sampling distribution is to compute a **condfidence interval**.\n",
    "For example, a 90% confidence interval contains 90% of the values in the sampling distribution, which we can find by computing the 5th and 95th percentiles.\n",
    "Here's the 90% confidence interval for the average weight of chinstrap penguins."
   ]
  },
  {
   "cell_type": "code",
   "execution_count": 57,
   "id": "a1389ac6",
   "metadata": {},
   "outputs": [
    {
     "data": {
      "text/plain": [
       "array([3.6576334 , 3.80737506])"
      ]
     },
     "execution_count": 57,
     "metadata": {},
     "output_type": "execute_result"
    },
    {
     "data": {
      "application/javascript": [
       "\n",
       "            setTimeout(function() {\n",
       "                var nbb_cell_id = 57;\n",
       "                var nbb_unformatted_code = \"ci90 = np.percentile(sample_means, [5, 95])\\nci90\";\n",
       "                var nbb_formatted_code = \"ci90 = np.percentile(sample_means, [5, 95])\\nci90\";\n",
       "                var nbb_cells = Jupyter.notebook.get_cells();\n",
       "                for (var i = 0; i < nbb_cells.length; ++i) {\n",
       "                    if (nbb_cells[i].input_prompt_number == nbb_cell_id) {\n",
       "                        if (nbb_cells[i].get_text() == nbb_unformatted_code) {\n",
       "                             nbb_cells[i].set_text(nbb_formatted_code);\n",
       "                        }\n",
       "                        break;\n",
       "                    }\n",
       "                }\n",
       "            }, 500);\n",
       "            "
      ],
      "text/plain": [
       "<IPython.core.display.Javascript object>"
      ]
     },
     "metadata": {},
     "output_type": "display_data"
    }
   ],
   "source": [
    "ci90 = np.percentile(sample_means, [5, 95])\n",
    "ci90"
   ]
  },
  {
   "cell_type": "markdown",
   "id": "de38bc06",
   "metadata": {},
   "source": [
    "And here's the 90% confidence interval for the average weight of Adélie penguins."
   ]
  },
  {
   "cell_type": "code",
   "execution_count": 58,
   "id": "1f467578",
   "metadata": {},
   "outputs": [
    {
     "data": {
      "text/plain": [
       "array([3.64335199, 3.76389419])"
      ]
     },
     "execution_count": 58,
     "metadata": {},
     "output_type": "execute_result"
    },
    {
     "data": {
      "application/javascript": [
       "\n",
       "            setTimeout(function() {\n",
       "                var nbb_cell_id = 58;\n",
       "                var nbb_unformatted_code = \"ci90 = np.percentile(sample_means2, [5, 95])\\nci90\";\n",
       "                var nbb_formatted_code = \"ci90 = np.percentile(sample_means2, [5, 95])\\nci90\";\n",
       "                var nbb_cells = Jupyter.notebook.get_cells();\n",
       "                for (var i = 0; i < nbb_cells.length; ++i) {\n",
       "                    if (nbb_cells[i].input_prompt_number == nbb_cell_id) {\n",
       "                        if (nbb_cells[i].get_text() == nbb_unformatted_code) {\n",
       "                             nbb_cells[i].set_text(nbb_formatted_code);\n",
       "                        }\n",
       "                        break;\n",
       "                    }\n",
       "                }\n",
       "            }, 500);\n",
       "            "
      ],
      "text/plain": [
       "<IPython.core.display.Javascript object>"
      ]
     },
     "metadata": {},
     "output_type": "display_data"
    }
   ],
   "source": [
    "ci90 = np.percentile(sample_means2, [5, 95])\n",
    "ci90"
   ]
  },
  {
   "cell_type": "markdown",
   "id": "77a5217f",
   "metadata": {},
   "source": [
    "To interpret a confidence interval, it is tempting to say that there is a 90% chance that the true value of the population parameter falls in the 90% confidence interval.\n",
    "In this example, we would say there is a 90% chance that the population mean for chinstrap penguins is between 3.66 and 3.81 kg.\n",
    "\n",
    "Under a strict philosophy of probability called **frequentism**, this interpretation would not be allowed, and in many statistics books, you will be told that this interpretation is wrong.\n",
    "\n",
    "In my opinion, this prohibition is unnecessarily strict.\n",
    "Under reasonable philosophies of probability, a confidence interval means what people expect it to mean: there is a 90% chance that the true value falls in the 90% confidence interval.\n",
    "\n",
    "However, confidence intervals only quantify variability due to sampling -- that is, measuring only part of the population.\n",
    "The sampling distribution does not account for other sources of error, notably sampling bias and measurement error, which are the topics of the next section."
   ]
  },
  {
   "cell_type": "markdown",
   "id": "bb261f13",
   "metadata": {},
   "source": [
    "## Sources of Error\n",
    "\n",
    "Suppose that instead of the average weight of penguins in Antarctica, you want to know the average weight of women in the city where you live.\n",
    "You can't randomly choose a representative sample of women and weigh them.\n",
    "\n",
    "A simple alternative would be \"telephone sampling\" -- that is, you could choose random numbers from the phone book, call and ask to speak to an adult woman, and ask how much she weighs.\n",
    "\n",
    "But telephone sampling has obvious problems.\n",
    "For example, the sample is limited to people whose telephone numbers are listed, so it eliminates people without phones (who might be poorer than average) and people with unlisted numbers (who might be richer).\n",
    "Also, if you call home telephones during the day, you are less likely to sample people with jobs.\n",
    "And if you only sample the person who answers the phone, you are less likely to sample people who share a phone line."
   ]
  },
  {
   "cell_type": "markdown",
   "id": "f4732e1c",
   "metadata": {},
   "source": [
    "If factors like income, employment, and household size are related to weight -- and it is plausible that they are -- the results of your survey would be affected one way or another.\n",
    "This problem is called **sampling bias** because it is a property of the sampling process.\n",
    "\n",
    "This sampling process is also vulnerable to self-selection, which is a kind of sampling bias.\n",
    "Some people will refuse to answer the question, and if the tendency to refuse is related to weight, that would affect the results.\n",
    "\n",
    "Finally, if you ask people how much they weigh, rather than weighing them, the results might not be accurate.\n",
    "Even helpful respondents might round up or down if they are uncomfortable with their actual weight.\n",
    "And not all respondents are helpful.\n",
    "These inaccuracies are examples of **measurement error**."
   ]
  },
  {
   "cell_type": "markdown",
   "id": "c2bafbb5",
   "metadata": {},
   "source": [
    "When you report an estimated quantity, it is useful to quantify variability due to sampling by reporting a standard error a confidence interval.\n",
    "But remember that sampling error is only one source of error, and often it is not the biggest."
   ]
  },
  {
   "cell_type": "markdown",
   "id": "5a72892f",
   "metadata": {},
   "source": [
    "## Glossary\n",
    "\n",
    "-   **estimation**: The process of inferring the parameters of a distribution from a sample.\n",
    "\n",
    "-   **estimator**: A statistic used to estimate a parameter.\n",
    "\n",
    "-   **mean squared error (MSE)**: A measure of estimation error.\n",
    "\n",
    "-   **root mean squared error (RMSE)**: The square root of MSE, a more meaningful representation of typical error magnitude.\n",
    "\n",
    "-   **maximum likelihood estimator (MLE)**: An estimator that computes the point estimate most likely to be correct.\n",
    "\n",
    "-   **bias (of an estimator)**: The tendency of an estimator to be above or below the actual value of the parameter, when averaged over repeated experiments.\n",
    "\n",
    "-   **sampling error**: Error in an estimate due to the limited size of the sample and variation due to chance.\n",
    "\n",
    "-   **sampling bias**: Error in an estimate due to a sampling process that is not representative of the population.\n",
    "\n",
    "-   **measurement error**: Error in an estimate due to inaccuracy collecting or recording data.\n",
    "\n",
    "-   **sampling distribution**: The distribution of a statistic if an experiment is repeated many times.\n",
    "\n",
    "-   **standard error**: The RMSE of an estimate, which quantifies variability due to sampling error (but not other sources of error).\n",
    "\n",
    "-   **confidence interval**: An interval that represents the expected range of an estimator if an experiment is repeated many times."
   ]
  },
  {
   "cell_type": "markdown",
   "id": "697621aa",
   "metadata": {},
   "source": [
    "## Exercises"
   ]
  },
  {
   "cell_type": "markdown",
   "id": "d975a2b7",
   "metadata": {},
   "source": [
    "### Exercise\n",
    "\n",
    "One of the strengths of resampling methods is that they are easy to extend to other statistics.\n",
    "In this chapter, we computed the sample mean of penguin weights and then used resampling to approximate the sampling distribution of the mean.\n",
    "\n",
    "As an exercise, compute the sample standard deviation of weights for chinstrap penguins.\n",
    "Then use `resample` to approximate the sampling distribution of the standard deviation.\n",
    "Use the sampling distribution to compute the standard error of the estimate and a 90% confidence interval."
   ]
  },
  {
   "cell_type": "code",
   "execution_count": 59,
   "id": "94b262f2",
   "metadata": {},
   "outputs": [
    {
     "data": {
      "text/plain": [
       "0.3814986213564681"
      ]
     },
     "execution_count": 59,
     "metadata": {},
     "output_type": "execute_result"
    },
    {
     "data": {
      "application/javascript": [
       "\n",
       "            setTimeout(function() {\n",
       "                var nbb_cell_id = 59;\n",
       "                var nbb_unformatted_code = \"# Solution\\n\\nnp.std(weights)\";\n",
       "                var nbb_formatted_code = \"# Solution\\n\\nnp.std(weights)\";\n",
       "                var nbb_cells = Jupyter.notebook.get_cells();\n",
       "                for (var i = 0; i < nbb_cells.length; ++i) {\n",
       "                    if (nbb_cells[i].input_prompt_number == nbb_cell_id) {\n",
       "                        if (nbb_cells[i].get_text() == nbb_unformatted_code) {\n",
       "                             nbb_cells[i].set_text(nbb_formatted_code);\n",
       "                        }\n",
       "                        break;\n",
       "                    }\n",
       "                }\n",
       "            }, 500);\n",
       "            "
      ],
      "text/plain": [
       "<IPython.core.display.Javascript object>"
      ]
     },
     "metadata": {},
     "output_type": "display_data"
    }
   ],
   "source": []
  },
  {
   "cell_type": "code",
   "execution_count": 60,
   "id": "b22cc0e7",
   "metadata": {},
   "outputs": [
    {
     "data": {
      "application/javascript": [
       "\n",
       "            setTimeout(function() {\n",
       "                var nbb_cell_id = 60;\n",
       "                var nbb_unformatted_code = \"# Solution\\n\\nsample_stds = [np.std(resample(weights)) for i in range(1001)]\";\n",
       "                var nbb_formatted_code = \"# Solution\\n\\nsample_stds = [np.std(resample(weights)) for i in range(1001)]\";\n",
       "                var nbb_cells = Jupyter.notebook.get_cells();\n",
       "                for (var i = 0; i < nbb_cells.length; ++i) {\n",
       "                    if (nbb_cells[i].input_prompt_number == nbb_cell_id) {\n",
       "                        if (nbb_cells[i].get_text() == nbb_unformatted_code) {\n",
       "                             nbb_cells[i].set_text(nbb_formatted_code);\n",
       "                        }\n",
       "                        break;\n",
       "                    }\n",
       "                }\n",
       "            }, 500);\n",
       "            "
      ],
      "text/plain": [
       "<IPython.core.display.Javascript object>"
      ]
     },
     "metadata": {},
     "output_type": "display_data"
    }
   ],
   "source": []
  },
  {
   "cell_type": "code",
   "execution_count": 61,
   "id": "3d026a75",
   "metadata": {},
   "outputs": [
    {
     "data": {
      "image/png": "[encoded data removed]",
      "text/plain": [
       "<Figure size 450x262.5 with 1 Axes>"
      ]
     },
     "metadata": {},
     "output_type": "display_data"
    },
    {
     "data": {
      "application/javascript": [
       "\n",
       "            setTimeout(function() {\n",
       "                var nbb_cell_id = 61;\n",
       "                var nbb_unformatted_code = \"# Solution\\n\\nplot_kde(sample_stds, color=\\\"C2\\\")\\ndecorate(xlabel=\\\"Sample standard deviation (kg)\\\", ylabel=\\\"Density\\\")\";\n",
       "                var nbb_formatted_code = \"# Solution\\n\\nplot_kde(sample_stds, color=\\\"C2\\\")\\ndecorate(xlabel=\\\"Sample standard deviation (kg)\\\", ylabel=\\\"Density\\\")\";\n",
       "                var nbb_cells = Jupyter.notebook.get_cells();\n",
       "                for (var i = 0; i < nbb_cells.length; ++i) {\n",
       "                    if (nbb_cells[i].input_prompt_number == nbb_cell_id) {\n",
       "                        if (nbb_cells[i].get_text() == nbb_unformatted_code) {\n",
       "                             nbb_cells[i].set_text(nbb_formatted_code);\n",
       "                        }\n",
       "                        break;\n",
       "                    }\n",
       "                }\n",
       "            }, 500);\n",
       "            "
      ],
      "text/plain": [
       "<IPython.core.display.Javascript object>"
      ]
     },
     "metadata": {},
     "output_type": "display_data"
    }
   ],
   "source": []
  },
  {
   "cell_type": "code",
   "execution_count": 62,
   "id": "63312f6c",
   "metadata": {},
   "outputs": [
    {
     "data": {
      "text/plain": [
       "0.03325909501159015"
      ]
     },
     "execution_count": 62,
     "metadata": {},
     "output_type": "execute_result"
    },
    {
     "data": {
      "application/javascript": [
       "\n",
       "            setTimeout(function() {\n",
       "                var nbb_cell_id = 62;\n",
       "                var nbb_unformatted_code = \"# Solution\\n\\nstandard_error = np.std(sample_stds)\\nstandard_error\";\n",
       "                var nbb_formatted_code = \"# Solution\\n\\nstandard_error = np.std(sample_stds)\\nstandard_error\";\n",
       "                var nbb_cells = Jupyter.notebook.get_cells();\n",
       "                for (var i = 0; i < nbb_cells.length; ++i) {\n",
       "                    if (nbb_cells[i].input_prompt_number == nbb_cell_id) {\n",
       "                        if (nbb_cells[i].get_text() == nbb_unformatted_code) {\n",
       "                             nbb_cells[i].set_text(nbb_formatted_code);\n",
       "                        }\n",
       "                        break;\n",
       "                    }\n",
       "                }\n",
       "            }, 500);\n",
       "            "
      ],
      "text/plain": [
       "<IPython.core.display.Javascript object>"
      ]
     },
     "metadata": {},
     "output_type": "display_data"
    }
   ],
   "source": []
  },
  {
   "cell_type": "code",
   "execution_count": 63,
   "id": "52b0dd75",
   "metadata": {},
   "outputs": [
    {
     "data": {
      "text/plain": [
       "array([0.32416373, 0.43490037])"
      ]
     },
     "execution_count": 63,
     "metadata": {},
     "output_type": "execute_result"
    },
    {
     "data": {
      "application/javascript": [
       "\n",
       "            setTimeout(function() {\n",
       "                var nbb_cell_id = 63;\n",
       "                var nbb_unformatted_code = \"# Solution\\n\\nci90 = np.percentile(sample_stds, [5, 95])\\nci90\";\n",
       "                var nbb_formatted_code = \"# Solution\\n\\nci90 = np.percentile(sample_stds, [5, 95])\\nci90\";\n",
       "                var nbb_cells = Jupyter.notebook.get_cells();\n",
       "                for (var i = 0; i < nbb_cells.length; ++i) {\n",
       "                    if (nbb_cells[i].input_prompt_number == nbb_cell_id) {\n",
       "                        if (nbb_cells[i].get_text() == nbb_unformatted_code) {\n",
       "                             nbb_cells[i].set_text(nbb_formatted_code);\n",
       "                        }\n",
       "                        break;\n",
       "                    }\n",
       "                }\n",
       "            }, 500);\n",
       "            "
      ],
      "text/plain": [
       "<IPython.core.display.Javascript object>"
      ]
     },
     "metadata": {},
     "output_type": "display_data"
    }
   ],
   "source": []
  },
  {
   "cell_type": "markdown",
   "id": "f1aa3e0a",
   "metadata": {},
   "source": [
    "### Exercise\n",
    "\n",
    "The Behavioral Risk Factor Surveillance System (BRFSS) dataset includes self-reported heights and weights for a sample of adults in the United States.\n",
    "Use this data to estimate the average height of male adults.\n",
    "Use resample to approximate the sampling distribution and compute a 90% confidence interval.\n",
    "\n",
    "Because the sample size is very large, the confidence interval is very small, which means that variability due to random sampling is small.\n",
    "But other sources of error might be bigger.\n",
    "What other sources of error do you think affect the results."
   ]
  },
  {
   "cell_type": "markdown",
   "id": "5628baa6",
   "metadata": {
    "tags": [
     "remove-print"
    ]
   },
   "source": [
    "The following cells download the data, read it into a `DataFrame`, and select the heights of male respondents."
   ]
  },
  {
   "cell_type": "code",
   "execution_count": 64,
   "id": "61f82fdb",
   "metadata": {
    "tags": [
     "remove-print"
    ]
   },
   "outputs": [
    {
     "data": {
      "application/javascript": [
       "\n",
       "            setTimeout(function() {\n",
       "                var nbb_cell_id = 64;\n",
       "                var nbb_unformatted_code = \"download(\\\"https://github.com/AllenDowney/ThinkStats/raw/v3/data/CDBRFS08.ASC.gz\\\")\";\n",
       "                var nbb_formatted_code = \"download(\\\"https://github.com/AllenDowney/ThinkStats/raw/v3/data/CDBRFS08.ASC.gz\\\")\";\n",
       "                var nbb_cells = Jupyter.notebook.get_cells();\n",
       "                for (var i = 0; i < nbb_cells.length; ++i) {\n",
       "                    if (nbb_cells[i].input_prompt_number == nbb_cell_id) {\n",
       "                        if (nbb_cells[i].get_text() == nbb_unformatted_code) {\n",
       "                             nbb_cells[i].set_text(nbb_formatted_code);\n",
       "                        }\n",
       "                        break;\n",
       "                    }\n",
       "                }\n",
       "            }, 500);\n",
       "            "
      ],
      "text/plain": [
       "<IPython.core.display.Javascript object>"
      ]
     },
     "metadata": {},
     "output_type": "display_data"
    }
   ],
   "source": [
    "download(\"https://github.com/AllenDowney/ThinkStats/raw/v3/data/CDBRFS08.ASC.gz\")"
   ]
  },
  {
   "cell_type": "code",
   "execution_count": 65,
   "id": "fba01e54",
   "metadata": {
    "tags": [
     "remove-print"
    ]
   },
   "outputs": [
    {
     "data": {
      "application/javascript": [
       "\n",
       "            setTimeout(function() {\n",
       "                var nbb_cell_id = 65;\n",
       "                var nbb_unformatted_code = \"from thinkstats import read_brfss\\n\\nbrfss = read_brfss()\";\n",
       "                var nbb_formatted_code = \"from thinkstats import read_brfss\\n\\nbrfss = read_brfss()\";\n",
       "                var nbb_cells = Jupyter.notebook.get_cells();\n",
       "                for (var i = 0; i < nbb_cells.length; ++i) {\n",
       "                    if (nbb_cells[i].input_prompt_number == nbb_cell_id) {\n",
       "                        if (nbb_cells[i].get_text() == nbb_unformatted_code) {\n",
       "                             nbb_cells[i].set_text(nbb_formatted_code);\n",
       "                        }\n",
       "                        break;\n",
       "                    }\n",
       "                }\n",
       "            }, 500);\n",
       "            "
      ],
      "text/plain": [
       "<IPython.core.display.Javascript object>"
      ]
     },
     "metadata": {},
     "output_type": "display_data"
    }
   ],
   "source": [
    "from thinkstats import read_brfss\n",
    "\n",
    "brfss = read_brfss()"
   ]
  },
  {
   "cell_type": "code",
   "execution_count": 66,
   "id": "fe5076e9",
   "metadata": {
    "tags": [
     "remove-print"
    ]
   },
   "outputs": [
    {
     "data": {
      "text/plain": [
       "count    154407.000000\n",
       "mean        178.066221\n",
       "std           7.723563\n",
       "min          61.000000\n",
       "25%         173.000000\n",
       "50%         178.000000\n",
       "75%         183.000000\n",
       "max         236.000000\n",
       "Name: htm3, dtype: float64"
      ]
     },
     "execution_count": 66,
     "metadata": {},
     "output_type": "execute_result"
    },
    {
     "data": {
      "application/javascript": [
       "\n",
       "            setTimeout(function() {\n",
       "                var nbb_cell_id = 66;\n",
       "                var nbb_unformatted_code = \"male = brfss.query(\\\"sex == 1\\\")\\nheights = male[\\\"htm3\\\"]\\nheights.describe()\";\n",
       "                var nbb_formatted_code = \"male = brfss.query(\\\"sex == 1\\\")\\nheights = male[\\\"htm3\\\"]\\nheights.describe()\";\n",
       "                var nbb_cells = Jupyter.notebook.get_cells();\n",
       "                for (var i = 0; i < nbb_cells.length; ++i) {\n",
       "                    if (nbb_cells[i].input_prompt_number == nbb_cell_id) {\n",
       "                        if (nbb_cells[i].get_text() == nbb_unformatted_code) {\n",
       "                             nbb_cells[i].set_text(nbb_formatted_code);\n",
       "                        }\n",
       "                        break;\n",
       "                    }\n",
       "                }\n",
       "            }, 500);\n",
       "            "
      ],
      "text/plain": [
       "<IPython.core.display.Javascript object>"
      ]
     },
     "metadata": {},
     "output_type": "display_data"
    }
   ],
   "source": [
    "male = brfss.query(\"sex == 1\")\n",
    "heights = male[\"htm3\"]\n",
    "heights.describe()"
   ]
  },
  {
   "cell_type": "code",
   "execution_count": 67,
   "id": "6fd5fdfe",
   "metadata": {},
   "outputs": [
    {
     "data": {
      "application/javascript": [
       "\n",
       "            setTimeout(function() {\n",
       "                var nbb_cell_id = 67;\n",
       "                var nbb_unformatted_code = \"# Solution\\n\\nsample_means = [np.mean(resample(heights)) for i in range(1001)]\";\n",
       "                var nbb_formatted_code = \"# Solution\\n\\nsample_means = [np.mean(resample(heights)) for i in range(1001)]\";\n",
       "                var nbb_cells = Jupyter.notebook.get_cells();\n",
       "                for (var i = 0; i < nbb_cells.length; ++i) {\n",
       "                    if (nbb_cells[i].input_prompt_number == nbb_cell_id) {\n",
       "                        if (nbb_cells[i].get_text() == nbb_unformatted_code) {\n",
       "                             nbb_cells[i].set_text(nbb_formatted_code);\n",
       "                        }\n",
       "                        break;\n",
       "                    }\n",
       "                }\n",
       "            }, 500);\n",
       "            "
      ],
      "text/plain": [
       "<IPython.core.display.Javascript object>"
      ]
     },
     "metadata": {},
     "output_type": "display_data"
    }
   ],
   "source": []
  },
  {
   "cell_type": "code",
   "execution_count": 68,
   "id": "828067b1",
   "metadata": {},
   "outputs": [
    {
     "data": {
      "text/plain": [
       "0.019198303129547803"
      ]
     },
     "execution_count": 68,
     "metadata": {},
     "output_type": "execute_result"
    },
    {
     "data": {
      "application/javascript": [
       "\n",
       "            setTimeout(function() {\n",
       "                var nbb_cell_id = 68;\n",
       "                var nbb_unformatted_code = \"# Solution\\n\\nstd_error = np.std(sample_means)\\nstd_error\";\n",
       "                var nbb_formatted_code = \"# Solution\\n\\nstd_error = np.std(sample_means)\\nstd_error\";\n",
       "                var nbb_cells = Jupyter.notebook.get_cells();\n",
       "                for (var i = 0; i < nbb_cells.length; ++i) {\n",
       "                    if (nbb_cells[i].input_prompt_number == nbb_cell_id) {\n",
       "                        if (nbb_cells[i].get_text() == nbb_unformatted_code) {\n",
       "                             nbb_cells[i].set_text(nbb_formatted_code);\n",
       "                        }\n",
       "                        break;\n",
       "                    }\n",
       "                }\n",
       "            }, 500);\n",
       "            "
      ],
      "text/plain": [
       "<IPython.core.display.Javascript object>"
      ]
     },
     "metadata": {},
     "output_type": "display_data"
    }
   ],
   "source": []
  },
  {
   "cell_type": "code",
   "execution_count": 69,
   "id": "2f4dfcc8",
   "metadata": {},
   "outputs": [
    {
     "data": {
      "text/plain": [
       "0.01957346990388737"
      ]
     },
     "execution_count": 69,
     "metadata": {},
     "output_type": "execute_result"
    },
    {
     "data": {
      "application/javascript": [
       "\n",
       "            setTimeout(function() {\n",
       "                var nbb_cell_id = 69;\n",
       "                var nbb_unformatted_code = \"# Solution\\n\\napproximate_standard_error(heights)\";\n",
       "                var nbb_formatted_code = \"# Solution\\n\\napproximate_standard_error(heights)\";\n",
       "                var nbb_cells = Jupyter.notebook.get_cells();\n",
       "                for (var i = 0; i < nbb_cells.length; ++i) {\n",
       "                    if (nbb_cells[i].input_prompt_number == nbb_cell_id) {\n",
       "                        if (nbb_cells[i].get_text() == nbb_unformatted_code) {\n",
       "                             nbb_cells[i].set_text(nbb_formatted_code);\n",
       "                        }\n",
       "                        break;\n",
       "                    }\n",
       "                }\n",
       "            }, 500);\n",
       "            "
      ],
      "text/plain": [
       "<IPython.core.display.Javascript object>"
      ]
     },
     "metadata": {},
     "output_type": "display_data"
    }
   ],
   "source": []
  },
  {
   "cell_type": "code",
   "execution_count": 70,
   "id": "eadf07a6",
   "metadata": {},
   "outputs": [
    {
     "data": {
      "text/plain": [
       "array([178.03482178, 178.09810126])"
      ]
     },
     "execution_count": 70,
     "metadata": {},
     "output_type": "execute_result"
    },
    {
     "data": {
      "application/javascript": [
       "\n",
       "            setTimeout(function() {\n",
       "                var nbb_cell_id = 70;\n",
       "                var nbb_unformatted_code = \"# Solution\\n\\nci90 = np.percentile(sample_means, [5, 95])\\nci90\";\n",
       "                var nbb_formatted_code = \"# Solution\\n\\nci90 = np.percentile(sample_means, [5, 95])\\nci90\";\n",
       "                var nbb_cells = Jupyter.notebook.get_cells();\n",
       "                for (var i = 0; i < nbb_cells.length; ++i) {\n",
       "                    if (nbb_cells[i].input_prompt_number == nbb_cell_id) {\n",
       "                        if (nbb_cells[i].get_text() == nbb_unformatted_code) {\n",
       "                             nbb_cells[i].set_text(nbb_formatted_code);\n",
       "                        }\n",
       "                        break;\n",
       "                    }\n",
       "                }\n",
       "            }, 500);\n",
       "            "
      ],
      "text/plain": [
       "<IPython.core.display.Javascript object>"
      ]
     },
     "metadata": {},
     "output_type": "display_data"
    }
   ],
   "source": []
  },
  {
   "cell_type": "code",
   "execution_count": 71,
   "id": "019c8738",
   "metadata": {},
   "outputs": [
    {
     "data": {
      "application/javascript": [
       "\n",
       "            setTimeout(function() {\n",
       "                var nbb_cell_id = 71;\n",
       "                var nbb_unformatted_code = \"# Solution\\n\\n# Other sources of error include:\\n\\n# The BRFSS sample is not representative -- it deliberately oversamples some groups.\\n# Since we did not correct for oversampling, the estimated mean might be biased.\\n\\n# The heights in the BRFSS are self-reported, so it's possible people were not\\n# completely accurate.\\n\\n# There are more recorded heights at 61 cm and 243 cm than seems likely, so it's\\n# possible there are errors in the recording or transmission of the data.\\n\\n# When sample sizes are large, errors due to non-representative sampling and incorrect\\n# measurements are often bigger than variability due to random sampling.\";\n",
       "                var nbb_formatted_code = \"# Solution\\n\\n# Other sources of error include:\\n\\n# The BRFSS sample is not representative -- it deliberately oversamples some groups.\\n# Since we did not correct for oversampling, the estimated mean might be biased.\\n\\n# The heights in the BRFSS are self-reported, so it's possible people were not\\n# completely accurate.\\n\\n# There are more recorded heights at 61 cm and 243 cm than seems likely, so it's\\n# possible there are errors in the recording or transmission of the data.\\n\\n# When sample sizes are large, errors due to non-representative sampling and incorrect\\n# measurements are often bigger than variability due to random sampling.\";\n",
       "                var nbb_cells = Jupyter.notebook.get_cells();\n",
       "                for (var i = 0; i < nbb_cells.length; ++i) {\n",
       "                    if (nbb_cells[i].input_prompt_number == nbb_cell_id) {\n",
       "                        if (nbb_cells[i].get_text() == nbb_unformatted_code) {\n",
       "                             nbb_cells[i].set_text(nbb_formatted_code);\n",
       "                        }\n",
       "                        break;\n",
       "                    }\n",
       "                }\n",
       "            }, 500);\n",
       "            "
      ],
      "text/plain": [
       "<IPython.core.display.Javascript object>"
      ]
     },
     "metadata": {},
     "output_type": "display_data"
    }
   ],
   "source": []
  },
  {
   "cell_type": "markdown",
   "id": "813b08bf",
   "metadata": {},
   "source": [
    "## Exercise\n",
    "\n",
    "In games like soccer and hockey, the time between goals tends to follow an exponential distribution (as we saw in Section xxx).\n",
    "Suppose we observe a sample of times between goals.\n",
    "If we assume that the sample came from an exponential distribution, how can we estimate the actual mean of the distribution?\n",
    "We might consider using either the sample mean or the sample median.\n",
    "Let's see if either of them is a consistent, unbiased estimator.\n",
    "\n",
    "For the experiments, we'll assume that the actual mean time between goals is 10 minutes."
   ]
  },
  {
   "cell_type": "code",
   "execution_count": 72,
   "id": "d53fc9a2",
   "metadata": {},
   "outputs": [
    {
     "data": {
      "application/javascript": [
       "\n",
       "            setTimeout(function() {\n",
       "                var nbb_cell_id = 72;\n",
       "                var nbb_unformatted_code = \"actual_mean = 10\";\n",
       "                var nbb_formatted_code = \"actual_mean = 10\";\n",
       "                var nbb_cells = Jupyter.notebook.get_cells();\n",
       "                for (var i = 0; i < nbb_cells.length; ++i) {\n",
       "                    if (nbb_cells[i].input_prompt_number == nbb_cell_id) {\n",
       "                        if (nbb_cells[i].get_text() == nbb_unformatted_code) {\n",
       "                             nbb_cells[i].set_text(nbb_formatted_code);\n",
       "                        }\n",
       "                        break;\n",
       "                    }\n",
       "                }\n",
       "            }, 500);\n",
       "            "
      ],
      "text/plain": [
       "<IPython.core.display.Javascript object>"
      ]
     },
     "metadata": {},
     "output_type": "display_data"
    }
   ],
   "source": [
    "actual_mean = 10"
   ]
  },
  {
   "cell_type": "markdown",
   "id": "2710c385",
   "metadata": {},
   "source": [
    "The following function generates a sample from an exponential distribution with this mean and the given sample size."
   ]
  },
  {
   "cell_type": "code",
   "execution_count": 73,
   "id": "f70a53fb",
   "metadata": {},
   "outputs": [
    {
     "data": {
      "application/javascript": [
       "\n",
       "            setTimeout(function() {\n",
       "                var nbb_cell_id = 73;\n",
       "                var nbb_unformatted_code = \"def make_exponential(n):\\n    return np.random.exponential(actual_mean, size=n)\";\n",
       "                var nbb_formatted_code = \"def make_exponential(n):\\n    return np.random.exponential(actual_mean, size=n)\";\n",
       "                var nbb_cells = Jupyter.notebook.get_cells();\n",
       "                for (var i = 0; i < nbb_cells.length; ++i) {\n",
       "                    if (nbb_cells[i].input_prompt_number == nbb_cell_id) {\n",
       "                        if (nbb_cells[i].get_text() == nbb_unformatted_code) {\n",
       "                             nbb_cells[i].set_text(nbb_formatted_code);\n",
       "                        }\n",
       "                        break;\n",
       "                    }\n",
       "                }\n",
       "            }, 500);\n",
       "            "
      ],
      "text/plain": [
       "<IPython.core.display.Javascript object>"
      ]
     },
     "metadata": {},
     "output_type": "display_data"
    }
   ],
   "source": [
    "def make_exponential(n):\n",
    "    return np.random.exponential(actual_mean, size=n)"
   ]
  },
  {
   "cell_type": "markdown",
   "id": "6386dfd6",
   "metadata": {},
   "source": [
    "Use this function to generate samples with a range of sizes and compute the mean of each one. As `n` increases, do the sample means converge to the actual mean?\n",
    "\n",
    "Next, generate samples with a range of size and compute the median of each one.\n",
    "Do the sample medians converge to the actual median?\n",
    "Here's how you can compute the actual median of an exponential distribution with the given mean."
   ]
  },
  {
   "cell_type": "code",
   "execution_count": 74,
   "id": "7574baca",
   "metadata": {},
   "outputs": [
    {
     "data": {
      "text/plain": [
       "6.931471805599453"
      ]
     },
     "execution_count": 74,
     "metadata": {},
     "output_type": "execute_result"
    },
    {
     "data": {
      "application/javascript": [
       "\n",
       "            setTimeout(function() {\n",
       "                var nbb_cell_id = 74;\n",
       "                var nbb_unformatted_code = \"actual_median = np.log(2) * actual_mean\\nactual_median\";\n",
       "                var nbb_formatted_code = \"actual_median = np.log(2) * actual_mean\\nactual_median\";\n",
       "                var nbb_cells = Jupyter.notebook.get_cells();\n",
       "                for (var i = 0; i < nbb_cells.length; ++i) {\n",
       "                    if (nbb_cells[i].input_prompt_number == nbb_cell_id) {\n",
       "                        if (nbb_cells[i].get_text() == nbb_unformatted_code) {\n",
       "                             nbb_cells[i].set_text(nbb_formatted_code);\n",
       "                        }\n",
       "                        break;\n",
       "                    }\n",
       "                }\n",
       "            }, 500);\n",
       "            "
      ],
      "text/plain": [
       "<IPython.core.display.Javascript object>"
      ]
     },
     "metadata": {},
     "output_type": "display_data"
    }
   ],
   "source": [
    "actual_median = np.log(2) * actual_mean\n",
    "actual_median"
   ]
  },
  {
   "cell_type": "code",
   "execution_count": 75,
   "id": "cff8b98c",
   "metadata": {},
   "outputs": [
    {
     "data": {
      "application/javascript": [
       "\n",
       "            setTimeout(function() {\n",
       "                var nbb_cell_id = 75;\n",
       "                var nbb_unformatted_code = \"# Solution\\n\\nmeans = [np.mean(make_exponential(n)) for n in ns]\\nmedians = [np.median(make_exponential(n)) for n in ns]\";\n",
       "                var nbb_formatted_code = \"# Solution\\n\\nmeans = [np.mean(make_exponential(n)) for n in ns]\\nmedians = [np.median(make_exponential(n)) for n in ns]\";\n",
       "                var nbb_cells = Jupyter.notebook.get_cells();\n",
       "                for (var i = 0; i < nbb_cells.length; ++i) {\n",
       "                    if (nbb_cells[i].input_prompt_number == nbb_cell_id) {\n",
       "                        if (nbb_cells[i].get_text() == nbb_unformatted_code) {\n",
       "                             nbb_cells[i].set_text(nbb_formatted_code);\n",
       "                        }\n",
       "                        break;\n",
       "                    }\n",
       "                }\n",
       "            }, 500);\n",
       "            "
      ],
      "text/plain": [
       "<IPython.core.display.Javascript object>"
      ]
     },
     "metadata": {},
     "output_type": "display_data"
    }
   ],
   "source": []
  },
  {
   "cell_type": "code",
   "execution_count": 76,
   "id": "bb18a57a",
   "metadata": {},
   "outputs": [
    {
     "data": {
      "image/png": "[encoded data removed]",
      "text/plain": [
       "<Figure size 450x262.5 with 1 Axes>"
      ]
     },
     "metadata": {},
     "output_type": "display_data"
    },
    {
     "data": {
      "application/javascript": [
       "\n",
       "            setTimeout(function() {\n",
       "                var nbb_cell_id = 76;\n",
       "                var nbb_unformatted_code = \"# Solution\\n\\nplt.axhline(actual_mean, color=\\\"0.9\\\")\\nplt.axhline(actual_median, color=\\\"0.9\\\")\\nplt.plot(ns, means, \\\"--\\\", label=\\\"mean\\\")\\nplt.plot(ns, medians, label=\\\"median\\\")\\n\\ndecorate(xlabel=\\\"Sample size\\\", xscale=\\\"log\\\", ylabel=\\\"Estimate\\\")\";\n",
       "                var nbb_formatted_code = \"# Solution\\n\\nplt.axhline(actual_mean, color=\\\"0.9\\\")\\nplt.axhline(actual_median, color=\\\"0.9\\\")\\nplt.plot(ns, means, \\\"--\\\", label=\\\"mean\\\")\\nplt.plot(ns, medians, label=\\\"median\\\")\\n\\ndecorate(xlabel=\\\"Sample size\\\", xscale=\\\"log\\\", ylabel=\\\"Estimate\\\")\";\n",
       "                var nbb_cells = Jupyter.notebook.get_cells();\n",
       "                for (var i = 0; i < nbb_cells.length; ++i) {\n",
       "                    if (nbb_cells[i].input_prompt_number == nbb_cell_id) {\n",
       "                        if (nbb_cells[i].get_text() == nbb_unformatted_code) {\n",
       "                             nbb_cells[i].set_text(nbb_formatted_code);\n",
       "                        }\n",
       "                        break;\n",
       "                    }\n",
       "                }\n",
       "            }, 500);\n",
       "            "
      ],
      "text/plain": [
       "<IPython.core.display.Javascript object>"
      ]
     },
     "metadata": {},
     "output_type": "display_data"
    }
   ],
   "source": []
  },
  {
   "cell_type": "markdown",
   "id": "6570cc98",
   "metadata": {},
   "source": [
    "Next, generate many samples with size 10 and check whether the sample mean is an unbiased estimator of the actual mean."
   ]
  },
  {
   "cell_type": "code",
   "execution_count": 77,
   "id": "9828cd91",
   "metadata": {},
   "outputs": [
    {
     "data": {
      "text/plain": [
       "(10.003856697848821, 10)"
      ]
     },
     "execution_count": 77,
     "metadata": {},
     "output_type": "execute_result"
    },
    {
     "data": {
      "application/javascript": [
       "\n",
       "            setTimeout(function() {\n",
       "                var nbb_cell_id = 77;\n",
       "                var nbb_unformatted_code = \"# Solution\\n\\nmeans = [np.mean(make_exponential(n=10)) for i in range(100001)]\\nnp.mean(means), actual_mean\";\n",
       "                var nbb_formatted_code = \"# Solution\\n\\nmeans = [np.mean(make_exponential(n=10)) for i in range(100001)]\\nnp.mean(means), actual_mean\";\n",
       "                var nbb_cells = Jupyter.notebook.get_cells();\n",
       "                for (var i = 0; i < nbb_cells.length; ++i) {\n",
       "                    if (nbb_cells[i].input_prompt_number == nbb_cell_id) {\n",
       "                        if (nbb_cells[i].get_text() == nbb_unformatted_code) {\n",
       "                             nbb_cells[i].set_text(nbb_formatted_code);\n",
       "                        }\n",
       "                        break;\n",
       "                    }\n",
       "                }\n",
       "            }, 500);\n",
       "            "
      ],
      "text/plain": [
       "<IPython.core.display.Javascript object>"
      ]
     },
     "metadata": {},
     "output_type": "display_data"
    }
   ],
   "source": []
  },
  {
   "cell_type": "markdown",
   "id": "9e6802e3",
   "metadata": {},
   "source": [
    "Finally, check whether the sample median is an unbiased estimator of the actual median."
   ]
  },
  {
   "cell_type": "code",
   "execution_count": 78,
   "id": "83601a99",
   "metadata": {},
   "outputs": [
    {
     "data": {
      "text/plain": [
       "(7.471956436472225, 6.931471805599453)"
      ]
     },
     "execution_count": 78,
     "metadata": {},
     "output_type": "execute_result"
    },
    {
     "data": {
      "application/javascript": [
       "\n",
       "            setTimeout(function() {\n",
       "                var nbb_cell_id = 78;\n",
       "                var nbb_unformatted_code = \"# Solution\\n\\nmedians = [np.median(make_exponential(n=10)) for i in range(100001)]\\nnp.mean(medians), actual_median\";\n",
       "                var nbb_formatted_code = \"# Solution\\n\\nmedians = [np.median(make_exponential(n=10)) for i in range(100001)]\\nnp.mean(medians), actual_median\";\n",
       "                var nbb_cells = Jupyter.notebook.get_cells();\n",
       "                for (var i = 0; i < nbb_cells.length; ++i) {\n",
       "                    if (nbb_cells[i].input_prompt_number == nbb_cell_id) {\n",
       "                        if (nbb_cells[i].get_text() == nbb_unformatted_code) {\n",
       "                             nbb_cells[i].set_text(nbb_formatted_code);\n",
       "                        }\n",
       "                        break;\n",
       "                    }\n",
       "                }\n",
       "            }, 500);\n",
       "            "
      ],
      "text/plain": [
       "<IPython.core.display.Javascript object>"
      ]
     },
     "metadata": {},
     "output_type": "display_data"
    }
   ],
   "source": []
  },
  {
   "cell_type": "code",
   "execution_count": 79,
   "id": "b007876c",
   "metadata": {},
   "outputs": [
    {
     "data": {
      "application/javascript": [
       "\n",
       "            setTimeout(function() {\n",
       "                var nbb_cell_id = 79;\n",
       "                var nbb_unformatted_code = \"# Solution\\n\\n# The sample mean is a consistent, unbiased estimator of the actual mean.\\n\\n# The sample median is a consistent estimator of the actual median, but it is biased.\";\n",
       "                var nbb_formatted_code = \"# Solution\\n\\n# The sample mean is a consistent, unbiased estimator of the actual mean.\\n\\n# The sample median is a consistent estimator of the actual median, but it is biased.\";\n",
       "                var nbb_cells = Jupyter.notebook.get_cells();\n",
       "                for (var i = 0; i < nbb_cells.length; ++i) {\n",
       "                    if (nbb_cells[i].input_prompt_number == nbb_cell_id) {\n",
       "                        if (nbb_cells[i].get_text() == nbb_unformatted_code) {\n",
       "                             nbb_cells[i].set_text(nbb_formatted_code);\n",
       "                        }\n",
       "                        break;\n",
       "                    }\n",
       "                }\n",
       "            }, 500);\n",
       "            "
      ],
      "text/plain": [
       "<IPython.core.display.Javascript object>"
      ]
     },
     "metadata": {},
     "output_type": "display_data"
    }
   ],
   "source": []
  },
  {
   "cell_type": "markdown",
   "id": "7bdfad9f",
   "metadata": {},
   "source": [
    "### Exercise\n",
    "\n",
    "In Section xxx we tested a biased estimator of variance and showed that it is, in fact, biased.\n",
    "And we showed that the unbiased estimator is unbiased.\n",
    "Now let's try standard deviation.\n",
    "\n",
    "To estimate the standard deviation of a population, we can compute the square root of the biased or unbiased estimator of variance, like this:"
   ]
  },
  {
   "cell_type": "code",
   "execution_count": 80,
   "id": "20d8a441",
   "metadata": {},
   "outputs": [
    {
     "data": {
      "application/javascript": [
       "\n",
       "            setTimeout(function() {\n",
       "                var nbb_cell_id = 80;\n",
       "                var nbb_unformatted_code = \"def biased_std(sample):\\n    \\\"\\\"\\\"Square root of the biased estimator of variance.\\\"\\\"\\\"\\n    var = biased_var(sample)\\n    return np.sqrt(var)\";\n",
       "                var nbb_formatted_code = \"def biased_std(sample):\\n    \\\"\\\"\\\"Square root of the biased estimator of variance.\\\"\\\"\\\"\\n    var = biased_var(sample)\\n    return np.sqrt(var)\";\n",
       "                var nbb_cells = Jupyter.notebook.get_cells();\n",
       "                for (var i = 0; i < nbb_cells.length; ++i) {\n",
       "                    if (nbb_cells[i].input_prompt_number == nbb_cell_id) {\n",
       "                        if (nbb_cells[i].get_text() == nbb_unformatted_code) {\n",
       "                             nbb_cells[i].set_text(nbb_formatted_code);\n",
       "                        }\n",
       "                        break;\n",
       "                    }\n",
       "                }\n",
       "            }, 500);\n",
       "            "
      ],
      "text/plain": [
       "<IPython.core.display.Javascript object>"
      ]
     },
     "metadata": {},
     "output_type": "display_data"
    }
   ],
   "source": [
    "def biased_std(sample):\n",
    "    \"\"\"Square root of the biased estimator of variance.\"\"\"\n",
    "    var = biased_var(sample)\n",
    "    return np.sqrt(var)"
   ]
  },
  {
   "cell_type": "code",
   "execution_count": 81,
   "id": "84b78ba0",
   "metadata": {},
   "outputs": [
    {
     "data": {
      "application/javascript": [
       "\n",
       "            setTimeout(function() {\n",
       "                var nbb_cell_id = 81;\n",
       "                var nbb_unformatted_code = \"def unbiased_std(sample):\\n    \\\"\\\"\\\"Square root of the unbiased estimator of variance.\\\"\\\"\\\"\\n    var = unbiased_var(sample)\\n    return np.sqrt(var)\";\n",
       "                var nbb_formatted_code = \"def unbiased_std(sample):\\n    \\\"\\\"\\\"Square root of the unbiased estimator of variance.\\\"\\\"\\\"\\n    var = unbiased_var(sample)\\n    return np.sqrt(var)\";\n",
       "                var nbb_cells = Jupyter.notebook.get_cells();\n",
       "                for (var i = 0; i < nbb_cells.length; ++i) {\n",
       "                    if (nbb_cells[i].input_prompt_number == nbb_cell_id) {\n",
       "                        if (nbb_cells[i].get_text() == nbb_unformatted_code) {\n",
       "                             nbb_cells[i].set_text(nbb_formatted_code);\n",
       "                        }\n",
       "                        break;\n",
       "                    }\n",
       "                }\n",
       "            }, 500);\n",
       "            "
      ],
      "text/plain": [
       "<IPython.core.display.Javascript object>"
      ]
     },
     "metadata": {},
     "output_type": "display_data"
    }
   ],
   "source": [
    "def unbiased_std(sample):\n",
    "    \"\"\"Square root of the unbiased estimator of variance.\"\"\"\n",
    "    var = unbiased_var(sample)\n",
    "    return np.sqrt(var)"
   ]
  },
  {
   "cell_type": "markdown",
   "id": "067a2358",
   "metadata": {},
   "source": [
    "Use `make_sample` to compute many samples of size 10 from a normal distribution with mean 3.7 and standard deviation 0.46.\n",
    "Check whether either of these is an unbiased estimator of standard deviation."
   ]
  },
  {
   "cell_type": "code",
   "execution_count": 82,
   "id": "b2a9e6c1",
   "metadata": {
    "tags": [
     "remove-print"
    ]
   },
   "outputs": [
    {
     "data": {
      "text/plain": [
       "array([3.12391738, 3.42108139, 2.72577285, 3.9949709 , 3.969503  ,\n",
       "       4.05017156, 4.08291732, 4.14870438, 3.52032859, 3.66219622])"
      ]
     },
     "execution_count": 82,
     "metadata": {},
     "output_type": "execute_result"
    },
    {
     "data": {
      "application/javascript": [
       "\n",
       "            setTimeout(function() {\n",
       "                var nbb_cell_id = 82;\n",
       "                var nbb_unformatted_code = \"# Here's an example using `make_sample`\\n\\nmu, sigma = 3.7, 0.46\\nmake_sample(n=10)\";\n",
       "                var nbb_formatted_code = \"# Here's an example using `make_sample`\\n\\nmu, sigma = 3.7, 0.46\\nmake_sample(n=10)\";\n",
       "                var nbb_cells = Jupyter.notebook.get_cells();\n",
       "                for (var i = 0; i < nbb_cells.length; ++i) {\n",
       "                    if (nbb_cells[i].input_prompt_number == nbb_cell_id) {\n",
       "                        if (nbb_cells[i].get_text() == nbb_unformatted_code) {\n",
       "                             nbb_cells[i].set_text(nbb_formatted_code);\n",
       "                        }\n",
       "                        break;\n",
       "                    }\n",
       "                }\n",
       "            }, 500);\n",
       "            "
      ],
      "text/plain": [
       "<IPython.core.display.Javascript object>"
      ]
     },
     "metadata": {},
     "output_type": "display_data"
    }
   ],
   "source": [
    "# Here's an example using `make_sample`\n",
    "\n",
    "mu, sigma = 3.7, 0.46\n",
    "make_sample(n=10)"
   ]
  },
  {
   "cell_type": "code",
   "execution_count": 83,
   "id": "046bc9b3",
   "metadata": {},
   "outputs": [
    {
     "data": {
      "text/plain": [
       "(0.4228162176736808, 0.46)"
      ]
     },
     "execution_count": 83,
     "metadata": {},
     "output_type": "execute_result"
    },
    {
     "data": {
      "application/javascript": [
       "\n",
       "            setTimeout(function() {\n",
       "                var nbb_cell_id = 83;\n",
       "                var nbb_unformatted_code = \"# Solution\\n\\nbiased_stds = [biased_std(make_sample(n=10)) for i in range(10001)]\\nnp.mean(biased_stds), sigma\";\n",
       "                var nbb_formatted_code = \"# Solution\\n\\nbiased_stds = [biased_std(make_sample(n=10)) for i in range(10001)]\\nnp.mean(biased_stds), sigma\";\n",
       "                var nbb_cells = Jupyter.notebook.get_cells();\n",
       "                for (var i = 0; i < nbb_cells.length; ++i) {\n",
       "                    if (nbb_cells[i].input_prompt_number == nbb_cell_id) {\n",
       "                        if (nbb_cells[i].get_text() == nbb_unformatted_code) {\n",
       "                             nbb_cells[i].set_text(nbb_formatted_code);\n",
       "                        }\n",
       "                        break;\n",
       "                    }\n",
       "                }\n",
       "            }, 500);\n",
       "            "
      ],
      "text/plain": [
       "<IPython.core.display.Javascript object>"
      ]
     },
     "metadata": {},
     "output_type": "display_data"
    }
   ],
   "source": []
  },
  {
   "cell_type": "code",
   "execution_count": 84,
   "id": "94f66f8c",
   "metadata": {},
   "outputs": [
    {
     "data": {
      "text/plain": [
       "(0.4468869385317158, 0.46)"
      ]
     },
     "execution_count": 84,
     "metadata": {},
     "output_type": "execute_result"
    },
    {
     "data": {
      "application/javascript": [
       "\n",
       "            setTimeout(function() {\n",
       "                var nbb_cell_id = 84;\n",
       "                var nbb_unformatted_code = \"# Solution\\n\\nunbiased_stds = [unbiased_std(make_sample(n=10)) for i in range(10001)]\\nnp.mean(unbiased_stds), sigma\";\n",
       "                var nbb_formatted_code = \"# Solution\\n\\nunbiased_stds = [unbiased_std(make_sample(n=10)) for i in range(10001)]\\nnp.mean(unbiased_stds), sigma\";\n",
       "                var nbb_cells = Jupyter.notebook.get_cells();\n",
       "                for (var i = 0; i < nbb_cells.length; ++i) {\n",
       "                    if (nbb_cells[i].input_prompt_number == nbb_cell_id) {\n",
       "                        if (nbb_cells[i].get_text() == nbb_unformatted_code) {\n",
       "                             nbb_cells[i].set_text(nbb_formatted_code);\n",
       "                        }\n",
       "                        break;\n",
       "                    }\n",
       "                }\n",
       "            }, 500);\n",
       "            "
      ],
      "text/plain": [
       "<IPython.core.display.Javascript object>"
      ]
     },
     "metadata": {},
     "output_type": "display_data"
    }
   ],
   "source": []
  },
  {
   "cell_type": "code",
   "execution_count": 85,
   "id": "36eec7b0",
   "metadata": {},
   "outputs": [
    {
     "data": {
      "application/javascript": [
       "\n",
       "            setTimeout(function() {\n",
       "                var nbb_cell_id = 85;\n",
       "                var nbb_unformatted_code = \"# Solution\\n\\n# Neither estimator is unbiased. In fact, there is no mathematically simple\\n# estimator that is always an unbiased estimator of standard deviation.\";\n",
       "                var nbb_formatted_code = \"# Solution\\n\\n# Neither estimator is unbiased. In fact, there is no mathematically simple\\n# estimator that is always an unbiased estimator of standard deviation.\";\n",
       "                var nbb_cells = Jupyter.notebook.get_cells();\n",
       "                for (var i = 0; i < nbb_cells.length; ++i) {\n",
       "                    if (nbb_cells[i].input_prompt_number == nbb_cell_id) {\n",
       "                        if (nbb_cells[i].get_text() == nbb_unformatted_code) {\n",
       "                             nbb_cells[i].set_text(nbb_formatted_code);\n",
       "                        }\n",
       "                        break;\n",
       "                    }\n",
       "                }\n",
       "            }, 500);\n",
       "            "
      ],
      "text/plain": [
       "<IPython.core.display.Javascript object>"
      ]
     },
     "metadata": {},
     "output_type": "display_data"
    }
   ],
   "source": []
  },
  {
   "cell_type": "markdown",
   "id": "e22c8726",
   "metadata": {},
   "source": [
    "## Exercise\n",
    "\n",
    "The exercise is based on the German tank problem, which a simplified version of an actual analysis performed by the Economic Warfare Division of the American Embassy in London during World War II.\n",
    "\n",
    "Suppose you are an Allied spy and your job is to estimate how many tanks the Germans have built.\n",
    "As data, you have serial numbers recovered from `k` captured tanks.\n",
    "\n",
    "If we assume that the Germans have `N` tanks numbered from 1 to `N`, and that all tanks in this range were equally likely to be captured, we can estimate `N` like this:"
   ]
  },
  {
   "cell_type": "code",
   "execution_count": 86,
   "id": "ea4bba76",
   "metadata": {},
   "outputs": [
    {
     "data": {
      "application/javascript": [
       "\n",
       "            setTimeout(function() {\n",
       "                var nbb_cell_id = 86;\n",
       "                var nbb_unformatted_code = \"def estimate_tanks(sample):\\n    m = np.max(sample)\\n    k = len(sample)\\n    return m + (m - k) / k\";\n",
       "                var nbb_formatted_code = \"def estimate_tanks(sample):\\n    m = np.max(sample)\\n    k = len(sample)\\n    return m + (m - k) / k\";\n",
       "                var nbb_cells = Jupyter.notebook.get_cells();\n",
       "                for (var i = 0; i < nbb_cells.length; ++i) {\n",
       "                    if (nbb_cells[i].input_prompt_number == nbb_cell_id) {\n",
       "                        if (nbb_cells[i].get_text() == nbb_unformatted_code) {\n",
       "                             nbb_cells[i].set_text(nbb_formatted_code);\n",
       "                        }\n",
       "                        break;\n",
       "                    }\n",
       "                }\n",
       "            }, 500);\n",
       "            "
      ],
      "text/plain": [
       "<IPython.core.display.Javascript object>"
      ]
     },
     "metadata": {},
     "output_type": "display_data"
    }
   ],
   "source": [
    "def estimate_tanks(sample):\n",
    "    m = np.max(sample)\n",
    "    k = len(sample)\n",
    "    return m + (m - k) / k"
   ]
  },
  {
   "cell_type": "markdown",
   "id": "788d2692",
   "metadata": {},
   "source": [
    "As an example, suppose `N` is 122."
   ]
  },
  {
   "cell_type": "code",
   "execution_count": 87,
   "id": "07c52cf8",
   "metadata": {},
   "outputs": [
    {
     "data": {
      "application/javascript": [
       "\n",
       "            setTimeout(function() {\n",
       "                var nbb_cell_id = 87;\n",
       "                var nbb_unformatted_code = \"N = 122\\ntanks = np.arange(1, N + 1)\";\n",
       "                var nbb_formatted_code = \"N = 122\\ntanks = np.arange(1, N + 1)\";\n",
       "                var nbb_cells = Jupyter.notebook.get_cells();\n",
       "                for (var i = 0; i < nbb_cells.length; ++i) {\n",
       "                    if (nbb_cells[i].input_prompt_number == nbb_cell_id) {\n",
       "                        if (nbb_cells[i].get_text() == nbb_unformatted_code) {\n",
       "                             nbb_cells[i].set_text(nbb_formatted_code);\n",
       "                        }\n",
       "                        break;\n",
       "                    }\n",
       "                }\n",
       "            }, 500);\n",
       "            "
      ],
      "text/plain": [
       "<IPython.core.display.Javascript object>"
      ]
     },
     "metadata": {},
     "output_type": "display_data"
    }
   ],
   "source": [
    "N = 122\n",
    "tanks = np.arange(1, N + 1)"
   ]
  },
  {
   "cell_type": "markdown",
   "id": "321fe853",
   "metadata": {},
   "source": [
    "We can use the following function to generate a random sample of `k` tanks."
   ]
  },
  {
   "cell_type": "code",
   "execution_count": 88,
   "id": "1d1a8817",
   "metadata": {},
   "outputs": [
    {
     "data": {
      "application/javascript": [
       "\n",
       "            setTimeout(function() {\n",
       "                var nbb_cell_id = 88;\n",
       "                var nbb_unformatted_code = \"def sample_tanks(k):\\n    return np.random.choice(tanks, replace=False, size=k)\";\n",
       "                var nbb_formatted_code = \"def sample_tanks(k):\\n    return np.random.choice(tanks, replace=False, size=k)\";\n",
       "                var nbb_cells = Jupyter.notebook.get_cells();\n",
       "                for (var i = 0; i < nbb_cells.length; ++i) {\n",
       "                    if (nbb_cells[i].input_prompt_number == nbb_cell_id) {\n",
       "                        if (nbb_cells[i].get_text() == nbb_unformatted_code) {\n",
       "                             nbb_cells[i].set_text(nbb_formatted_code);\n",
       "                        }\n",
       "                        break;\n",
       "                    }\n",
       "                }\n",
       "            }, 500);\n",
       "            "
      ],
      "text/plain": [
       "<IPython.core.display.Javascript object>"
      ]
     },
     "metadata": {},
     "output_type": "display_data"
    }
   ],
   "source": [
    "def sample_tanks(k):\n",
    "    return np.random.choice(tanks, replace=False, size=k)"
   ]
  },
  {
   "cell_type": "markdown",
   "id": "8aa6da08",
   "metadata": {},
   "source": [
    "Here's an example."
   ]
  },
  {
   "cell_type": "code",
   "execution_count": 89,
   "id": "3a816c6e",
   "metadata": {
    "tags": [
     "remove-print"
    ]
   },
   "outputs": [
    {
     "data": {
      "application/javascript": [
       "\n",
       "            setTimeout(function() {\n",
       "                var nbb_cell_id = 89;\n",
       "                var nbb_unformatted_code = \"np.random.seed(17)\";\n",
       "                var nbb_formatted_code = \"np.random.seed(17)\";\n",
       "                var nbb_cells = Jupyter.notebook.get_cells();\n",
       "                for (var i = 0; i < nbb_cells.length; ++i) {\n",
       "                    if (nbb_cells[i].input_prompt_number == nbb_cell_id) {\n",
       "                        if (nbb_cells[i].get_text() == nbb_unformatted_code) {\n",
       "                             nbb_cells[i].set_text(nbb_formatted_code);\n",
       "                        }\n",
       "                        break;\n",
       "                    }\n",
       "                }\n",
       "            }, 500);\n",
       "            "
      ],
      "text/plain": [
       "<IPython.core.display.Javascript object>"
      ]
     },
     "metadata": {},
     "output_type": "display_data"
    }
   ],
   "source": [
    "np.random.seed(17)"
   ]
  },
  {
   "cell_type": "code",
   "execution_count": 90,
   "id": "079cfc10",
   "metadata": {},
   "outputs": [
    {
     "data": {
      "text/plain": [
       "array([74, 71, 95, 10, 17])"
      ]
     },
     "execution_count": 90,
     "metadata": {},
     "output_type": "execute_result"
    },
    {
     "data": {
      "application/javascript": [
       "\n",
       "            setTimeout(function() {\n",
       "                var nbb_cell_id = 90;\n",
       "                var nbb_unformatted_code = \"sample = sample_tanks(5)\\nsample\";\n",
       "                var nbb_formatted_code = \"sample = sample_tanks(5)\\nsample\";\n",
       "                var nbb_cells = Jupyter.notebook.get_cells();\n",
       "                for (var i = 0; i < nbb_cells.length; ++i) {\n",
       "                    if (nbb_cells[i].input_prompt_number == nbb_cell_id) {\n",
       "                        if (nbb_cells[i].get_text() == nbb_unformatted_code) {\n",
       "                             nbb_cells[i].set_text(nbb_formatted_code);\n",
       "                        }\n",
       "                        break;\n",
       "                    }\n",
       "                }\n",
       "            }, 500);\n",
       "            "
      ],
      "text/plain": [
       "<IPython.core.display.Javascript object>"
      ]
     },
     "metadata": {},
     "output_type": "display_data"
    }
   ],
   "source": [
    "sample = sample_tanks(5)\n",
    "sample"
   ]
  },
  {
   "cell_type": "markdown",
   "id": "8ca6107e",
   "metadata": {},
   "source": [
    "And here is the estimate based on this sample."
   ]
  },
  {
   "cell_type": "code",
   "execution_count": 91,
   "id": "b01c0bc3",
   "metadata": {},
   "outputs": [
    {
     "data": {
      "text/plain": [
       "113.0"
      ]
     },
     "execution_count": 91,
     "metadata": {},
     "output_type": "execute_result"
    },
    {
     "data": {
      "application/javascript": [
       "\n",
       "            setTimeout(function() {\n",
       "                var nbb_cell_id = 91;\n",
       "                var nbb_unformatted_code = \"estimate_tanks(sample)\";\n",
       "                var nbb_formatted_code = \"estimate_tanks(sample)\";\n",
       "                var nbb_cells = Jupyter.notebook.get_cells();\n",
       "                for (var i = 0; i < nbb_cells.length; ++i) {\n",
       "                    if (nbb_cells[i].input_prompt_number == nbb_cell_id) {\n",
       "                        if (nbb_cells[i].get_text() == nbb_unformatted_code) {\n",
       "                             nbb_cells[i].set_text(nbb_formatted_code);\n",
       "                        }\n",
       "                        break;\n",
       "                    }\n",
       "                }\n",
       "            }, 500);\n",
       "            "
      ],
      "text/plain": [
       "<IPython.core.display.Javascript object>"
      ]
     },
     "metadata": {},
     "output_type": "display_data"
    }
   ],
   "source": [
    "estimate_tanks(sample)"
   ]
  },
  {
   "cell_type": "markdown",
   "id": "c14f0c9b",
   "metadata": {},
   "source": [
    "Check whether this estimator is biased."
   ]
  },
  {
   "cell_type": "code",
   "execution_count": 92,
   "id": "58708ab6",
   "metadata": {},
   "outputs": [
    {
     "data": {
      "text/plain": [
       "121.72996700329966"
      ]
     },
     "execution_count": 92,
     "metadata": {},
     "output_type": "execute_result"
    },
    {
     "data": {
      "application/javascript": [
       "\n",
       "            setTimeout(function() {\n",
       "                var nbb_cell_id = 92;\n",
       "                var nbb_unformatted_code = \"# Solution\\n\\n# It looks like it might be a little low, but it's pretty good.\\n\\nt = [estimate_tanks(sample_tanks(5)) for i in range(10001)]\\nnp.mean(t)\";\n",
       "                var nbb_formatted_code = \"# Solution\\n\\n# It looks like it might be a little low, but it's pretty good.\\n\\nt = [estimate_tanks(sample_tanks(5)) for i in range(10001)]\\nnp.mean(t)\";\n",
       "                var nbb_cells = Jupyter.notebook.get_cells();\n",
       "                for (var i = 0; i < nbb_cells.length; ++i) {\n",
       "                    if (nbb_cells[i].input_prompt_number == nbb_cell_id) {\n",
       "                        if (nbb_cells[i].get_text() == nbb_unformatted_code) {\n",
       "                             nbb_cells[i].set_text(nbb_formatted_code);\n",
       "                        }\n",
       "                        break;\n",
       "                    }\n",
       "                }\n",
       "            }, 500);\n",
       "            "
      ],
      "text/plain": [
       "<IPython.core.display.Javascript object>"
      ]
     },
     "metadata": {},
     "output_type": "display_data"
    }
   ],
   "source": []
  },
  {
   "cell_type": "markdown",
   "id": "d5db0077",
   "metadata": {
    "tags": [
     "remove-print"
    ]
   },
   "source": [
    "For more on this problem, see [this Wikipedia page][https://en.wikipedia.org/wiki/German_tank_problem] and Ruggles and Brodie, \"An Empirical Approach to Economic Intelligence in World War II\", Journal of the American Statistical Association, March 1947, available [here](https://web.archive.org/web/20170123132042/https://www.cia.gov/library/readingroom/docs/CIA-RDP79R01001A001300010013-3.pdf).\n",
    "\n",
    "For an explanation of how this estimator works, you might like [this video](https://www.youtube.com/watch?v=WLCwMRJBhuI)."
   ]
  },
  {
   "cell_type": "markdown",
   "id": "d6a88e85",
   "metadata": {},
   "source": [
    "### Exercise\n",
    "\n",
    "In several sports -- especially basketball -- many players and fans believe in a phenomenon called the \"hot hand\", which implies that a player who has hit several consecutive shots is more likely to hit the next, and a player who has missed several times is more likely to miss.\n",
    "\n",
    "A famous paper proposed a way to test whether the hot hand is real or a statistical illusion, by looking at sequences of hits and misses from professional basketball games.\n",
    "For each player, the authors computed the overall probability of making a shot, and the conditional probability of making a shot after three consecutive hits.\n",
    "For eight out of nine players, they found that the probability of making a shot was *lower* after three hits.\n",
    "Based on this and other results, they concluded that there is \"no evidence for a positive correlation between the outcomes of successive shots\".\n",
    "And for several decades, many people believed that the hot hand had been debunked.\n",
    "\n",
    "However, this conclusion is based on a statistical error, at least in part.\n",
    "A 2018 paper showed that the statistic used in the first paper -- the probability of making a shot after three hits -- is biased.\n",
    "Even if the probability of making every shot is exactly 0.5, and there is no correlation between the outcomes, the probability of making a shot after three hits is *less than 0.5*.\n",
    "\n",
    "It is not obvious why that's true, which is why the error went undetected for so long, and I won't try to explain it here.\n",
    "But we can use the methods from this chapter to check it.\n",
    "We'll use the following function to generate a sequence of 0s and 1s with probability 0.5 and no correlation."
   ]
  },
  {
   "cell_type": "code",
   "execution_count": 93,
   "id": "01f60a68",
   "metadata": {},
   "outputs": [
    {
     "data": {
      "application/javascript": [
       "\n",
       "            setTimeout(function() {\n",
       "                var nbb_cell_id = 93;\n",
       "                var nbb_unformatted_code = \"def make_hits_and_misses(n):\\n    \\\"\\\"\\\"Generate a sequence of 0s and 1s.\\\"\\\"\\\"\\n    return np.random.choice([0, 1], size=n)\";\n",
       "                var nbb_formatted_code = \"def make_hits_and_misses(n):\\n    \\\"\\\"\\\"Generate a sequence of 0s and 1s.\\\"\\\"\\\"\\n    return np.random.choice([0, 1], size=n)\";\n",
       "                var nbb_cells = Jupyter.notebook.get_cells();\n",
       "                for (var i = 0; i < nbb_cells.length; ++i) {\n",
       "                    if (nbb_cells[i].input_prompt_number == nbb_cell_id) {\n",
       "                        if (nbb_cells[i].get_text() == nbb_unformatted_code) {\n",
       "                             nbb_cells[i].set_text(nbb_formatted_code);\n",
       "                        }\n",
       "                        break;\n",
       "                    }\n",
       "                }\n",
       "            }, 500);\n",
       "            "
      ],
      "text/plain": [
       "<IPython.core.display.Javascript object>"
      ]
     },
     "metadata": {},
     "output_type": "display_data"
    }
   ],
   "source": [
    "def make_hits_and_misses(n):\n",
    "    \"\"\"Generate a sequence of 0s and 1s.\"\"\"\n",
    "    return np.random.choice([0, 1], size=n)"
   ]
  },
  {
   "cell_type": "markdown",
   "id": "f58fe14a",
   "metadata": {},
   "source": [
    "In the notebook for this chapter, I provide a function that finds all subsequences of three hits (1s) and returns the element of the sequence that follows."
   ]
  },
  {
   "cell_type": "code",
   "execution_count": 94,
   "id": "64129e4b",
   "metadata": {
    "tags": [
     "remove-print"
    ]
   },
   "outputs": [
    {
     "data": {
      "application/javascript": [
       "\n",
       "            setTimeout(function() {\n",
       "                var nbb_cell_id = 94;\n",
       "                var nbb_unformatted_code = \"import numpy as np\\n\\n\\ndef get_successors(seq, target_sum=3):\\n    \\\"\\\"\\\"Get the successors of each subsequence that sums to a target value.\\n\\n    Parameters:\\n    seq (array-like): Sequence of 1s and 0s.\\n    target_sum (int): The target sum of the subsequence. Default is 3.\\n\\n    Returns:\\n    np.ndarray: Array of successors to subsequences that sum to `target_sum`.\\n    \\\"\\\"\\\"\\n    # Check if the input sequence is too short\\n    if len(seq) < 3:\\n        return np.array([])\\n\\n    # Compute the sum of each subsequence of length 3\\n    kernel = [1, 1, 1]\\n    corr = np.correlate(seq, kernel, mode=\\\"valid\\\")\\n\\n    # Find the indices where the subsequence sums to the target value\\n    indices = np.nonzero(corr == target_sum)[0]\\n\\n    # Remove cases where the subsequence is at the end of the sequence\\n    indices = indices[indices < len(seq) - 3]\\n\\n    # Find the successors of each valid subsequence\\n    successors = seq[indices + 3] if len(indices) > 0 else np.array([])\\n\\n    return successors\";\n",
       "                var nbb_formatted_code = \"import numpy as np\\n\\n\\ndef get_successors(seq, target_sum=3):\\n    \\\"\\\"\\\"Get the successors of each subsequence that sums to a target value.\\n\\n    Parameters:\\n    seq (array-like): Sequence of 1s and 0s.\\n    target_sum (int): The target sum of the subsequence. Default is 3.\\n\\n    Returns:\\n    np.ndarray: Array of successors to subsequences that sum to `target_sum`.\\n    \\\"\\\"\\\"\\n    # Check if the input sequence is too short\\n    if len(seq) < 3:\\n        return np.array([])\\n\\n    # Compute the sum of each subsequence of length 3\\n    kernel = [1, 1, 1]\\n    corr = np.correlate(seq, kernel, mode=\\\"valid\\\")\\n\\n    # Find the indices where the subsequence sums to the target value\\n    indices = np.nonzero(corr == target_sum)[0]\\n\\n    # Remove cases where the subsequence is at the end of the sequence\\n    indices = indices[indices < len(seq) - 3]\\n\\n    # Find the successors of each valid subsequence\\n    successors = seq[indices + 3] if len(indices) > 0 else np.array([])\\n\\n    return successors\";\n",
       "                var nbb_cells = Jupyter.notebook.get_cells();\n",
       "                for (var i = 0; i < nbb_cells.length; ++i) {\n",
       "                    if (nbb_cells[i].input_prompt_number == nbb_cell_id) {\n",
       "                        if (nbb_cells[i].get_text() == nbb_unformatted_code) {\n",
       "                             nbb_cells[i].set_text(nbb_formatted_code);\n",
       "                        }\n",
       "                        break;\n",
       "                    }\n",
       "                }\n",
       "            }, 500);\n",
       "            "
      ],
      "text/plain": [
       "<IPython.core.display.Javascript object>"
      ]
     },
     "metadata": {},
     "output_type": "display_data"
    }
   ],
   "source": [
    "import numpy as np\n",
    "\n",
    "\n",
    "def get_successors(seq, target_sum=3):\n",
    "    \"\"\"Get the successors of each subsequence that sums to a target value.\n",
    "\n",
    "    Parameters:\n",
    "    seq (array-like): Sequence of 1s and 0s.\n",
    "    target_sum (int): The target sum of the subsequence. Default is 3.\n",
    "\n",
    "    Returns:\n",
    "    np.ndarray: Array of successors to subsequences that sum to `target_sum`.\n",
    "    \"\"\"\n",
    "    # Check if the input sequence is too short\n",
    "    if len(seq) < 3:\n",
    "        return np.array([])\n",
    "\n",
    "    # Compute the sum of each subsequence of length 3\n",
    "    kernel = [1, 1, 1]\n",
    "    corr = np.correlate(seq, kernel, mode=\"valid\")\n",
    "\n",
    "    # Find the indices where the subsequence sums to the target value\n",
    "    indices = np.nonzero(corr == target_sum)[0]\n",
    "\n",
    "    # Remove cases where the subsequence is at the end of the sequence\n",
    "    indices = indices[indices < len(seq) - 3]\n",
    "\n",
    "    # Find the successors of each valid subsequence\n",
    "    successors = seq[indices + 3] if len(indices) > 0 else np.array([])\n",
    "\n",
    "    return successors"
   ]
  },
  {
   "cell_type": "markdown",
   "id": "aa111baa",
   "metadata": {},
   "source": [
    "Generate a large number of sequences with length 100 and for each sequence, find each shot that follows three hits.\n",
    "Compute the percentage of these shots that are hits.\n",
    "Hint: if the sequence does not contain three consecutive hits, the function returns an empty sequence, so your code will have to handle that.\n",
    "\n",
    "If you run this simulation many times, what is the average percentage of hits?\n",
    "How does this result vary as you increase or decrease the length of the sequence."
   ]
  },
  {
   "cell_type": "code",
   "execution_count": 95,
   "id": "33d52f27",
   "metadata": {},
   "outputs": [
    {
     "data": {
      "application/javascript": [
       "\n",
       "            setTimeout(function() {\n",
       "                var nbb_cell_id = 95;\n",
       "                var nbb_unformatted_code = \"# Solution\\n\\n\\ndef simulate(seq):\\n    t = get_successors(seq, 3)\\n    return np.mean(t) if len(t) else np.nan\";\n",
       "                var nbb_formatted_code = \"# Solution\\n\\n\\ndef simulate(seq):\\n    t = get_successors(seq, 3)\\n    return np.mean(t) if len(t) else np.nan\";\n",
       "                var nbb_cells = Jupyter.notebook.get_cells();\n",
       "                for (var i = 0; i < nbb_cells.length; ++i) {\n",
       "                    if (nbb_cells[i].input_prompt_number == nbb_cell_id) {\n",
       "                        if (nbb_cells[i].get_text() == nbb_unformatted_code) {\n",
       "                             nbb_cells[i].set_text(nbb_formatted_code);\n",
       "                        }\n",
       "                        break;\n",
       "                    }\n",
       "                }\n",
       "            }, 500);\n",
       "            "
      ],
      "text/plain": [
       "<IPython.core.display.Javascript object>"
      ]
     },
     "metadata": {},
     "output_type": "display_data"
    }
   ],
   "source": []
  },
  {
   "cell_type": "code",
   "execution_count": 96,
   "id": "c7d57dbe",
   "metadata": {},
   "outputs": [
    {
     "data": {
      "text/plain": [
       "0.4167892053344786"
      ]
     },
     "execution_count": 96,
     "metadata": {},
     "output_type": "execute_result"
    },
    {
     "data": {
      "application/javascript": [
       "\n",
       "            setTimeout(function() {\n",
       "                var nbb_cell_id = 96;\n",
       "                var nbb_unformatted_code = \"# Solution\\n\\nt = [simulate(make_hits_and_misses(50)) for i in range(10001)]\\nnp.nanmean(t)\";\n",
       "                var nbb_formatted_code = \"# Solution\\n\\nt = [simulate(make_hits_and_misses(50)) for i in range(10001)]\\nnp.nanmean(t)\";\n",
       "                var nbb_cells = Jupyter.notebook.get_cells();\n",
       "                for (var i = 0; i < nbb_cells.length; ++i) {\n",
       "                    if (nbb_cells[i].input_prompt_number == nbb_cell_id) {\n",
       "                        if (nbb_cells[i].get_text() == nbb_unformatted_code) {\n",
       "                             nbb_cells[i].set_text(nbb_formatted_code);\n",
       "                        }\n",
       "                        break;\n",
       "                    }\n",
       "                }\n",
       "            }, 500);\n",
       "            "
      ],
      "text/plain": [
       "<IPython.core.display.Javascript object>"
      ]
     },
     "metadata": {},
     "output_type": "display_data"
    }
   ],
   "source": []
  },
  {
   "cell_type": "code",
   "execution_count": 97,
   "id": "cdddacde",
   "metadata": {},
   "outputs": [
    {
     "data": {
      "text/plain": [
       "0.45980702146424035"
      ]
     },
     "execution_count": 97,
     "metadata": {},
     "output_type": "execute_result"
    },
    {
     "data": {
      "application/javascript": [
       "\n",
       "            setTimeout(function() {\n",
       "                var nbb_cell_id = 97;\n",
       "                var nbb_unformatted_code = \"# Solution\\n\\nt = [simulate(make_hits_and_misses(100)) for i in range(10001)]\\nnp.nanmean(t)\";\n",
       "                var nbb_formatted_code = \"# Solution\\n\\nt = [simulate(make_hits_and_misses(100)) for i in range(10001)]\\nnp.nanmean(t)\";\n",
       "                var nbb_cells = Jupyter.notebook.get_cells();\n",
       "                for (var i = 0; i < nbb_cells.length; ++i) {\n",
       "                    if (nbb_cells[i].input_prompt_number == nbb_cell_id) {\n",
       "                        if (nbb_cells[i].get_text() == nbb_unformatted_code) {\n",
       "                             nbb_cells[i].set_text(nbb_formatted_code);\n",
       "                        }\n",
       "                        break;\n",
       "                    }\n",
       "                }\n",
       "            }, 500);\n",
       "            "
      ],
      "text/plain": [
       "<IPython.core.display.Javascript object>"
      ]
     },
     "metadata": {},
     "output_type": "display_data"
    }
   ],
   "source": []
  },
  {
   "cell_type": "code",
   "execution_count": 98,
   "id": "d1015188",
   "metadata": {},
   "outputs": [
    {
     "data": {
      "text/plain": [
       "0.47912338604894544"
      ]
     },
     "execution_count": 98,
     "metadata": {},
     "output_type": "execute_result"
    },
    {
     "data": {
      "application/javascript": [
       "\n",
       "            setTimeout(function() {\n",
       "                var nbb_cell_id = 98;\n",
       "                var nbb_unformatted_code = \"# Solution\\n\\nt = [simulate(make_hits_and_misses(200)) for i in range(10001)]\\nnp.nanmean(t)\";\n",
       "                var nbb_formatted_code = \"# Solution\\n\\nt = [simulate(make_hits_and_misses(200)) for i in range(10001)]\\nnp.nanmean(t)\";\n",
       "                var nbb_cells = Jupyter.notebook.get_cells();\n",
       "                for (var i = 0; i < nbb_cells.length; ++i) {\n",
       "                    if (nbb_cells[i].input_prompt_number == nbb_cell_id) {\n",
       "                        if (nbb_cells[i].get_text() == nbb_unformatted_code) {\n",
       "                             nbb_cells[i].set_text(nbb_formatted_code);\n",
       "                        }\n",
       "                        break;\n",
       "                    }\n",
       "                }\n",
       "            }, 500);\n",
       "            "
      ],
      "text/plain": [
       "<IPython.core.display.Javascript object>"
      ]
     },
     "metadata": {},
     "output_type": "display_data"
    }
   ],
   "source": []
  },
  {
   "cell_type": "code",
   "execution_count": 99,
   "id": "d4ce3666",
   "metadata": {},
   "outputs": [
    {
     "data": {
      "application/javascript": [
       "\n",
       "            setTimeout(function() {\n",
       "                var nbb_cell_id = 99;\n",
       "                var nbb_unformatted_code = \"# Solution\\n\\n# When n is 100, the conditional probability is about 0.46, substantially\\n# lower than 0.5\\n\\n# When n is smaller, the conditional probability is even lower.\\n\\n# As n increases, it eventually converges to 0.5.\\n\\n# So this statistic is consistent, but it is biased.\";\n",
       "                var nbb_formatted_code = \"# Solution\\n\\n# When n is 100, the conditional probability is about 0.46, substantially\\n# lower than 0.5\\n\\n# When n is smaller, the conditional probability is even lower.\\n\\n# As n increases, it eventually converges to 0.5.\\n\\n# So this statistic is consistent, but it is biased.\";\n",
       "                var nbb_cells = Jupyter.notebook.get_cells();\n",
       "                for (var i = 0; i < nbb_cells.length; ++i) {\n",
       "                    if (nbb_cells[i].input_prompt_number == nbb_cell_id) {\n",
       "                        if (nbb_cells[i].get_text() == nbb_unformatted_code) {\n",
       "                             nbb_cells[i].set_text(nbb_formatted_code);\n",
       "                        }\n",
       "                        break;\n",
       "                    }\n",
       "                }\n",
       "            }, 500);\n",
       "            "
      ],
      "text/plain": [
       "<IPython.core.display.Javascript object>"
      ]
     },
     "metadata": {},
     "output_type": "display_data"
    }
   ],
   "source": []
  },
  {
   "cell_type": "markdown",
   "id": "3722a5fe",
   "metadata": {},
   "source": [
    "The famous paper is Gilovich, T., Vallone, R., & Tversky, A. (1985). The hot hand in basketball: On the misperception of random sequences. *Cognitive psychology*, 17(3), 295-314.\n",
    "\n",
    "The paper showing the statistical error is Miller, J. B., & Sanjurjo, A. (2018). Surprised by the hot hand fallacy? A truth in the law of small numbers. *Econometrica*, 86(6), 2019-2047."
   ]
  },
  {
   "cell_type": "markdown",
   "id": "41f996df",
   "metadata": {
    "tags": [
     "remove-print"
    ]
   },
   "source": [
    "The first paper is [available here](https://www.joelvelasco.net/teaching/122/Gilo.Vallone.Tversky.pdf).\n",
    "The second is [available here](https://marketing.wharton.upenn.edu/wp-content/uploads/2018/11/Paper-Joshua-Miller.pdf).\n",
    "For an overview of the topic and an explanation of the error, [you might like this video](https://www.youtube.com/watch?v=CR5vT44ZMK8)."
   ]
  },
  {
   "cell_type": "code",
   "execution_count": null,
   "id": "e1d90021",
   "metadata": {},
   "outputs": [],
   "source": []
  },
  {
   "cell_type": "markdown",
   "id": "e27da3a4",
   "metadata": {
    "tags": []
   },
   "source": [
    "[Think Stats: Exploratory Data Analysis in Python, 3rd Edition](https://allendowney.github.io/ThinkStats/index.html)\n",
    "\n",
    "Copyright 2024 [Allen B. Downey](https://allendowney.com)\n",
    "\n",
    "Code license: [MIT License](https://mit-license.org/)\n",
    "\n",
    "Text license: [Creative Commons Attribution-NonCommercial-ShareAlike 4.0 International](https://creativecommons.org/licenses/by-nc-sa/4.0/)"
   ]
  }
 ],
 "metadata": {
  "celltoolbar": "Tags",
  "kernelspec": {
   "display_name": "Python 3 (ipykernel)",
   "language": "python",
   "name": "python3"
  },
  "language_info": {
   "codemirror_mode": {
    "name": "ipython",
    "version": 3
   },
   "file_extension": ".py",
   "mimetype": "text/x-python",
   "name": "python",
   "nbconvert_exporter": "python",
   "pygments_lexer": "ipython3",
   "version": "3.10.14"
  }
 },
 "nbformat": 4,
 "nbformat_minor": 5
}
