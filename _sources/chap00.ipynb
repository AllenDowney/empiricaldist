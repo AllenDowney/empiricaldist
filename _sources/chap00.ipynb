{
 "cells": [
  {
   "cell_type": "markdown",
   "id": "f363d074",
   "metadata": {},
   "source": [
    "# Preface"
   ]
  },
  {
   "cell_type": "markdown",
   "id": "2cf1961c",
   "metadata": {},
   "source": [
    "From the earliest history of statistics, there have been two ideas about what statistics is. In one view, it is a branch of mathematics with the goal of establishing a theoretical foundation for probability and statistical inference.\n",
    "In another view, it is a set of tools and practices for working with data, answering questions, and making better decisions.\n",
    "Many introductory classes in statistics are based on the first view.\n",
    "This book is based on the second."
   ]
  },
  {
   "cell_type": "markdown",
   "id": "83fa4ca4",
   "metadata": {},
   "source": [
    "*Think Stats* is an introduction to practical methods for exploring and visualizing data, discovering relationships and trends, and communicating results. \n",
    "The organization of the book follows the process I use when I start working with a dataset:\n",
    "\n",
    "- Importing and cleaning: Whatever format the data is in, it usually takes some time and effort to read the data, clean and transform it, and check that everything made it through the translation process intact.\n",
    "\n",
    "- Single variable explorations: I usually start by examining one variable at a time, finding out what the variables mean, looking at distributions of the values, and choosing appropriate summary statistics.\n",
    "\n",
    "- Pair-wise explorations: To identify possible relationships between variables, I look at tables and scatter plots, and compute correlations and linear fits.\n",
    "\n",
    "- Multivariate analysis: If there are apparent relationships between variables, I use multiple regression to add control variables and investigate more complex relationships.\n",
    "\n",
    "- Estimation and hypothesis testing: When reporting statistical results, it is important to answer three questions: How big is the effect? How much variability should we expect if we run the same measurement again? Is it possible that the apparent effect is due to chance?\n",
    "\n",
    "- Visualization: During exploration, visualization is an important tool for finding possible relationships and effects. Then if an apparent effect holds up to scrutiny, visualization is an effective way to communicate results."
   ]
  },
  {
   "cell_type": "markdown",
   "id": "e73a22e0",
   "metadata": {},
   "source": [
    "This book takes a computational approach, which has several advantages over mathematical approaches:\n",
    "\n",
    "-  I present most ideas using Python code, rather than mathematical notation. In general, Python code is more readable -- also, because it is executable, run it and modify it to develop deeper understanding.\n",
    "\n",
    "-  Each chapter includes exercises readers can do to develop and solidify their learning. When you write programs, you express your understanding in code -- while you are debugging the program, you are also checking your understanding.\n",
    "\n",
    "-  Some exercises involve experiments to test statistical behavior. For example, you can explore the Central Limit Theorem (CLT) by generating random samples and computing their sums. The resulting visualizations demonstrate why the CLT works and when it doesn't.\n",
    "\n",
    "-  Some ideas that are hard to grasp mathematically are easy to understand by simulation. For example, we approximate p-values by running random simulations, which reinforces the meaning of hypothesis testing.\n",
    "\n",
    "-  Because the book is based on a general-purpose programming language (Python), readers can import data from almost any source. They are not limited to datasets that have been cleaned and formatted for a particular statistics tool."
   ]
  },
  {
   "cell_type": "markdown",
   "id": "4dd02518",
   "metadata": {},
   "source": [
    "The book lends itself to a project-based approach.\n",
    "In my class, students work on a semester-long project that requires them to pose a statistical question, find a dataset that can address it, and apply each of the techniques they learn to their own data.\n",
    "To demonstrate my approach to statistical analysis, the book presents a case study that runs through all of the chapters.\n",
    "It uses data from two sources:\n",
    "\n",
    "-  The National Survey of Family Growth (NSFG), conducted by the U.S. Centers for Disease Control and Prevention (CDC) to gather \"information on family life, marriage and divorce, pregnancy, infertility, use of contraception, and men's and women's health.\" (See <https://www.cdc.gov/nchs/nsfg/index.htm>.)\n",
    "\n",
    "-  The Behavioral Risk Factor Surveillance System (BRFSS), conducted by the National Center for Chronic Disease Prevention and Health Promotion to \"track health conditions and risk behaviors in the United States.\" (See <http://cdc.gov/BRFSS/>.)\n",
    "\n",
    "Other examples use data from the IRS, the U.S. Census, and the Boston Marathon.\n",
    "\n",
    "TODO: Inventory of data sources in the new edition."
   ]
  },
  {
   "cell_type": "markdown",
   "id": "8094c263",
   "metadata": {},
   "source": [
    "## What's New?\n",
    "\n",
    "For this third edition, I started by moving the book into Jupyter notebooks.\n",
    "This change has one immediate benefit -- you can read the text, run the code, and work on the exercises all in one place.\n",
    "And the notebooks are designed to work on Google Colab, so you can get started without installing anything.\n",
    "\n",
    "The move to notebooks has another benefit -- the code is more visible.\n",
    "In the first two editions, some of the code was in the book and some was in supporting files.\n",
    "In retrospect, it's clear that splitting the material in this way was not ideal, and it made the code more complicated than it needed to be.\n",
    "In the third edition, I was able to simplify the code and make it more readable.\n",
    "\n",
    "Since the last edition was published, I've developed a library called `empiricaldist` that provides objects that represent statistical distributions.\n",
    "This library is more mature now, so the updated code makes better use of it.\n",
    "\n",
    "The third edition covers the same topics, in almost the same order, but the text is substantially revised.\n",
    "Some of the examples are new; others are updated with new data.\n",
    "I've developed new exercises, revised some of the old ones, and removed a few.\n",
    "I think the updated exercises are better connected to the examples, and more interesting.\n",
    "\n",
    "Overall, I think these changes make *Think Stats* a better book.\n",
    "I hope you like it!"
   ]
  },
  {
   "cell_type": "markdown",
   "id": "713bf754",
   "metadata": {},
   "source": [
    "## Using the code\n",
    "\n",
    "The code and data used in this book are available from <https://github.com/AllenDowney/ThinkStats>, which is a Git repository on GitHub.\n",
    "Git is a version control system that helps to keep track of the files that make up a project.\n",
    "A collection of files under Git's control is called a **repository**.\n",
    "GitHub is a hosting service that provides storage for Git repositories and a convenient web interface.\n",
    "\n",
    "For each chapter in this book, the repository provides a Jupyter notebook, which is a document that contains the text, code, and the results of running the code.\n",
    "You can use these notebooks to run the code and work on the exercises.\n",
    "\n",
    "There are two ways you can run the notebooks.\n",
    "By far the easier one is to use Colab, which is a service provided by Google where you can run the notebooks in a web browser without installing anything on your computer.\n",
    "If you start from the *Think Stats* home page at <https://allendowney.github.io/ThinkStats/>, you will find links to the notebooks, including one that introduces Colab and Jupyter notebooks.\n",
    "\n",
    "TODO: Add the Jupyter intro notebook to the repo."
   ]
  },
  {
   "cell_type": "markdown",
   "id": "c7279831",
   "metadata": {},
   "source": [
    "If you don't want to use Colab, you can download the notebooks and run them on your computer, but in that case you will have to install Python, Jupyter, and the libraries the book uses, including NumPy, SciPy, and StatsModels.\n",
    "If you have experience installing software, setting up an environment where you can run the notebooks is not difficult.\n",
    "But if you don't have that experience, your first attempt can be challenging, and sometimes frustrating.\n",
    "In that case, it can be a barrier to getting the most out of this book.\n",
    "If you want to learn about exploratory data analysis in Python, you don't want to spend your time and cognitive capacity on installing software!\n",
    "\n",
    "I strongly recommend that you run at least the first few chapters on Colab.\n",
    "Then, if you want to set up your own environment, you can do it without interrupting your progress in the book.\n",
    "And one last suggestion: if have any problems installing software, take advantage of tools like ChatGPT -- they generally provide good guidance on these topics."
   ]
  },
  {
   "cell_type": "markdown",
   "id": "26b2091f",
   "metadata": {},
   "source": [
    "I wrote this book assuming that the reader is familiar with core Python, including object-oriented features.\n",
    "If you are familiar with NumPy and Pandas, that will help, but it's not necessary -- I'll explain what you need to know.\n",
    "I assume that the reader knows basic mathematics, including logarithms, for example, and summations.\n",
    "You don't need to know linear algebra or calculus.\n",
    "There is one place where I mention derivatives and integrals, but if you are not familiar with those concepts, they are entirely optional.\n",
    "Finally, I don't assume you know anything about statistics."
   ]
  },
  {
   "cell_type": "markdown",
   "id": "fee02f4f",
   "metadata": {},
   "source": [
    "Copyright 2024 Allen"
   ]
  },
  {
   "cell_type": "markdown",
   "id": "e27da3a4",
   "metadata": {
    "tags": []
   },
   "source": [
    "[Think Stats: Exploratory Data Analysis in Python, 3rd Edition](https://allendowney.github.io/ThinkStats/index.html)\n",
    "\n",
    "Copyright 2024 [Allen B. Downey](https://allendowney.com)\n",
    "\n",
    "Code license: [MIT License](https://mit-license.org/)\n",
    "\n",
    "Text license: [Creative Commons Attribution-NonCommercial-ShareAlike 4.0 International](https://creativecommons.org/licenses/by-nc-sa/4.0/)"
   ]
  }
 ],
 "metadata": {
  "celltoolbar": "Tags",
  "kernelspec": {
   "display_name": "Python 3 (ipykernel)",
   "language": "python",
   "name": "python3"
  },
  "language_info": {
   "codemirror_mode": {
    "name": "ipython",
    "version": 3
   },
   "file_extension": ".py",
   "mimetype": "text/x-python",
   "name": "python",
   "nbconvert_exporter": "python",
   "pygments_lexer": "ipython3",
   "version": "3.10.14"
  }
 },
 "nbformat": 4,
 "nbformat_minor": 5
}
