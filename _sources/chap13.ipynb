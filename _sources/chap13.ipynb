{
 "cells": [
  {
   "cell_type": "markdown",
   "id": "210938a1",
   "metadata": {},
   "source": [
    "# Survival analysis\n",
    "\n",
    "**Survival analysis** is a way to describe how long things last.\n",
    "It is often used to study human lifetimes, but it also applies to \"survival\" of mechanical and electronic components, or more generally to an interval in time before any kind of event -- or an interval in space.\n",
    "\n",
    "If someone you know has been diagnosed with a life-threatening disease, you might have seen a \"5-year survival rate,\" which is the probability of surviving five years after diagnosis.\n",
    "This chapter introduces the tools and methods used to produce estimates like that.\n",
    "\n",
    "We'll start with a relatively simple example, the lifespans of light bulbs, and then consider a more substantial example, age at first marriage and how it has changed in the United States over the last 50 years."
   ]
  },
  {
   "cell_type": "markdown",
   "id": "67c201d7",
   "metadata": {
    "tags": [
     "remove-print"
    ]
   },
   "source": [
    "[Click here to run this notebook on Colab](https://colab.research.google.com/github/AllenDowney/ThinkStats/blob/v3/nb/chap13.ipynb)."
   ]
  },
  {
   "cell_type": "code",
   "execution_count": 1,
   "id": "75384c1c",
   "metadata": {
    "tags": [
     "remove-print",
     "hide-cell"
    ]
   },
   "outputs": [
    {
     "data": {
      "application/javascript": [
       "\n",
       "            setTimeout(function() {\n",
       "                var nbb_cell_id = 1;\n",
       "                var nbb_unformatted_code = \"%load_ext nb_black\\n%load_ext autoreload\\n%autoreload 2\";\n",
       "                var nbb_formatted_code = \"%load_ext nb_black\\n%load_ext autoreload\\n%autoreload 2\";\n",
       "                var nbb_cells = Jupyter.notebook.get_cells();\n",
       "                for (var i = 0; i < nbb_cells.length; ++i) {\n",
       "                    if (nbb_cells[i].input_prompt_number == nbb_cell_id) {\n",
       "                        if (nbb_cells[i].get_text() == nbb_unformatted_code) {\n",
       "                             nbb_cells[i].set_text(nbb_formatted_code);\n",
       "                        }\n",
       "                        break;\n",
       "                    }\n",
       "                }\n",
       "            }, 500);\n",
       "            "
      ],
      "text/plain": [
       "<IPython.core.display.Javascript object>"
      ]
     },
     "metadata": {},
     "output_type": "display_data"
    }
   ],
   "source": [
    "%load_ext nb_black\n",
    "%load_ext autoreload\n",
    "%autoreload 2"
   ]
  },
  {
   "cell_type": "code",
   "execution_count": 2,
   "id": "ef31aaeb",
   "metadata": {
    "tags": [
     "remove-print",
     "hide-cell"
    ]
   },
   "outputs": [
    {
     "data": {
      "application/javascript": [
       "\n",
       "            setTimeout(function() {\n",
       "                var nbb_cell_id = 2;\n",
       "                var nbb_unformatted_code = \"from os.path import basename, exists\\n\\n\\ndef download(url):\\n    filename = basename(url)\\n    if not exists(filename):\\n        from urllib.request import urlretrieve\\n\\n        local, _ = urlretrieve(url, filename)\\n        print(\\\"Downloaded \\\" + local)\\n\\n\\ndownload(\\\"https://github.com/AllenDowney/ThinkStats/raw/v3/nb/thinkstats.py\\\")\";\n",
       "                var nbb_formatted_code = \"from os.path import basename, exists\\n\\n\\ndef download(url):\\n    filename = basename(url)\\n    if not exists(filename):\\n        from urllib.request import urlretrieve\\n\\n        local, _ = urlretrieve(url, filename)\\n        print(\\\"Downloaded \\\" + local)\\n\\n\\ndownload(\\\"https://github.com/AllenDowney/ThinkStats/raw/v3/nb/thinkstats.py\\\")\";\n",
       "                var nbb_cells = Jupyter.notebook.get_cells();\n",
       "                for (var i = 0; i < nbb_cells.length; ++i) {\n",
       "                    if (nbb_cells[i].input_prompt_number == nbb_cell_id) {\n",
       "                        if (nbb_cells[i].get_text() == nbb_unformatted_code) {\n",
       "                             nbb_cells[i].set_text(nbb_formatted_code);\n",
       "                        }\n",
       "                        break;\n",
       "                    }\n",
       "                }\n",
       "            }, 500);\n",
       "            "
      ],
      "text/plain": [
       "<IPython.core.display.Javascript object>"
      ]
     },
     "metadata": {},
     "output_type": "display_data"
    }
   ],
   "source": [
    "from os.path import basename, exists\n",
    "\n",
    "\n",
    "def download(url):\n",
    "    filename = basename(url)\n",
    "    if not exists(filename):\n",
    "        from urllib.request import urlretrieve\n",
    "\n",
    "        local, _ = urlretrieve(url, filename)\n",
    "        print(\"Downloaded \" + local)\n",
    "\n",
    "\n",
    "download(\"https://github.com/AllenDowney/ThinkStats/raw/v3/nb/thinkstats.py\")"
   ]
  },
  {
   "cell_type": "code",
   "execution_count": 3,
   "id": "59b4d378",
   "metadata": {
    "tags": [
     "remove-print",
     "hide-cell"
    ]
   },
   "outputs": [
    {
     "data": {
      "application/javascript": [
       "\n",
       "            setTimeout(function() {\n",
       "                var nbb_cell_id = 3;\n",
       "                var nbb_unformatted_code = \"try:\\n    import empiricaldist\\nexcept ImportError:\\n    !pip install empiricaldist\";\n",
       "                var nbb_formatted_code = \"try:\\n    import empiricaldist\\nexcept ImportError:\\n    !pip install empiricaldist\";\n",
       "                var nbb_cells = Jupyter.notebook.get_cells();\n",
       "                for (var i = 0; i < nbb_cells.length; ++i) {\n",
       "                    if (nbb_cells[i].input_prompt_number == nbb_cell_id) {\n",
       "                        if (nbb_cells[i].get_text() == nbb_unformatted_code) {\n",
       "                             nbb_cells[i].set_text(nbb_formatted_code);\n",
       "                        }\n",
       "                        break;\n",
       "                    }\n",
       "                }\n",
       "            }, 500);\n",
       "            "
      ],
      "text/plain": [
       "<IPython.core.display.Javascript object>"
      ]
     },
     "metadata": {},
     "output_type": "display_data"
    }
   ],
   "source": [
    "try:\n",
    "    import empiricaldist\n",
    "except ImportError:\n",
    "    !pip install empiricaldist"
   ]
  },
  {
   "cell_type": "code",
   "execution_count": 4,
   "id": "babb4f14",
   "metadata": {
    "tags": [
     "remove-print",
     "hide-cell"
    ]
   },
   "outputs": [
    {
     "data": {
      "application/javascript": [
       "\n",
       "            setTimeout(function() {\n",
       "                var nbb_cell_id = 4;\n",
       "                var nbb_unformatted_code = \"import numpy as np\\nimport pandas as pd\\nimport matplotlib.pyplot as plt\\n\\nfrom thinkstats import decorate\";\n",
       "                var nbb_formatted_code = \"import numpy as np\\nimport pandas as pd\\nimport matplotlib.pyplot as plt\\n\\nfrom thinkstats import decorate\";\n",
       "                var nbb_cells = Jupyter.notebook.get_cells();\n",
       "                for (var i = 0; i < nbb_cells.length; ++i) {\n",
       "                    if (nbb_cells[i].input_prompt_number == nbb_cell_id) {\n",
       "                        if (nbb_cells[i].get_text() == nbb_unformatted_code) {\n",
       "                             nbb_cells[i].set_text(nbb_formatted_code);\n",
       "                        }\n",
       "                        break;\n",
       "                    }\n",
       "                }\n",
       "            }, 500);\n",
       "            "
      ],
      "text/plain": [
       "<IPython.core.display.Javascript object>"
      ]
     },
     "metadata": {},
     "output_type": "display_data"
    }
   ],
   "source": [
    "import numpy as np\n",
    "import pandas as pd\n",
    "import matplotlib.pyplot as plt\n",
    "\n",
    "from thinkstats import decorate"
   ]
  },
  {
   "cell_type": "markdown",
   "id": "6d47eaa6",
   "metadata": {},
   "source": [
    "## Survival Function\n",
    "\n",
    "A fundamental concept in survival analysis is the **survival function** which is the fraction of a population that survives longer than a given duration.\n",
    "As a first example, we'll compute a survival function for the lifespans of light bulbs.\n",
    "\n",
    "We'll use data from an experiment conducted in 2007 -- researchers installed 50 new light bulbs and left them on continuously.\n",
    "Checking on the bulbs every 12 hours, they recorded the lifespan of all 50 bulbs.\n",
    "Instructions for downloading the data are in the notebook for this chapter."
   ]
  },
  {
   "cell_type": "markdown",
   "id": "ed583685",
   "metadata": {
    "tags": [
     "remove-print"
    ]
   },
   "source": [
    "The following cell downloads the data, which is documented [here](https://gist.github.com/epogrebnyak/7933e16c0ad215742c4c104be4fbdeb1).\n",
    "\n",
    "Dataset from:\n",
    "    \n",
    "V.J. Menon and D.C. Agrawal,  Renewal Rate of Filament Lamps: \n",
    "Theory and Experiment. Journal of Failure Analysis and Prevention. \n",
    "December 2007, p. 421, Table 2/\n",
    "DOI: 10.1007/s11668-007-9074-9"
   ]
  },
  {
   "cell_type": "code",
   "execution_count": 5,
   "id": "f8675281",
   "metadata": {
    "tags": [
     "remove-print"
    ]
   },
   "outputs": [
    {
     "data": {
      "application/javascript": [
       "\n",
       "            setTimeout(function() {\n",
       "                var nbb_cell_id = 5;\n",
       "                var nbb_unformatted_code = \"download(\\n    \\\"https://gist.github.com/epogrebnyak/7933e16c0ad215742c4c104be4fbdeb1/raw/c932bc5b6aa6317770c4cbf43eb591511fec08f9/lamps.csv\\\"\\n)\";\n",
       "                var nbb_formatted_code = \"download(\\n    \\\"https://gist.github.com/epogrebnyak/7933e16c0ad215742c4c104be4fbdeb1/raw/c932bc5b6aa6317770c4cbf43eb591511fec08f9/lamps.csv\\\"\\n)\";\n",
       "                var nbb_cells = Jupyter.notebook.get_cells();\n",
       "                for (var i = 0; i < nbb_cells.length; ++i) {\n",
       "                    if (nbb_cells[i].input_prompt_number == nbb_cell_id) {\n",
       "                        if (nbb_cells[i].get_text() == nbb_unformatted_code) {\n",
       "                             nbb_cells[i].set_text(nbb_formatted_code);\n",
       "                        }\n",
       "                        break;\n",
       "                    }\n",
       "                }\n",
       "            }, 500);\n",
       "            "
      ],
      "text/plain": [
       "<IPython.core.display.Javascript object>"
      ]
     },
     "metadata": {},
     "output_type": "display_data"
    }
   ],
   "source": [
    "download(\n",
    "    \"https://gist.github.com/epogrebnyak/7933e16c0ad215742c4c104be4fbdeb1/raw/c932bc5b6aa6317770c4cbf43eb591511fec08f9/lamps.csv\"\n",
    ")"
   ]
  },
  {
   "cell_type": "markdown",
   "id": "fbc1e38f",
   "metadata": {},
   "source": [
    "We can read the data like this."
   ]
  },
  {
   "cell_type": "code",
   "execution_count": 6,
   "id": "86afc71c",
   "metadata": {},
   "outputs": [
    {
     "data": {
      "text/html": [
       "<div>\n",
       "<style scoped>\n",
       "    .dataframe tbody tr th:only-of-type {\n",
       "        vertical-align: middle;\n",
       "    }\n",
       "\n",
       "    .dataframe tbody tr th {\n",
       "        vertical-align: top;\n",
       "    }\n",
       "\n",
       "    .dataframe thead th {\n",
       "        text-align: right;\n",
       "    }\n",
       "</style>\n",
       "<table border=\"1\" class=\"dataframe\">\n",
       "  <thead>\n",
       "    <tr style=\"text-align: right;\">\n",
       "      <th></th>\n",
       "      <th>h</th>\n",
       "      <th>f</th>\n",
       "      <th>K</th>\n",
       "    </tr>\n",
       "    <tr>\n",
       "      <th>i</th>\n",
       "      <th></th>\n",
       "      <th></th>\n",
       "      <th></th>\n",
       "    </tr>\n",
       "  </thead>\n",
       "  <tbody>\n",
       "    <tr>\n",
       "      <th>28</th>\n",
       "      <td>1812</td>\n",
       "      <td>1</td>\n",
       "      <td>4</td>\n",
       "    </tr>\n",
       "    <tr>\n",
       "      <th>29</th>\n",
       "      <td>1836</td>\n",
       "      <td>1</td>\n",
       "      <td>3</td>\n",
       "    </tr>\n",
       "    <tr>\n",
       "      <th>30</th>\n",
       "      <td>1860</td>\n",
       "      <td>1</td>\n",
       "      <td>2</td>\n",
       "    </tr>\n",
       "    <tr>\n",
       "      <th>31</th>\n",
       "      <td>1980</td>\n",
       "      <td>1</td>\n",
       "      <td>1</td>\n",
       "    </tr>\n",
       "    <tr>\n",
       "      <th>32</th>\n",
       "      <td>2568</td>\n",
       "      <td>1</td>\n",
       "      <td>0</td>\n",
       "    </tr>\n",
       "  </tbody>\n",
       "</table>\n",
       "</div>"
      ],
      "text/plain": [
       "       h  f  K\n",
       "i             \n",
       "28  1812  1  4\n",
       "29  1836  1  3\n",
       "30  1860  1  2\n",
       "31  1980  1  1\n",
       "32  2568  1  0"
      ]
     },
     "execution_count": 6,
     "metadata": {},
     "output_type": "execute_result"
    },
    {
     "data": {
      "application/javascript": [
       "\n",
       "            setTimeout(function() {\n",
       "                var nbb_cell_id = 6;\n",
       "                var nbb_unformatted_code = \"df = pd.read_csv(\\\"lamps.csv\\\", index_col=0)\\ndf.tail()\";\n",
       "                var nbb_formatted_code = \"df = pd.read_csv(\\\"lamps.csv\\\", index_col=0)\\ndf.tail()\";\n",
       "                var nbb_cells = Jupyter.notebook.get_cells();\n",
       "                for (var i = 0; i < nbb_cells.length; ++i) {\n",
       "                    if (nbb_cells[i].input_prompt_number == nbb_cell_id) {\n",
       "                        if (nbb_cells[i].get_text() == nbb_unformatted_code) {\n",
       "                             nbb_cells[i].set_text(nbb_formatted_code);\n",
       "                        }\n",
       "                        break;\n",
       "                    }\n",
       "                }\n",
       "            }, 500);\n",
       "            "
      ],
      "text/plain": [
       "<IPython.core.display.Javascript object>"
      ]
     },
     "metadata": {},
     "output_type": "display_data"
    }
   ],
   "source": [
    "df = pd.read_csv(\"lamps.csv\", index_col=0)\n",
    "df.tail()"
   ]
  },
  {
   "cell_type": "markdown",
   "id": "14d09887",
   "metadata": {},
   "source": [
    "The `h` column contains the lifespans in hours.\n",
    "The `f` column contains counts of the number of bulbs that expired at each value of `h`.\n",
    "To represent the distribution of lifespans, we'll put these values in a `Pmf` object and normalize it."
   ]
  },
  {
   "cell_type": "code",
   "execution_count": 7,
   "id": "4f7e0d03",
   "metadata": {},
   "outputs": [
    {
     "data": {
      "text/plain": [
       "50"
      ]
     },
     "execution_count": 7,
     "metadata": {},
     "output_type": "execute_result"
    },
    {
     "data": {
      "application/javascript": [
       "\n",
       "            setTimeout(function() {\n",
       "                var nbb_cell_id = 7;\n",
       "                var nbb_unformatted_code = \"from empiricaldist import Pmf\\n\\npmf_bulblife = Pmf(df[\\\"f\\\"].values, index=df[\\\"h\\\"])\\npmf_bulblife.normalize()\";\n",
       "                var nbb_formatted_code = \"from empiricaldist import Pmf\\n\\npmf_bulblife = Pmf(df[\\\"f\\\"].values, index=df[\\\"h\\\"])\\npmf_bulblife.normalize()\";\n",
       "                var nbb_cells = Jupyter.notebook.get_cells();\n",
       "                for (var i = 0; i < nbb_cells.length; ++i) {\n",
       "                    if (nbb_cells[i].input_prompt_number == nbb_cell_id) {\n",
       "                        if (nbb_cells[i].get_text() == nbb_unformatted_code) {\n",
       "                             nbb_cells[i].set_text(nbb_formatted_code);\n",
       "                        }\n",
       "                        break;\n",
       "                    }\n",
       "                }\n",
       "            }, 500);\n",
       "            "
      ],
      "text/plain": [
       "<IPython.core.display.Javascript object>"
      ]
     },
     "metadata": {},
     "output_type": "display_data"
    }
   ],
   "source": [
    "from empiricaldist import Pmf\n",
    "\n",
    "pmf_bulblife = Pmf(df[\"f\"].values, index=df[\"h\"])\n",
    "pmf_bulblife.normalize()"
   ]
  },
  {
   "cell_type": "markdown",
   "id": "c4e14bcc",
   "metadata": {},
   "source": [
    "We can use `make_cdf` to compute the CDF, which indicates the fraction of bulbs that expire at or before each value of `h`.\n",
    "For example, 78% of the bulbs expire at or before 1656 hours."
   ]
  },
  {
   "cell_type": "code",
   "execution_count": 8,
   "id": "921461a2",
   "metadata": {},
   "outputs": [
    {
     "data": {
      "text/plain": [
       "0.7800000000000002"
      ]
     },
     "execution_count": 8,
     "metadata": {},
     "output_type": "execute_result"
    },
    {
     "data": {
      "application/javascript": [
       "\n",
       "            setTimeout(function() {\n",
       "                var nbb_cell_id = 8;\n",
       "                var nbb_unformatted_code = \"cdf_bulblife = pmf_bulblife.make_cdf()\\ncdf_bulblife[1656]\";\n",
       "                var nbb_formatted_code = \"cdf_bulblife = pmf_bulblife.make_cdf()\\ncdf_bulblife[1656]\";\n",
       "                var nbb_cells = Jupyter.notebook.get_cells();\n",
       "                for (var i = 0; i < nbb_cells.length; ++i) {\n",
       "                    if (nbb_cells[i].input_prompt_number == nbb_cell_id) {\n",
       "                        if (nbb_cells[i].get_text() == nbb_unformatted_code) {\n",
       "                             nbb_cells[i].set_text(nbb_formatted_code);\n",
       "                        }\n",
       "                        break;\n",
       "                    }\n",
       "                }\n",
       "            }, 500);\n",
       "            "
      ],
      "text/plain": [
       "<IPython.core.display.Javascript object>"
      ]
     },
     "metadata": {},
     "output_type": "display_data"
    }
   ],
   "source": [
    "cdf_bulblife = pmf_bulblife.make_cdf()\n",
    "cdf_bulblife[1656]"
   ]
  },
  {
   "cell_type": "markdown",
   "id": "5c435353",
   "metadata": {},
   "source": [
    "The survival function is fraction of bulbs that expire *after* each value of `h`, which is the complement of the CDF.\n",
    "So we can compute it like this."
   ]
  },
  {
   "cell_type": "code",
   "execution_count": 9,
   "id": "37e908dd",
   "metadata": {},
   "outputs": [
    {
     "data": {
      "text/plain": [
       "0.21999999999999975"
      ]
     },
     "execution_count": 9,
     "metadata": {},
     "output_type": "execute_result"
    },
    {
     "data": {
      "application/javascript": [
       "\n",
       "            setTimeout(function() {\n",
       "                var nbb_cell_id = 9;\n",
       "                var nbb_unformatted_code = \"complementary_cdf = 1 - cdf_bulblife\\ncomplementary_cdf[1656]\";\n",
       "                var nbb_formatted_code = \"complementary_cdf = 1 - cdf_bulblife\\ncomplementary_cdf[1656]\";\n",
       "                var nbb_cells = Jupyter.notebook.get_cells();\n",
       "                for (var i = 0; i < nbb_cells.length; ++i) {\n",
       "                    if (nbb_cells[i].input_prompt_number == nbb_cell_id) {\n",
       "                        if (nbb_cells[i].get_text() == nbb_unformatted_code) {\n",
       "                             nbb_cells[i].set_text(nbb_formatted_code);\n",
       "                        }\n",
       "                        break;\n",
       "                    }\n",
       "                }\n",
       "            }, 500);\n",
       "            "
      ],
      "text/plain": [
       "<IPython.core.display.Javascript object>"
      ]
     },
     "metadata": {},
     "output_type": "display_data"
    }
   ],
   "source": [
    "complementary_cdf = 1 - cdf_bulblife\n",
    "complementary_cdf[1656]"
   ]
  },
  {
   "cell_type": "markdown",
   "id": "3934a574",
   "metadata": {},
   "source": [
    "22% of the bulbs expire after 1656 hours.\n",
    "\n",
    "The `empiricaldist` library provides a `Surv` object that represents a survival function, and a method called `make_surv` that makes one."
   ]
  },
  {
   "cell_type": "code",
   "execution_count": 10,
   "id": "1c58a46c",
   "metadata": {},
   "outputs": [
    {
     "data": {
      "text/plain": [
       "0.21999999999999997"
      ]
     },
     "execution_count": 10,
     "metadata": {},
     "output_type": "execute_result"
    },
    {
     "data": {
      "application/javascript": [
       "\n",
       "            setTimeout(function() {\n",
       "                var nbb_cell_id = 10;\n",
       "                var nbb_unformatted_code = \"surv_bulblife = cdf_bulblife.make_surv()\\nsurv_bulblife[1656]\";\n",
       "                var nbb_formatted_code = \"surv_bulblife = cdf_bulblife.make_surv()\\nsurv_bulblife[1656]\";\n",
       "                var nbb_cells = Jupyter.notebook.get_cells();\n",
       "                for (var i = 0; i < nbb_cells.length; ++i) {\n",
       "                    if (nbb_cells[i].input_prompt_number == nbb_cell_id) {\n",
       "                        if (nbb_cells[i].get_text() == nbb_unformatted_code) {\n",
       "                             nbb_cells[i].set_text(nbb_formatted_code);\n",
       "                        }\n",
       "                        break;\n",
       "                    }\n",
       "                }\n",
       "            }, 500);\n",
       "            "
      ],
      "text/plain": [
       "<IPython.core.display.Javascript object>"
      ]
     },
     "metadata": {},
     "output_type": "display_data"
    }
   ],
   "source": [
    "surv_bulblife = cdf_bulblife.make_surv()\n",
    "surv_bulblife[1656]"
   ]
  },
  {
   "cell_type": "markdown",
   "id": "88be6568",
   "metadata": {},
   "source": [
    "If we plot the CDF and the survival function, we can see that they are complementary -- that is, their sum is 1 at all values of `h`."
   ]
  },
  {
   "cell_type": "code",
   "execution_count": 11,
   "id": "62e97cb9",
   "metadata": {},
   "outputs": [
    {
     "data": {
      "image/png": "[encoded data removed]",
      "text/plain": [
       "<Figure size 450x262.5 with 1 Axes>"
      ]
     },
     "metadata": {},
     "output_type": "display_data"
    },
    {
     "data": {
      "application/javascript": [
       "\n",
       "            setTimeout(function() {\n",
       "                var nbb_cell_id = 11;\n",
       "                var nbb_unformatted_code = \"cdf_bulblife.plot(ls=\\\"--\\\", label=\\\"CDF\\\")\\nsurv_bulblife.plot(label=\\\"Survival\\\")\\n\\ndecorate(xlabel=\\\"Light bulb duration (hours)\\\", ylabel=\\\"Probability\\\")\";\n",
       "                var nbb_formatted_code = \"cdf_bulblife.plot(ls=\\\"--\\\", label=\\\"CDF\\\")\\nsurv_bulblife.plot(label=\\\"Survival\\\")\\n\\ndecorate(xlabel=\\\"Light bulb duration (hours)\\\", ylabel=\\\"Probability\\\")\";\n",
       "                var nbb_cells = Jupyter.notebook.get_cells();\n",
       "                for (var i = 0; i < nbb_cells.length; ++i) {\n",
       "                    if (nbb_cells[i].input_prompt_number == nbb_cell_id) {\n",
       "                        if (nbb_cells[i].get_text() == nbb_unformatted_code) {\n",
       "                             nbb_cells[i].set_text(nbb_formatted_code);\n",
       "                        }\n",
       "                        break;\n",
       "                    }\n",
       "                }\n",
       "            }, 500);\n",
       "            "
      ],
      "text/plain": [
       "<IPython.core.display.Javascript object>"
      ]
     },
     "metadata": {},
     "output_type": "display_data"
    }
   ],
   "source": [
    "cdf_bulblife.plot(ls=\"--\", label=\"CDF\")\n",
    "surv_bulblife.plot(label=\"Survival\")\n",
    "\n",
    "decorate(xlabel=\"Light bulb duration (hours)\", ylabel=\"Probability\")"
   ]
  },
  {
   "cell_type": "markdown",
   "id": "17d475b0",
   "metadata": {},
   "source": [
    "In that sense, the CDF and survival function are equivalent -- if we are given either one, we can compute the other.\n",
    "But in the context of survival analysis it is more common to work with survival curves.\n",
    "And computing a survival curve is a step toward the next important concept, the hazard function."
   ]
  },
  {
   "cell_type": "markdown",
   "id": "4eb025d9",
   "metadata": {},
   "source": [
    "## Hazard Function\n",
    "\n",
    "Suppose we know that a light bulb has survived up to hour `h`, and we would like to know the probability that it expires during hour `h`.\n",
    "To answer this question, we can use the survival function, which indicates the fraction of bulbs that survive longer than `h`, and the PMF, which indicates the fraction that expire during hour `h`.\n",
    "The sum of these is the fraction of bulbs that *could* expire during hour `h`, which are said to be \"at risk\".\n",
    "As an example, 26% of the bulbs were at risk during hour 1656."
   ]
  },
  {
   "cell_type": "code",
   "execution_count": 12,
   "id": "1554459a",
   "metadata": {},
   "outputs": [
    {
     "data": {
      "text/plain": [
       "0.25999999999999995"
      ]
     },
     "execution_count": 12,
     "metadata": {},
     "output_type": "execute_result"
    },
    {
     "data": {
      "application/javascript": [
       "\n",
       "            setTimeout(function() {\n",
       "                var nbb_cell_id = 12;\n",
       "                var nbb_unformatted_code = \"at_risk = pmf_bulblife + surv_bulblife\\nat_risk[1656]\";\n",
       "                var nbb_formatted_code = \"at_risk = pmf_bulblife + surv_bulblife\\nat_risk[1656]\";\n",
       "                var nbb_cells = Jupyter.notebook.get_cells();\n",
       "                for (var i = 0; i < nbb_cells.length; ++i) {\n",
       "                    if (nbb_cells[i].input_prompt_number == nbb_cell_id) {\n",
       "                        if (nbb_cells[i].get_text() == nbb_unformatted_code) {\n",
       "                             nbb_cells[i].set_text(nbb_formatted_code);\n",
       "                        }\n",
       "                        break;\n",
       "                    }\n",
       "                }\n",
       "            }, 500);\n",
       "            "
      ],
      "text/plain": [
       "<IPython.core.display.Javascript object>"
      ]
     },
     "metadata": {},
     "output_type": "display_data"
    }
   ],
   "source": [
    "at_risk = pmf_bulblife + surv_bulblife\n",
    "at_risk[1656]"
   ]
  },
  {
   "cell_type": "markdown",
   "id": "14b55168",
   "metadata": {},
   "source": [
    "And 4% of all bulbs expire during hour 1656."
   ]
  },
  {
   "cell_type": "code",
   "execution_count": 13,
   "id": "ba549c6d",
   "metadata": {},
   "outputs": [
    {
     "data": {
      "text/plain": [
       "0.04"
      ]
     },
     "execution_count": 13,
     "metadata": {},
     "output_type": "execute_result"
    },
    {
     "data": {
      "application/javascript": [
       "\n",
       "            setTimeout(function() {\n",
       "                var nbb_cell_id = 13;\n",
       "                var nbb_unformatted_code = \"pmf_bulblife[1656]\";\n",
       "                var nbb_formatted_code = \"pmf_bulblife[1656]\";\n",
       "                var nbb_cells = Jupyter.notebook.get_cells();\n",
       "                for (var i = 0; i < nbb_cells.length; ++i) {\n",
       "                    if (nbb_cells[i].input_prompt_number == nbb_cell_id) {\n",
       "                        if (nbb_cells[i].get_text() == nbb_unformatted_code) {\n",
       "                             nbb_cells[i].set_text(nbb_formatted_code);\n",
       "                        }\n",
       "                        break;\n",
       "                    }\n",
       "                }\n",
       "            }, 500);\n",
       "            "
      ],
      "text/plain": [
       "<IPython.core.display.Javascript object>"
      ]
     },
     "metadata": {},
     "output_type": "display_data"
    }
   ],
   "source": [
    "pmf_bulblife[1656]"
   ]
  },
  {
   "cell_type": "markdown",
   "id": "faa7b484",
   "metadata": {},
   "source": [
    "The **hazard** is the ratio of `pmf_bulblife` and `at_risk`."
   ]
  },
  {
   "cell_type": "code",
   "execution_count": 14,
   "id": "ea7b583d",
   "metadata": {},
   "outputs": [
    {
     "data": {
      "text/plain": [
       "0.15384615384615388"
      ]
     },
     "execution_count": 14,
     "metadata": {},
     "output_type": "execute_result"
    },
    {
     "data": {
      "application/javascript": [
       "\n",
       "            setTimeout(function() {\n",
       "                var nbb_cell_id = 14;\n",
       "                var nbb_unformatted_code = \"hazard = pmf_bulblife / at_risk\\nhazard[1656]\";\n",
       "                var nbb_formatted_code = \"hazard = pmf_bulblife / at_risk\\nhazard[1656]\";\n",
       "                var nbb_cells = Jupyter.notebook.get_cells();\n",
       "                for (var i = 0; i < nbb_cells.length; ++i) {\n",
       "                    if (nbb_cells[i].input_prompt_number == nbb_cell_id) {\n",
       "                        if (nbb_cells[i].get_text() == nbb_unformatted_code) {\n",
       "                             nbb_cells[i].set_text(nbb_formatted_code);\n",
       "                        }\n",
       "                        break;\n",
       "                    }\n",
       "                }\n",
       "            }, 500);\n",
       "            "
      ],
      "text/plain": [
       "<IPython.core.display.Javascript object>"
      ]
     },
     "metadata": {},
     "output_type": "display_data"
    }
   ],
   "source": [
    "hazard = pmf_bulblife / at_risk\n",
    "hazard[1656]"
   ]
  },
  {
   "cell_type": "markdown",
   "id": "a55d6b93",
   "metadata": {},
   "source": [
    "Of all bulbs that survived up to hour 1656, about 15% expired during hour 1656.\n",
    "\n",
    "Instead of computing the hazard function ourselves, we can use `empiricaldist`, which provides a `Hazard` object that represents a hazard function, and a `make_hazard` method that computes it."
   ]
  },
  {
   "cell_type": "code",
   "execution_count": 15,
   "id": "b15bbdaf",
   "metadata": {},
   "outputs": [
    {
     "data": {
      "text/plain": [
       "0.15384615384615397"
      ]
     },
     "execution_count": 15,
     "metadata": {},
     "output_type": "execute_result"
    },
    {
     "data": {
      "application/javascript": [
       "\n",
       "            setTimeout(function() {\n",
       "                var nbb_cell_id = 15;\n",
       "                var nbb_unformatted_code = \"hazard_bulblife = surv_bulblife.make_hazard()\\nhazard_bulblife[1656]\";\n",
       "                var nbb_formatted_code = \"hazard_bulblife = surv_bulblife.make_hazard()\\nhazard_bulblife[1656]\";\n",
       "                var nbb_cells = Jupyter.notebook.get_cells();\n",
       "                for (var i = 0; i < nbb_cells.length; ++i) {\n",
       "                    if (nbb_cells[i].input_prompt_number == nbb_cell_id) {\n",
       "                        if (nbb_cells[i].get_text() == nbb_unformatted_code) {\n",
       "                             nbb_cells[i].set_text(nbb_formatted_code);\n",
       "                        }\n",
       "                        break;\n",
       "                    }\n",
       "                }\n",
       "            }, 500);\n",
       "            "
      ],
      "text/plain": [
       "<IPython.core.display.Javascript object>"
      ]
     },
     "metadata": {},
     "output_type": "display_data"
    }
   ],
   "source": [
    "hazard_bulblife = surv_bulblife.make_hazard()\n",
    "hazard_bulblife[1656]"
   ]
  },
  {
   "cell_type": "markdown",
   "id": "93b38bb1",
   "metadata": {},
   "source": [
    "Here's what the hazard function looks like for the light bulbs."
   ]
  },
  {
   "cell_type": "code",
   "execution_count": 16,
   "id": "b61ff097",
   "metadata": {},
   "outputs": [
    {
     "data": {
      "image/png": "[encoded data removed]",
      "text/plain": [
       "<Figure size 450x262.5 with 1 Axes>"
      ]
     },
     "metadata": {},
     "output_type": "display_data"
    },
    {
     "data": {
      "application/javascript": [
       "\n",
       "            setTimeout(function() {\n",
       "                var nbb_cell_id = 16;\n",
       "                var nbb_unformatted_code = \"hazard_bulblife.plot()\\ndecorate(xlabel=\\\"Light bulb duration (hours)\\\", ylabel=\\\"Hazard\\\")\";\n",
       "                var nbb_formatted_code = \"hazard_bulblife.plot()\\ndecorate(xlabel=\\\"Light bulb duration (hours)\\\", ylabel=\\\"Hazard\\\")\";\n",
       "                var nbb_cells = Jupyter.notebook.get_cells();\n",
       "                for (var i = 0; i < nbb_cells.length; ++i) {\n",
       "                    if (nbb_cells[i].input_prompt_number == nbb_cell_id) {\n",
       "                        if (nbb_cells[i].get_text() == nbb_unformatted_code) {\n",
       "                             nbb_cells[i].set_text(nbb_formatted_code);\n",
       "                        }\n",
       "                        break;\n",
       "                    }\n",
       "                }\n",
       "            }, 500);\n",
       "            "
      ],
      "text/plain": [
       "<IPython.core.display.Javascript object>"
      ]
     },
     "metadata": {},
     "output_type": "display_data"
    }
   ],
   "source": [
    "hazard_bulblife.plot()\n",
    "decorate(xlabel=\"Light bulb duration (hours)\", ylabel=\"Hazard\")"
   ]
  },
  {
   "cell_type": "markdown",
   "id": "29c7abd4",
   "metadata": {},
   "source": [
    "We can see that the hazard is higher in some places than others, but this way of visualizing the hazard function can be misleading, especially in parts of the range where we don't have much data.\n",
    "A better alternative is to plot the cumulative hazard function, which is the cumulative sum of the hazards."
   ]
  },
  {
   "cell_type": "code",
   "execution_count": 17,
   "id": "97ffdb68",
   "metadata": {},
   "outputs": [
    {
     "data": {
      "image/png": "[encoded data removed]",
      "text/plain": [
       "<Figure size 450x262.5 with 1 Axes>"
      ]
     },
     "metadata": {},
     "output_type": "display_data"
    },
    {
     "data": {
      "application/javascript": [
       "\n",
       "            setTimeout(function() {\n",
       "                var nbb_cell_id = 17;\n",
       "                var nbb_unformatted_code = \"cumulative_hazard = hazard_bulblife.cumsum()\\ncumulative_hazard.plot()\\n\\ndecorate(xlabel=\\\"Light bulb duration (hours)\\\", ylabel=\\\"Cumulative hazard\\\")\";\n",
       "                var nbb_formatted_code = \"cumulative_hazard = hazard_bulblife.cumsum()\\ncumulative_hazard.plot()\\n\\ndecorate(xlabel=\\\"Light bulb duration (hours)\\\", ylabel=\\\"Cumulative hazard\\\")\";\n",
       "                var nbb_cells = Jupyter.notebook.get_cells();\n",
       "                for (var i = 0; i < nbb_cells.length; ++i) {\n",
       "                    if (nbb_cells[i].input_prompt_number == nbb_cell_id) {\n",
       "                        if (nbb_cells[i].get_text() == nbb_unformatted_code) {\n",
       "                             nbb_cells[i].set_text(nbb_formatted_code);\n",
       "                        }\n",
       "                        break;\n",
       "                    }\n",
       "                }\n",
       "            }, 500);\n",
       "            "
      ],
      "text/plain": [
       "<IPython.core.display.Javascript object>"
      ]
     },
     "metadata": {},
     "output_type": "display_data"
    }
   ],
   "source": [
    "cumulative_hazard = hazard_bulblife.cumsum()\n",
    "cumulative_hazard.plot()\n",
    "\n",
    "decorate(xlabel=\"Light bulb duration (hours)\", ylabel=\"Cumulative hazard\")"
   ]
  },
  {
   "cell_type": "markdown",
   "id": "8fd254a3",
   "metadata": {},
   "source": [
    "Where the probability of expiring is high, the cumulative hazard function is steep.\n",
    "Where the probability of expiring is low, the cumulative hazard function is flat.\n",
    "In this example, we can see that the interval with the highest hazards is between 1500 an 2000 hours.\n",
    "After that, the hazards are actually a little lower -- although this outcome is based on just one unusually long-lived battery, so it might look different in another dataset.\n",
    "\n",
    "Now that we have the general idea of survival and hazard functions, let's apply them to a more substantial dataset."
   ]
  },
  {
   "cell_type": "markdown",
   "id": "087c5cc4",
   "metadata": {},
   "source": [
    "## Marriage Data\n",
    "\n",
    "In many other countries, people are getting married later than they used to, and more people stay unmarried.\n",
    "To explore these trends in the United States, we'll use the tools of survival analysis and data from the National Survey of Family Growth (NSFG).\n",
    "\n",
    "The NSFG dataset we used in previous chapters is the pregnancy file, which contains one row for each pregnancy reported by the survey respondents.\n",
    "In this chapter, we'll work with the respondent file, which contains information about the respondents themselves.\n",
    "\n",
    "I have compiled responses from nine iterations of the survey, conducted between 1982 and 2019, and selected data related to marriage.\n",
    "Instructions for downloading this excerpt are in the notebook for this chapter. "
   ]
  },
  {
   "cell_type": "markdown",
   "id": "09fd206c",
   "metadata": {
    "tags": [
     "remove-print"
    ]
   },
   "source": [
    "The following cell downloads the data, which is a CSV file I created that combines data from several iterations of the NSFG survey, from 1982 to 2019.\n",
    "\n",
    "Details of the data preparation are in [this notebook](https://github.com/AllenDowney/MarriageNSFG/blob/master/clean_nsfg.ipynb)."
   ]
  },
  {
   "cell_type": "code",
   "execution_count": 18,
   "id": "c26c557c",
   "metadata": {},
   "outputs": [
    {
     "data": {
      "application/javascript": [
       "\n",
       "            setTimeout(function() {\n",
       "                var nbb_cell_id = 18;\n",
       "                var nbb_unformatted_code = \"filename = \\\"marriage_nsfg_female.csv.gz\\\"\\ndownload(\\\"https://github.com/AllenDowney/ThinkStats/raw/v3/data/\\\" + filename)\";\n",
       "                var nbb_formatted_code = \"filename = \\\"marriage_nsfg_female.csv.gz\\\"\\ndownload(\\\"https://github.com/AllenDowney/ThinkStats/raw/v3/data/\\\" + filename)\";\n",
       "                var nbb_cells = Jupyter.notebook.get_cells();\n",
       "                for (var i = 0; i < nbb_cells.length; ++i) {\n",
       "                    if (nbb_cells[i].input_prompt_number == nbb_cell_id) {\n",
       "                        if (nbb_cells[i].get_text() == nbb_unformatted_code) {\n",
       "                             nbb_cells[i].set_text(nbb_formatted_code);\n",
       "                        }\n",
       "                        break;\n",
       "                    }\n",
       "                }\n",
       "            }, 500);\n",
       "            "
      ],
      "text/plain": [
       "<IPython.core.display.Javascript object>"
      ]
     },
     "metadata": {},
     "output_type": "display_data"
    }
   ],
   "source": [
    "filename = \"marriage_nsfg_female.csv.gz\"\n",
    "download(\"https://github.com/AllenDowney/ThinkStats/raw/v3/data/\" + filename)"
   ]
  },
  {
   "cell_type": "markdown",
   "id": "e36c59f3",
   "metadata": {},
   "source": [
    "We can read the data like this."
   ]
  },
  {
   "cell_type": "code",
   "execution_count": 19,
   "id": "8c404800",
   "metadata": {},
   "outputs": [
    {
     "data": {
      "text/plain": [
       "(70183, 34)"
      ]
     },
     "execution_count": 19,
     "metadata": {},
     "output_type": "execute_result"
    },
    {
     "data": {
      "application/javascript": [
       "\n",
       "            setTimeout(function() {\n",
       "                var nbb_cell_id = 19;\n",
       "                var nbb_unformatted_code = \"resp = pd.read_csv(\\\"marriage_nsfg_female.csv.gz\\\")\\nresp.shape\";\n",
       "                var nbb_formatted_code = \"resp = pd.read_csv(\\\"marriage_nsfg_female.csv.gz\\\")\\nresp.shape\";\n",
       "                var nbb_cells = Jupyter.notebook.get_cells();\n",
       "                for (var i = 0; i < nbb_cells.length; ++i) {\n",
       "                    if (nbb_cells[i].input_prompt_number == nbb_cell_id) {\n",
       "                        if (nbb_cells[i].get_text() == nbb_unformatted_code) {\n",
       "                             nbb_cells[i].set_text(nbb_formatted_code);\n",
       "                        }\n",
       "                        break;\n",
       "                    }\n",
       "                }\n",
       "            }, 500);\n",
       "            "
      ],
      "text/plain": [
       "<IPython.core.display.Javascript object>"
      ]
     },
     "metadata": {},
     "output_type": "display_data"
    }
   ],
   "source": [
    "resp = pd.read_csv(\"marriage_nsfg_female.csv.gz\")\n",
    "resp.shape"
   ]
  },
  {
   "cell_type": "markdown",
   "id": "41335859",
   "metadata": {},
   "source": [
    "The excerpt includes one row for each of more than 70,000 respondents, and includes the following variables related to age and marriage.\n",
    "\n",
    "-   `cmbirth`: The respondent's date of birth, known for all respondents.\n",
    "\n",
    "-   `cmintvw`: The date the respondent was interviewed, known for all respondents.\n",
    "\n",
    "-   `cmmarrhx`: The date the respondent was first married, if applicable and known.\n",
    "\n",
    "-   `evrmarry`: 1 if the respondent had been married prior to the date of interview, 0 otherwise.\n",
    "\n",
    "The first three variables are encoded in \"century-months\" -- that is, the integer number of months since December 1899.\n",
    "So century-month 1 is January 1900.\n",
    "\n",
    "To explore generational changes, we will group respondents by their decade of birth.\n",
    "We'll use the following function, which takes a value of `cmbirth` and computes the corresponding decade of birth."
   ]
  },
  {
   "cell_type": "code",
   "execution_count": 20,
   "id": "edf30d65",
   "metadata": {},
   "outputs": [
    {
     "data": {
      "application/javascript": [
       "\n",
       "            setTimeout(function() {\n",
       "                var nbb_cell_id = 20;\n",
       "                var nbb_unformatted_code = \"month0 = pd.to_datetime(\\\"1899-12-31\\\")\\n\\n\\ndef decade_of_birth(cmbirth):\\n    date = month0 + pd.DateOffset(months=cmbirth)\\n    return date.year // 10 * 10\";\n",
       "                var nbb_formatted_code = \"month0 = pd.to_datetime(\\\"1899-12-31\\\")\\n\\n\\ndef decade_of_birth(cmbirth):\\n    date = month0 + pd.DateOffset(months=cmbirth)\\n    return date.year // 10 * 10\";\n",
       "                var nbb_cells = Jupyter.notebook.get_cells();\n",
       "                for (var i = 0; i < nbb_cells.length; ++i) {\n",
       "                    if (nbb_cells[i].input_prompt_number == nbb_cell_id) {\n",
       "                        if (nbb_cells[i].get_text() == nbb_unformatted_code) {\n",
       "                             nbb_cells[i].set_text(nbb_formatted_code);\n",
       "                        }\n",
       "                        break;\n",
       "                    }\n",
       "                }\n",
       "            }, 500);\n",
       "            "
      ],
      "text/plain": [
       "<IPython.core.display.Javascript object>"
      ]
     },
     "metadata": {},
     "output_type": "display_data"
    }
   ],
   "source": [
    "month0 = pd.to_datetime(\"1899-12-31\")\n",
    "\n",
    "\n",
    "def decade_of_birth(cmbirth):\n",
    "    date = month0 + pd.DateOffset(months=cmbirth)\n",
    "    return date.year // 10 * 10"
   ]
  },
  {
   "cell_type": "markdown",
   "id": "71dc5049",
   "metadata": {},
   "source": [
    "We can use this function and the `apply` method to compute each respondent's decade of birth and assign it to a new column called `cohort`.\n",
    "In this context, a **cohort** is a group of people with something in common -- like they decade they were born -- who are treated as a group for purposes of analysis.\n",
    "\n",
    "The result from `value_counts` shows the number of people in each cohort."
   ]
  },
  {
   "cell_type": "code",
   "execution_count": 21,
   "id": "4509f3db",
   "metadata": {},
   "outputs": [
    {
     "data": {
      "text/plain": [
       "cohort\n",
       "1930      325\n",
       "1940     3608\n",
       "1950    10631\n",
       "1960    14953\n",
       "1970    16438\n",
       "1980    14271\n",
       "1990     8552\n",
       "2000     1405\n",
       "Name: count, dtype: int64"
      ]
     },
     "execution_count": 21,
     "metadata": {},
     "output_type": "execute_result"
    },
    {
     "data": {
      "application/javascript": [
       "\n",
       "            setTimeout(function() {\n",
       "                var nbb_cell_id = 21;\n",
       "                var nbb_unformatted_code = \"from thinkstats import value_counts\\n\\nresp[\\\"cohort\\\"] = resp[\\\"cmbirth\\\"].apply(decade_of_birth)\\nvalue_counts(resp[\\\"cohort\\\"])\";\n",
       "                var nbb_formatted_code = \"from thinkstats import value_counts\\n\\nresp[\\\"cohort\\\"] = resp[\\\"cmbirth\\\"].apply(decade_of_birth)\\nvalue_counts(resp[\\\"cohort\\\"])\";\n",
       "                var nbb_cells = Jupyter.notebook.get_cells();\n",
       "                for (var i = 0; i < nbb_cells.length; ++i) {\n",
       "                    if (nbb_cells[i].input_prompt_number == nbb_cell_id) {\n",
       "                        if (nbb_cells[i].get_text() == nbb_unformatted_code) {\n",
       "                             nbb_cells[i].set_text(nbb_formatted_code);\n",
       "                        }\n",
       "                        break;\n",
       "                    }\n",
       "                }\n",
       "            }, 500);\n",
       "            "
      ],
      "text/plain": [
       "<IPython.core.display.Javascript object>"
      ]
     },
     "metadata": {},
     "output_type": "display_data"
    }
   ],
   "source": [
    "from thinkstats import value_counts\n",
    "\n",
    "resp[\"cohort\"] = resp[\"cmbirth\"].apply(decade_of_birth)\n",
    "value_counts(resp[\"cohort\"])"
   ]
  },
  {
   "cell_type": "markdown",
   "id": "505bf1ef",
   "metadata": {},
   "source": [
    "We have more than 10,000 respondents born in each decade from the 1950s to the 1980s, and fewer respondents in the earlier and later decades.\n",
    "\n",
    "Next we'll compute each respondent's age when married (if applicable) and their age when interviewed."
   ]
  },
  {
   "cell_type": "code",
   "execution_count": 22,
   "id": "3eb44770",
   "metadata": {},
   "outputs": [
    {
     "data": {
      "application/javascript": [
       "\n",
       "            setTimeout(function() {\n",
       "                var nbb_cell_id = 22;\n",
       "                var nbb_unformatted_code = \"resp[\\\"agemarr\\\"] = (resp[\\\"cmmarrhx\\\"] - resp[\\\"cmbirth\\\"]) / 12\\nresp[\\\"age\\\"] = (resp[\\\"cmintvw\\\"] - resp[\\\"cmbirth\\\"]) / 12\";\n",
       "                var nbb_formatted_code = \"resp[\\\"agemarr\\\"] = (resp[\\\"cmmarrhx\\\"] - resp[\\\"cmbirth\\\"]) / 12\\nresp[\\\"age\\\"] = (resp[\\\"cmintvw\\\"] - resp[\\\"cmbirth\\\"]) / 12\";\n",
       "                var nbb_cells = Jupyter.notebook.get_cells();\n",
       "                for (var i = 0; i < nbb_cells.length; ++i) {\n",
       "                    if (nbb_cells[i].input_prompt_number == nbb_cell_id) {\n",
       "                        if (nbb_cells[i].get_text() == nbb_unformatted_code) {\n",
       "                             nbb_cells[i].set_text(nbb_formatted_code);\n",
       "                        }\n",
       "                        break;\n",
       "                    }\n",
       "                }\n",
       "            }, 500);\n",
       "            "
      ],
      "text/plain": [
       "<IPython.core.display.Javascript object>"
      ]
     },
     "metadata": {},
     "output_type": "display_data"
    }
   ],
   "source": [
    "resp[\"agemarr\"] = (resp[\"cmmarrhx\"] - resp[\"cmbirth\"]) / 12\n",
    "resp[\"age\"] = (resp[\"cmintvw\"] - resp[\"cmbirth\"]) / 12"
   ]
  },
  {
   "cell_type": "markdown",
   "id": "19b69173",
   "metadata": {},
   "source": [
    "To get started with this data, we'll use the following function, which takes as parameters the dataset and a list of cohorts.\n",
    "For each cohort, it selects their ages at first marriage and uses to compute a survival function.\n",
    "The `dropna=False` argument tells `Surv.from_seq` to include `NaN` values in the survival function, so the result includes people who have not married.\n",
    "\n",
    "The function returns a dictionary that maps from each integer cohort to a `Surv` object.\n",
    "Note: This function is not correct -- in later sections we'll see what the problem is and fix it."
   ]
  },
  {
   "cell_type": "code",
   "execution_count": 23,
   "id": "fc4be0d4",
   "metadata": {},
   "outputs": [
    {
     "data": {
      "application/javascript": [
       "\n",
       "            setTimeout(function() {\n",
       "                var nbb_cell_id = 23;\n",
       "                var nbb_unformatted_code = \"from empiricaldist import Surv\\n\\n\\ndef make_survival_map(resp, cohorts):\\n    surv_map = {}\\n\\n    grouped = resp.groupby(\\\"cohort\\\")\\n    for cohort in cohorts:\\n        group = grouped.get_group(cohort)\\n        surv_map[cohort] = Surv.from_seq(group[\\\"agemarr\\\"], dropna=False)\\n\\n    return surv_map\";\n",
       "                var nbb_formatted_code = \"from empiricaldist import Surv\\n\\n\\ndef make_survival_map(resp, cohorts):\\n    surv_map = {}\\n\\n    grouped = resp.groupby(\\\"cohort\\\")\\n    for cohort in cohorts:\\n        group = grouped.get_group(cohort)\\n        surv_map[cohort] = Surv.from_seq(group[\\\"agemarr\\\"], dropna=False)\\n\\n    return surv_map\";\n",
       "                var nbb_cells = Jupyter.notebook.get_cells();\n",
       "                for (var i = 0; i < nbb_cells.length; ++i) {\n",
       "                    if (nbb_cells[i].input_prompt_number == nbb_cell_id) {\n",
       "                        if (nbb_cells[i].get_text() == nbb_unformatted_code) {\n",
       "                             nbb_cells[i].set_text(nbb_formatted_code);\n",
       "                        }\n",
       "                        break;\n",
       "                    }\n",
       "                }\n",
       "            }, 500);\n",
       "            "
      ],
      "text/plain": [
       "<IPython.core.display.Javascript object>"
      ]
     },
     "metadata": {},
     "output_type": "display_data"
    }
   ],
   "source": [
    "from empiricaldist import Surv\n",
    "\n",
    "\n",
    "def make_survival_map(resp, cohorts):\n",
    "    surv_map = {}\n",
    "\n",
    "    grouped = resp.groupby(\"cohort\")\n",
    "    for cohort in cohorts:\n",
    "        group = grouped.get_group(cohort)\n",
    "        surv_map[cohort] = Surv.from_seq(group[\"agemarr\"], dropna=False)\n",
    "\n",
    "    return surv_map"
   ]
  },
  {
   "cell_type": "markdown",
   "id": "11347e50",
   "metadata": {},
   "source": [
    "Here's how we use this function."
   ]
  },
  {
   "cell_type": "code",
   "execution_count": 24,
   "id": "2df6e305",
   "metadata": {},
   "outputs": [
    {
     "data": {
      "application/javascript": [
       "\n",
       "            setTimeout(function() {\n",
       "                var nbb_cell_id = 24;\n",
       "                var nbb_unformatted_code = \"cohorts = [1980, 1960, 1940]\\nsurv_map = make_survival_map(resp, cohorts)\";\n",
       "                var nbb_formatted_code = \"cohorts = [1980, 1960, 1940]\\nsurv_map = make_survival_map(resp, cohorts)\";\n",
       "                var nbb_cells = Jupyter.notebook.get_cells();\n",
       "                for (var i = 0; i < nbb_cells.length; ++i) {\n",
       "                    if (nbb_cells[i].input_prompt_number == nbb_cell_id) {\n",
       "                        if (nbb_cells[i].get_text() == nbb_unformatted_code) {\n",
       "                             nbb_cells[i].set_text(nbb_formatted_code);\n",
       "                        }\n",
       "                        break;\n",
       "                    }\n",
       "                }\n",
       "            }, 500);\n",
       "            "
      ],
      "text/plain": [
       "<IPython.core.display.Javascript object>"
      ]
     },
     "metadata": {},
     "output_type": "display_data"
    }
   ],
   "source": [
    "cohorts = [1980, 1960, 1940]\n",
    "surv_map = make_survival_map(resp, cohorts)"
   ]
  },
  {
   "cell_type": "markdown",
   "id": "e2f4c4a8",
   "metadata": {},
   "source": [
    "And here are the results for people born in the 1940s, 1960s, and 1980s."
   ]
  },
  {
   "cell_type": "code",
   "execution_count": 25,
   "id": "5e64993c",
   "metadata": {},
   "outputs": [
    {
     "data": {
      "image/png": "[encoded data removed]",
      "text/plain": [
       "<Figure size 450x262.5 with 1 Axes>"
      ]
     },
     "metadata": {},
     "output_type": "display_data"
    },
    {
     "data": {
      "application/javascript": [
       "\n",
       "            setTimeout(function() {\n",
       "                var nbb_cell_id = 25;\n",
       "                var nbb_unformatted_code = \"for cohort, surv in surv_map.items():\\n    surv.plot(label=f\\\"{cohort}s\\\")\\n\\ndecorate(xlabel=\\\"Age\\\", ylabel=\\\"Prob never married\\\", ylim=[-0.05, 1.05])\";\n",
       "                var nbb_formatted_code = \"for cohort, surv in surv_map.items():\\n    surv.plot(label=f\\\"{cohort}s\\\")\\n\\ndecorate(xlabel=\\\"Age\\\", ylabel=\\\"Prob never married\\\", ylim=[-0.05, 1.05])\";\n",
       "                var nbb_cells = Jupyter.notebook.get_cells();\n",
       "                for (var i = 0; i < nbb_cells.length; ++i) {\n",
       "                    if (nbb_cells[i].input_prompt_number == nbb_cell_id) {\n",
       "                        if (nbb_cells[i].get_text() == nbb_unformatted_code) {\n",
       "                             nbb_cells[i].set_text(nbb_formatted_code);\n",
       "                        }\n",
       "                        break;\n",
       "                    }\n",
       "                }\n",
       "            }, 500);\n",
       "            "
      ],
      "text/plain": [
       "<IPython.core.display.Javascript object>"
      ]
     },
     "metadata": {},
     "output_type": "display_data"
    }
   ],
   "source": [
    "for cohort, surv in surv_map.items():\n",
    "    surv.plot(label=f\"{cohort}s\")\n",
    "\n",
    "decorate(xlabel=\"Age\", ylabel=\"Prob never married\", ylim=[-0.05, 1.05])"
   ]
  },
  {
   "cell_type": "markdown",
   "id": "be407678",
   "metadata": {},
   "source": [
    "If we take these results at face value, they show that people in earlier generations got married younger, and more of them got married.\n",
    "However, we should not interpret these results yet, because they are not correct.\n",
    "There are two problems we have to address:\n",
    "\n",
    "* As discussed in Section XXX, the NSFG uses stratified sampling, which means that it deliberated oversamples some groups.\n",
    "\n",
    "* This way of computing the survival function does not properly take into account people who are not married yet.\n",
    "\n",
    "For the first problem, we have already seen a solution, weighted resampling.\n",
    "For the second problem, we will need a new method, Kaplan-Meier estimation.\n",
    "We'll start with resampling."
   ]
  },
  {
   "cell_type": "markdown",
   "id": "8ce39ee8",
   "metadata": {},
   "source": [
    "## Weighted Resampling\n",
    "\n",
    "The NSFG dataset includes a column called `finalwgt` that contains each respondent's sampling weight, which is the number of people in the population they represent.\n",
    "We can use these weights during the resampling process to correct for stratified sampling.\n",
    "Here's the function from Section XXX that does it."
   ]
  },
  {
   "cell_type": "code",
   "execution_count": 26,
   "id": "d364c99d",
   "metadata": {},
   "outputs": [
    {
     "data": {
      "application/javascript": [
       "\n",
       "            setTimeout(function() {\n",
       "                var nbb_cell_id = 26;\n",
       "                var nbb_unformatted_code = \"def resample_rows_weighted(df, column=\\\"finalwgt\\\"):\\n    n = len(df)\\n    weights = df[column]\\n    return df.sample(n, weights=weights, replace=True)\";\n",
       "                var nbb_formatted_code = \"def resample_rows_weighted(df, column=\\\"finalwgt\\\"):\\n    n = len(df)\\n    weights = df[column]\\n    return df.sample(n, weights=weights, replace=True)\";\n",
       "                var nbb_cells = Jupyter.notebook.get_cells();\n",
       "                for (var i = 0; i < nbb_cells.length; ++i) {\n",
       "                    if (nbb_cells[i].input_prompt_number == nbb_cell_id) {\n",
       "                        if (nbb_cells[i].get_text() == nbb_unformatted_code) {\n",
       "                             nbb_cells[i].set_text(nbb_formatted_code);\n",
       "                        }\n",
       "                        break;\n",
       "                    }\n",
       "                }\n",
       "            }, 500);\n",
       "            "
      ],
      "text/plain": [
       "<IPython.core.display.Javascript object>"
      ]
     },
     "metadata": {},
     "output_type": "display_data"
    }
   ],
   "source": [
    "def resample_rows_weighted(df, column=\"finalwgt\"):\n",
    "    n = len(df)\n",
    "    weights = df[column]\n",
    "    return df.sample(n, weights=weights, replace=True)"
   ]
  },
  {
   "cell_type": "markdown",
   "id": "8aa60206",
   "metadata": {},
   "source": [
    "The current dataset includes respondents from several iterations of the survey, called cycles, so in order to resample, we have to group the respondents by cycle, resample each group, and then put the groups back together.\n",
    "That's what the following function does."
   ]
  },
  {
   "cell_type": "code",
   "execution_count": 27,
   "id": "3114969b",
   "metadata": {},
   "outputs": [
    {
     "data": {
      "application/javascript": [
       "\n",
       "            setTimeout(function() {\n",
       "                var nbb_cell_id = 27;\n",
       "                var nbb_unformatted_code = \"def resample_cycles(resp):\\n    grouped = resp.groupby(\\\"cycle\\\")\\n    samples = [resample_rows_weighted(group) for _, group in grouped]\\n    return pd.concat(samples)\";\n",
       "                var nbb_formatted_code = \"def resample_cycles(resp):\\n    grouped = resp.groupby(\\\"cycle\\\")\\n    samples = [resample_rows_weighted(group) for _, group in grouped]\\n    return pd.concat(samples)\";\n",
       "                var nbb_cells = Jupyter.notebook.get_cells();\n",
       "                for (var i = 0; i < nbb_cells.length; ++i) {\n",
       "                    if (nbb_cells[i].input_prompt_number == nbb_cell_id) {\n",
       "                        if (nbb_cells[i].get_text() == nbb_unformatted_code) {\n",
       "                             nbb_cells[i].set_text(nbb_formatted_code);\n",
       "                        }\n",
       "                        break;\n",
       "                    }\n",
       "                }\n",
       "            }, 500);\n",
       "            "
      ],
      "text/plain": [
       "<IPython.core.display.Javascript object>"
      ]
     },
     "metadata": {},
     "output_type": "display_data"
    }
   ],
   "source": [
    "def resample_cycles(resp):\n",
    "    grouped = resp.groupby(\"cycle\")\n",
    "    samples = [resample_rows_weighted(group) for _, group in grouped]\n",
    "    return pd.concat(samples)"
   ]
  },
  {
   "cell_type": "markdown",
   "id": "21a1d844",
   "metadata": {},
   "source": [
    "To get started, we'll resample the data once."
   ]
  },
  {
   "cell_type": "code",
   "execution_count": 28,
   "id": "2057504b",
   "metadata": {},
   "outputs": [
    {
     "data": {
      "application/javascript": [
       "\n",
       "            setTimeout(function() {\n",
       "                var nbb_cell_id = 28;\n",
       "                var nbb_unformatted_code = \"sample = resample_cycles(resp)\";\n",
       "                var nbb_formatted_code = \"sample = resample_cycles(resp)\";\n",
       "                var nbb_cells = Jupyter.notebook.get_cells();\n",
       "                for (var i = 0; i < nbb_cells.length; ++i) {\n",
       "                    if (nbb_cells[i].input_prompt_number == nbb_cell_id) {\n",
       "                        if (nbb_cells[i].get_text() == nbb_unformatted_code) {\n",
       "                             nbb_cells[i].set_text(nbb_formatted_code);\n",
       "                        }\n",
       "                        break;\n",
       "                    }\n",
       "                }\n",
       "            }, 500);\n",
       "            "
      ],
      "text/plain": [
       "<IPython.core.display.Javascript object>"
      ]
     },
     "metadata": {},
     "output_type": "display_data"
    }
   ],
   "source": [
    "sample = resample_cycles(resp)"
   ]
  },
  {
   "cell_type": "markdown",
   "id": "4b53774e",
   "metadata": {},
   "source": [
    "Later we'll resample the data several times, so we can see how much variation there is due to random sample.\n",
    "\n",
    "The following figure shows the results with resampling, compared to the results from the previous section without resampling, shown as dotted lines."
   ]
  },
  {
   "cell_type": "code",
   "execution_count": 29,
   "id": "1dbee61f",
   "metadata": {},
   "outputs": [
    {
     "data": {
      "image/png": "[encoded data removed]",
      "text/plain": [
       "<Figure size 450x262.5 with 1 Axes>"
      ]
     },
     "metadata": {},
     "output_type": "display_data"
    },
    {
     "data": {
      "application/javascript": [
       "\n",
       "            setTimeout(function() {\n",
       "                var nbb_cell_id = 29;\n",
       "                var nbb_unformatted_code = \"for label, surv in surv_map.items():\\n    surv.plot(ls=\\\":\\\", color=\\\"gray\\\", alpha=0.8)\\n\\nsurvs_resampled = make_survival_map(sample, cohorts)\\n\\nfor label, surv in survs_resampled.items():\\n    surv.plot(label=label)\\n\\ndecorate(xlabel=\\\"Age\\\", ylabel=\\\"Prob never married\\\", ylim=[-0.05, 1.05])\";\n",
       "                var nbb_formatted_code = \"for label, surv in surv_map.items():\\n    surv.plot(ls=\\\":\\\", color=\\\"gray\\\", alpha=0.8)\\n\\nsurvs_resampled = make_survival_map(sample, cohorts)\\n\\nfor label, surv in survs_resampled.items():\\n    surv.plot(label=label)\\n\\ndecorate(xlabel=\\\"Age\\\", ylabel=\\\"Prob never married\\\", ylim=[-0.05, 1.05])\";\n",
       "                var nbb_cells = Jupyter.notebook.get_cells();\n",
       "                for (var i = 0; i < nbb_cells.length; ++i) {\n",
       "                    if (nbb_cells[i].input_prompt_number == nbb_cell_id) {\n",
       "                        if (nbb_cells[i].get_text() == nbb_unformatted_code) {\n",
       "                             nbb_cells[i].set_text(nbb_formatted_code);\n",
       "                        }\n",
       "                        break;\n",
       "                    }\n",
       "                }\n",
       "            }, 500);\n",
       "            "
      ],
      "text/plain": [
       "<IPython.core.display.Javascript object>"
      ]
     },
     "metadata": {},
     "output_type": "display_data"
    }
   ],
   "source": [
    "for label, surv in surv_map.items():\n",
    "    surv.plot(ls=\":\", color=\"gray\", alpha=0.8)\n",
    "\n",
    "survs_resampled = make_survival_map(sample, cohorts)\n",
    "\n",
    "for label, surv in survs_resampled.items():\n",
    "    surv.plot(label=label)\n",
    "\n",
    "decorate(xlabel=\"Age\", ylabel=\"Prob never married\", ylim=[-0.05, 1.05])"
   ]
  },
  {
   "cell_type": "markdown",
   "id": "248037b7",
   "metadata": {},
   "source": [
    "The difference, with and without resampling, is substantial, which shows that we need to correct for stratified sampling to get accurate results.\n",
    "\n",
    "Now let's get to the second problem, dealing with incomplete data."
   ]
  },
  {
   "cell_type": "markdown",
   "id": "e76885a6",
   "metadata": {},
   "source": [
    "## Estimating Survival Functions\n",
    "\n",
    "In the light bulb example, we know the life spans for all 50 bulbs, so we can compute the survival function directly -- and we can use the survival function to compute the hazard function.\n",
    "\n",
    "In the marriage example, we know the age at first marriage for some respondents, the ones who had been married before they were interviewed.\n",
    "But for respondents who had had never married before they were interviewed, we don't know at what age they will marry in the future -- or if they will.\n",
    "\n",
    "This kind of missing data is said to be **censored**.\n",
    "That term might seem odd, because censored information is usually hidden deliberately, but in this case it is hidden just because we don't know the future.\n",
    "\n",
    "However, in this case we have partial information we can work with: if someone is unmarried when they are surveyed, we know that the age when they get married (if they do) must be greater than their current age.\n",
    "\n",
    "We can use this partial information to estimate the hazard function; then we can use the hazard function to compute the survival function.\n",
    "This process is called **Kaplan-Meier estimation**.\n",
    "\n",
    "To demonstrate, I'll select just one cohort from the resampled data."
   ]
  },
  {
   "cell_type": "code",
   "execution_count": 30,
   "id": "4ebb98a2",
   "metadata": {},
   "outputs": [
    {
     "data": {
      "application/javascript": [
       "\n",
       "            setTimeout(function() {\n",
       "                var nbb_cell_id = 30;\n",
       "                var nbb_unformatted_code = \"resp60 = sample.query(\\\"cohort == 1960\\\")\";\n",
       "                var nbb_formatted_code = \"resp60 = sample.query(\\\"cohort == 1960\\\")\";\n",
       "                var nbb_cells = Jupyter.notebook.get_cells();\n",
       "                for (var i = 0; i < nbb_cells.length; ++i) {\n",
       "                    if (nbb_cells[i].input_prompt_number == nbb_cell_id) {\n",
       "                        if (nbb_cells[i].get_text() == nbb_unformatted_code) {\n",
       "                             nbb_cells[i].set_text(nbb_formatted_code);\n",
       "                        }\n",
       "                        break;\n",
       "                    }\n",
       "                }\n",
       "            }, 500);\n",
       "            "
      ],
      "text/plain": [
       "<IPython.core.display.Javascript object>"
      ]
     },
     "metadata": {},
     "output_type": "display_data"
    }
   ],
   "source": [
    "resp60 = sample.query(\"cohort == 1960\")"
   ]
  },
  {
   "cell_type": "markdown",
   "id": "b5d61e64",
   "metadata": {},
   "source": [
    "For respondents who were married when they were surveyed, we'll select their age at first marriage.\n",
    "There are 10,222 of them, which we'll call \"completed\" cases."
   ]
  },
  {
   "cell_type": "code",
   "execution_count": 31,
   "id": "ec4d381b",
   "metadata": {},
   "outputs": [
    {
     "data": {
      "text/plain": [
       "10111"
      ]
     },
     "execution_count": 31,
     "metadata": {},
     "output_type": "execute_result"
    },
    {
     "data": {
      "application/javascript": [
       "\n",
       "            setTimeout(function() {\n",
       "                var nbb_cell_id = 31;\n",
       "                var nbb_unformatted_code = \"complete = resp60.query(\\\"evrmarry == 1\\\")[\\\"agemarr\\\"]\\ncomplete.count()\";\n",
       "                var nbb_formatted_code = \"complete = resp60.query(\\\"evrmarry == 1\\\")[\\\"agemarr\\\"]\\ncomplete.count()\";\n",
       "                var nbb_cells = Jupyter.notebook.get_cells();\n",
       "                for (var i = 0; i < nbb_cells.length; ++i) {\n",
       "                    if (nbb_cells[i].input_prompt_number == nbb_cell_id) {\n",
       "                        if (nbb_cells[i].get_text() == nbb_unformatted_code) {\n",
       "                             nbb_cells[i].set_text(nbb_formatted_code);\n",
       "                        }\n",
       "                        break;\n",
       "                    }\n",
       "                }\n",
       "            }, 500);\n",
       "            "
      ],
      "text/plain": [
       "<IPython.core.display.Javascript object>"
      ]
     },
     "metadata": {},
     "output_type": "display_data"
    }
   ],
   "source": [
    "complete = resp60.query(\"evrmarry == 1\")[\"agemarr\"]\n",
    "complete.count()"
   ]
  },
  {
   "cell_type": "markdown",
   "id": "4621c1e7",
   "metadata": {},
   "source": [
    "For respondents who had not married, we'll select their age when they were surveyed.\n",
    "There are 5,501 of them, which we'll call the \"ongoing\" cases."
   ]
  },
  {
   "cell_type": "code",
   "execution_count": 32,
   "id": "694093e2",
   "metadata": {},
   "outputs": [
    {
     "data": {
      "text/plain": [
       "5391"
      ]
     },
     "execution_count": 32,
     "metadata": {},
     "output_type": "execute_result"
    },
    {
     "data": {
      "application/javascript": [
       "\n",
       "            setTimeout(function() {\n",
       "                var nbb_cell_id = 32;\n",
       "                var nbb_unformatted_code = \"ongoing = resp60.query(\\\"evrmarry == 0\\\")[\\\"age\\\"]\\nongoing.count()\";\n",
       "                var nbb_formatted_code = \"ongoing = resp60.query(\\\"evrmarry == 0\\\")[\\\"age\\\"]\\nongoing.count()\";\n",
       "                var nbb_cells = Jupyter.notebook.get_cells();\n",
       "                for (var i = 0; i < nbb_cells.length; ++i) {\n",
       "                    if (nbb_cells[i].input_prompt_number == nbb_cell_id) {\n",
       "                        if (nbb_cells[i].get_text() == nbb_unformatted_code) {\n",
       "                             nbb_cells[i].set_text(nbb_formatted_code);\n",
       "                        }\n",
       "                        break;\n",
       "                    }\n",
       "                }\n",
       "            }, 500);\n",
       "            "
      ],
      "text/plain": [
       "<IPython.core.display.Javascript object>"
      ]
     },
     "metadata": {},
     "output_type": "display_data"
    }
   ],
   "source": [
    "ongoing = resp60.query(\"evrmarry == 0\")[\"age\"]\n",
    "ongoing.count()"
   ]
  },
  {
   "cell_type": "markdown",
   "id": "f6e4e639",
   "metadata": {},
   "source": [
    "Now, to estimate the hazard function, we'll compute the total number of cases that were \"at risk\" at each age, including everyone who was unmarried up to that age.\n",
    "It will be convenient to make a `Hist` object that counts the number of complete and ongoing cases at each age."
   ]
  },
  {
   "cell_type": "code",
   "execution_count": 33,
   "id": "93387c6a",
   "metadata": {},
   "outputs": [
    {
     "data": {
      "application/javascript": [
       "\n",
       "            setTimeout(function() {\n",
       "                var nbb_cell_id = 33;\n",
       "                var nbb_unformatted_code = \"from empiricaldist import Hist\\n\\nhist_complete = Hist.from_seq(complete)\\nhist_ongoing = Hist.from_seq(ongoing)\";\n",
       "                var nbb_formatted_code = \"from empiricaldist import Hist\\n\\nhist_complete = Hist.from_seq(complete)\\nhist_ongoing = Hist.from_seq(ongoing)\";\n",
       "                var nbb_cells = Jupyter.notebook.get_cells();\n",
       "                for (var i = 0; i < nbb_cells.length; ++i) {\n",
       "                    if (nbb_cells[i].input_prompt_number == nbb_cell_id) {\n",
       "                        if (nbb_cells[i].get_text() == nbb_unformatted_code) {\n",
       "                             nbb_cells[i].set_text(nbb_formatted_code);\n",
       "                        }\n",
       "                        break;\n",
       "                    }\n",
       "                }\n",
       "            }, 500);\n",
       "            "
      ],
      "text/plain": [
       "<IPython.core.display.Javascript object>"
      ]
     },
     "metadata": {},
     "output_type": "display_data"
    }
   ],
   "source": [
    "from empiricaldist import Hist\n",
    "\n",
    "hist_complete = Hist.from_seq(complete)\n",
    "hist_ongoing = Hist.from_seq(ongoing)"
   ]
  },
  {
   "cell_type": "markdown",
   "id": "9bf56293",
   "metadata": {},
   "source": [
    "As an example, there are 87 respondents who reported that they were married for the first time at age 25."
   ]
  },
  {
   "cell_type": "code",
   "execution_count": 34,
   "id": "6f4d2c49",
   "metadata": {},
   "outputs": [
    {
     "data": {
      "text/plain": [
       "62"
      ]
     },
     "execution_count": 34,
     "metadata": {},
     "output_type": "execute_result"
    },
    {
     "data": {
      "application/javascript": [
       "\n",
       "            setTimeout(function() {\n",
       "                var nbb_cell_id = 34;\n",
       "                var nbb_unformatted_code = \"hist_complete[25]\";\n",
       "                var nbb_formatted_code = \"hist_complete[25]\";\n",
       "                var nbb_cells = Jupyter.notebook.get_cells();\n",
       "                for (var i = 0; i < nbb_cells.length; ++i) {\n",
       "                    if (nbb_cells[i].input_prompt_number == nbb_cell_id) {\n",
       "                        if (nbb_cells[i].get_text() == nbb_unformatted_code) {\n",
       "                             nbb_cells[i].set_text(nbb_formatted_code);\n",
       "                        }\n",
       "                        break;\n",
       "                    }\n",
       "                }\n",
       "            }, 500);\n",
       "            "
      ],
      "text/plain": [
       "<IPython.core.display.Javascript object>"
      ]
     },
     "metadata": {},
     "output_type": "display_data"
    }
   ],
   "source": [
    "hist_complete[25]"
   ]
  },
  {
   "cell_type": "markdown",
   "id": "ebe807ef",
   "metadata": {},
   "source": [
    "And another 13 respondents who were surveyed at age 25 and reported that they had never married."
   ]
  },
  {
   "cell_type": "code",
   "execution_count": 35,
   "id": "7d234834",
   "metadata": {},
   "outputs": [
    {
     "data": {
      "text/plain": [
       "6"
      ]
     },
     "execution_count": 35,
     "metadata": {},
     "output_type": "execute_result"
    },
    {
     "data": {
      "application/javascript": [
       "\n",
       "            setTimeout(function() {\n",
       "                var nbb_cell_id = 35;\n",
       "                var nbb_unformatted_code = \"hist_ongoing[25]\";\n",
       "                var nbb_formatted_code = \"hist_ongoing[25]\";\n",
       "                var nbb_cells = Jupyter.notebook.get_cells();\n",
       "                for (var i = 0; i < nbb_cells.length; ++i) {\n",
       "                    if (nbb_cells[i].input_prompt_number == nbb_cell_id) {\n",
       "                        if (nbb_cells[i].get_text() == nbb_unformatted_code) {\n",
       "                             nbb_cells[i].set_text(nbb_formatted_code);\n",
       "                        }\n",
       "                        break;\n",
       "                    }\n",
       "                }\n",
       "            }, 500);\n",
       "            "
      ],
      "text/plain": [
       "<IPython.core.display.Javascript object>"
      ]
     },
     "metadata": {},
     "output_type": "display_data"
    }
   ],
   "source": [
    "hist_ongoing[25]"
   ]
  },
  {
   "cell_type": "markdown",
   "id": "4f416761",
   "metadata": {},
   "source": [
    "From these `Hist` objects, we can compute unnormalized `Surv` objects that contain the number of complete and ongoing cases that exceed each age."
   ]
  },
  {
   "cell_type": "code",
   "execution_count": 36,
   "id": "730cc280",
   "metadata": {},
   "outputs": [
    {
     "data": {
      "application/javascript": [
       "\n",
       "            setTimeout(function() {\n",
       "                var nbb_cell_id = 36;\n",
       "                var nbb_unformatted_code = \"surv_complete = hist_complete.make_surv()\\nsurv_ongoing = hist_ongoing.make_surv()\";\n",
       "                var nbb_formatted_code = \"surv_complete = hist_complete.make_surv()\\nsurv_ongoing = hist_ongoing.make_surv()\";\n",
       "                var nbb_cells = Jupyter.notebook.get_cells();\n",
       "                for (var i = 0; i < nbb_cells.length; ++i) {\n",
       "                    if (nbb_cells[i].input_prompt_number == nbb_cell_id) {\n",
       "                        if (nbb_cells[i].get_text() == nbb_unformatted_code) {\n",
       "                             nbb_cells[i].set_text(nbb_formatted_code);\n",
       "                        }\n",
       "                        break;\n",
       "                    }\n",
       "                }\n",
       "            }, 500);\n",
       "            "
      ],
      "text/plain": [
       "<IPython.core.display.Javascript object>"
      ]
     },
     "metadata": {},
     "output_type": "display_data"
    }
   ],
   "source": [
    "surv_complete = hist_complete.make_surv()\n",
    "surv_ongoing = hist_ongoing.make_surv()"
   ]
  },
  {
   "cell_type": "markdown",
   "id": "94879f5b",
   "metadata": {},
   "source": [
    "For example, there are 2937 people who reported getting married after age 25."
   ]
  },
  {
   "cell_type": "code",
   "execution_count": 37,
   "id": "8f591e82",
   "metadata": {},
   "outputs": [
    {
     "data": {
      "text/plain": [
       "2878"
      ]
     },
     "execution_count": 37,
     "metadata": {},
     "output_type": "execute_result"
    },
    {
     "data": {
      "application/javascript": [
       "\n",
       "            setTimeout(function() {\n",
       "                var nbb_cell_id = 37;\n",
       "                var nbb_unformatted_code = \"surv_complete[25]\";\n",
       "                var nbb_formatted_code = \"surv_complete[25]\";\n",
       "                var nbb_cells = Jupyter.notebook.get_cells();\n",
       "                for (var i = 0; i < nbb_cells.length; ++i) {\n",
       "                    if (nbb_cells[i].input_prompt_number == nbb_cell_id) {\n",
       "                        if (nbb_cells[i].get_text() == nbb_unformatted_code) {\n",
       "                             nbb_cells[i].set_text(nbb_formatted_code);\n",
       "                        }\n",
       "                        break;\n",
       "                    }\n",
       "                }\n",
       "            }, 500);\n",
       "            "
      ],
      "text/plain": [
       "<IPython.core.display.Javascript object>"
      ]
     },
     "metadata": {},
     "output_type": "display_data"
    }
   ],
   "source": [
    "surv_complete[25]"
   ]
  },
  {
   "cell_type": "markdown",
   "id": "33c7f072",
   "metadata": {},
   "source": [
    "And 2306 people surveyed after age 25 who had never married."
   ]
  },
  {
   "cell_type": "code",
   "execution_count": 38,
   "id": "b8662dac",
   "metadata": {},
   "outputs": [
    {
     "data": {
      "text/plain": [
       "2161"
      ]
     },
     "execution_count": 38,
     "metadata": {},
     "output_type": "execute_result"
    },
    {
     "data": {
      "application/javascript": [
       "\n",
       "            setTimeout(function() {\n",
       "                var nbb_cell_id = 38;\n",
       "                var nbb_unformatted_code = \"surv_ongoing[25]\";\n",
       "                var nbb_formatted_code = \"surv_ongoing[25]\";\n",
       "                var nbb_cells = Jupyter.notebook.get_cells();\n",
       "                for (var i = 0; i < nbb_cells.length; ++i) {\n",
       "                    if (nbb_cells[i].input_prompt_number == nbb_cell_id) {\n",
       "                        if (nbb_cells[i].get_text() == nbb_unformatted_code) {\n",
       "                             nbb_cells[i].set_text(nbb_formatted_code);\n",
       "                        }\n",
       "                        break;\n",
       "                    }\n",
       "                }\n",
       "            }, 500);\n",
       "            "
      ],
      "text/plain": [
       "<IPython.core.display.Javascript object>"
      ]
     },
     "metadata": {},
     "output_type": "display_data"
    }
   ],
   "source": [
    "surv_ongoing[25]"
   ]
  },
  {
   "cell_type": "markdown",
   "id": "fea57db5",
   "metadata": {},
   "source": [
    "The sum of the four numbers we just computed is the number of respondents who were \"at risk\" -- that is, people who could have married at age 25."
   ]
  },
  {
   "cell_type": "code",
   "execution_count": 39,
   "id": "c931e932",
   "metadata": {},
   "outputs": [
    {
     "data": {
      "text/plain": [
       "5107"
      ]
     },
     "execution_count": 39,
     "metadata": {},
     "output_type": "execute_result"
    },
    {
     "data": {
      "application/javascript": [
       "\n",
       "            setTimeout(function() {\n",
       "                var nbb_cell_id = 39;\n",
       "                var nbb_unformatted_code = \"at_risk = hist_complete[25] + hist_ongoing[25] + surv_complete[25] + surv_ongoing[25]\\nat_risk\";\n",
       "                var nbb_formatted_code = \"at_risk = hist_complete[25] + hist_ongoing[25] + surv_complete[25] + surv_ongoing[25]\\nat_risk\";\n",
       "                var nbb_cells = Jupyter.notebook.get_cells();\n",
       "                for (var i = 0; i < nbb_cells.length; ++i) {\n",
       "                    if (nbb_cells[i].input_prompt_number == nbb_cell_id) {\n",
       "                        if (nbb_cells[i].get_text() == nbb_unformatted_code) {\n",
       "                             nbb_cells[i].set_text(nbb_formatted_code);\n",
       "                        }\n",
       "                        break;\n",
       "                    }\n",
       "                }\n",
       "            }, 500);\n",
       "            "
      ],
      "text/plain": [
       "<IPython.core.display.Javascript object>"
      ]
     },
     "metadata": {},
     "output_type": "display_data"
    }
   ],
   "source": [
    "at_risk = hist_complete[25] + hist_ongoing[25] + surv_complete[25] + surv_ongoing[25]\n",
    "at_risk"
   ]
  },
  {
   "cell_type": "markdown",
   "id": "dabb90e5",
   "metadata": {},
   "source": [
    "Of those, the number who actually married at age 25 is `hist_complete[25]`.\n",
    "So we can compute the hazard function at age 25 like this."
   ]
  },
  {
   "cell_type": "code",
   "execution_count": 40,
   "id": "81c6dece",
   "metadata": {},
   "outputs": [
    {
     "data": {
      "text/plain": [
       "0.012140199725866458"
      ]
     },
     "execution_count": 40,
     "metadata": {},
     "output_type": "execute_result"
    },
    {
     "data": {
      "application/javascript": [
       "\n",
       "            setTimeout(function() {\n",
       "                var nbb_cell_id = 40;\n",
       "                var nbb_unformatted_code = \"hazard = hist_complete[25] / at_risk\\nhazard\";\n",
       "                var nbb_formatted_code = \"hazard = hist_complete[25] / at_risk\\nhazard\";\n",
       "                var nbb_cells = Jupyter.notebook.get_cells();\n",
       "                for (var i = 0; i < nbb_cells.length; ++i) {\n",
       "                    if (nbb_cells[i].input_prompt_number == nbb_cell_id) {\n",
       "                        if (nbb_cells[i].get_text() == nbb_unformatted_code) {\n",
       "                             nbb_cells[i].set_text(nbb_formatted_code);\n",
       "                        }\n",
       "                        break;\n",
       "                    }\n",
       "                }\n",
       "            }, 500);\n",
       "            "
      ],
      "text/plain": [
       "<IPython.core.display.Javascript object>"
      ]
     },
     "metadata": {},
     "output_type": "display_data"
    }
   ],
   "source": [
    "hazard = hist_complete[25] / at_risk\n",
    "hazard"
   ]
  },
  {
   "cell_type": "markdown",
   "id": "f2d412b3",
   "metadata": {},
   "source": [
    "That's how we can compute the hazard function at a single age.\n",
    "Now let's compute the whole function, for all ages.\n",
    "We'll use the `union` method of the `Index` class to compute a Pandas `Index` that contains all of the ages from `hist_complete` and `hist_ongoing`, in order."
   ]
  },
  {
   "cell_type": "code",
   "execution_count": 41,
   "id": "5c6fa0c0",
   "metadata": {},
   "outputs": [
    {
     "data": {
      "application/javascript": [
       "\n",
       "            setTimeout(function() {\n",
       "                var nbb_cell_id = 41;\n",
       "                var nbb_unformatted_code = \"ts = pd.Index.union(hist_complete.index, hist_ongoing.index)\";\n",
       "                var nbb_formatted_code = \"ts = pd.Index.union(hist_complete.index, hist_ongoing.index)\";\n",
       "                var nbb_cells = Jupyter.notebook.get_cells();\n",
       "                for (var i = 0; i < nbb_cells.length; ++i) {\n",
       "                    if (nbb_cells[i].input_prompt_number == nbb_cell_id) {\n",
       "                        if (nbb_cells[i].get_text() == nbb_unformatted_code) {\n",
       "                             nbb_cells[i].set_text(nbb_formatted_code);\n",
       "                        }\n",
       "                        break;\n",
       "                    }\n",
       "                }\n",
       "            }, 500);\n",
       "            "
      ],
      "text/plain": [
       "<IPython.core.display.Javascript object>"
      ]
     },
     "metadata": {},
     "output_type": "display_data"
    }
   ],
   "source": [
    "ts = pd.Index.union(hist_complete.index, hist_ongoing.index)"
   ]
  },
  {
   "cell_type": "markdown",
   "id": "05e430ae",
   "metadata": {},
   "source": [
    "Now we can compute the number of people at risk at every age, by looking up the ages in `ts` in each of the  `Hist` and `Surv` objects."
   ]
  },
  {
   "cell_type": "code",
   "execution_count": 42,
   "id": "c6fe9eb3",
   "metadata": {},
   "outputs": [
    {
     "data": {
      "application/javascript": [
       "\n",
       "            setTimeout(function() {\n",
       "                var nbb_cell_id = 42;\n",
       "                var nbb_unformatted_code = \"at_risk = hist_complete(ts) + hist_ongoing(ts) + surv_complete(ts) + surv_ongoing(ts)\";\n",
       "                var nbb_formatted_code = \"at_risk = hist_complete(ts) + hist_ongoing(ts) + surv_complete(ts) + surv_ongoing(ts)\";\n",
       "                var nbb_cells = Jupyter.notebook.get_cells();\n",
       "                for (var i = 0; i < nbb_cells.length; ++i) {\n",
       "                    if (nbb_cells[i].input_prompt_number == nbb_cell_id) {\n",
       "                        if (nbb_cells[i].get_text() == nbb_unformatted_code) {\n",
       "                             nbb_cells[i].set_text(nbb_formatted_code);\n",
       "                        }\n",
       "                        break;\n",
       "                    }\n",
       "                }\n",
       "            }, 500);\n",
       "            "
      ],
      "text/plain": [
       "<IPython.core.display.Javascript object>"
      ]
     },
     "metadata": {},
     "output_type": "display_data"
    }
   ],
   "source": [
    "at_risk = hist_complete(ts) + hist_ongoing(ts) + surv_complete(ts) + surv_ongoing(ts)"
   ]
  },
  {
   "cell_type": "markdown",
   "id": "0246dcab",
   "metadata": {},
   "source": [
    "Finally, we can compute the hazard function at each age, and put the results into a `Hazard` object."
   ]
  },
  {
   "cell_type": "code",
   "execution_count": 43,
   "id": "6a2c4292",
   "metadata": {},
   "outputs": [
    {
     "data": {
      "application/javascript": [
       "\n",
       "            setTimeout(function() {\n",
       "                var nbb_cell_id = 43;\n",
       "                var nbb_unformatted_code = \"from empiricaldist import Hazard\\n\\nhs = hist_complete(ts) / at_risk\\nhazard = Hazard(hs, ts)\";\n",
       "                var nbb_formatted_code = \"from empiricaldist import Hazard\\n\\nhs = hist_complete(ts) / at_risk\\nhazard = Hazard(hs, ts)\";\n",
       "                var nbb_cells = Jupyter.notebook.get_cells();\n",
       "                for (var i = 0; i < nbb_cells.length; ++i) {\n",
       "                    if (nbb_cells[i].input_prompt_number == nbb_cell_id) {\n",
       "                        if (nbb_cells[i].get_text() == nbb_unformatted_code) {\n",
       "                             nbb_cells[i].set_text(nbb_formatted_code);\n",
       "                        }\n",
       "                        break;\n",
       "                    }\n",
       "                }\n",
       "            }, 500);\n",
       "            "
      ],
      "text/plain": [
       "<IPython.core.display.Javascript object>"
      ]
     },
     "metadata": {},
     "output_type": "display_data"
    }
   ],
   "source": [
    "from empiricaldist import Hazard\n",
    "\n",
    "hs = hist_complete(ts) / at_risk\n",
    "hazard = Hazard(hs, ts)"
   ]
  },
  {
   "cell_type": "markdown",
   "id": "14e45eae",
   "metadata": {},
   "source": [
    "Here's what the cumulative hazard function looks like."
   ]
  },
  {
   "cell_type": "code",
   "execution_count": 44,
   "id": "6f0e2041",
   "metadata": {},
   "outputs": [
    {
     "data": {
      "image/png": "[encoded data removed]",
      "text/plain": [
       "<Figure size 450x262.5 with 1 Axes>"
      ]
     },
     "metadata": {},
     "output_type": "display_data"
    },
    {
     "data": {
      "application/javascript": [
       "\n",
       "            setTimeout(function() {\n",
       "                var nbb_cell_id = 44;\n",
       "                var nbb_unformatted_code = \"hazard.cumsum().plot()\\n\\ndecorate(xlabel=\\\"Age\\\", ylabel=\\\"Cumulative hazard\\\")\";\n",
       "                var nbb_formatted_code = \"hazard.cumsum().plot()\\n\\ndecorate(xlabel=\\\"Age\\\", ylabel=\\\"Cumulative hazard\\\")\";\n",
       "                var nbb_cells = Jupyter.notebook.get_cells();\n",
       "                for (var i = 0; i < nbb_cells.length; ++i) {\n",
       "                    if (nbb_cells[i].input_prompt_number == nbb_cell_id) {\n",
       "                        if (nbb_cells[i].get_text() == nbb_unformatted_code) {\n",
       "                             nbb_cells[i].set_text(nbb_formatted_code);\n",
       "                        }\n",
       "                        break;\n",
       "                    }\n",
       "                }\n",
       "            }, 500);\n",
       "            "
      ],
      "text/plain": [
       "<IPython.core.display.Javascript object>"
      ]
     },
     "metadata": {},
     "output_type": "display_data"
    }
   ],
   "source": [
    "hazard.cumsum().plot()\n",
    "\n",
    "decorate(xlabel=\"Age\", ylabel=\"Cumulative hazard\")"
   ]
  },
  {
   "cell_type": "markdown",
   "id": "d1a94121",
   "metadata": {},
   "source": [
    "The cumulative hazard function is steepest between ages 20 and 30, which means that an unmarried person is in the greatest \"danger\" of getting married at these ages.\n",
    "After that, the hazard gradually decreases."
   ]
  },
  {
   "cell_type": "markdown",
   "id": "7738dfd8",
   "metadata": {},
   "source": [
    "## Estimating the Survival Function\n",
    "\n",
    "If we are given a survival function, we know how to compute the hazard function.\n",
    "Now let's go in the other direction.\n",
    "\n",
    "Here's one way of thinking of it.\n",
    "The hazard function indicates the probability of getting married at each age, if you have not already married.\n",
    "So the complement of the hazard function if the probability of staying unmarried at each age.\n",
    "\n",
    "In order to \"survive\" past a given age, `t`, you have at stay unmarried at every age up to and including `t`.\n",
    "And the probability of doing that is the product of the complementary hazard function, which we can compute like this."
   ]
  },
  {
   "cell_type": "code",
   "execution_count": 45,
   "id": "13eb81c3",
   "metadata": {},
   "outputs": [
    {
     "data": {
      "application/javascript": [
       "\n",
       "            setTimeout(function() {\n",
       "                var nbb_cell_id = 45;\n",
       "                var nbb_unformatted_code = \"ps = (1 - hazard).cumprod()\";\n",
       "                var nbb_formatted_code = \"ps = (1 - hazard).cumprod()\";\n",
       "                var nbb_cells = Jupyter.notebook.get_cells();\n",
       "                for (var i = 0; i < nbb_cells.length; ++i) {\n",
       "                    if (nbb_cells[i].input_prompt_number == nbb_cell_id) {\n",
       "                        if (nbb_cells[i].get_text() == nbb_unformatted_code) {\n",
       "                             nbb_cells[i].set_text(nbb_formatted_code);\n",
       "                        }\n",
       "                        break;\n",
       "                    }\n",
       "                }\n",
       "            }, 500);\n",
       "            "
      ],
      "text/plain": [
       "<IPython.core.display.Javascript object>"
      ]
     },
     "metadata": {},
     "output_type": "display_data"
    }
   ],
   "source": [
    "ps = (1 - hazard).cumprod()"
   ]
  },
  {
   "cell_type": "markdown",
   "id": "67e5e406",
   "metadata": {},
   "source": [
    "The `Hazard` object has a `make_surv` method that does this computation."
   ]
  },
  {
   "cell_type": "code",
   "execution_count": 46,
   "id": "decf8dae",
   "metadata": {},
   "outputs": [
    {
     "data": {
      "application/javascript": [
       "\n",
       "            setTimeout(function() {\n",
       "                var nbb_cell_id = 46;\n",
       "                var nbb_unformatted_code = \"surv = hazard.make_surv()\";\n",
       "                var nbb_formatted_code = \"surv = hazard.make_surv()\";\n",
       "                var nbb_cells = Jupyter.notebook.get_cells();\n",
       "                for (var i = 0; i < nbb_cells.length; ++i) {\n",
       "                    if (nbb_cells[i].input_prompt_number == nbb_cell_id) {\n",
       "                        if (nbb_cells[i].get_text() == nbb_unformatted_code) {\n",
       "                             nbb_cells[i].set_text(nbb_formatted_code);\n",
       "                        }\n",
       "                        break;\n",
       "                    }\n",
       "                }\n",
       "            }, 500);\n",
       "            "
      ],
      "text/plain": [
       "<IPython.core.display.Javascript object>"
      ]
     },
     "metadata": {},
     "output_type": "display_data"
    }
   ],
   "source": [
    "surv = hazard.make_surv()"
   ]
  },
  {
   "cell_type": "markdown",
   "id": "5a95e4c0",
   "metadata": {},
   "source": [
    "Here's what the result looks like, compared to the previous result (dotted line), which corrected for stratified resampling, but did not handle censored data."
   ]
  },
  {
   "cell_type": "code",
   "execution_count": 47,
   "id": "1eac6104",
   "metadata": {},
   "outputs": [
    {
     "data": {
      "image/png": "[encoded data removed]",
      "text/plain": [
       "<Figure size 450x262.5 with 1 Axes>"
      ]
     },
     "metadata": {},
     "output_type": "display_data"
    },
    {
     "data": {
      "application/javascript": [
       "\n",
       "            setTimeout(function() {\n",
       "                var nbb_cell_id = 47;\n",
       "                var nbb_unformatted_code = \"survs_resampled[1960].plot(ls=\\\":\\\", color=\\\"gray\\\", label=\\\"resampled\\\")\\nsurv.plot(label=\\\"Kaplan-Meier\\\")\\n\\ndecorate(xlabel=\\\"Age\\\", ylabel=\\\"Prob never married\\\", ylim=[-0.05, 1.05])\";\n",
       "                var nbb_formatted_code = \"survs_resampled[1960].plot(ls=\\\":\\\", color=\\\"gray\\\", label=\\\"resampled\\\")\\nsurv.plot(label=\\\"Kaplan-Meier\\\")\\n\\ndecorate(xlabel=\\\"Age\\\", ylabel=\\\"Prob never married\\\", ylim=[-0.05, 1.05])\";\n",
       "                var nbb_cells = Jupyter.notebook.get_cells();\n",
       "                for (var i = 0; i < nbb_cells.length; ++i) {\n",
       "                    if (nbb_cells[i].input_prompt_number == nbb_cell_id) {\n",
       "                        if (nbb_cells[i].get_text() == nbb_unformatted_code) {\n",
       "                             nbb_cells[i].set_text(nbb_formatted_code);\n",
       "                        }\n",
       "                        break;\n",
       "                    }\n",
       "                }\n",
       "            }, 500);\n",
       "            "
      ],
      "text/plain": [
       "<IPython.core.display.Javascript object>"
      ]
     },
     "metadata": {},
     "output_type": "display_data"
    }
   ],
   "source": [
    "survs_resampled[1960].plot(ls=\":\", color=\"gray\", label=\"resampled\")\n",
    "surv.plot(label=\"Kaplan-Meier\")\n",
    "\n",
    "decorate(xlabel=\"Age\", ylabel=\"Prob never married\", ylim=[-0.05, 1.05])"
   ]
  },
  {
   "cell_type": "markdown",
   "id": "46eb9a0b",
   "metadata": {},
   "source": [
    "We can see how important it is to handle censored data correctly.\n",
    "\n",
    "The following function encapsulates the steps of Kaplan-Meier estimation.\n",
    "It takes as arguments sequences of survival times for complete and ongoing cases, and returns a `Hazard` object."
   ]
  },
  {
   "cell_type": "code",
   "execution_count": 48,
   "id": "49ceaeb4",
   "metadata": {},
   "outputs": [
    {
     "data": {
      "application/javascript": [
       "\n",
       "            setTimeout(function() {\n",
       "                var nbb_cell_id = 48;\n",
       "                var nbb_unformatted_code = \"def estimate_hazard(complete, ongoing):\\n    \\\"\\\"\\\"Kaplan-Meier estimation.\\\"\\\"\\\"\\n    hist_complete = Hist.from_seq(complete)\\n    hist_ongoing = Hist.from_seq(ongoing)\\n\\n    surv_complete = hist_complete.make_surv()\\n    surv_ongoing = hist_ongoing.make_surv()\\n\\n    ts = pd.Index.union(hist_complete.index, hist_ongoing.index)\\n    at_risk = (\\n        hist_complete(ts) + hist_ongoing(ts) + surv_complete(ts) + surv_ongoing(ts)\\n    )\\n\\n    hs = hist_complete(ts) / at_risk\\n    return Hazard(hs, ts)\";\n",
       "                var nbb_formatted_code = \"def estimate_hazard(complete, ongoing):\\n    \\\"\\\"\\\"Kaplan-Meier estimation.\\\"\\\"\\\"\\n    hist_complete = Hist.from_seq(complete)\\n    hist_ongoing = Hist.from_seq(ongoing)\\n\\n    surv_complete = hist_complete.make_surv()\\n    surv_ongoing = hist_ongoing.make_surv()\\n\\n    ts = pd.Index.union(hist_complete.index, hist_ongoing.index)\\n    at_risk = (\\n        hist_complete(ts) + hist_ongoing(ts) + surv_complete(ts) + surv_ongoing(ts)\\n    )\\n\\n    hs = hist_complete(ts) / at_risk\\n    return Hazard(hs, ts)\";\n",
       "                var nbb_cells = Jupyter.notebook.get_cells();\n",
       "                for (var i = 0; i < nbb_cells.length; ++i) {\n",
       "                    if (nbb_cells[i].input_prompt_number == nbb_cell_id) {\n",
       "                        if (nbb_cells[i].get_text() == nbb_unformatted_code) {\n",
       "                             nbb_cells[i].set_text(nbb_formatted_code);\n",
       "                        }\n",
       "                        break;\n",
       "                    }\n",
       "                }\n",
       "            }, 500);\n",
       "            "
      ],
      "text/plain": [
       "<IPython.core.display.Javascript object>"
      ]
     },
     "metadata": {},
     "output_type": "display_data"
    }
   ],
   "source": [
    "def estimate_hazard(complete, ongoing):\n",
    "    \"\"\"Kaplan-Meier estimation.\"\"\"\n",
    "    hist_complete = Hist.from_seq(complete)\n",
    "    hist_ongoing = Hist.from_seq(ongoing)\n",
    "\n",
    "    surv_complete = hist_complete.make_surv()\n",
    "    surv_ongoing = hist_ongoing.make_surv()\n",
    "\n",
    "    ts = pd.Index.union(hist_complete.index, hist_ongoing.index)\n",
    "    at_risk = (\n",
    "        hist_complete(ts) + hist_ongoing(ts) + surv_complete(ts) + surv_ongoing(ts)\n",
    "    )\n",
    "\n",
    "    hs = hist_complete(ts) / at_risk\n",
    "    return Hazard(hs, ts)"
   ]
  },
  {
   "cell_type": "markdown",
   "id": "f7403b81",
   "metadata": {},
   "source": [
    "And here's a function that takes a group of respondents, extracts survival times, calls `estimate_hazard` to get the hazard function, and then computes the corresponding survival function."
   ]
  },
  {
   "cell_type": "code",
   "execution_count": 49,
   "id": "f667426d",
   "metadata": {},
   "outputs": [
    {
     "data": {
      "application/javascript": [
       "\n",
       "            setTimeout(function() {\n",
       "                var nbb_cell_id = 49;\n",
       "                var nbb_unformatted_code = \"def estimate_survival(group):\\n    \\\"\\\"\\\"Estimate the survival function.\\\"\\\"\\\"\\n    complete = group.query(\\\"evrmarry == 1\\\")[\\\"agemarr\\\"]\\n    ongoing = group.query(\\\"evrmarry == 0\\\")[\\\"age\\\"]\\n    hf = estimate_hazard(complete, ongoing)\\n    sf = hf.make_surv()\\n    return sf\";\n",
       "                var nbb_formatted_code = \"def estimate_survival(group):\\n    \\\"\\\"\\\"Estimate the survival function.\\\"\\\"\\\"\\n    complete = group.query(\\\"evrmarry == 1\\\")[\\\"agemarr\\\"]\\n    ongoing = group.query(\\\"evrmarry == 0\\\")[\\\"age\\\"]\\n    hf = estimate_hazard(complete, ongoing)\\n    sf = hf.make_surv()\\n    return sf\";\n",
       "                var nbb_cells = Jupyter.notebook.get_cells();\n",
       "                for (var i = 0; i < nbb_cells.length; ++i) {\n",
       "                    if (nbb_cells[i].input_prompt_number == nbb_cell_id) {\n",
       "                        if (nbb_cells[i].get_text() == nbb_unformatted_code) {\n",
       "                             nbb_cells[i].set_text(nbb_formatted_code);\n",
       "                        }\n",
       "                        break;\n",
       "                    }\n",
       "                }\n",
       "            }, 500);\n",
       "            "
      ],
      "text/plain": [
       "<IPython.core.display.Javascript object>"
      ]
     },
     "metadata": {},
     "output_type": "display_data"
    }
   ],
   "source": [
    "def estimate_survival(group):\n",
    "    \"\"\"Estimate the survival function.\"\"\"\n",
    "    complete = group.query(\"evrmarry == 1\")[\"agemarr\"]\n",
    "    ongoing = group.query(\"evrmarry == 0\")[\"age\"]\n",
    "    hf = estimate_hazard(complete, ongoing)\n",
    "    sf = hf.make_surv()\n",
    "    return sf"
   ]
  },
  {
   "cell_type": "markdown",
   "id": "1201f8a1",
   "metadata": {},
   "source": [
    "In the next section, we'll use these functions to compute confidence intervals for survival functions."
   ]
  },
  {
   "cell_type": "markdown",
   "id": "ea5a0307",
   "metadata": {},
   "source": [
    "## Lifelines\n",
    "\n",
    "There is a Python package called `lifelines` that includes tools for survival analysis, including functions that compute Kaplan-Meier estimates."
   ]
  },
  {
   "cell_type": "markdown",
   "id": "5746e8a9",
   "metadata": {
    "tags": [
     "remove-print"
    ]
   },
   "source": [
    "The following cell installs `lifelines` if necessary."
   ]
  },
  {
   "cell_type": "code",
   "execution_count": 50,
   "id": "5fea8f7f",
   "metadata": {
    "tags": [
     "remove-print"
    ]
   },
   "outputs": [
    {
     "data": {
      "application/javascript": [
       "\n",
       "            setTimeout(function() {\n",
       "                var nbb_cell_id = 50;\n",
       "                var nbb_unformatted_code = \"try:\\n    import lifelines\\nexcept ImportError:\\n    !pip install lifelines\";\n",
       "                var nbb_formatted_code = \"try:\\n    import lifelines\\nexcept ImportError:\\n    !pip install lifelines\";\n",
       "                var nbb_cells = Jupyter.notebook.get_cells();\n",
       "                for (var i = 0; i < nbb_cells.length; ++i) {\n",
       "                    if (nbb_cells[i].input_prompt_number == nbb_cell_id) {\n",
       "                        if (nbb_cells[i].get_text() == nbb_unformatted_code) {\n",
       "                             nbb_cells[i].set_text(nbb_formatted_code);\n",
       "                        }\n",
       "                        break;\n",
       "                    }\n",
       "                }\n",
       "            }, 500);\n",
       "            "
      ],
      "text/plain": [
       "<IPython.core.display.Javascript object>"
      ]
     },
     "metadata": {},
     "output_type": "display_data"
    }
   ],
   "source": [
    "try:\n",
    "    import lifelines\n",
    "except ImportError:\n",
    "    !pip install lifelines"
   ]
  },
  {
   "cell_type": "markdown",
   "id": "fb7df35e",
   "metadata": {},
   "source": [
    "We can use it to confirm that the computation in the previous section is correct.\n",
    "First we'll compute the survival curve using `estimate_survival`."
   ]
  },
  {
   "cell_type": "code",
   "execution_count": 51,
   "id": "9a492356",
   "metadata": {},
   "outputs": [
    {
     "data": {
      "application/javascript": [
       "\n",
       "            setTimeout(function() {\n",
       "                var nbb_cell_id = 51;\n",
       "                var nbb_unformatted_code = \"surv = estimate_survival(resp60)\";\n",
       "                var nbb_formatted_code = \"surv = estimate_survival(resp60)\";\n",
       "                var nbb_cells = Jupyter.notebook.get_cells();\n",
       "                for (var i = 0; i < nbb_cells.length; ++i) {\n",
       "                    if (nbb_cells[i].input_prompt_number == nbb_cell_id) {\n",
       "                        if (nbb_cells[i].get_text() == nbb_unformatted_code) {\n",
       "                             nbb_cells[i].set_text(nbb_formatted_code);\n",
       "                        }\n",
       "                        break;\n",
       "                    }\n",
       "                }\n",
       "            }, 500);\n",
       "            "
      ],
      "text/plain": [
       "<IPython.core.display.Javascript object>"
      ]
     },
     "metadata": {},
     "output_type": "display_data"
    }
   ],
   "source": [
    "surv = estimate_survival(resp60)"
   ]
  },
  {
   "cell_type": "markdown",
   "id": "82760b63",
   "metadata": {},
   "source": [
    "Next we'll compute it using `lifelines`.\n",
    "We have to do a little work to get the data into the format `lifelines` requires."
   ]
  },
  {
   "cell_type": "code",
   "execution_count": 52,
   "id": "30ee30bd",
   "metadata": {},
   "outputs": [
    {
     "data": {
      "application/javascript": [
       "\n",
       "            setTimeout(function() {\n",
       "                var nbb_cell_id = 52;\n",
       "                var nbb_unformatted_code = \"complete = complete.dropna()\\ndurations = np.concatenate([complete, ongoing])\\nevent_observed = np.concatenate([np.ones(len(complete)), np.zeros(len(ongoing))])\";\n",
       "                var nbb_formatted_code = \"complete = complete.dropna()\\ndurations = np.concatenate([complete, ongoing])\\nevent_observed = np.concatenate([np.ones(len(complete)), np.zeros(len(ongoing))])\";\n",
       "                var nbb_cells = Jupyter.notebook.get_cells();\n",
       "                for (var i = 0; i < nbb_cells.length; ++i) {\n",
       "                    if (nbb_cells[i].input_prompt_number == nbb_cell_id) {\n",
       "                        if (nbb_cells[i].get_text() == nbb_unformatted_code) {\n",
       "                             nbb_cells[i].set_text(nbb_formatted_code);\n",
       "                        }\n",
       "                        break;\n",
       "                    }\n",
       "                }\n",
       "            }, 500);\n",
       "            "
      ],
      "text/plain": [
       "<IPython.core.display.Javascript object>"
      ]
     },
     "metadata": {},
     "output_type": "display_data"
    }
   ],
   "source": [
    "complete = complete.dropna()\n",
    "durations = np.concatenate([complete, ongoing])\n",
    "event_observed = np.concatenate([np.ones(len(complete)), np.zeros(len(ongoing))])"
   ]
  },
  {
   "cell_type": "markdown",
   "id": "7c77a7d0",
   "metadata": {},
   "source": [
    "Now we can make a `KaplanMeierFitter` object and fit the data."
   ]
  },
  {
   "cell_type": "code",
   "execution_count": 53,
   "id": "50a2ae41",
   "metadata": {},
   "outputs": [
    {
     "data": {
      "text/plain": [
       "<lifelines.KaplanMeierFitter:\"KM_estimate\", fitted with 15502 total observations, 5391 right-censored observations>"
      ]
     },
     "execution_count": 53,
     "metadata": {},
     "output_type": "execute_result"
    },
    {
     "data": {
      "application/javascript": [
       "\n",
       "            setTimeout(function() {\n",
       "                var nbb_cell_id = 53;\n",
       "                var nbb_unformatted_code = \"from lifelines import KaplanMeierFitter\\n\\nkmf = KaplanMeierFitter()\\nkmf.fit(durations=durations, event_observed=event_observed)\";\n",
       "                var nbb_formatted_code = \"from lifelines import KaplanMeierFitter\\n\\nkmf = KaplanMeierFitter()\\nkmf.fit(durations=durations, event_observed=event_observed)\";\n",
       "                var nbb_cells = Jupyter.notebook.get_cells();\n",
       "                for (var i = 0; i < nbb_cells.length; ++i) {\n",
       "                    if (nbb_cells[i].input_prompt_number == nbb_cell_id) {\n",
       "                        if (nbb_cells[i].get_text() == nbb_unformatted_code) {\n",
       "                             nbb_cells[i].set_text(nbb_formatted_code);\n",
       "                        }\n",
       "                        break;\n",
       "                    }\n",
       "                }\n",
       "            }, 500);\n",
       "            "
      ],
      "text/plain": [
       "<IPython.core.display.Javascript object>"
      ]
     },
     "metadata": {},
     "output_type": "display_data"
    }
   ],
   "source": [
    "from lifelines import KaplanMeierFitter\n",
    "\n",
    "kmf = KaplanMeierFitter()\n",
    "kmf.fit(durations=durations, event_observed=event_observed)"
   ]
  },
  {
   "cell_type": "markdown",
   "id": "cc060437",
   "metadata": {},
   "source": [
    "After fitting the data, we can call the `plot` function to display the results, which include the estimated survival function and a confidence interval -- although the confidence interval is not correct in this case because it doesn't correct for stratified sampling."
   ]
  },
  {
   "cell_type": "code",
   "execution_count": 54,
   "id": "d6823204",
   "metadata": {},
   "outputs": [
    {
     "data": {
      "text/plain": [
       "<Axes: xlabel='timeline'>"
      ]
     },
     "execution_count": 54,
     "metadata": {},
     "output_type": "execute_result"
    },
    {
     "data": {
      "image/png": "[encoded data removed]",
      "text/plain": [
       "<Figure size 450x262.5 with 1 Axes>"
      ]
     },
     "metadata": {},
     "output_type": "display_data"
    },
    {
     "data": {
      "application/javascript": [
       "\n",
       "            setTimeout(function() {\n",
       "                var nbb_cell_id = 54;\n",
       "                var nbb_unformatted_code = \"kmf.plot()\";\n",
       "                var nbb_formatted_code = \"kmf.plot()\";\n",
       "                var nbb_cells = Jupyter.notebook.get_cells();\n",
       "                for (var i = 0; i < nbb_cells.length; ++i) {\n",
       "                    if (nbb_cells[i].input_prompt_number == nbb_cell_id) {\n",
       "                        if (nbb_cells[i].get_text() == nbb_unformatted_code) {\n",
       "                             nbb_cells[i].set_text(nbb_formatted_code);\n",
       "                        }\n",
       "                        break;\n",
       "                    }\n",
       "                }\n",
       "            }, 500);\n",
       "            "
      ],
      "text/plain": [
       "<IPython.core.display.Javascript object>"
      ]
     },
     "metadata": {},
     "output_type": "display_data"
    }
   ],
   "source": [
    "kmf.plot()"
   ]
  },
  {
   "cell_type": "markdown",
   "id": "2ccce577",
   "metadata": {},
   "source": [
    "The results from lifelines are slightly different from the results we computed because they start from 0.\n",
    "But all of the other values in the results are the same, within floating-point error."
   ]
  },
  {
   "cell_type": "code",
   "execution_count": 55,
   "id": "676168a2",
   "metadata": {},
   "outputs": [
    {
     "data": {
      "text/plain": [
       "True"
      ]
     },
     "execution_count": 55,
     "metadata": {},
     "output_type": "execute_result"
    },
    {
     "data": {
      "application/javascript": [
       "\n",
       "            setTimeout(function() {\n",
       "                var nbb_cell_id = 55;\n",
       "                var nbb_unformatted_code = \"ps = kmf.survival_function_[\\\"KM_estimate\\\"].drop(0)\\nnp.allclose(ps, surv)\";\n",
       "                var nbb_formatted_code = \"ps = kmf.survival_function_[\\\"KM_estimate\\\"].drop(0)\\nnp.allclose(ps, surv)\";\n",
       "                var nbb_cells = Jupyter.notebook.get_cells();\n",
       "                for (var i = 0; i < nbb_cells.length; ++i) {\n",
       "                    if (nbb_cells[i].input_prompt_number == nbb_cell_id) {\n",
       "                        if (nbb_cells[i].get_text() == nbb_unformatted_code) {\n",
       "                             nbb_cells[i].set_text(nbb_formatted_code);\n",
       "                        }\n",
       "                        break;\n",
       "                    }\n",
       "                }\n",
       "            }, 500);\n",
       "            "
      ],
      "text/plain": [
       "<IPython.core.display.Javascript object>"
      ]
     },
     "metadata": {},
     "output_type": "display_data"
    }
   ],
   "source": [
    "ps = kmf.survival_function_[\"KM_estimate\"].drop(0)\n",
    "np.allclose(ps, surv)"
   ]
  },
  {
   "cell_type": "markdown",
   "id": "f2797be0",
   "metadata": {},
   "source": [
    "In the next section, we'll use weighted resampling to compute confidence intervals."
   ]
  },
  {
   "cell_type": "markdown",
   "id": "67f540f8",
   "metadata": {},
   "source": [
    "## Confidence Intervals\n",
    "\n",
    "The Kaplan-Meier estimate we computed is based on a single resampling of the dataset.\n",
    "To get an idea of how much variation there is due to random sampling, we'll run the analysis with several resamplings and plot the results.\n",
    "\n",
    "We'll use the following function, which takes a `DataFrame` and a list of cohorts, estimates the survival function for each cohort, and returns a dictionary that maps from each integer cohort to a `Surv` object.\n",
    "This function is identical to `make_survival_map` in Section xxx, except that it calls `estimate_survival`, which uses Kaplan-Meier estimation, rather than `Surv.from_seq`, which only works if there is no censored data."
   ]
  },
  {
   "cell_type": "code",
   "execution_count": 56,
   "id": "18198771",
   "metadata": {},
   "outputs": [
    {
     "data": {
      "application/javascript": [
       "\n",
       "            setTimeout(function() {\n",
       "                var nbb_cell_id = 56;\n",
       "                var nbb_unformatted_code = \"def estimate_survival_map(resp, cohorts):\\n    surv_map = {}\\n\\n    grouped = resp.groupby(\\\"cohort\\\")\\n    for cohort in cohorts:\\n        group = grouped.get_group(cohort)\\n        surv_map[cohort] = estimate_survival(group)\\n\\n    return surv_map\";\n",
       "                var nbb_formatted_code = \"def estimate_survival_map(resp, cohorts):\\n    surv_map = {}\\n\\n    grouped = resp.groupby(\\\"cohort\\\")\\n    for cohort in cohorts:\\n        group = grouped.get_group(cohort)\\n        surv_map[cohort] = estimate_survival(group)\\n\\n    return surv_map\";\n",
       "                var nbb_cells = Jupyter.notebook.get_cells();\n",
       "                for (var i = 0; i < nbb_cells.length; ++i) {\n",
       "                    if (nbb_cells[i].input_prompt_number == nbb_cell_id) {\n",
       "                        if (nbb_cells[i].get_text() == nbb_unformatted_code) {\n",
       "                             nbb_cells[i].set_text(nbb_formatted_code);\n",
       "                        }\n",
       "                        break;\n",
       "                    }\n",
       "                }\n",
       "            }, 500);\n",
       "            "
      ],
      "text/plain": [
       "<IPython.core.display.Javascript object>"
      ]
     },
     "metadata": {},
     "output_type": "display_data"
    }
   ],
   "source": [
    "def estimate_survival_map(resp, cohorts):\n",
    "    surv_map = {}\n",
    "\n",
    "    grouped = resp.groupby(\"cohort\")\n",
    "    for cohort in cohorts:\n",
    "        group = grouped.get_group(cohort)\n",
    "        surv_map[cohort] = estimate_survival(group)\n",
    "\n",
    "    return surv_map"
   ]
  },
  {
   "cell_type": "markdown",
   "id": "8420adfe",
   "metadata": {},
   "source": [
    "The following loop generates 101 random resamplings of the dataset, weighted to correct for stratified sampling, and makes a list of 101 dictionaries containing the estimated survival curves."
   ]
  },
  {
   "cell_type": "code",
   "execution_count": 57,
   "id": "ea849411",
   "metadata": {},
   "outputs": [
    {
     "data": {
      "application/javascript": [
       "\n",
       "            setTimeout(function() {\n",
       "                var nbb_cell_id = 57;\n",
       "                var nbb_unformatted_code = \"cohorts = [1940, 1950, 1960, 1970, 1980, 1990]\\n\\nsurv_maps = [estimate_survival_map(resample_cycles(resp), cohorts) for i in range(101)]\";\n",
       "                var nbb_formatted_code = \"cohorts = [1940, 1950, 1960, 1970, 1980, 1990]\\n\\nsurv_maps = [estimate_survival_map(resample_cycles(resp), cohorts) for i in range(101)]\";\n",
       "                var nbb_cells = Jupyter.notebook.get_cells();\n",
       "                for (var i = 0; i < nbb_cells.length; ++i) {\n",
       "                    if (nbb_cells[i].input_prompt_number == nbb_cell_id) {\n",
       "                        if (nbb_cells[i].get_text() == nbb_unformatted_code) {\n",
       "                             nbb_cells[i].set_text(nbb_formatted_code);\n",
       "                        }\n",
       "                        break;\n",
       "                    }\n",
       "                }\n",
       "            }, 500);\n",
       "            "
      ],
      "text/plain": [
       "<IPython.core.display.Javascript object>"
      ]
     },
     "metadata": {},
     "output_type": "display_data"
    }
   ],
   "source": [
    "cohorts = [1940, 1950, 1960, 1970, 1980, 1990]\n",
    "\n",
    "surv_maps = [estimate_survival_map(resample_cycles(resp), cohorts) for i in range(101)]"
   ]
  },
  {
   "cell_type": "markdown",
   "id": "cd1a6d86",
   "metadata": {},
   "source": [
    "To plot the results, we'll use the following function, which takes that list of dictionaries, and integer cohort, and a color string.\n",
    "It loops through the dictionaries, selects the survival function for the given cohort, and plots it with a nearly transparent line -- which is one way to visualize the variability between resamplings."
   ]
  },
  {
   "cell_type": "code",
   "execution_count": 58,
   "id": "f3bae783",
   "metadata": {},
   "outputs": [
    {
     "data": {
      "application/javascript": [
       "\n",
       "            setTimeout(function() {\n",
       "                var nbb_cell_id = 58;\n",
       "                var nbb_unformatted_code = \"def plot_cohort(surv_maps, cohort, color):\\n    survs = [surv_map[cohort] for surv_map in surv_maps]\\n    for surv in survs:\\n        surv.plot(color=color, alpha=0.05)\\n\\n    x, y = surv.index[-1], surv.iloc[-1]\\n    plt.text(x + 1, y, f\\\"{cohort}s\\\", ha=\\\"left\\\", va=\\\"center\\\")\";\n",
       "                var nbb_formatted_code = \"def plot_cohort(surv_maps, cohort, color):\\n    survs = [surv_map[cohort] for surv_map in surv_maps]\\n    for surv in survs:\\n        surv.plot(color=color, alpha=0.05)\\n\\n    x, y = surv.index[-1], surv.iloc[-1]\\n    plt.text(x + 1, y, f\\\"{cohort}s\\\", ha=\\\"left\\\", va=\\\"center\\\")\";\n",
       "                var nbb_cells = Jupyter.notebook.get_cells();\n",
       "                for (var i = 0; i < nbb_cells.length; ++i) {\n",
       "                    if (nbb_cells[i].input_prompt_number == nbb_cell_id) {\n",
       "                        if (nbb_cells[i].get_text() == nbb_unformatted_code) {\n",
       "                             nbb_cells[i].set_text(nbb_formatted_code);\n",
       "                        }\n",
       "                        break;\n",
       "                    }\n",
       "                }\n",
       "            }, 500);\n",
       "            "
      ],
      "text/plain": [
       "<IPython.core.display.Javascript object>"
      ]
     },
     "metadata": {},
     "output_type": "display_data"
    }
   ],
   "source": [
    "def plot_cohort(surv_maps, cohort, color):\n",
    "    survs = [surv_map[cohort] for surv_map in surv_maps]\n",
    "    for surv in survs:\n",
    "        surv.plot(color=color, alpha=0.05)\n",
    "\n",
    "    x, y = surv.index[-1], surv.iloc[-1]\n",
    "    plt.text(x + 1, y, f\"{cohort}s\", ha=\"left\", va=\"center\")"
   ]
  },
  {
   "cell_type": "markdown",
   "id": "d43b1876",
   "metadata": {},
   "source": [
    "Here are the results for which cohorts..."
   ]
  },
  {
   "cell_type": "code",
   "execution_count": 59,
   "id": "2af9b047",
   "metadata": {},
   "outputs": [
    {
     "data": {
      "image/png": "[encoded data removed]",
      "text/plain": [
       "<Figure size 450x262.5 with 1 Axes>"
      ]
     },
     "metadata": {},
     "output_type": "display_data"
    },
    {
     "data": {
      "application/javascript": [
       "\n",
       "            setTimeout(function() {\n",
       "                var nbb_cell_id = 59;\n",
       "                var nbb_unformatted_code = \"from thinkstats import remove_spines\\n\\ncolors = [f\\\"C{i}\\\" for i in range(len(cohorts))]\\n\\nfor cohort, color in zip(cohorts, colors):\\n    plot_cohort(surv_maps, cohort, color)\\n\\nremove_spines()\\n\\ndecorate(xlabel=\\\"Age\\\", ylabel=\\\"Prob never married\\\")\";\n",
       "                var nbb_formatted_code = \"from thinkstats import remove_spines\\n\\ncolors = [f\\\"C{i}\\\" for i in range(len(cohorts))]\\n\\nfor cohort, color in zip(cohorts, colors):\\n    plot_cohort(surv_maps, cohort, color)\\n\\nremove_spines()\\n\\ndecorate(xlabel=\\\"Age\\\", ylabel=\\\"Prob never married\\\")\";\n",
       "                var nbb_cells = Jupyter.notebook.get_cells();\n",
       "                for (var i = 0; i < nbb_cells.length; ++i) {\n",
       "                    if (nbb_cells[i].input_prompt_number == nbb_cell_id) {\n",
       "                        if (nbb_cells[i].get_text() == nbb_unformatted_code) {\n",
       "                             nbb_cells[i].set_text(nbb_formatted_code);\n",
       "                        }\n",
       "                        break;\n",
       "                    }\n",
       "                }\n",
       "            }, 500);\n",
       "            "
      ],
      "text/plain": [
       "<IPython.core.display.Javascript object>"
      ]
     },
     "metadata": {},
     "output_type": "display_data"
    }
   ],
   "source": [
    "from thinkstats import remove_spines\n",
    "\n",
    "colors = [f\"C{i}\" for i in range(len(cohorts))]\n",
    "\n",
    "for cohort, color in zip(cohorts, colors):\n",
    "    plot_cohort(surv_maps, cohort, color)\n",
    "\n",
    "remove_spines()\n",
    "\n",
    "decorate(xlabel=\"Age\", ylabel=\"Prob never married\")"
   ]
  },
  {
   "cell_type": "markdown",
   "id": "b4d12c58",
   "metadata": {},
   "source": [
    "Several patterns are visible:\n",
    "\n",
    "-   Women born in the 50s married earliest, with successive cohorts marrying later and later, at least until age 30 or so.\n",
    "\n",
    "-   Women born in the 60s follow a surprising pattern.\n",
    "Prior to age 25, they were marrying at slower rates than their predecessors.\n",
    "After age 25, they were marrying faster.\n",
    "By age 32 they had overtaken the 50s cohort, and at age 44 they are substantially more likely to have married."
   ]
  },
  {
   "cell_type": "markdown",
   "id": "ce88b097",
   "metadata": {},
   "source": [
    "A surv like this was the basis of a famous magazine article in 1986; *Newsweek* reported that a 40-year old unmarried woman was \"more likely to be killed by a terrorist\" than get married.\n",
    "These statistics were widely reported and became part of popular culture, but they were wrong then (because they were based on faulty analysis) and turned out to be even more wrong (because of cultural changes that were already in progress and continued).\n",
    "In 2006, *Newsweek* ran an another article admitting that they were wrong.\n",
    "\n",
    "I encourage you to read more about this article, the statistics it was based on, and the reaction.\n",
    "It should remind you of the ethical obligation to perform statistical analysis with care, interpret the results with appropriate skepticism, and present them to the public accurately and honestly."
   ]
  },
  {
   "cell_type": "markdown",
   "id": "90fa5b2b",
   "metadata": {},
   "source": [
    "Women born in the 60s turned 25 between 1985 and 1995.\n",
    "Remembering that the *Newsweek* article I mentioned was published in 1986, it is tempting to imagine that the article triggered a marriage boom.\n",
    "That explanation would be too pat, but it is possible that the article and the reaction to it were indicative of a mood that affected the behavior of this cohort."
   ]
  },
  {
   "cell_type": "markdown",
   "id": "61a802ba",
   "metadata": {},
   "source": [
    "-   The pattern of the 70s cohort is similar.\n",
    "They are less likely than their predecessors to be married before age 25, but at age 35 they have caught up with both of the previous cohorts.\n",
    "\n",
    "-   Women born in the 80s are even less likely to marry before age 25. What happens after that is not clear; for more data, we have to wait for the next cycle of the NSFG.\n",
    "\n",
    "In the meantime we can make some predictions."
   ]
  },
  {
   "cell_type": "markdown",
   "id": "8516df63",
   "metadata": {},
   "source": [
    "## Expected remaining lifetime\n",
    "\n",
    "Given a survival function, we can compute the expected remaining lifetime as a function of current age.\n",
    "For example, given the survival function of pregnancy length, we can compute the expected time until delivery.\n",
    "\n",
    "The first step is to extract the PMF of lifetimes.\n",
    "`SurvivalFunction` provides a method that does that:"
   ]
  },
  {
   "cell_type": "markdown",
   "id": "ae87cc89",
   "metadata": {
    "tags": [
     "remove-print"
    ]
   },
   "source": [
    "The following cells download the data files and install `statadict`, which we need to read the data."
   ]
  },
  {
   "cell_type": "code",
   "execution_count": 60,
   "id": "5ababdb5",
   "metadata": {
    "tags": [
     "remove-print"
    ]
   },
   "outputs": [
    {
     "data": {
      "application/javascript": [
       "\n",
       "            setTimeout(function() {\n",
       "                var nbb_cell_id = 60;\n",
       "                var nbb_unformatted_code = \"download(\\\"https://github.com/AllenDowney/ThinkStats/raw/v3/nb/nsfg.py\\\")\\ndownload(\\\"https://github.com/AllenDowney/ThinkStats/raw/v3/data/2002FemPreg.dct\\\")\\ndownload(\\\"https://github.com/AllenDowney/ThinkStats/raw/v3/data/2002FemPreg.dat.gz\\\")\";\n",
       "                var nbb_formatted_code = \"download(\\\"https://github.com/AllenDowney/ThinkStats/raw/v3/nb/nsfg.py\\\")\\ndownload(\\\"https://github.com/AllenDowney/ThinkStats/raw/v3/data/2002FemPreg.dct\\\")\\ndownload(\\\"https://github.com/AllenDowney/ThinkStats/raw/v3/data/2002FemPreg.dat.gz\\\")\";\n",
       "                var nbb_cells = Jupyter.notebook.get_cells();\n",
       "                for (var i = 0; i < nbb_cells.length; ++i) {\n",
       "                    if (nbb_cells[i].input_prompt_number == nbb_cell_id) {\n",
       "                        if (nbb_cells[i].get_text() == nbb_unformatted_code) {\n",
       "                             nbb_cells[i].set_text(nbb_formatted_code);\n",
       "                        }\n",
       "                        break;\n",
       "                    }\n",
       "                }\n",
       "            }, 500);\n",
       "            "
      ],
      "text/plain": [
       "<IPython.core.display.Javascript object>"
      ]
     },
     "metadata": {},
     "output_type": "display_data"
    }
   ],
   "source": [
    "download(\"https://github.com/AllenDowney/ThinkStats/raw/v3/nb/nsfg.py\")\n",
    "download(\"https://github.com/AllenDowney/ThinkStats/raw/v3/data/2002FemPreg.dct\")\n",
    "download(\"https://github.com/AllenDowney/ThinkStats/raw/v3/data/2002FemPreg.dat.gz\")"
   ]
  },
  {
   "cell_type": "code",
   "execution_count": 61,
   "id": "d74f7f21",
   "metadata": {
    "tags": [
     "remove-print"
    ]
   },
   "outputs": [
    {
     "data": {
      "application/javascript": [
       "\n",
       "            setTimeout(function() {\n",
       "                var nbb_cell_id = 61;\n",
       "                var nbb_unformatted_code = \"try:\\n    import statadict\\nexcept ImportError:\\n    !pip install statadict\";\n",
       "                var nbb_formatted_code = \"try:\\n    import statadict\\nexcept ImportError:\\n    !pip install statadict\";\n",
       "                var nbb_cells = Jupyter.notebook.get_cells();\n",
       "                for (var i = 0; i < nbb_cells.length; ++i) {\n",
       "                    if (nbb_cells[i].input_prompt_number == nbb_cell_id) {\n",
       "                        if (nbb_cells[i].get_text() == nbb_unformatted_code) {\n",
       "                             nbb_cells[i].set_text(nbb_formatted_code);\n",
       "                        }\n",
       "                        break;\n",
       "                    }\n",
       "                }\n",
       "            }, 500);\n",
       "            "
      ],
      "text/plain": [
       "<IPython.core.display.Javascript object>"
      ]
     },
     "metadata": {},
     "output_type": "display_data"
    }
   ],
   "source": [
    "try:\n",
    "    import statadict\n",
    "except ImportError:\n",
    "    !pip install statadict"
   ]
  },
  {
   "cell_type": "code",
   "execution_count": 62,
   "id": "7bd046bb",
   "metadata": {},
   "outputs": [
    {
     "data": {
      "application/javascript": [
       "\n",
       "            setTimeout(function() {\n",
       "                var nbb_cell_id = 62;\n",
       "                var nbb_unformatted_code = \"from nsfg import get_nsfg_groups\\n\\nlive, firsts, others = get_nsfg_groups()\";\n",
       "                var nbb_formatted_code = \"from nsfg import get_nsfg_groups\\n\\nlive, firsts, others = get_nsfg_groups()\";\n",
       "                var nbb_cells = Jupyter.notebook.get_cells();\n",
       "                for (var i = 0; i < nbb_cells.length; ++i) {\n",
       "                    if (nbb_cells[i].input_prompt_number == nbb_cell_id) {\n",
       "                        if (nbb_cells[i].get_text() == nbb_unformatted_code) {\n",
       "                             nbb_cells[i].set_text(nbb_formatted_code);\n",
       "                        }\n",
       "                        break;\n",
       "                    }\n",
       "                }\n",
       "            }, 500);\n",
       "            "
      ],
      "text/plain": [
       "<IPython.core.display.Javascript object>"
      ]
     },
     "metadata": {},
     "output_type": "display_data"
    }
   ],
   "source": [
    "from nsfg import get_nsfg_groups\n",
    "\n",
    "live, firsts, others = get_nsfg_groups()"
   ]
  },
  {
   "cell_type": "code",
   "execution_count": 63,
   "id": "1da91efd",
   "metadata": {},
   "outputs": [
    {
     "data": {
      "application/javascript": [
       "\n",
       "            setTimeout(function() {\n",
       "                var nbb_cell_id = 63;\n",
       "                var nbb_unformatted_code = \"sample = resample_rows_weighted(live, \\\"finalwgt\\\")\";\n",
       "                var nbb_formatted_code = \"sample = resample_rows_weighted(live, \\\"finalwgt\\\")\";\n",
       "                var nbb_cells = Jupyter.notebook.get_cells();\n",
       "                for (var i = 0; i < nbb_cells.length; ++i) {\n",
       "                    if (nbb_cells[i].input_prompt_number == nbb_cell_id) {\n",
       "                        if (nbb_cells[i].get_text() == nbb_unformatted_code) {\n",
       "                             nbb_cells[i].set_text(nbb_formatted_code);\n",
       "                        }\n",
       "                        break;\n",
       "                    }\n",
       "                }\n",
       "            }, 500);\n",
       "            "
      ],
      "text/plain": [
       "<IPython.core.display.Javascript object>"
      ]
     },
     "metadata": {},
     "output_type": "display_data"
    }
   ],
   "source": [
    "sample = resample_rows_weighted(live, \"finalwgt\")"
   ]
  },
  {
   "cell_type": "code",
   "execution_count": 64,
   "id": "9aee3cd8",
   "metadata": {},
   "outputs": [
    {
     "data": {
      "application/javascript": [
       "\n",
       "            setTimeout(function() {\n",
       "                var nbb_cell_id = 64;\n",
       "                var nbb_unformatted_code = \"pmf_durations = Pmf.from_seq(sample[\\\"prglngth\\\"])\";\n",
       "                var nbb_formatted_code = \"pmf_durations = Pmf.from_seq(sample[\\\"prglngth\\\"])\";\n",
       "                var nbb_cells = Jupyter.notebook.get_cells();\n",
       "                for (var i = 0; i < nbb_cells.length; ++i) {\n",
       "                    if (nbb_cells[i].input_prompt_number == nbb_cell_id) {\n",
       "                        if (nbb_cells[i].get_text() == nbb_unformatted_code) {\n",
       "                             nbb_cells[i].set_text(nbb_formatted_code);\n",
       "                        }\n",
       "                        break;\n",
       "                    }\n",
       "                }\n",
       "            }, 500);\n",
       "            "
      ],
      "text/plain": [
       "<IPython.core.display.Javascript object>"
      ]
     },
     "metadata": {},
     "output_type": "display_data"
    }
   ],
   "source": [
    "pmf_durations = Pmf.from_seq(sample[\"prglngth\"])"
   ]
  },
  {
   "cell_type": "code",
   "execution_count": 65,
   "id": "95e46cf9",
   "metadata": {},
   "outputs": [
    {
     "data": {
      "application/javascript": [
       "\n",
       "            setTimeout(function() {\n",
       "                var nbb_cell_id = 65;\n",
       "                var nbb_unformatted_code = \"t = 36\\nis_remaining = pmf_durations.qs >= t\";\n",
       "                var nbb_formatted_code = \"t = 36\\nis_remaining = pmf_durations.qs >= t\";\n",
       "                var nbb_cells = Jupyter.notebook.get_cells();\n",
       "                for (var i = 0; i < nbb_cells.length; ++i) {\n",
       "                    if (nbb_cells[i].input_prompt_number == nbb_cell_id) {\n",
       "                        if (nbb_cells[i].get_text() == nbb_unformatted_code) {\n",
       "                             nbb_cells[i].set_text(nbb_formatted_code);\n",
       "                        }\n",
       "                        break;\n",
       "                    }\n",
       "                }\n",
       "            }, 500);\n",
       "            "
      ],
      "text/plain": [
       "<IPython.core.display.Javascript object>"
      ]
     },
     "metadata": {},
     "output_type": "display_data"
    }
   ],
   "source": [
    "t = 36\n",
    "is_remaining = pmf_durations.qs >= t"
   ]
  },
  {
   "cell_type": "code",
   "execution_count": 66,
   "id": "c51c1284",
   "metadata": {},
   "outputs": [
    {
     "data": {
      "application/javascript": [
       "\n",
       "            setTimeout(function() {\n",
       "                var nbb_cell_id = 66;\n",
       "                var nbb_unformatted_code = \"ps = pmf_durations.ps[is_remaining]\\nqs = pmf_durations.qs[is_remaining] - t\";\n",
       "                var nbb_formatted_code = \"ps = pmf_durations.ps[is_remaining]\\nqs = pmf_durations.qs[is_remaining] - t\";\n",
       "                var nbb_cells = Jupyter.notebook.get_cells();\n",
       "                for (var i = 0; i < nbb_cells.length; ++i) {\n",
       "                    if (nbb_cells[i].input_prompt_number == nbb_cell_id) {\n",
       "                        if (nbb_cells[i].get_text() == nbb_unformatted_code) {\n",
       "                             nbb_cells[i].set_text(nbb_formatted_code);\n",
       "                        }\n",
       "                        break;\n",
       "                    }\n",
       "                }\n",
       "            }, 500);\n",
       "            "
      ],
      "text/plain": [
       "<IPython.core.display.Javascript object>"
      ]
     },
     "metadata": {},
     "output_type": "display_data"
    }
   ],
   "source": [
    "ps = pmf_durations.ps[is_remaining]\n",
    "qs = pmf_durations.qs[is_remaining] - t"
   ]
  },
  {
   "cell_type": "code",
   "execution_count": 67,
   "id": "a356dd7c",
   "metadata": {},
   "outputs": [
    {
     "data": {
      "text/plain": [
       "0.9121119370354174"
      ]
     },
     "execution_count": 67,
     "metadata": {},
     "output_type": "execute_result"
    },
    {
     "data": {
      "application/javascript": [
       "\n",
       "            setTimeout(function() {\n",
       "                var nbb_cell_id = 67;\n",
       "                var nbb_unformatted_code = \"pmf_remaining = Pmf(ps, qs)\\npmf_remaining.normalize()\";\n",
       "                var nbb_formatted_code = \"pmf_remaining = Pmf(ps, qs)\\npmf_remaining.normalize()\";\n",
       "                var nbb_cells = Jupyter.notebook.get_cells();\n",
       "                for (var i = 0; i < nbb_cells.length; ++i) {\n",
       "                    if (nbb_cells[i].input_prompt_number == nbb_cell_id) {\n",
       "                        if (nbb_cells[i].get_text() == nbb_unformatted_code) {\n",
       "                             nbb_cells[i].set_text(nbb_formatted_code);\n",
       "                        }\n",
       "                        break;\n",
       "                    }\n",
       "                }\n",
       "            }, 500);\n",
       "            "
      ],
      "text/plain": [
       "<IPython.core.display.Javascript object>"
      ]
     },
     "metadata": {},
     "output_type": "display_data"
    }
   ],
   "source": [
    "pmf_remaining = Pmf(ps, qs)\n",
    "pmf_remaining.normalize()"
   ]
  },
  {
   "cell_type": "code",
   "execution_count": 68,
   "id": "91876b3a",
   "metadata": {},
   "outputs": [
    {
     "data": {
      "image/png": "[encoded data removed]",
      "text/plain": [
       "<Figure size 450x262.5 with 1 Axes>"
      ]
     },
     "metadata": {},
     "output_type": "display_data"
    },
    {
     "data": {
      "application/javascript": [
       "\n",
       "            setTimeout(function() {\n",
       "                var nbb_cell_id = 68;\n",
       "                var nbb_unformatted_code = \"pmf_remaining.bar(label=\\\"Week 36\\\")\\ndecorate(xlabel=\\\"Remaining duration (weeks)\\\", ylabel=\\\"PMF\\\")\";\n",
       "                var nbb_formatted_code = \"pmf_remaining.bar(label=\\\"Week 36\\\")\\ndecorate(xlabel=\\\"Remaining duration (weeks)\\\", ylabel=\\\"PMF\\\")\";\n",
       "                var nbb_cells = Jupyter.notebook.get_cells();\n",
       "                for (var i = 0; i < nbb_cells.length; ++i) {\n",
       "                    if (nbb_cells[i].input_prompt_number == nbb_cell_id) {\n",
       "                        if (nbb_cells[i].get_text() == nbb_unformatted_code) {\n",
       "                             nbb_cells[i].set_text(nbb_formatted_code);\n",
       "                        }\n",
       "                        break;\n",
       "                    }\n",
       "                }\n",
       "            }, 500);\n",
       "            "
      ],
      "text/plain": [
       "<IPython.core.display.Javascript object>"
      ]
     },
     "metadata": {},
     "output_type": "display_data"
    }
   ],
   "source": [
    "pmf_remaining.bar(label=\"Week 36\")\n",
    "decorate(xlabel=\"Remaining duration (weeks)\", ylabel=\"PMF\")"
   ]
  },
  {
   "cell_type": "code",
   "execution_count": 69,
   "id": "4b1e43b6",
   "metadata": {},
   "outputs": [
    {
     "data": {
      "text/plain": [
       "3.2623441994247373"
      ]
     },
     "execution_count": 69,
     "metadata": {},
     "output_type": "execute_result"
    },
    {
     "data": {
      "application/javascript": [
       "\n",
       "            setTimeout(function() {\n",
       "                var nbb_cell_id = 69;\n",
       "                var nbb_unformatted_code = \"pmf_remaining.mean()\";\n",
       "                var nbb_formatted_code = \"pmf_remaining.mean()\";\n",
       "                var nbb_cells = Jupyter.notebook.get_cells();\n",
       "                for (var i = 0; i < nbb_cells.length; ++i) {\n",
       "                    if (nbb_cells[i].input_prompt_number == nbb_cell_id) {\n",
       "                        if (nbb_cells[i].get_text() == nbb_unformatted_code) {\n",
       "                             nbb_cells[i].set_text(nbb_formatted_code);\n",
       "                        }\n",
       "                        break;\n",
       "                    }\n",
       "                }\n",
       "            }, 500);\n",
       "            "
      ],
      "text/plain": [
       "<IPython.core.display.Javascript object>"
      ]
     },
     "metadata": {},
     "output_type": "display_data"
    }
   ],
   "source": [
    "pmf_remaining.mean()"
   ]
  },
  {
   "cell_type": "code",
   "execution_count": 70,
   "id": "3c48a6c1",
   "metadata": {},
   "outputs": [
    {
     "data": {
      "application/javascript": [
       "\n",
       "            setTimeout(function() {\n",
       "                var nbb_cell_id = 70;\n",
       "                var nbb_unformatted_code = \"def compute_pmf_remaining(pmf, t):\\n    \\\"\\\"\\\"\\n    \\\"\\\"\\\"\\n    is_remaining = pmf.qs >= t\\n    ps = pmf.ps[is_remaining]\\n    qs = pmf.qs[is_remaining] - t\\n    pmf_remaining = Pmf(ps, qs)\\n    pmf_remaining.normalize()\\n    return pmf_remaining\";\n",
       "                var nbb_formatted_code = \"def compute_pmf_remaining(pmf, t):\\n    \\\"\\\"\\\" \\\"\\\"\\\"\\n    is_remaining = pmf.qs >= t\\n    ps = pmf.ps[is_remaining]\\n    qs = pmf.qs[is_remaining] - t\\n    pmf_remaining = Pmf(ps, qs)\\n    pmf_remaining.normalize()\\n    return pmf_remaining\";\n",
       "                var nbb_cells = Jupyter.notebook.get_cells();\n",
       "                for (var i = 0; i < nbb_cells.length; ++i) {\n",
       "                    if (nbb_cells[i].input_prompt_number == nbb_cell_id) {\n",
       "                        if (nbb_cells[i].get_text() == nbb_unformatted_code) {\n",
       "                             nbb_cells[i].set_text(nbb_formatted_code);\n",
       "                        }\n",
       "                        break;\n",
       "                    }\n",
       "                }\n",
       "            }, 500);\n",
       "            "
      ],
      "text/plain": [
       "<IPython.core.display.Javascript object>"
      ]
     },
     "metadata": {},
     "output_type": "display_data"
    }
   ],
   "source": [
    "def compute_pmf_remaining(pmf, t):\n",
    "    \"\"\" \"\"\"\n",
    "    is_remaining = pmf.qs >= t\n",
    "    ps = pmf.ps[is_remaining]\n",
    "    qs = pmf.qs[is_remaining] - t\n",
    "    pmf_remaining = Pmf(ps, qs)\n",
    "    pmf_remaining.normalize()\n",
    "    return pmf_remaining"
   ]
  },
  {
   "cell_type": "code",
   "execution_count": 71,
   "id": "d23b12e5",
   "metadata": {},
   "outputs": [
    {
     "data": {
      "application/javascript": [
       "\n",
       "            setTimeout(function() {\n",
       "                var nbb_cell_id = 71;\n",
       "                var nbb_unformatted_code = \"def expected_remaining(pmf):\\n    index = range(36, 44)\\n    expected = pd.Series(index=index)\\n\\n    for t in index:\\n        pmf_remaining = compute_pmf_remaining(pmf, t)\\n        expected[t] = pmf_remaining.mean()\\n\\n    return expected\";\n",
       "                var nbb_formatted_code = \"def expected_remaining(pmf):\\n    index = range(36, 44)\\n    expected = pd.Series(index=index)\\n\\n    for t in index:\\n        pmf_remaining = compute_pmf_remaining(pmf, t)\\n        expected[t] = pmf_remaining.mean()\\n\\n    return expected\";\n",
       "                var nbb_cells = Jupyter.notebook.get_cells();\n",
       "                for (var i = 0; i < nbb_cells.length; ++i) {\n",
       "                    if (nbb_cells[i].input_prompt_number == nbb_cell_id) {\n",
       "                        if (nbb_cells[i].get_text() == nbb_unformatted_code) {\n",
       "                             nbb_cells[i].set_text(nbb_formatted_code);\n",
       "                        }\n",
       "                        break;\n",
       "                    }\n",
       "                }\n",
       "            }, 500);\n",
       "            "
      ],
      "text/plain": [
       "<IPython.core.display.Javascript object>"
      ]
     },
     "metadata": {},
     "output_type": "display_data"
    }
   ],
   "source": [
    "def expected_remaining(pmf):\n",
    "    index = range(36, 44)\n",
    "    expected = pd.Series(index=index)\n",
    "\n",
    "    for t in index:\n",
    "        pmf_remaining = compute_pmf_remaining(pmf, t)\n",
    "        expected[t] = pmf_remaining.mean()\n",
    "\n",
    "    return expected"
   ]
  },
  {
   "cell_type": "code",
   "execution_count": 72,
   "id": "e49921a7",
   "metadata": {},
   "outputs": [
    {
     "data": {
      "text/plain": [
       "36    3.262344\n",
       "37    2.388225\n",
       "38    1.531935\n",
       "39    0.659377\n",
       "40    0.899135\n",
       "41    0.803468\n",
       "42    0.651952\n",
       "43    0.627119\n",
       "dtype: float64"
      ]
     },
     "execution_count": 72,
     "metadata": {},
     "output_type": "execute_result"
    },
    {
     "data": {
      "application/javascript": [
       "\n",
       "            setTimeout(function() {\n",
       "                var nbb_cell_id = 72;\n",
       "                var nbb_unformatted_code = \"expected = expected_remaining(pmf_durations)\\nexpected\";\n",
       "                var nbb_formatted_code = \"expected = expected_remaining(pmf_durations)\\nexpected\";\n",
       "                var nbb_cells = Jupyter.notebook.get_cells();\n",
       "                for (var i = 0; i < nbb_cells.length; ++i) {\n",
       "                    if (nbb_cells[i].input_prompt_number == nbb_cell_id) {\n",
       "                        if (nbb_cells[i].get_text() == nbb_unformatted_code) {\n",
       "                             nbb_cells[i].set_text(nbb_formatted_code);\n",
       "                        }\n",
       "                        break;\n",
       "                    }\n",
       "                }\n",
       "            }, 500);\n",
       "            "
      ],
      "text/plain": [
       "<IPython.core.display.Javascript object>"
      ]
     },
     "metadata": {},
     "output_type": "display_data"
    }
   ],
   "source": [
    "expected = expected_remaining(pmf_durations)\n",
    "expected"
   ]
  },
  {
   "cell_type": "code",
   "execution_count": 73,
   "id": "07444c29",
   "metadata": {},
   "outputs": [
    {
     "data": {
      "image/png": "[encoded data removed]",
      "text/plain": [
       "<Figure size 450x262.5 with 1 Axes>"
      ]
     },
     "metadata": {},
     "output_type": "display_data"
    },
    {
     "data": {
      "application/javascript": [
       "\n",
       "            setTimeout(function() {\n",
       "                var nbb_cell_id = 73;\n",
       "                var nbb_unformatted_code = \"for i in range(21):\\n    sample = resample_rows_weighted(live, \\\"finalwgt\\\")\\n    pmf_durations = Pmf.from_seq(sample[\\\"prglngth\\\"])\\n    expected = expected_remaining(pmf_durations)\\n    expected.plot(color=\\\"C0\\\", alpha=0.1)\\n\\ndecorate(\\n    xlabel=\\\"Weeks of pregnancy\\\", ylabel=\\\"Expected remaining time (weeks)\\\", ylim=[0, 3.5]\\n)\";\n",
       "                var nbb_formatted_code = \"for i in range(21):\\n    sample = resample_rows_weighted(live, \\\"finalwgt\\\")\\n    pmf_durations = Pmf.from_seq(sample[\\\"prglngth\\\"])\\n    expected = expected_remaining(pmf_durations)\\n    expected.plot(color=\\\"C0\\\", alpha=0.1)\\n\\ndecorate(\\n    xlabel=\\\"Weeks of pregnancy\\\", ylabel=\\\"Expected remaining time (weeks)\\\", ylim=[0, 3.5]\\n)\";\n",
       "                var nbb_cells = Jupyter.notebook.get_cells();\n",
       "                for (var i = 0; i < nbb_cells.length; ++i) {\n",
       "                    if (nbb_cells[i].input_prompt_number == nbb_cell_id) {\n",
       "                        if (nbb_cells[i].get_text() == nbb_unformatted_code) {\n",
       "                             nbb_cells[i].set_text(nbb_formatted_code);\n",
       "                        }\n",
       "                        break;\n",
       "                    }\n",
       "                }\n",
       "            }, 500);\n",
       "            "
      ],
      "text/plain": [
       "<IPython.core.display.Javascript object>"
      ]
     },
     "metadata": {},
     "output_type": "display_data"
    }
   ],
   "source": [
    "for i in range(21):\n",
    "    sample = resample_rows_weighted(live, \"finalwgt\")\n",
    "    pmf_durations = Pmf.from_seq(sample[\"prglngth\"])\n",
    "    expected = expected_remaining(pmf_durations)\n",
    "    expected.plot(color=\"C0\", alpha=0.1)\n",
    "\n",
    "decorate(\n",
    "    xlabel=\"Weeks of pregnancy\", ylabel=\"Expected remaining time (weeks)\", ylim=[0, 3.5]\n",
    ")"
   ]
  },
  {
   "cell_type": "markdown",
   "id": "36c47cb8",
   "metadata": {},
   "source": [
    "## Glossary\n",
    "\n",
    "-   **survival analysis**: A set of methods for describing and predicting lifetimes, or more generally time until an event occurs.\n",
    "\n",
    "-   **survival function**: A function that maps from a time, $t$, to the probability of surviving past $t$.\n",
    "\n",
    "-   **hazard function**: A function that maps from $t$ to the fraction of people alive until $t$ who die at $t$.\n",
    "\n",
    "-   **Kaplan-Meier estimation**: An algorithm for estimating hazard and survival functions.\n",
    "\n",
    "-   **cohort**: a group of subjects defined by an event, like date of birth, in a particular interval of time.\n",
    "\n",
    "-   **cohort effect**: a difference between cohorts.\n",
    "\n",
    "-   **NBUE**: A property of expected remaining lifetime, \"New better than used in expectation.\"\n",
    "\n",
    "-   **UBNE**: A property of expected remaining lifetime, \"Used better than new in expectation.\""
   ]
  },
  {
   "cell_type": "markdown",
   "id": "2976a19b",
   "metadata": {
    "collapsed": true
   },
   "source": [
    "## Exercises"
   ]
  },
  {
   "cell_type": "markdown",
   "id": "b1c1fe48",
   "metadata": {
    "collapsed": true
   },
   "source": [
    "### Exercise\n",
    "\n",
    "We can use the methods in this chapter to estimate hazard and survival functions for the duration of a marriage.\n",
    "To keep things simple, we'll consider only first marriages, and we'll focus on divorce as the endpoint, rather than separation or death. \n",
    "\n",
    "In the NSFG data, the `cmdivorcx` column contains the date of divorce for each respondent's first marriage, if applicable, encoded in century-months.\n",
    "\n",
    "Compute the duration of marriages that have ended in divorce, and the duration, so far, of marriages that are ongoing.\n",
    "\n",
    "* For complete cases, you can compute the elapsed time between `cmdivorcx` and `cmmarrhx`. If both values are valid -- not `NaN` -- that means the respondent's first marriage ended in divorce.\n",
    "\n",
    "* To identify ongoing cases, you should select people who have only married once and who are still married. You can use `fmarno`, which records the number of times each respondent has married, and `fmarital`, which encodes marital status -- the value 1 indicates that the respondent is married.\n",
    "\n",
    "In some cases the values of these variables are only approximate, so you might find a small number of negative differences, but they should not be more than one year.\n",
    "\n",
    "Estimate the hazard and survival function for the duration of marriage.\n",
    "Plot the cumulative hazard function -- when is the danger of divorce highest?\n",
    "Plot the survival function -- what fraction of marriages end in divorce?"
   ]
  },
  {
   "cell_type": "code",
   "execution_count": 74,
   "id": "2987d283",
   "metadata": {
    "tags": [
     "remove-print"
    ]
   },
   "outputs": [
    {
     "data": {
      "application/javascript": [
       "\n",
       "            setTimeout(function() {\n",
       "                var nbb_cell_id = 74;\n",
       "                var nbb_unformatted_code = \"# Use a single resampling of the data\\n\\nsample = resample_cycles(resp)\";\n",
       "                var nbb_formatted_code = \"# Use a single resampling of the data\\n\\nsample = resample_cycles(resp)\";\n",
       "                var nbb_cells = Jupyter.notebook.get_cells();\n",
       "                for (var i = 0; i < nbb_cells.length; ++i) {\n",
       "                    if (nbb_cells[i].input_prompt_number == nbb_cell_id) {\n",
       "                        if (nbb_cells[i].get_text() == nbb_unformatted_code) {\n",
       "                             nbb_cells[i].set_text(nbb_formatted_code);\n",
       "                        }\n",
       "                        break;\n",
       "                    }\n",
       "                }\n",
       "            }, 500);\n",
       "            "
      ],
      "text/plain": [
       "<IPython.core.display.Javascript object>"
      ]
     },
     "metadata": {},
     "output_type": "display_data"
    }
   ],
   "source": [
    "# Use a single resampling of the data\n",
    "\n",
    "sample = resample_cycles(resp)"
   ]
  },
  {
   "cell_type": "code",
   "execution_count": 75,
   "id": "1e8f7de7",
   "metadata": {},
   "outputs": [
    {
     "data": {
      "text/plain": [
       "count    10036.000000\n",
       "mean         6.448585\n",
       "std          4.868571\n",
       "min         -0.916667\n",
       "25%          2.666667\n",
       "50%          5.250000\n",
       "75%          9.000000\n",
       "max         27.000000\n",
       "dtype: float64"
      ]
     },
     "execution_count": 75,
     "metadata": {},
     "output_type": "execute_result"
    },
    {
     "data": {
      "application/javascript": [
       "\n",
       "            setTimeout(function() {\n",
       "                var nbb_cell_id = 75;\n",
       "                var nbb_unformatted_code = \"# Solution\\n\\ncomplete = (sample[\\\"cmdivorcx\\\"] - sample[\\\"cmmarrhx\\\"]) / 12\\ncomplete.describe()\";\n",
       "                var nbb_formatted_code = \"# Solution\\n\\ncomplete = (sample[\\\"cmdivorcx\\\"] - sample[\\\"cmmarrhx\\\"]) / 12\\ncomplete.describe()\";\n",
       "                var nbb_cells = Jupyter.notebook.get_cells();\n",
       "                for (var i = 0; i < nbb_cells.length; ++i) {\n",
       "                    if (nbb_cells[i].input_prompt_number == nbb_cell_id) {\n",
       "                        if (nbb_cells[i].get_text() == nbb_unformatted_code) {\n",
       "                             nbb_cells[i].set_text(nbb_formatted_code);\n",
       "                        }\n",
       "                        break;\n",
       "                    }\n",
       "                }\n",
       "            }, 500);\n",
       "            "
      ],
      "text/plain": [
       "<IPython.core.display.Javascript object>"
      ]
     },
     "metadata": {},
     "output_type": "display_data"
    }
   ],
   "source": []
  },
  {
   "cell_type": "code",
   "execution_count": 76,
   "id": "da245afc",
   "metadata": {},
   "outputs": [
    {
     "data": {
      "text/plain": [
       "count    26232.000000\n",
       "mean        10.231632\n",
       "std          6.911982\n",
       "min         -0.250000\n",
       "25%          4.416667\n",
       "50%          9.250000\n",
       "75%         15.250000\n",
       "max         33.083333\n",
       "dtype: float64"
      ]
     },
     "execution_count": 76,
     "metadata": {},
     "output_type": "execute_result"
    },
    {
     "data": {
      "application/javascript": [
       "\n",
       "            setTimeout(function() {\n",
       "                var nbb_cell_id = 76;\n",
       "                var nbb_unformatted_code = \"# Solution\\n\\nstill_married = sample.query(\\\"fmarno == 1 and rmarital == 1\\\")\\nongoing = (still_married[\\\"cmintvw\\\"] - still_married[\\\"cmmarrhx\\\"]) / 12\\nongoing.describe()\";\n",
       "                var nbb_formatted_code = \"# Solution\\n\\nstill_married = sample.query(\\\"fmarno == 1 and rmarital == 1\\\")\\nongoing = (still_married[\\\"cmintvw\\\"] - still_married[\\\"cmmarrhx\\\"]) / 12\\nongoing.describe()\";\n",
       "                var nbb_cells = Jupyter.notebook.get_cells();\n",
       "                for (var i = 0; i < nbb_cells.length; ++i) {\n",
       "                    if (nbb_cells[i].input_prompt_number == nbb_cell_id) {\n",
       "                        if (nbb_cells[i].get_text() == nbb_unformatted_code) {\n",
       "                             nbb_cells[i].set_text(nbb_formatted_code);\n",
       "                        }\n",
       "                        break;\n",
       "                    }\n",
       "                }\n",
       "            }, 500);\n",
       "            "
      ],
      "text/plain": [
       "<IPython.core.display.Javascript object>"
      ]
     },
     "metadata": {},
     "output_type": "display_data"
    }
   ],
   "source": []
  },
  {
   "cell_type": "code",
   "execution_count": 77,
   "id": "0b21dc33",
   "metadata": {},
   "outputs": [
    {
     "data": {
      "image/png": "[encoded data removed]",
      "text/plain": [
       "<Figure size 450x262.5 with 1 Axes>"
      ]
     },
     "metadata": {},
     "output_type": "display_data"
    },
    {
     "data": {
      "application/javascript": [
       "\n",
       "            setTimeout(function() {\n",
       "                var nbb_cell_id = 77;\n",
       "                var nbb_unformatted_code = \"# Solution\\n\\n# The hazard function is almost flat in the first year, indicating relatively low hazard\\n# It is steeper after that, with the highest hazard in the next few years, and\\n# gradually decreasing thereafter.\\n\\nhazard = estimate_hazard(complete, ongoing)\\nhazard.cumsum().plot()\\n\\ndecorate(xlabel=\\\"Years of marriage\\\", ylabel=\\\"Cumulative hazard\\\")\";\n",
       "                var nbb_formatted_code = \"# Solution\\n\\n# The hazard function is almost flat in the first year, indicating relatively low hazard\\n# It is steeper after that, with the highest hazard in the next few years, and\\n# gradually decreasing thereafter.\\n\\nhazard = estimate_hazard(complete, ongoing)\\nhazard.cumsum().plot()\\n\\ndecorate(xlabel=\\\"Years of marriage\\\", ylabel=\\\"Cumulative hazard\\\")\";\n",
       "                var nbb_cells = Jupyter.notebook.get_cells();\n",
       "                for (var i = 0; i < nbb_cells.length; ++i) {\n",
       "                    if (nbb_cells[i].input_prompt_number == nbb_cell_id) {\n",
       "                        if (nbb_cells[i].get_text() == nbb_unformatted_code) {\n",
       "                             nbb_cells[i].set_text(nbb_formatted_code);\n",
       "                        }\n",
       "                        break;\n",
       "                    }\n",
       "                }\n",
       "            }, 500);\n",
       "            "
      ],
      "text/plain": [
       "<IPython.core.display.Javascript object>"
      ]
     },
     "metadata": {},
     "output_type": "display_data"
    }
   ],
   "source": []
  },
  {
   "cell_type": "code",
   "execution_count": 78,
   "id": "a59ce5d0",
   "metadata": {},
   "outputs": [
    {
     "data": {
      "application/javascript": [
       "\n",
       "            setTimeout(function() {\n",
       "                var nbb_cell_id = 78;\n",
       "                var nbb_unformatted_code = \"# Solution\\n\\nsurv = hazard.make_surv()\";\n",
       "                var nbb_formatted_code = \"# Solution\\n\\nsurv = hazard.make_surv()\";\n",
       "                var nbb_cells = Jupyter.notebook.get_cells();\n",
       "                for (var i = 0; i < nbb_cells.length; ++i) {\n",
       "                    if (nbb_cells[i].input_prompt_number == nbb_cell_id) {\n",
       "                        if (nbb_cells[i].get_text() == nbb_unformatted_code) {\n",
       "                             nbb_cells[i].set_text(nbb_formatted_code);\n",
       "                        }\n",
       "                        break;\n",
       "                    }\n",
       "                }\n",
       "            }, 500);\n",
       "            "
      ],
      "text/plain": [
       "<IPython.core.display.Javascript object>"
      ]
     },
     "metadata": {},
     "output_type": "display_data"
    }
   ],
   "source": []
  },
  {
   "cell_type": "code",
   "execution_count": 79,
   "id": "ac6d78c0",
   "metadata": {},
   "outputs": [
    {
     "data": {
      "image/png": "[encoded data removed]",
      "text/plain": [
       "<Figure size 450x262.5 with 1 Axes>"
      ]
     },
     "metadata": {},
     "output_type": "display_data"
    },
    {
     "data": {
      "application/javascript": [
       "\n",
       "            setTimeout(function() {\n",
       "                var nbb_cell_id = 79;\n",
       "                var nbb_unformatted_code = \"# Solution\\n\\n# It looks like almost 50% of marriages end in divorce, which is consistent\\n# with a commonly quoted but seldom attributed statistic.\\n\\nsurv.plot()\\ndecorate(xlabel=\\\"Years of marriage\\\", ylabel=\\\"Prob survival\\\", ylim=[-0.05, 1.05])\";\n",
       "                var nbb_formatted_code = \"# Solution\\n\\n# It looks like almost 50% of marriages end in divorce, which is consistent\\n# with a commonly quoted but seldom attributed statistic.\\n\\nsurv.plot()\\ndecorate(xlabel=\\\"Years of marriage\\\", ylabel=\\\"Prob survival\\\", ylim=[-0.05, 1.05])\";\n",
       "                var nbb_cells = Jupyter.notebook.get_cells();\n",
       "                for (var i = 0; i < nbb_cells.length; ++i) {\n",
       "                    if (nbb_cells[i].input_prompt_number == nbb_cell_id) {\n",
       "                        if (nbb_cells[i].get_text() == nbb_unformatted_code) {\n",
       "                             nbb_cells[i].set_text(nbb_formatted_code);\n",
       "                        }\n",
       "                        break;\n",
       "                    }\n",
       "                }\n",
       "            }, 500);\n",
       "            "
      ],
      "text/plain": [
       "<IPython.core.display.Javascript object>"
      ]
     },
     "metadata": {},
     "output_type": "display_data"
    }
   ],
   "source": []
  },
  {
   "cell_type": "code",
   "execution_count": 80,
   "id": "10415f38",
   "metadata": {},
   "outputs": [
    {
     "data": {
      "application/javascript": [
       "\n",
       "            setTimeout(function() {\n",
       "                var nbb_cell_id = 80;\n",
       "                var nbb_unformatted_code = \"# Solution\\n\\n# The question did not ask for a breakdown by cohort, but we can use this\\n# function to do it.\\n\\n\\ndef estimate_marrage_survival(group):\\n    \\\"\\\"\\\"Estimate the survival function.\\\"\\\"\\\"\\n    complete = (group[\\\"cmdivorcx\\\"] - group[\\\"cmmarrhx\\\"]) / 12\\n    still_married = group.query(\\\"fmarno == 1 and rmarital == 1\\\")\\n    ongoing = (still_married[\\\"cmintvw\\\"] - still_married[\\\"cmmarrhx\\\"]) / 12\\n    hf = estimate_hazard(complete, ongoing)\\n    sf = hf.make_surv()\\n    return sf\";\n",
       "                var nbb_formatted_code = \"# Solution\\n\\n# The question did not ask for a breakdown by cohort, but we can use this\\n# function to do it.\\n\\n\\ndef estimate_marrage_survival(group):\\n    \\\"\\\"\\\"Estimate the survival function.\\\"\\\"\\\"\\n    complete = (group[\\\"cmdivorcx\\\"] - group[\\\"cmmarrhx\\\"]) / 12\\n    still_married = group.query(\\\"fmarno == 1 and rmarital == 1\\\")\\n    ongoing = (still_married[\\\"cmintvw\\\"] - still_married[\\\"cmmarrhx\\\"]) / 12\\n    hf = estimate_hazard(complete, ongoing)\\n    sf = hf.make_surv()\\n    return sf\";\n",
       "                var nbb_cells = Jupyter.notebook.get_cells();\n",
       "                for (var i = 0; i < nbb_cells.length; ++i) {\n",
       "                    if (nbb_cells[i].input_prompt_number == nbb_cell_id) {\n",
       "                        if (nbb_cells[i].get_text() == nbb_unformatted_code) {\n",
       "                             nbb_cells[i].set_text(nbb_formatted_code);\n",
       "                        }\n",
       "                        break;\n",
       "                    }\n",
       "                }\n",
       "            }, 500);\n",
       "            "
      ],
      "text/plain": [
       "<IPython.core.display.Javascript object>"
      ]
     },
     "metadata": {},
     "output_type": "display_data"
    }
   ],
   "source": []
  },
  {
   "cell_type": "code",
   "execution_count": 81,
   "id": "e4364f50",
   "metadata": {},
   "outputs": [
    {
     "data": {
      "application/javascript": [
       "\n",
       "            setTimeout(function() {\n",
       "                var nbb_cell_id = 81;\n",
       "                var nbb_unformatted_code = \"# Solution\\n\\nsurv_map = {}\\ngrouped = sample.groupby(\\\"cohort\\\")\\nfor cohort in cohorts:\\n    group = grouped.get_group(cohort)\\n    surv_map[cohort] = estimate_marrage_survival(group)\";\n",
       "                var nbb_formatted_code = \"# Solution\\n\\nsurv_map = {}\\ngrouped = sample.groupby(\\\"cohort\\\")\\nfor cohort in cohorts:\\n    group = grouped.get_group(cohort)\\n    surv_map[cohort] = estimate_marrage_survival(group)\";\n",
       "                var nbb_cells = Jupyter.notebook.get_cells();\n",
       "                for (var i = 0; i < nbb_cells.length; ++i) {\n",
       "                    if (nbb_cells[i].input_prompt_number == nbb_cell_id) {\n",
       "                        if (nbb_cells[i].get_text() == nbb_unformatted_code) {\n",
       "                             nbb_cells[i].set_text(nbb_formatted_code);\n",
       "                        }\n",
       "                        break;\n",
       "                    }\n",
       "                }\n",
       "            }, 500);\n",
       "            "
      ],
      "text/plain": [
       "<IPython.core.display.Javascript object>"
      ]
     },
     "metadata": {},
     "output_type": "display_data"
    }
   ],
   "source": []
  },
  {
   "cell_type": "code",
   "execution_count": 82,
   "id": "db26f738",
   "metadata": {},
   "outputs": [
    {
     "data": {
      "image/png": "[encoded data removed]",
      "text/plain": [
       "<Figure size 450x262.5 with 1 Axes>"
      ]
     },
     "metadata": {},
     "output_type": "display_data"
    },
    {
     "data": {
      "application/javascript": [
       "\n",
       "            setTimeout(function() {\n",
       "                var nbb_cell_id = 82;\n",
       "                var nbb_unformatted_code = \"# Solution\\n\\n# People born in the 1940s and 1950s were the least likely to divorce\\n# Later generations have higher divorce rates. But the sample sizes\\n# are smaller for later generations, so it's hard to say whether the\\n# differences are meaningful.\\n\\nfor cohort, surv in surv_map.items():\\n    surv.plot(label=f\\\"{cohort}s\\\")\\n\\ndecorate(xlabel=\\\"Years of marriage\\\", ylabel=\\\"Prob survival\\\", ylim=[-0.05, 1.05])\";\n",
       "                var nbb_formatted_code = \"# Solution\\n\\n# People born in the 1940s and 1950s were the least likely to divorce\\n# Later generations have higher divorce rates. But the sample sizes\\n# are smaller for later generations, so it's hard to say whether the\\n# differences are meaningful.\\n\\nfor cohort, surv in surv_map.items():\\n    surv.plot(label=f\\\"{cohort}s\\\")\\n\\ndecorate(xlabel=\\\"Years of marriage\\\", ylabel=\\\"Prob survival\\\", ylim=[-0.05, 1.05])\";\n",
       "                var nbb_cells = Jupyter.notebook.get_cells();\n",
       "                for (var i = 0; i < nbb_cells.length; ++i) {\n",
       "                    if (nbb_cells[i].input_prompt_number == nbb_cell_id) {\n",
       "                        if (nbb_cells[i].get_text() == nbb_unformatted_code) {\n",
       "                             nbb_cells[i].set_text(nbb_formatted_code);\n",
       "                        }\n",
       "                        break;\n",
       "                    }\n",
       "                }\n",
       "            }, 500);\n",
       "            "
      ],
      "text/plain": [
       "<IPython.core.display.Javascript object>"
      ]
     },
     "metadata": {},
     "output_type": "display_data"
    }
   ],
   "source": []
  },
  {
   "cell_type": "markdown",
   "id": "f00344ce",
   "metadata": {},
   "source": [
    "### Exercise\n",
    "\n",
    "In 2012, a team of demographers at the University of Southern California estimated life expectancy for people born in Sweden in the early 1800s and 1900s.\n",
    "For ages from 0 to 91 years, they estimated the age-specific mortality rate, which is the fraction of people who survive until a certain age and then die at that age -- which you might recognize as the hazard function.\n",
    "\n",
    "I used an online graph digitizer to get the data from the figure in their paper and store it in a CSV file.\n",
    "Instructions for downloading the data are in the notebook for this chapter."
   ]
  },
  {
   "cell_type": "markdown",
   "id": "09436f45",
   "metadata": {
    "tags": [
     "remove-print"
    ]
   },
   "source": [
    "Data source: Beltrán-Sánchez, H., Crimmins, E. M., & Finch, C. E. (2012). Early cohort mortality predicts the rate of aging in the cohort: a historical analysis. *Journal of developmental origins of health and disease*, 3(5), 380-386.\n",
    "\n",
    "The following cell downloads the data."
   ]
  },
  {
   "cell_type": "code",
   "execution_count": 83,
   "id": "943f9319",
   "metadata": {},
   "outputs": [
    {
     "data": {
      "application/javascript": [
       "\n",
       "            setTimeout(function() {\n",
       "                var nbb_cell_id = 83;\n",
       "                var nbb_unformatted_code = \"download(\\n    \\\"https://github.com/AllenDowney/ThinkStats/raw/v3/data/mortality_rates_beltran2012.csv\\\"\\n)\";\n",
       "                var nbb_formatted_code = \"download(\\n    \\\"https://github.com/AllenDowney/ThinkStats/raw/v3/data/mortality_rates_beltran2012.csv\\\"\\n)\";\n",
       "                var nbb_cells = Jupyter.notebook.get_cells();\n",
       "                for (var i = 0; i < nbb_cells.length; ++i) {\n",
       "                    if (nbb_cells[i].input_prompt_number == nbb_cell_id) {\n",
       "                        if (nbb_cells[i].get_text() == nbb_unformatted_code) {\n",
       "                             nbb_cells[i].set_text(nbb_formatted_code);\n",
       "                        }\n",
       "                        break;\n",
       "                    }\n",
       "                }\n",
       "            }, 500);\n",
       "            "
      ],
      "text/plain": [
       "<IPython.core.display.Javascript object>"
      ]
     },
     "metadata": {},
     "output_type": "display_data"
    }
   ],
   "source": [
    "download(\n",
    "    \"https://github.com/AllenDowney/ThinkStats/raw/v3/data/mortality_rates_beltran2012.csv\"\n",
    ")"
   ]
  },
  {
   "cell_type": "markdown",
   "id": "55b2141c",
   "metadata": {
    "tags": [
     "remove-print"
    ]
   },
   "source": [
    "We can load the data like this."
   ]
  },
  {
   "cell_type": "code",
   "execution_count": 84,
   "id": "acac3b0a",
   "metadata": {},
   "outputs": [
    {
     "data": {
      "application/javascript": [
       "\n",
       "            setTimeout(function() {\n",
       "                var nbb_cell_id = 84;\n",
       "                var nbb_unformatted_code = \"mortality = pd.read_csv(\\\"mortality_rates_beltran2012.csv\\\", header=[0, 1]).dropna()\";\n",
       "                var nbb_formatted_code = \"mortality = pd.read_csv(\\\"mortality_rates_beltran2012.csv\\\", header=[0, 1]).dropna()\";\n",
       "                var nbb_cells = Jupyter.notebook.get_cells();\n",
       "                for (var i = 0; i < nbb_cells.length; ++i) {\n",
       "                    if (nbb_cells[i].input_prompt_number == nbb_cell_id) {\n",
       "                        if (nbb_cells[i].get_text() == nbb_unformatted_code) {\n",
       "                             nbb_cells[i].set_text(nbb_formatted_code);\n",
       "                        }\n",
       "                        break;\n",
       "                    }\n",
       "                }\n",
       "            }, 500);\n",
       "            "
      ],
      "text/plain": [
       "<IPython.core.display.Javascript object>"
      ]
     },
     "metadata": {},
     "output_type": "display_data"
    }
   ],
   "source": [
    "mortality = pd.read_csv(\"mortality_rates_beltran2012.csv\", header=[0, 1]).dropna()"
   ]
  },
  {
   "cell_type": "markdown",
   "id": "47424a69",
   "metadata": {},
   "source": [
    "The following function interpolates the data to make a hazard function with approximate mortality rates for each age from 0 to 99."
   ]
  },
  {
   "cell_type": "code",
   "execution_count": 85,
   "id": "9bf23ea0",
   "metadata": {},
   "outputs": [
    {
     "data": {
      "application/javascript": [
       "\n",
       "            setTimeout(function() {\n",
       "                var nbb_cell_id = 85;\n",
       "                var nbb_unformatted_code = \"from scipy.interpolate import interp1d\\nfrom empiricaldist import Hazard\\n\\n\\ndef make_hazard(ages, rates):\\n    \\\"\\\"\\\"Make a Hazard function by interpolating a Series.\\n\\n    series: Series\\n\\n    returns: Hazard\\n    \\\"\\\"\\\"\\n    interp = interp1d(ages, rates, fill_value=\\\"extrapolate\\\")\\n    xs = np.arange(0, 100)\\n    ys = np.exp(interp(xs))\\n    return Hazard(ys, xs)\";\n",
       "                var nbb_formatted_code = \"from scipy.interpolate import interp1d\\nfrom empiricaldist import Hazard\\n\\n\\ndef make_hazard(ages, rates):\\n    \\\"\\\"\\\"Make a Hazard function by interpolating a Series.\\n\\n    series: Series\\n\\n    returns: Hazard\\n    \\\"\\\"\\\"\\n    interp = interp1d(ages, rates, fill_value=\\\"extrapolate\\\")\\n    xs = np.arange(0, 100)\\n    ys = np.exp(interp(xs))\\n    return Hazard(ys, xs)\";\n",
       "                var nbb_cells = Jupyter.notebook.get_cells();\n",
       "                for (var i = 0; i < nbb_cells.length; ++i) {\n",
       "                    if (nbb_cells[i].input_prompt_number == nbb_cell_id) {\n",
       "                        if (nbb_cells[i].get_text() == nbb_unformatted_code) {\n",
       "                             nbb_cells[i].set_text(nbb_formatted_code);\n",
       "                        }\n",
       "                        break;\n",
       "                    }\n",
       "                }\n",
       "            }, 500);\n",
       "            "
      ],
      "text/plain": [
       "<IPython.core.display.Javascript object>"
      ]
     },
     "metadata": {},
     "output_type": "display_data"
    }
   ],
   "source": [
    "from scipy.interpolate import interp1d\n",
    "from empiricaldist import Hazard\n",
    "\n",
    "\n",
    "def make_hazard(ages, rates):\n",
    "    \"\"\"Make a Hazard function by interpolating a Series.\n",
    "\n",
    "    series: Series\n",
    "\n",
    "    returns: Hazard\n",
    "    \"\"\"\n",
    "    interp = interp1d(ages, rates, fill_value=\"extrapolate\")\n",
    "    xs = np.arange(0, 100)\n",
    "    ys = np.exp(interp(xs))\n",
    "    return Hazard(ys, xs)"
   ]
  },
  {
   "cell_type": "markdown",
   "id": "532d4550",
   "metadata": {},
   "source": [
    "Now we can make a `Hazard` object like this."
   ]
  },
  {
   "cell_type": "code",
   "execution_count": 86,
   "id": "326d4796",
   "metadata": {},
   "outputs": [
    {
     "data": {
      "application/javascript": [
       "\n",
       "            setTimeout(function() {\n",
       "                var nbb_cell_id = 86;\n",
       "                var nbb_unformatted_code = \"ages = mortality[\\\"1800\\\", \\\"X\\\"].values\\nrates = mortality[\\\"1800\\\", \\\"Y\\\"].values\\nhazard = make_hazard(ages, rates)\";\n",
       "                var nbb_formatted_code = \"ages = mortality[\\\"1800\\\", \\\"X\\\"].values\\nrates = mortality[\\\"1800\\\", \\\"Y\\\"].values\\nhazard = make_hazard(ages, rates)\";\n",
       "                var nbb_cells = Jupyter.notebook.get_cells();\n",
       "                for (var i = 0; i < nbb_cells.length; ++i) {\n",
       "                    if (nbb_cells[i].input_prompt_number == nbb_cell_id) {\n",
       "                        if (nbb_cells[i].get_text() == nbb_unformatted_code) {\n",
       "                             nbb_cells[i].set_text(nbb_formatted_code);\n",
       "                        }\n",
       "                        break;\n",
       "                    }\n",
       "                }\n",
       "            }, 500);\n",
       "            "
      ],
      "text/plain": [
       "<IPython.core.display.Javascript object>"
      ]
     },
     "metadata": {},
     "output_type": "display_data"
    }
   ],
   "source": [
    "ages = mortality[\"1800\", \"X\"].values\n",
    "rates = mortality[\"1800\", \"Y\"].values\n",
    "hazard = make_hazard(ages, rates)"
   ]
  },
  {
   "cell_type": "markdown",
   "id": "6db4827c",
   "metadata": {},
   "source": [
    "Here's what the mortality rates look like."
   ]
  },
  {
   "cell_type": "code",
   "execution_count": 87,
   "id": "6f09508c",
   "metadata": {},
   "outputs": [
    {
     "data": {
      "image/png": "[encoded data removed]",
      "text/plain": [
       "<Figure size 450x262.5 with 1 Axes>"
      ]
     },
     "metadata": {},
     "output_type": "display_data"
    },
    {
     "data": {
      "application/javascript": [
       "\n",
       "            setTimeout(function() {\n",
       "                var nbb_cell_id = 87;\n",
       "                var nbb_unformatted_code = \"hazard.plot()\\n\\ndecorate(xlabel=\\\"Age (years)\\\", ylabel=\\\"Probability\\\")\";\n",
       "                var nbb_formatted_code = \"hazard.plot()\\n\\ndecorate(xlabel=\\\"Age (years)\\\", ylabel=\\\"Probability\\\")\";\n",
       "                var nbb_cells = Jupyter.notebook.get_cells();\n",
       "                for (var i = 0; i < nbb_cells.length; ++i) {\n",
       "                    if (nbb_cells[i].input_prompt_number == nbb_cell_id) {\n",
       "                        if (nbb_cells[i].get_text() == nbb_unformatted_code) {\n",
       "                             nbb_cells[i].set_text(nbb_formatted_code);\n",
       "                        }\n",
       "                        break;\n",
       "                    }\n",
       "                }\n",
       "            }, 500);\n",
       "            "
      ],
      "text/plain": [
       "<IPython.core.display.Javascript object>"
      ]
     },
     "metadata": {},
     "output_type": "display_data"
    }
   ],
   "source": [
    "hazard.plot()\n",
    "\n",
    "decorate(xlabel=\"Age (years)\", ylabel=\"Probability\")"
   ]
  },
  {
   "cell_type": "markdown",
   "id": "a5c7085f",
   "metadata": {},
   "source": [
    "Use `make_surv` to make a survival function based on these rates, and `make_cdf` to compute the corresponding CDF.\n",
    "Plot the results.\n",
    "\n",
    "Then use `make_pmf` to make the `PMF` of the distribution of lifetimes and plot it.\n",
    "Finally, use `compute_pmf_remaining` to compute the average remaining lifetime at each age from 0 to 99.\n",
    "Plot the result.\n",
    "\n",
    "In the remaining lifetime, you should see a counterintuitive pattern -- for the first few years of life, remaining lifetime increases.\n",
    "Because infant mortality was so high in the early 1800s, an older child was expected to live longer than a younger child.\n",
    "After about age 5, life expectancy returns to the pattern we expect -- younger people are expected to live longer than old people.\n",
    "\n",
    "If you are interested in this topic, you might like Chapter 5 of my book, *Probably Overthinking It*, which is about this and other counterintuitive results from many areas of statistics. "
   ]
  },
  {
   "cell_type": "markdown",
   "id": "ed80e215",
   "metadata": {
    "tags": [
     "remove-print"
    ]
   },
   "source": [
    "Available from <https://probablyoverthinking.it>."
   ]
  },
  {
   "cell_type": "code",
   "execution_count": 88,
   "id": "6e67ea80",
   "metadata": {
    "scrolled": true
   },
   "outputs": [
    {
     "data": {
      "image/png": "[encoded data removed]",
      "text/plain": [
       "<Figure size 450x262.5 with 1 Axes>"
      ]
     },
     "metadata": {},
     "output_type": "display_data"
    },
    {
     "data": {
      "application/javascript": [
       "\n",
       "            setTimeout(function() {\n",
       "                var nbb_cell_id = 88;\n",
       "                var nbb_unformatted_code = \"# Solution\\n\\nsurv = hazard.make_surv()\\ncdf = surv.make_cdf()\\n\\nsurv.plot(label=\\\"Survival function\\\")\\ncdf.plot(label=\\\"CDF\\\")\\n\\ndecorate(xlabel=\\\"Age (years)\\\", ylabel=\\\"Mortality rate\\\")\";\n",
       "                var nbb_formatted_code = \"# Solution\\n\\nsurv = hazard.make_surv()\\ncdf = surv.make_cdf()\\n\\nsurv.plot(label=\\\"Survival function\\\")\\ncdf.plot(label=\\\"CDF\\\")\\n\\ndecorate(xlabel=\\\"Age (years)\\\", ylabel=\\\"Mortality rate\\\")\";\n",
       "                var nbb_cells = Jupyter.notebook.get_cells();\n",
       "                for (var i = 0; i < nbb_cells.length; ++i) {\n",
       "                    if (nbb_cells[i].input_prompt_number == nbb_cell_id) {\n",
       "                        if (nbb_cells[i].get_text() == nbb_unformatted_code) {\n",
       "                             nbb_cells[i].set_text(nbb_formatted_code);\n",
       "                        }\n",
       "                        break;\n",
       "                    }\n",
       "                }\n",
       "            }, 500);\n",
       "            "
      ],
      "text/plain": [
       "<IPython.core.display.Javascript object>"
      ]
     },
     "metadata": {},
     "output_type": "display_data"
    }
   ],
   "source": []
  },
  {
   "cell_type": "code",
   "execution_count": 89,
   "id": "b8821042",
   "metadata": {},
   "outputs": [
    {
     "data": {
      "text/plain": [
       "0.9999752374504388"
      ]
     },
     "execution_count": 89,
     "metadata": {},
     "output_type": "execute_result"
    },
    {
     "data": {
      "application/javascript": [
       "\n",
       "            setTimeout(function() {\n",
       "                var nbb_cell_id = 89;\n",
       "                var nbb_unformatted_code = \"# Solution\\n\\npmf = cdf.make_pmf()\\npmf.sum()\";\n",
       "                var nbb_formatted_code = \"# Solution\\n\\npmf = cdf.make_pmf()\\npmf.sum()\";\n",
       "                var nbb_cells = Jupyter.notebook.get_cells();\n",
       "                for (var i = 0; i < nbb_cells.length; ++i) {\n",
       "                    if (nbb_cells[i].input_prompt_number == nbb_cell_id) {\n",
       "                        if (nbb_cells[i].get_text() == nbb_unformatted_code) {\n",
       "                             nbb_cells[i].set_text(nbb_formatted_code);\n",
       "                        }\n",
       "                        break;\n",
       "                    }\n",
       "                }\n",
       "            }, 500);\n",
       "            "
      ],
      "text/plain": [
       "<IPython.core.display.Javascript object>"
      ]
     },
     "metadata": {},
     "output_type": "display_data"
    }
   ],
   "source": []
  },
  {
   "cell_type": "code",
   "execution_count": 90,
   "id": "d00461f9",
   "metadata": {},
   "outputs": [
    {
     "data": {
      "image/png": "[encoded data removed]",
      "text/plain": [
       "<Figure size 450x262.5 with 1 Axes>"
      ]
     },
     "metadata": {},
     "output_type": "display_data"
    },
    {
     "data": {
      "application/javascript": [
       "\n",
       "            setTimeout(function() {\n",
       "                var nbb_cell_id = 90;\n",
       "                var nbb_unformatted_code = \"# Solution\\n\\npmf.plot()\\n\\ndecorate(xlabel=\\\"Age (years)\\\", ylabel=\\\"PMF\\\")\";\n",
       "                var nbb_formatted_code = \"# Solution\\n\\npmf.plot()\\n\\ndecorate(xlabel=\\\"Age (years)\\\", ylabel=\\\"PMF\\\")\";\n",
       "                var nbb_cells = Jupyter.notebook.get_cells();\n",
       "                for (var i = 0; i < nbb_cells.length; ++i) {\n",
       "                    if (nbb_cells[i].input_prompt_number == nbb_cell_id) {\n",
       "                        if (nbb_cells[i].get_text() == nbb_unformatted_code) {\n",
       "                             nbb_cells[i].set_text(nbb_formatted_code);\n",
       "                        }\n",
       "                        break;\n",
       "                    }\n",
       "                }\n",
       "            }, 500);\n",
       "            "
      ],
      "text/plain": [
       "<IPython.core.display.Javascript object>"
      ]
     },
     "metadata": {},
     "output_type": "display_data"
    }
   ],
   "source": []
  },
  {
   "cell_type": "code",
   "execution_count": 91,
   "id": "a39f4c0f",
   "metadata": {},
   "outputs": [
    {
     "data": {
      "application/javascript": [
       "\n",
       "            setTimeout(function() {\n",
       "                var nbb_cell_id = 91;\n",
       "                var nbb_unformatted_code = \"# Solution\\n\\nindex = range(0, 100)\\nexpected = pd.Series(index=index)\\n\\nfor t in index:\\n    pmf_remaining = compute_pmf_remaining(pmf, t)\\n    expected[t] = pmf_remaining.mean()\";\n",
       "                var nbb_formatted_code = \"# Solution\\n\\nindex = range(0, 100)\\nexpected = pd.Series(index=index)\\n\\nfor t in index:\\n    pmf_remaining = compute_pmf_remaining(pmf, t)\\n    expected[t] = pmf_remaining.mean()\";\n",
       "                var nbb_cells = Jupyter.notebook.get_cells();\n",
       "                for (var i = 0; i < nbb_cells.length; ++i) {\n",
       "                    if (nbb_cells[i].input_prompt_number == nbb_cell_id) {\n",
       "                        if (nbb_cells[i].get_text() == nbb_unformatted_code) {\n",
       "                             nbb_cells[i].set_text(nbb_formatted_code);\n",
       "                        }\n",
       "                        break;\n",
       "                    }\n",
       "                }\n",
       "            }, 500);\n",
       "            "
      ],
      "text/plain": [
       "<IPython.core.display.Javascript object>"
      ]
     },
     "metadata": {},
     "output_type": "display_data"
    }
   ],
   "source": []
  },
  {
   "cell_type": "code",
   "execution_count": 92,
   "id": "f51c3504",
   "metadata": {},
   "outputs": [
    {
     "data": {
      "image/png": "[encoded data removed]",
      "text/plain": [
       "<Figure size 450x262.5 with 1 Axes>"
      ]
     },
     "metadata": {},
     "output_type": "display_data"
    },
    {
     "data": {
      "application/javascript": [
       "\n",
       "            setTimeout(function() {\n",
       "                var nbb_cell_id = 92;\n",
       "                var nbb_unformatted_code = \"# Solution\\n\\nexpected.plot()\\n\\ndecorate(xlabel=\\\"Age (years)\\\", ylabel=\\\"Life expectancy (years)\\\")\";\n",
       "                var nbb_formatted_code = \"# Solution\\n\\nexpected.plot()\\n\\ndecorate(xlabel=\\\"Age (years)\\\", ylabel=\\\"Life expectancy (years)\\\")\";\n",
       "                var nbb_cells = Jupyter.notebook.get_cells();\n",
       "                for (var i = 0; i < nbb_cells.length; ++i) {\n",
       "                    if (nbb_cells[i].input_prompt_number == nbb_cell_id) {\n",
       "                        if (nbb_cells[i].get_text() == nbb_unformatted_code) {\n",
       "                             nbb_cells[i].set_text(nbb_formatted_code);\n",
       "                        }\n",
       "                        break;\n",
       "                    }\n",
       "                }\n",
       "            }, 500);\n",
       "            "
      ],
      "text/plain": [
       "<IPython.core.display.Javascript object>"
      ]
     },
     "metadata": {},
     "output_type": "display_data"
    }
   ],
   "source": []
  },
  {
   "cell_type": "markdown",
   "id": "e27da3a4",
   "metadata": {
    "tags": []
   },
   "source": [
    "[Think Stats: Exploratory Data Analysis in Python, 3rd Edition](https://allendowney.github.io/ThinkStats/index.html)\n",
    "\n",
    "Copyright 2024 [Allen B. Downey](https://allendowney.com)\n",
    "\n",
    "Code license: [MIT License](https://mit-license.org/)\n",
    "\n",
    "Text license: [Creative Commons Attribution-NonCommercial-ShareAlike 4.0 International](https://creativecommons.org/licenses/by-nc-sa/4.0/)"
   ]
  }
 ],
 "metadata": {
  "celltoolbar": "Tags",
  "kernelspec": {
   "display_name": "Python 3 (ipykernel)",
   "language": "python",
   "name": "python3"
  },
  "language_info": {
   "codemirror_mode": {
    "name": "ipython",
    "version": 3
   },
   "file_extension": ".py",
   "mimetype": "text/x-python",
   "name": "python",
   "nbconvert_exporter": "python",
   "pygments_lexer": "ipython3",
   "version": "3.10.14"
  }
 },
 "nbformat": 4,
 "nbformat_minor": 5
}
