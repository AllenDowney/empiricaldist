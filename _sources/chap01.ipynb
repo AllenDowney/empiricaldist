{
 "cells": [
  {
   "cell_type": "markdown",
   "id": "85c30bdb",
   "metadata": {},
   "source": [
    "# Exploratory Data Analysis\n",
    "\n",
    "The thesis of this book is we can use data to answer questions, resolve debates, and make better decions.\n",
    "\n",
    "This chapter introduces the steps we'll use to do that: loading and validating data, exploring, and choosing statistics that measure what your are interested in.\n",
    "As an example, it uses data from the National Survey of Family Growth (NSFG) to answer a question I heard when my wife and I were expecting our first child: do first babies tend to arrive late?"
   ]
  },
  {
   "cell_type": "markdown",
   "id": "3893fe82",
   "metadata": {
    "tags": [
     "remove-print"
    ]
   },
   "source": [
    "[Click here to run this notebook on Colab](https://colab.research.google.com/github/AllenDowney/ThinkStats/blob/v3/nb/chap01.ipynb)."
   ]
  },
  {
   "cell_type": "code",
   "execution_count": 1,
   "id": "3bb1c675",
   "metadata": {
    "tags": [
     "remove-print",
     "hide-cell"
    ]
   },
   "outputs": [
    {
     "data": {
      "application/javascript": [
       "\n",
       "            setTimeout(function() {\n",
       "                var nbb_cell_id = 1;\n",
       "                var nbb_unformatted_code = \"%load_ext nb_black\\n%load_ext autoreload\\n%autoreload 2\";\n",
       "                var nbb_formatted_code = \"%load_ext nb_black\\n%load_ext autoreload\\n%autoreload 2\";\n",
       "                var nbb_cells = Jupyter.notebook.get_cells();\n",
       "                for (var i = 0; i < nbb_cells.length; ++i) {\n",
       "                    if (nbb_cells[i].input_prompt_number == nbb_cell_id) {\n",
       "                        if (nbb_cells[i].get_text() == nbb_unformatted_code) {\n",
       "                             nbb_cells[i].set_text(nbb_formatted_code);\n",
       "                        }\n",
       "                        break;\n",
       "                    }\n",
       "                }\n",
       "            }, 500);\n",
       "            "
      ],
      "text/plain": [
       "<IPython.core.display.Javascript object>"
      ]
     },
     "metadata": {},
     "output_type": "display_data"
    }
   ],
   "source": [
    "%load_ext nb_black\n",
    "%load_ext autoreload\n",
    "%autoreload 2"
   ]
  },
  {
   "cell_type": "code",
   "execution_count": 2,
   "id": "02d400cf",
   "metadata": {
    "tags": [
     "remove-print",
     "hide-cell"
    ]
   },
   "outputs": [
    {
     "data": {
      "application/javascript": [
       "\n",
       "            setTimeout(function() {\n",
       "                var nbb_cell_id = 2;\n",
       "                var nbb_unformatted_code = \"from os.path import basename, exists\\n\\n\\ndef download(url):\\n    filename = basename(url)\\n    if not exists(filename):\\n        from urllib.request import urlretrieve\\n\\n        local, _ = urlretrieve(url, filename)\\n        print(\\\"Downloaded \\\" + local)\\n\\n\\ndownload(\\\"https://github.com/AllenDowney/ThinkStats/raw/v3/nb/thinkstats.py\\\")\";\n",
       "                var nbb_formatted_code = \"from os.path import basename, exists\\n\\n\\ndef download(url):\\n    filename = basename(url)\\n    if not exists(filename):\\n        from urllib.request import urlretrieve\\n\\n        local, _ = urlretrieve(url, filename)\\n        print(\\\"Downloaded \\\" + local)\\n\\n\\ndownload(\\\"https://github.com/AllenDowney/ThinkStats/raw/v3/nb/thinkstats.py\\\")\";\n",
       "                var nbb_cells = Jupyter.notebook.get_cells();\n",
       "                for (var i = 0; i < nbb_cells.length; ++i) {\n",
       "                    if (nbb_cells[i].input_prompt_number == nbb_cell_id) {\n",
       "                        if (nbb_cells[i].get_text() == nbb_unformatted_code) {\n",
       "                             nbb_cells[i].set_text(nbb_formatted_code);\n",
       "                        }\n",
       "                        break;\n",
       "                    }\n",
       "                }\n",
       "            }, 500);\n",
       "            "
      ],
      "text/plain": [
       "<IPython.core.display.Javascript object>"
      ]
     },
     "metadata": {},
     "output_type": "display_data"
    }
   ],
   "source": [
    "from os.path import basename, exists\n",
    "\n",
    "\n",
    "def download(url):\n",
    "    filename = basename(url)\n",
    "    if not exists(filename):\n",
    "        from urllib.request import urlretrieve\n",
    "\n",
    "        local, _ = urlretrieve(url, filename)\n",
    "        print(\"Downloaded \" + local)\n",
    "\n",
    "\n",
    "download(\"https://github.com/AllenDowney/ThinkStats/raw/v3/nb/thinkstats.py\")"
   ]
  },
  {
   "cell_type": "code",
   "execution_count": 3,
   "id": "553c681e",
   "metadata": {
    "tags": [
     "hide-cell",
     "remove-print"
    ]
   },
   "outputs": [
    {
     "data": {
      "application/javascript": [
       "\n",
       "            setTimeout(function() {\n",
       "                var nbb_cell_id = 3;\n",
       "                var nbb_unformatted_code = \"try:\\n    import empiricaldist\\nexcept ImportError:\\n    !pip install empiricaldist\";\n",
       "                var nbb_formatted_code = \"try:\\n    import empiricaldist\\nexcept ImportError:\\n    !pip install empiricaldist\";\n",
       "                var nbb_cells = Jupyter.notebook.get_cells();\n",
       "                for (var i = 0; i < nbb_cells.length; ++i) {\n",
       "                    if (nbb_cells[i].input_prompt_number == nbb_cell_id) {\n",
       "                        if (nbb_cells[i].get_text() == nbb_unformatted_code) {\n",
       "                             nbb_cells[i].set_text(nbb_formatted_code);\n",
       "                        }\n",
       "                        break;\n",
       "                    }\n",
       "                }\n",
       "            }, 500);\n",
       "            "
      ],
      "text/plain": [
       "<IPython.core.display.Javascript object>"
      ]
     },
     "metadata": {},
     "output_type": "display_data"
    }
   ],
   "source": [
    "try:\n",
    "    import empiricaldist\n",
    "except ImportError:\n",
    "    !pip install empiricaldist"
   ]
  },
  {
   "cell_type": "code",
   "execution_count": 4,
   "id": "1a3119be",
   "metadata": {
    "tags": [
     "hide-cell",
     "remove-print"
    ]
   },
   "outputs": [
    {
     "data": {
      "application/javascript": [
       "\n",
       "            setTimeout(function() {\n",
       "                var nbb_cell_id = 4;\n",
       "                var nbb_unformatted_code = \"import numpy as np\\nimport pandas as pd\\nimport matplotlib.pyplot as plt\\n\\nfrom thinkstats import decorate\";\n",
       "                var nbb_formatted_code = \"import numpy as np\\nimport pandas as pd\\nimport matplotlib.pyplot as plt\\n\\nfrom thinkstats import decorate\";\n",
       "                var nbb_cells = Jupyter.notebook.get_cells();\n",
       "                for (var i = 0; i < nbb_cells.length; ++i) {\n",
       "                    if (nbb_cells[i].input_prompt_number == nbb_cell_id) {\n",
       "                        if (nbb_cells[i].get_text() == nbb_unformatted_code) {\n",
       "                             nbb_cells[i].set_text(nbb_formatted_code);\n",
       "                        }\n",
       "                        break;\n",
       "                    }\n",
       "                }\n",
       "            }, 500);\n",
       "            "
      ],
      "text/plain": [
       "<IPython.core.display.Javascript object>"
      ]
     },
     "metadata": {},
     "output_type": "display_data"
    }
   ],
   "source": [
    "import numpy as np\n",
    "import pandas as pd\n",
    "import matplotlib.pyplot as plt\n",
    "\n",
    "from thinkstats import decorate"
   ]
  },
  {
   "cell_type": "markdown",
   "id": "9ebc865a",
   "metadata": {},
   "source": [
    "## Evidence\n",
    "\n",
    "You might have heard that first babies are more likely to be late.\n",
    "If you Google this question, you will find plenty of discussion.\n",
    "Some people claim it's true, others say it's a myth, and some people say it's the other way around: first babies come early.\n",
    "\n",
    "In many of these discussions, people provide data to support their claims.\n",
    "I found many examples like these:\n",
    "\n",
    "> \"My two friends that have given birth recently to their first babies, BOTH went almost 2 weeks overdue before going into labour or being induced.\"\n",
    "\n",
    "> \"My first one came 2 weeks late and now I think the second one is going to come out two weeks early!!\"\n",
    "\n",
    "> \"I don't think that can be true because my sister was my mother's first and she was early, as with many of my cousins.\""
   ]
  },
  {
   "cell_type": "markdown",
   "id": "69f30de7",
   "metadata": {},
   "source": [
    "Reports like these are called **anecdotal evidence** because they are based on data that is unpublished and usually personal.\n",
    "In casual conversation, there is nothing wrong with anecdotes, so I don't mean to pick on the people I quoted.\n",
    "\n",
    "But we might want evidence that is more persuasive and an answer that is more reliable.\n",
    "By those standards, anecdotal evidence usually fails, because:\n",
    "\n",
    "-   Small number of observations: If pregnancy length is longer for first babies, the difference is probably small compared to natural variation. In that case, we might have to compare a large number of pregnancies to be sure that a difference exists.\n",
    "\n",
    "-   Selection bias: People who join a discussion of this question might be interested because their first babies were late. In that case the process of selecting data would bias the results.\n",
    "\n",
    "-   Confirmation bias: People who believe the claim might be more likely to contribute examples that confirm it. People who doubt the claim are more likely to cite counterexamples.\n",
    "\n",
    "-   Inaccuracy: Anecdotes are often personal stories, and often misremembered, misrepresented, repeated inaccurately, etc."
   ]
  },
  {
   "cell_type": "markdown",
   "id": "136480d4",
   "metadata": {},
   "source": [
    "To address the limitations of anecdotes, we will use the tools of statistics, which include:\n",
    "\n",
    "-   Data collection: We will use data from a large national survey that was designed explicitly with the goal of generating statistically valid inferences about the U.S. population.\n",
    "\n",
    "-   Descriptive statistics: We will generate statistics that summarize the data concisely, and evaluate different ways to visualize data.\n",
    "\n",
    "-   Exploratory data analysis: We will look for patterns, differences, and other features that address the questions we are interested in. At the same time we will check for inconsistencies and identify limitations.\n",
    "\n",
    "-   Estimation: We will use data from a sample to estimate characteristics of the general population.\n",
    "\n",
    "-   Hypothesis testing: Where we see apparent effects, like a difference between two groups, we will evaluate whether the effect might have happened by chance.\n",
    "\n",
    "By performing these steps with care to avoid pitfalls, we can reach conclusions that are more justifiable and more likely to be correct."
   ]
  },
  {
   "cell_type": "markdown",
   "id": "881d8023",
   "metadata": {},
   "source": [
    "## The National Survey of Family Growth\n",
    "\n",
    "Since 1973 the U.S. Centers for Disease Control and Prevention (CDC) have conducted the National Survey of Family Growth (NSFG), which is intended to gather \"information on family life, marriage and divorce, pregnancy, infertility, use of contraception, and men's and women's health. The survey results are used...to plan health services and health education programs, and to do statistical studies of families, fertility, and health.\""
   ]
  },
  {
   "cell_type": "markdown",
   "id": "f6e9bf62",
   "metadata": {
    "tags": [
     "remove-print"
    ]
   },
   "source": [
    "You can read more about the NSFG at <http://cdc.gov/nchs/nsfg.htm>."
   ]
  },
  {
   "cell_type": "markdown",
   "id": "41d329e0",
   "metadata": {},
   "source": [
    "We will use data collected by this survey to investigate whether first babies tend to come late, and other questions.\n",
    "In order to use this data effectively, we have to understand the design of the study.\n",
    "\n",
    "The NSFG is a **cross-sectional** study, which means that it captures a snapshot of a group at a point in time.\n",
    "The most common alternative is a **longitudinal** study, which observes a group repeatedly over time.\n",
    "\n",
    "The NSFG has been conducted seven times; each deployment is called a **cycle**.\n",
    "We will use data from Cycle 6, which was conducted from January 2002 to March 2003."
   ]
  },
  {
   "cell_type": "markdown",
   "id": "11a17e85",
   "metadata": {},
   "source": [
    "The goal of the survey is to draw conclusions about a **population**; the target population of the NSFG is people in the United States aged 15-44.\n",
    "Ideally surveys would collect data from every member of the population, but that's seldom possible.\n",
    "Instead we collect data from a subset of the population called a **sample**.\n",
    "The people who participate in a survey are called **respondents**.\n",
    "\n",
    "In general, cross-sectional studies are meant to be **representative**, which means that every member of the target population has an equal chance of participating.\n",
    "That ideal is hard to achieve in practice, but people who conduct surveys come as close as they can.\n",
    "\n",
    "The NSFG is not representative; instead it is deliberately **oversampled**.\n",
    "The designers of the study recruited three groups -- Hispanics, African-Americans and teenagers -- at rates higher than their representation in the U.S. population, in order to make sure that the number of respondents in each of these groups is large enough to draw valid statistical inferences.\n",
    "\n",
    "Of course, the drawback of oversampling is that it is not as easy to draw conclusions about the general population based on statistics from the survey.\n",
    "We will come back to this point later."
   ]
  },
  {
   "cell_type": "markdown",
   "id": "f2232914",
   "metadata": {},
   "source": [
    "When working with this kind of data, it is important to be familiar with the **codebook**, which documents the design of the study, the survey questions, and the encoding of the responses."
   ]
  },
  {
   "cell_type": "markdown",
   "id": "5908f497",
   "metadata": {
    "tags": [
     "remove-print"
    ]
   },
   "source": [
    "The codebook and user's guide for the NSFG data are available from <http://www.cdc.gov/nchs/nsfg/nsfg_cycle6.htm>"
   ]
  },
  {
   "cell_type": "markdown",
   "id": "da1298b1",
   "metadata": {},
   "source": [
    "## Reading the Data\n",
    "\n",
    "TODO: Fill this in...\n",
    "\n",
    "Instructions for downloading the data are in the notebook for this chapter."
   ]
  },
  {
   "cell_type": "markdown",
   "id": "254dde94",
   "metadata": {
    "tags": [
     "remove-print"
    ]
   },
   "source": [
    "The following cells download the data files and install `statadict`, which we need to read the data."
   ]
  },
  {
   "cell_type": "code",
   "execution_count": 5,
   "id": "6ee58aea",
   "metadata": {
    "tags": [
     "remove-print"
    ]
   },
   "outputs": [
    {
     "data": {
      "application/javascript": [
       "\n",
       "            setTimeout(function() {\n",
       "                var nbb_cell_id = 5;\n",
       "                var nbb_unformatted_code = \"download(\\\"https://github.com/AllenDowney/ThinkStats/raw/v3/data/2002FemPreg.dct\\\")\\ndownload(\\\"https://github.com/AllenDowney/ThinkStats/raw/v3/data/2002FemPreg.dat.gz\\\")\";\n",
       "                var nbb_formatted_code = \"download(\\\"https://github.com/AllenDowney/ThinkStats/raw/v3/data/2002FemPreg.dct\\\")\\ndownload(\\\"https://github.com/AllenDowney/ThinkStats/raw/v3/data/2002FemPreg.dat.gz\\\")\";\n",
       "                var nbb_cells = Jupyter.notebook.get_cells();\n",
       "                for (var i = 0; i < nbb_cells.length; ++i) {\n",
       "                    if (nbb_cells[i].input_prompt_number == nbb_cell_id) {\n",
       "                        if (nbb_cells[i].get_text() == nbb_unformatted_code) {\n",
       "                             nbb_cells[i].set_text(nbb_formatted_code);\n",
       "                        }\n",
       "                        break;\n",
       "                    }\n",
       "                }\n",
       "            }, 500);\n",
       "            "
      ],
      "text/plain": [
       "<IPython.core.display.Javascript object>"
      ]
     },
     "metadata": {},
     "output_type": "display_data"
    }
   ],
   "source": [
    "download(\"https://github.com/AllenDowney/ThinkStats/raw/v3/data/2002FemPreg.dct\")\n",
    "download(\"https://github.com/AllenDowney/ThinkStats/raw/v3/data/2002FemPreg.dat.gz\")"
   ]
  },
  {
   "cell_type": "code",
   "execution_count": 6,
   "id": "35e4ffdf",
   "metadata": {
    "tags": [
     "remove-print"
    ]
   },
   "outputs": [
    {
     "data": {
      "application/javascript": [
       "\n",
       "            setTimeout(function() {\n",
       "                var nbb_cell_id = 6;\n",
       "                var nbb_unformatted_code = \"try:\\n    import statadict\\nexcept ImportError:\\n    !pip install statadict\";\n",
       "                var nbb_formatted_code = \"try:\\n    import statadict\\nexcept ImportError:\\n    !pip install statadict\";\n",
       "                var nbb_cells = Jupyter.notebook.get_cells();\n",
       "                for (var i = 0; i < nbb_cells.length; ++i) {\n",
       "                    if (nbb_cells[i].input_prompt_number == nbb_cell_id) {\n",
       "                        if (nbb_cells[i].get_text() == nbb_unformatted_code) {\n",
       "                             nbb_cells[i].set_text(nbb_formatted_code);\n",
       "                        }\n",
       "                        break;\n",
       "                    }\n",
       "                }\n",
       "            }, 500);\n",
       "            "
      ],
      "text/plain": [
       "<IPython.core.display.Javascript object>"
      ]
     },
     "metadata": {},
     "output_type": "display_data"
    }
   ],
   "source": [
    "try:\n",
    "    import statadict\n",
    "except ImportError:\n",
    "    !pip install statadict"
   ]
  },
  {
   "cell_type": "code",
   "execution_count": 7,
   "id": "3630009d",
   "metadata": {},
   "outputs": [
    {
     "data": {
      "application/javascript": [
       "\n",
       "            setTimeout(function() {\n",
       "                var nbb_cell_id = 7;\n",
       "                var nbb_unformatted_code = \"from statadict import parse_stata_dict\\n\\n\\ndef read_stata(dct_file, dat_file):\\n    \\\"\\\"\\\"Read NSFG data.\\n\\n    dct_file: string file name\\n    dat_file: string file name\\n\\n    returns: DataFrame\\n    \\\"\\\"\\\"\\n    stata_dict = parse_stata_dict(dct_file)\\n    resp = pd.read_fwf(\\n        dat_file,\\n        names=stata_dict.names,\\n        colspecs=stata_dict.colspecs,\\n        compression=\\\"gzip\\\",\\n    )\\n    return resp\";\n",
       "                var nbb_formatted_code = \"from statadict import parse_stata_dict\\n\\n\\ndef read_stata(dct_file, dat_file):\\n    \\\"\\\"\\\"Read NSFG data.\\n\\n    dct_file: string file name\\n    dat_file: string file name\\n\\n    returns: DataFrame\\n    \\\"\\\"\\\"\\n    stata_dict = parse_stata_dict(dct_file)\\n    resp = pd.read_fwf(\\n        dat_file,\\n        names=stata_dict.names,\\n        colspecs=stata_dict.colspecs,\\n        compression=\\\"gzip\\\",\\n    )\\n    return resp\";\n",
       "                var nbb_cells = Jupyter.notebook.get_cells();\n",
       "                for (var i = 0; i < nbb_cells.length; ++i) {\n",
       "                    if (nbb_cells[i].input_prompt_number == nbb_cell_id) {\n",
       "                        if (nbb_cells[i].get_text() == nbb_unformatted_code) {\n",
       "                             nbb_cells[i].set_text(nbb_formatted_code);\n",
       "                        }\n",
       "                        break;\n",
       "                    }\n",
       "                }\n",
       "            }, 500);\n",
       "            "
      ],
      "text/plain": [
       "<IPython.core.display.Javascript object>"
      ]
     },
     "metadata": {},
     "output_type": "display_data"
    }
   ],
   "source": [
    "from statadict import parse_stata_dict\n",
    "\n",
    "\n",
    "def read_stata(dct_file, dat_file):\n",
    "    \"\"\"Read NSFG data.\n",
    "\n",
    "    dct_file: string file name\n",
    "    dat_file: string file name\n",
    "\n",
    "    returns: DataFrame\n",
    "    \"\"\"\n",
    "    stata_dict = parse_stata_dict(dct_file)\n",
    "    resp = pd.read_fwf(\n",
    "        dat_file,\n",
    "        names=stata_dict.names,\n",
    "        colspecs=stata_dict.colspecs,\n",
    "        compression=\"gzip\",\n",
    "    )\n",
    "    return resp"
   ]
  },
  {
   "cell_type": "markdown",
   "id": "f3d9ee03",
   "metadata": {},
   "source": [
    "Here's how we use it."
   ]
  },
  {
   "cell_type": "code",
   "execution_count": 8,
   "id": "8444ee78",
   "metadata": {},
   "outputs": [
    {
     "data": {
      "application/javascript": [
       "\n",
       "            setTimeout(function() {\n",
       "                var nbb_cell_id = 8;\n",
       "                var nbb_unformatted_code = \"dct_file = \\\"2002FemPreg.dct\\\"\\ndat_file = \\\"2002FemPreg.dat.gz\\\"\\n\\npreg = read_stata(dct_file, dat_file)\";\n",
       "                var nbb_formatted_code = \"dct_file = \\\"2002FemPreg.dct\\\"\\ndat_file = \\\"2002FemPreg.dat.gz\\\"\\n\\npreg = read_stata(dct_file, dat_file)\";\n",
       "                var nbb_cells = Jupyter.notebook.get_cells();\n",
       "                for (var i = 0; i < nbb_cells.length; ++i) {\n",
       "                    if (nbb_cells[i].input_prompt_number == nbb_cell_id) {\n",
       "                        if (nbb_cells[i].get_text() == nbb_unformatted_code) {\n",
       "                             nbb_cells[i].set_text(nbb_formatted_code);\n",
       "                        }\n",
       "                        break;\n",
       "                    }\n",
       "                }\n",
       "            }, 500);\n",
       "            "
      ],
      "text/plain": [
       "<IPython.core.display.Javascript object>"
      ]
     },
     "metadata": {},
     "output_type": "display_data"
    }
   ],
   "source": [
    "dct_file = \"2002FemPreg.dct\"\n",
    "dat_file = \"2002FemPreg.dat.gz\"\n",
    "\n",
    "preg = read_stata(dct_file, dat_file)"
   ]
  },
  {
   "cell_type": "markdown",
   "id": "8f164c4b",
   "metadata": {},
   "source": [
    "The result is a `DataFrame`, which is the fundamental data structure provided by Pandas. \n",
    "A `DataFrame` contains a row for each record -- in this case one row per pregnancy -- and a column for each variable.\n",
    "In addition to the data, a `DataFrame` also contains the variable names and their types, and it provides methods for accessing and modifying the data.\n",
    "\n",
    "The `DataFrame` has an attribute called `shape` that contains the number of rows and columns."
   ]
  },
  {
   "cell_type": "code",
   "execution_count": 9,
   "id": "87e0bfbc",
   "metadata": {},
   "outputs": [
    {
     "data": {
      "text/plain": [
       "(13593, 243)"
      ]
     },
     "execution_count": 9,
     "metadata": {},
     "output_type": "execute_result"
    },
    {
     "data": {
      "application/javascript": [
       "\n",
       "            setTimeout(function() {\n",
       "                var nbb_cell_id = 9;\n",
       "                var nbb_unformatted_code = \"preg.shape\";\n",
       "                var nbb_formatted_code = \"preg.shape\";\n",
       "                var nbb_cells = Jupyter.notebook.get_cells();\n",
       "                for (var i = 0; i < nbb_cells.length; ++i) {\n",
       "                    if (nbb_cells[i].input_prompt_number == nbb_cell_id) {\n",
       "                        if (nbb_cells[i].get_text() == nbb_unformatted_code) {\n",
       "                             nbb_cells[i].set_text(nbb_formatted_code);\n",
       "                        }\n",
       "                        break;\n",
       "                    }\n",
       "                }\n",
       "            }, 500);\n",
       "            "
      ],
      "text/plain": [
       "<IPython.core.display.Javascript object>"
      ]
     },
     "metadata": {},
     "output_type": "display_data"
    }
   ],
   "source": [
    "preg.shape"
   ]
  },
  {
   "cell_type": "markdown",
   "id": "7b6a1a58",
   "metadata": {},
   "source": [
    "And it has a method called `head` that displays the first few rows."
   ]
  },
  {
   "cell_type": "code",
   "execution_count": 10,
   "id": "9c1cb8f2",
   "metadata": {},
   "outputs": [
    {
     "data": {
      "text/html": [
       "<div>\n",
       "<style scoped>\n",
       "    .dataframe tbody tr th:only-of-type {\n",
       "        vertical-align: middle;\n",
       "    }\n",
       "\n",
       "    .dataframe tbody tr th {\n",
       "        vertical-align: top;\n",
       "    }\n",
       "\n",
       "    .dataframe thead th {\n",
       "        text-align: right;\n",
       "    }\n",
       "</style>\n",
       "<table border=\"1\" class=\"dataframe\">\n",
       "  <thead>\n",
       "    <tr style=\"text-align: right;\">\n",
       "      <th></th>\n",
       "      <th>caseid</th>\n",
       "      <th>pregordr</th>\n",
       "      <th>howpreg_n</th>\n",
       "      <th>howpreg_p</th>\n",
       "      <th>moscurrp</th>\n",
       "      <th>nowprgdk</th>\n",
       "      <th>pregend1</th>\n",
       "      <th>pregend2</th>\n",
       "      <th>nbrnaliv</th>\n",
       "      <th>multbrth</th>\n",
       "      <th>...</th>\n",
       "      <th>poverty_i</th>\n",
       "      <th>laborfor_i</th>\n",
       "      <th>religion_i</th>\n",
       "      <th>metro_i</th>\n",
       "      <th>basewgt</th>\n",
       "      <th>adj_mod_basewgt</th>\n",
       "      <th>finalwgt</th>\n",
       "      <th>secu_p</th>\n",
       "      <th>sest</th>\n",
       "      <th>cmintvw</th>\n",
       "    </tr>\n",
       "  </thead>\n",
       "  <tbody>\n",
       "    <tr>\n",
       "      <th>0</th>\n",
       "      <td>1</td>\n",
       "      <td>1</td>\n",
       "      <td>NaN</td>\n",
       "      <td>NaN</td>\n",
       "      <td>NaN</td>\n",
       "      <td>NaN</td>\n",
       "      <td>6.0</td>\n",
       "      <td>NaN</td>\n",
       "      <td>1.0</td>\n",
       "      <td>NaN</td>\n",
       "      <td>...</td>\n",
       "      <td>0</td>\n",
       "      <td>0</td>\n",
       "      <td>0</td>\n",
       "      <td>0</td>\n",
       "      <td>3410.389399</td>\n",
       "      <td>3869.349602</td>\n",
       "      <td>6448.271112</td>\n",
       "      <td>2</td>\n",
       "      <td>9</td>\n",
       "      <td>1231</td>\n",
       "    </tr>\n",
       "    <tr>\n",
       "      <th>1</th>\n",
       "      <td>1</td>\n",
       "      <td>2</td>\n",
       "      <td>NaN</td>\n",
       "      <td>NaN</td>\n",
       "      <td>NaN</td>\n",
       "      <td>NaN</td>\n",
       "      <td>6.0</td>\n",
       "      <td>NaN</td>\n",
       "      <td>1.0</td>\n",
       "      <td>NaN</td>\n",
       "      <td>...</td>\n",
       "      <td>0</td>\n",
       "      <td>0</td>\n",
       "      <td>0</td>\n",
       "      <td>0</td>\n",
       "      <td>3410.389399</td>\n",
       "      <td>3869.349602</td>\n",
       "      <td>6448.271112</td>\n",
       "      <td>2</td>\n",
       "      <td>9</td>\n",
       "      <td>1231</td>\n",
       "    </tr>\n",
       "    <tr>\n",
       "      <th>2</th>\n",
       "      <td>2</td>\n",
       "      <td>1</td>\n",
       "      <td>NaN</td>\n",
       "      <td>NaN</td>\n",
       "      <td>NaN</td>\n",
       "      <td>NaN</td>\n",
       "      <td>5.0</td>\n",
       "      <td>NaN</td>\n",
       "      <td>3.0</td>\n",
       "      <td>5.0</td>\n",
       "      <td>...</td>\n",
       "      <td>0</td>\n",
       "      <td>0</td>\n",
       "      <td>0</td>\n",
       "      <td>0</td>\n",
       "      <td>7226.301740</td>\n",
       "      <td>8567.549110</td>\n",
       "      <td>12999.542264</td>\n",
       "      <td>2</td>\n",
       "      <td>12</td>\n",
       "      <td>1231</td>\n",
       "    </tr>\n",
       "    <tr>\n",
       "      <th>3</th>\n",
       "      <td>2</td>\n",
       "      <td>2</td>\n",
       "      <td>NaN</td>\n",
       "      <td>NaN</td>\n",
       "      <td>NaN</td>\n",
       "      <td>NaN</td>\n",
       "      <td>6.0</td>\n",
       "      <td>NaN</td>\n",
       "      <td>1.0</td>\n",
       "      <td>NaN</td>\n",
       "      <td>...</td>\n",
       "      <td>0</td>\n",
       "      <td>0</td>\n",
       "      <td>0</td>\n",
       "      <td>0</td>\n",
       "      <td>7226.301740</td>\n",
       "      <td>8567.549110</td>\n",
       "      <td>12999.542264</td>\n",
       "      <td>2</td>\n",
       "      <td>12</td>\n",
       "      <td>1231</td>\n",
       "    </tr>\n",
       "    <tr>\n",
       "      <th>4</th>\n",
       "      <td>2</td>\n",
       "      <td>3</td>\n",
       "      <td>NaN</td>\n",
       "      <td>NaN</td>\n",
       "      <td>NaN</td>\n",
       "      <td>NaN</td>\n",
       "      <td>6.0</td>\n",
       "      <td>NaN</td>\n",
       "      <td>1.0</td>\n",
       "      <td>NaN</td>\n",
       "      <td>...</td>\n",
       "      <td>0</td>\n",
       "      <td>0</td>\n",
       "      <td>0</td>\n",
       "      <td>0</td>\n",
       "      <td>7226.301740</td>\n",
       "      <td>8567.549110</td>\n",
       "      <td>12999.542264</td>\n",
       "      <td>2</td>\n",
       "      <td>12</td>\n",
       "      <td>1231</td>\n",
       "    </tr>\n",
       "  </tbody>\n",
       "</table>\n",
       "<p>5 rows × 243 columns</p>\n",
       "</div>"
      ],
      "text/plain": [
       "   caseid  pregordr  howpreg_n  howpreg_p  moscurrp  nowprgdk  pregend1  \\\n",
       "0       1         1        NaN        NaN       NaN       NaN       6.0   \n",
       "1       1         2        NaN        NaN       NaN       NaN       6.0   \n",
       "2       2         1        NaN        NaN       NaN       NaN       5.0   \n",
       "3       2         2        NaN        NaN       NaN       NaN       6.0   \n",
       "4       2         3        NaN        NaN       NaN       NaN       6.0   \n",
       "\n",
       "   pregend2  nbrnaliv  multbrth  ...  poverty_i  laborfor_i  religion_i  \\\n",
       "0       NaN       1.0       NaN  ...          0           0           0   \n",
       "1       NaN       1.0       NaN  ...          0           0           0   \n",
       "2       NaN       3.0       5.0  ...          0           0           0   \n",
       "3       NaN       1.0       NaN  ...          0           0           0   \n",
       "4       NaN       1.0       NaN  ...          0           0           0   \n",
       "\n",
       "   metro_i      basewgt  adj_mod_basewgt      finalwgt  secu_p  sest  cmintvw  \n",
       "0        0  3410.389399      3869.349602   6448.271112       2     9     1231  \n",
       "1        0  3410.389399      3869.349602   6448.271112       2     9     1231  \n",
       "2        0  7226.301740      8567.549110  12999.542264       2    12     1231  \n",
       "3        0  7226.301740      8567.549110  12999.542264       2    12     1231  \n",
       "4        0  7226.301740      8567.549110  12999.542264       2    12     1231  \n",
       "\n",
       "[5 rows x 243 columns]"
      ]
     },
     "execution_count": 10,
     "metadata": {},
     "output_type": "execute_result"
    },
    {
     "data": {
      "application/javascript": [
       "\n",
       "            setTimeout(function() {\n",
       "                var nbb_cell_id = 10;\n",
       "                var nbb_unformatted_code = \"preg.head()\";\n",
       "                var nbb_formatted_code = \"preg.head()\";\n",
       "                var nbb_cells = Jupyter.notebook.get_cells();\n",
       "                for (var i = 0; i < nbb_cells.length; ++i) {\n",
       "                    if (nbb_cells[i].input_prompt_number == nbb_cell_id) {\n",
       "                        if (nbb_cells[i].get_text() == nbb_unformatted_code) {\n",
       "                             nbb_cells[i].set_text(nbb_formatted_code);\n",
       "                        }\n",
       "                        break;\n",
       "                    }\n",
       "                }\n",
       "            }, 500);\n",
       "            "
      ],
      "text/plain": [
       "<IPython.core.display.Javascript object>"
      ]
     },
     "metadata": {},
     "output_type": "display_data"
    }
   ],
   "source": [
    "preg.head()"
   ]
  },
  {
   "cell_type": "markdown",
   "id": "dc660341",
   "metadata": {},
   "source": [
    "The first column is the `Index` of the `DataFrame`, which contains a label for each row.\n",
    "In this case, the labels are integers starting from 0, but they can also be strings and other types.\n",
    "\n",
    "The `DataFrame` also has an attribute called `columns` that contains the names of the columns."
   ]
  },
  {
   "cell_type": "code",
   "execution_count": 11,
   "id": "4f59f46d",
   "metadata": {
    "scrolled": true
   },
   "outputs": [
    {
     "data": {
      "text/plain": [
       "Index(['caseid', 'pregordr', 'howpreg_n', 'howpreg_p', 'moscurrp', 'nowprgdk',\n",
       "       'pregend1', 'pregend2', 'nbrnaliv', 'multbrth',\n",
       "       ...\n",
       "       'poverty_i', 'laborfor_i', 'religion_i', 'metro_i', 'basewgt',\n",
       "       'adj_mod_basewgt', 'finalwgt', 'secu_p', 'sest', 'cmintvw'],\n",
       "      dtype='object', length=243)"
      ]
     },
     "execution_count": 11,
     "metadata": {},
     "output_type": "execute_result"
    },
    {
     "data": {
      "application/javascript": [
       "\n",
       "            setTimeout(function() {\n",
       "                var nbb_cell_id = 11;\n",
       "                var nbb_unformatted_code = \"preg.columns\";\n",
       "                var nbb_formatted_code = \"preg.columns\";\n",
       "                var nbb_cells = Jupyter.notebook.get_cells();\n",
       "                for (var i = 0; i < nbb_cells.length; ++i) {\n",
       "                    if (nbb_cells[i].input_prompt_number == nbb_cell_id) {\n",
       "                        if (nbb_cells[i].get_text() == nbb_unformatted_code) {\n",
       "                             nbb_cells[i].set_text(nbb_formatted_code);\n",
       "                        }\n",
       "                        break;\n",
       "                    }\n",
       "                }\n",
       "            }, 500);\n",
       "            "
      ],
      "text/plain": [
       "<IPython.core.display.Javascript object>"
      ]
     },
     "metadata": {},
     "output_type": "display_data"
    }
   ],
   "source": [
    "preg.columns"
   ]
  },
  {
   "cell_type": "markdown",
   "id": "e82ef6e6",
   "metadata": {},
   "source": [
    "To access a column from a `DataFrame`, you can use the column name as a key:"
   ]
  },
  {
   "cell_type": "code",
   "execution_count": 12,
   "id": "e7dbfce1",
   "metadata": {},
   "outputs": [
    {
     "data": {
      "text/plain": [
       "pandas.core.series.Series"
      ]
     },
     "execution_count": 12,
     "metadata": {},
     "output_type": "execute_result"
    },
    {
     "data": {
      "application/javascript": [
       "\n",
       "            setTimeout(function() {\n",
       "                var nbb_cell_id = 12;\n",
       "                var nbb_unformatted_code = \"pregordr = preg[\\\"pregordr\\\"]\\ntype(pregordr)\";\n",
       "                var nbb_formatted_code = \"pregordr = preg[\\\"pregordr\\\"]\\ntype(pregordr)\";\n",
       "                var nbb_cells = Jupyter.notebook.get_cells();\n",
       "                for (var i = 0; i < nbb_cells.length; ++i) {\n",
       "                    if (nbb_cells[i].input_prompt_number == nbb_cell_id) {\n",
       "                        if (nbb_cells[i].get_text() == nbb_unformatted_code) {\n",
       "                             nbb_cells[i].set_text(nbb_formatted_code);\n",
       "                        }\n",
       "                        break;\n",
       "                    }\n",
       "                }\n",
       "            }, 500);\n",
       "            "
      ],
      "text/plain": [
       "<IPython.core.display.Javascript object>"
      ]
     },
     "metadata": {},
     "output_type": "display_data"
    }
   ],
   "source": [
    "pregordr = preg[\"pregordr\"]\n",
    "type(pregordr)"
   ]
  },
  {
   "cell_type": "markdown",
   "id": "aad9af2d",
   "metadata": {},
   "source": [
    "The result is a Pandas `Series`, which represents a sequence of values.\n",
    "`Series` also provides `head`, which displays the first few values in the `Series` and their labels."
   ]
  },
  {
   "cell_type": "code",
   "execution_count": 13,
   "id": "189b4869",
   "metadata": {},
   "outputs": [
    {
     "data": {
      "text/plain": [
       "0    1\n",
       "1    2\n",
       "2    1\n",
       "3    2\n",
       "4    3\n",
       "Name: pregordr, dtype: int64"
      ]
     },
     "execution_count": 13,
     "metadata": {},
     "output_type": "execute_result"
    },
    {
     "data": {
      "application/javascript": [
       "\n",
       "            setTimeout(function() {\n",
       "                var nbb_cell_id = 13;\n",
       "                var nbb_unformatted_code = \"pregordr.head()\";\n",
       "                var nbb_formatted_code = \"pregordr.head()\";\n",
       "                var nbb_cells = Jupyter.notebook.get_cells();\n",
       "                for (var i = 0; i < nbb_cells.length; ++i) {\n",
       "                    if (nbb_cells[i].input_prompt_number == nbb_cell_id) {\n",
       "                        if (nbb_cells[i].get_text() == nbb_unformatted_code) {\n",
       "                             nbb_cells[i].set_text(nbb_formatted_code);\n",
       "                        }\n",
       "                        break;\n",
       "                    }\n",
       "                }\n",
       "            }, 500);\n",
       "            "
      ],
      "text/plain": [
       "<IPython.core.display.Javascript object>"
      ]
     },
     "metadata": {},
     "output_type": "display_data"
    }
   ],
   "source": [
    "pregordr.head()"
   ]
  },
  {
   "cell_type": "markdown",
   "id": "1862cdfe",
   "metadata": {},
   "source": [
    "The last line includes the name of the `Series` and `dtype`, which is the type of the values.\n",
    "In this example, `int64` indicates that the values are 64-bit integers.\n",
    "\n",
    "You can access a value in a `Series` using the bracket operator integer with a single index."
   ]
  },
  {
   "cell_type": "code",
   "execution_count": 14,
   "id": "b2b489c3",
   "metadata": {},
   "outputs": [
    {
     "data": {
      "text/plain": [
       "1"
      ]
     },
     "execution_count": 14,
     "metadata": {},
     "output_type": "execute_result"
    },
    {
     "data": {
      "application/javascript": [
       "\n",
       "            setTimeout(function() {\n",
       "                var nbb_cell_id = 14;\n",
       "                var nbb_unformatted_code = \"pregordr[0]\";\n",
       "                var nbb_formatted_code = \"pregordr[0]\";\n",
       "                var nbb_cells = Jupyter.notebook.get_cells();\n",
       "                for (var i = 0; i < nbb_cells.length; ++i) {\n",
       "                    if (nbb_cells[i].input_prompt_number == nbb_cell_id) {\n",
       "                        if (nbb_cells[i].get_text() == nbb_unformatted_code) {\n",
       "                             nbb_cells[i].set_text(nbb_formatted_code);\n",
       "                        }\n",
       "                        break;\n",
       "                    }\n",
       "                }\n",
       "            }, 500);\n",
       "            "
      ],
      "text/plain": [
       "<IPython.core.display.Javascript object>"
      ]
     },
     "metadata": {},
     "output_type": "display_data"
    }
   ],
   "source": [
    "pregordr[0]"
   ]
  },
  {
   "cell_type": "markdown",
   "id": "17f6ee57",
   "metadata": {},
   "source": [
    "Or a subsequence of the values using a slice index."
   ]
  },
  {
   "cell_type": "code",
   "execution_count": 15,
   "id": "480195c8",
   "metadata": {},
   "outputs": [
    {
     "data": {
      "text/plain": [
       "2    1\n",
       "3    2\n",
       "4    3\n",
       "Name: pregordr, dtype: int64"
      ]
     },
     "execution_count": 15,
     "metadata": {},
     "output_type": "execute_result"
    },
    {
     "data": {
      "application/javascript": [
       "\n",
       "            setTimeout(function() {\n",
       "                var nbb_cell_id = 15;\n",
       "                var nbb_unformatted_code = \"pregordr[2:5]\";\n",
       "                var nbb_formatted_code = \"pregordr[2:5]\";\n",
       "                var nbb_cells = Jupyter.notebook.get_cells();\n",
       "                for (var i = 0; i < nbb_cells.length; ++i) {\n",
       "                    if (nbb_cells[i].input_prompt_number == nbb_cell_id) {\n",
       "                        if (nbb_cells[i].get_text() == nbb_unformatted_code) {\n",
       "                             nbb_cells[i].set_text(nbb_formatted_code);\n",
       "                        }\n",
       "                        break;\n",
       "                    }\n",
       "                }\n",
       "            }, 500);\n",
       "            "
      ],
      "text/plain": [
       "<IPython.core.display.Javascript object>"
      ]
     },
     "metadata": {},
     "output_type": "display_data"
    }
   ],
   "source": [
    "pregordr[2:5]"
   ]
  },
  {
   "cell_type": "markdown",
   "id": "60f4cf6e",
   "metadata": {},
   "source": [
    "You can also access the columns of a `DataFrame` using dot notation:"
   ]
  },
  {
   "cell_type": "code",
   "execution_count": 16,
   "id": "30be7d51",
   "metadata": {},
   "outputs": [
    {
     "data": {
      "application/javascript": [
       "\n",
       "            setTimeout(function() {\n",
       "                var nbb_cell_id = 16;\n",
       "                var nbb_unformatted_code = \"pregordr = preg.pregordr  # NOT RECOMMENDED\";\n",
       "                var nbb_formatted_code = \"pregordr = preg.pregordr  # NOT RECOMMENDED\";\n",
       "                var nbb_cells = Jupyter.notebook.get_cells();\n",
       "                for (var i = 0; i < nbb_cells.length; ++i) {\n",
       "                    if (nbb_cells[i].input_prompt_number == nbb_cell_id) {\n",
       "                        if (nbb_cells[i].get_text() == nbb_unformatted_code) {\n",
       "                             nbb_cells[i].set_text(nbb_formatted_code);\n",
       "                        }\n",
       "                        break;\n",
       "                    }\n",
       "                }\n",
       "            }, 500);\n",
       "            "
      ],
      "text/plain": [
       "<IPython.core.display.Javascript object>"
      ]
     },
     "metadata": {},
     "output_type": "display_data"
    }
   ],
   "source": [
    "pregordr = preg.pregordr  # NOT RECOMMENDED"
   ]
  },
  {
   "cell_type": "markdown",
   "id": "004fc389",
   "metadata": {},
   "source": [
    "But this notation only works if the column name is a valid Python identifier, so it has to begin with a letter, can't contain spaces, etc.\n",
    "Because of this limitation, I recommend using bracket operators to select columns from a `DataFrame`."
   ]
  },
  {
   "cell_type": "markdown",
   "id": "01847dd9",
   "metadata": {},
   "source": [
    "## Variables\n",
    "\n",
    "We have already seen two variables in the NSFG dataset, `caseid` and `pregordr`, and we have seen that there are 243 variables in total.\n",
    "For the explorations in this book, we'll use the following variables:\n",
    "\n",
    "-   `caseid` is the integer ID of the respondent.\n",
    "\n",
    "-   `prglngth` is the integer duration of the pregnancy in weeks.\n",
    "\n",
    "-   `outcome` is an integer code for the outcome of the pregnancy. The code 1 indicates a live birth.\n",
    "\n",
    "-   `pregordr` is a pregnancy serial number; for example, the code for a respondent's first pregnancy is 1, for the second pregnancy is 2, and so on.\n",
    "\n",
    "-   `birthord` is a serial number for live births; the code for a respondent's first child is 1, and so on. For outcomes other than live birth, this field is blank.\n",
    "\n",
    "-   `birthwgt_lb` and `birthwgt_oz` contain the pounds and ounces parts of the birth weight of the baby.\n",
    "\n",
    "-   `agepreg` is the mother's age at the end of the pregnancy.\n",
    "\n",
    "-   `finalwgt` is the statistical weight associated with the respondent.\n",
    "It is a floating-point value that indicates the number of people in the U.S. population this respondent represents."
   ]
  },
  {
   "cell_type": "markdown",
   "id": "37c86aa9",
   "metadata": {},
   "source": [
    "If you read the codebook carefully, you will see that many of the variables are **recodes**, which means that they are not part of the **raw data** collected by the survey -- they are calculated using the raw data.\n",
    "\n",
    "For example, `prglngth` for live births is equal to the raw variable `wksgest` (weeks of gestation) if it is available; otherwise it is estimated using `mosgest * 4.33` (months of gestation times the average number of weeks in a month).\n",
    "\n",
    "Recodes are often based on logic that checks the consistency and accuracy of the data.\n",
    "In general it is a good idea to use recodes when they are available, unless there is a compelling reason to process the raw data yourself."
   ]
  },
  {
   "cell_type": "markdown",
   "id": "ca667a83",
   "metadata": {},
   "source": [
    "## Validation\n",
    "\n",
    "When data is exported from one software environment and imported into another, errors might be introduced.\n",
    "And when you are getting familiar with a new dataset, you might interpret data incorrectly or introduce other misunderstandings.\n",
    "If you take time to validate the data, you can save time later and avoid errors.\n",
    "\n",
    "One way to validate data is to compute basic statistics and compare them with published results.\n",
    "For example, the NSFG codebook includes tables that summarize each variable.\n",
    "Here is the table for `outcome`, which encodes the outcome of each pregnancy."
   ]
  },
  {
   "cell_type": "raw",
   "id": "ea478208",
   "metadata": {},
   "source": [
    "value   label                  Total\n",
    "1       LIVE BIRTH              9148\n",
    "2       INDUCED ABORTION        1862\n",
    "3       STILLBIRTH               120\n",
    "4       MISCARRIAGE             1921\n",
    "5       ECTOPIC PREGNANCY        190\n",
    "6       CURRENT PREGNANCY        352"
   ]
  },
  {
   "cell_type": "markdown",
   "id": "cb9d01a0",
   "metadata": {},
   "source": [
    "The `Series` class provides a method, `value_counts`, that counts the number of times each value appears.\n",
    "Here's how we use it to count the values in the `outcome` column."
   ]
  },
  {
   "cell_type": "code",
   "execution_count": 17,
   "id": "61fc2a3d",
   "metadata": {},
   "outputs": [
    {
     "data": {
      "text/plain": [
       "outcome\n",
       "1    9148\n",
       "2    1862\n",
       "3     120\n",
       "4    1921\n",
       "5     190\n",
       "6     352\n",
       "Name: count, dtype: int64"
      ]
     },
     "execution_count": 17,
     "metadata": {},
     "output_type": "execute_result"
    },
    {
     "data": {
      "application/javascript": [
       "\n",
       "            setTimeout(function() {\n",
       "                var nbb_cell_id = 17;\n",
       "                var nbb_unformatted_code = \"preg[\\\"outcome\\\"].value_counts().sort_index()\";\n",
       "                var nbb_formatted_code = \"preg[\\\"outcome\\\"].value_counts().sort_index()\";\n",
       "                var nbb_cells = Jupyter.notebook.get_cells();\n",
       "                for (var i = 0; i < nbb_cells.length; ++i) {\n",
       "                    if (nbb_cells[i].input_prompt_number == nbb_cell_id) {\n",
       "                        if (nbb_cells[i].get_text() == nbb_unformatted_code) {\n",
       "                             nbb_cells[i].set_text(nbb_formatted_code);\n",
       "                        }\n",
       "                        break;\n",
       "                    }\n",
       "                }\n",
       "            }, 500);\n",
       "            "
      ],
      "text/plain": [
       "<IPython.core.display.Javascript object>"
      ]
     },
     "metadata": {},
     "output_type": "display_data"
    }
   ],
   "source": [
    "preg[\"outcome\"].value_counts().sort_index()"
   ]
  },
  {
   "cell_type": "markdown",
   "id": "d57f49ea",
   "metadata": {},
   "source": [
    "The result of `value_counts` is a `Series`; `sort_index()` sorts the `Series` by index, so the values appear in order.\n",
    "\n",
    "Comparing the results with the published table, it looks like the values in `outcome` are correct.\n",
    "Similarly, here is the published table for `birthwgt_lb`"
   ]
  },
  {
   "cell_type": "raw",
   "id": "a6771a9d",
   "metadata": {},
   "source": [
    "value   label                  Total\n",
    ".       INAPPLICABLE            4449\n",
    "0-5     UNDER 6 POUNDS          1125\n",
    "6       6 POUNDS                2223\n",
    "7       7 POUNDS                3049\n",
    "8       8 POUNDS                1889\n",
    "9-95    9 POUNDS OR MORE         799"
   ]
  },
  {
   "cell_type": "markdown",
   "id": "afccd71b",
   "metadata": {},
   "source": [
    "And here are the value counts:"
   ]
  },
  {
   "cell_type": "code",
   "execution_count": 18,
   "id": "c2cdb474",
   "metadata": {},
   "outputs": [
    {
     "data": {
      "text/plain": [
       "birthwgt_lb\n",
       "0.0        8\n",
       "1.0       40\n",
       "2.0       53\n",
       "3.0       98\n",
       "4.0      229\n",
       "5.0      697\n",
       "6.0     2223\n",
       "7.0     3049\n",
       "8.0     1889\n",
       "9.0      623\n",
       "10.0     132\n",
       "11.0      26\n",
       "12.0      10\n",
       "13.0       3\n",
       "14.0       3\n",
       "15.0       1\n",
       "51.0       1\n",
       "97.0       1\n",
       "98.0       1\n",
       "99.0      57\n",
       "Name: count, dtype: int64"
      ]
     },
     "execution_count": 18,
     "metadata": {},
     "output_type": "execute_result"
    },
    {
     "data": {
      "application/javascript": [
       "\n",
       "            setTimeout(function() {\n",
       "                var nbb_cell_id = 18;\n",
       "                var nbb_unformatted_code = \"preg.birthwgt_lb.value_counts().sort_index()\";\n",
       "                var nbb_formatted_code = \"preg.birthwgt_lb.value_counts().sort_index()\";\n",
       "                var nbb_cells = Jupyter.notebook.get_cells();\n",
       "                for (var i = 0; i < nbb_cells.length; ++i) {\n",
       "                    if (nbb_cells[i].input_prompt_number == nbb_cell_id) {\n",
       "                        if (nbb_cells[i].get_text() == nbb_unformatted_code) {\n",
       "                             nbb_cells[i].set_text(nbb_formatted_code);\n",
       "                        }\n",
       "                        break;\n",
       "                    }\n",
       "                }\n",
       "            }, 500);\n",
       "            "
      ],
      "text/plain": [
       "<IPython.core.display.Javascript object>"
      ]
     },
     "metadata": {},
     "output_type": "display_data"
    }
   ],
   "source": [
    "preg.birthwgt_lb.value_counts().sort_index()"
   ]
  },
  {
   "cell_type": "markdown",
   "id": "ca21655d",
   "metadata": {},
   "source": [
    "The counts for 6, 7, and 8 pounds check out, and if you add up the counts for 0-5 and 9-95, they check out, too.\n",
    "But if you look more closely, you will notice one value that has to be an error, a 51 pound baby!\n",
    "\n",
    "To deal with this error, we can use a comparison operator to identify the rows with invalid data."
   ]
  },
  {
   "cell_type": "code",
   "execution_count": 19,
   "id": "4720a91e",
   "metadata": {},
   "outputs": [
    {
     "data": {
      "text/plain": [
       "dtype('bool')"
      ]
     },
     "execution_count": 19,
     "metadata": {},
     "output_type": "execute_result"
    },
    {
     "data": {
      "application/javascript": [
       "\n",
       "            setTimeout(function() {\n",
       "                var nbb_cell_id = 19;\n",
       "                var nbb_unformatted_code = \"invalid = preg[\\\"birthwgt_lb\\\"] > 20\\ninvalid.dtype\";\n",
       "                var nbb_formatted_code = \"invalid = preg[\\\"birthwgt_lb\\\"] > 20\\ninvalid.dtype\";\n",
       "                var nbb_cells = Jupyter.notebook.get_cells();\n",
       "                for (var i = 0; i < nbb_cells.length; ++i) {\n",
       "                    if (nbb_cells[i].input_prompt_number == nbb_cell_id) {\n",
       "                        if (nbb_cells[i].get_text() == nbb_unformatted_code) {\n",
       "                             nbb_cells[i].set_text(nbb_formatted_code);\n",
       "                        }\n",
       "                        break;\n",
       "                    }\n",
       "                }\n",
       "            }, 500);\n",
       "            "
      ],
      "text/plain": [
       "<IPython.core.display.Javascript object>"
      ]
     },
     "metadata": {},
     "output_type": "display_data"
    }
   ],
   "source": [
    "invalid = preg[\"birthwgt_lb\"] > 20\n",
    "invalid.dtype"
   ]
  },
  {
   "cell_type": "markdown",
   "id": "93010bac",
   "metadata": {},
   "source": [
    "The result is a Boolean `Series` that is `True` where the value of `birthwgt_lb` is invalid and `False` otherwise.\n",
    "We can use this `Series` to replace invalid data with `nan`."
   ]
  },
  {
   "cell_type": "code",
   "execution_count": 20,
   "id": "bc5c2351",
   "metadata": {},
   "outputs": [
    {
     "data": {
      "application/javascript": [
       "\n",
       "            setTimeout(function() {\n",
       "                var nbb_cell_id = 20;\n",
       "                var nbb_unformatted_code = \"preg.loc[invalid, \\\"birthwgt_lb\\\"] = np.nan\";\n",
       "                var nbb_formatted_code = \"preg.loc[invalid, \\\"birthwgt_lb\\\"] = np.nan\";\n",
       "                var nbb_cells = Jupyter.notebook.get_cells();\n",
       "                for (var i = 0; i < nbb_cells.length; ++i) {\n",
       "                    if (nbb_cells[i].input_prompt_number == nbb_cell_id) {\n",
       "                        if (nbb_cells[i].get_text() == nbb_unformatted_code) {\n",
       "                             nbb_cells[i].set_text(nbb_formatted_code);\n",
       "                        }\n",
       "                        break;\n",
       "                    }\n",
       "                }\n",
       "            }, 500);\n",
       "            "
      ],
      "text/plain": [
       "<IPython.core.display.Javascript object>"
      ]
     },
     "metadata": {},
     "output_type": "display_data"
    }
   ],
   "source": [
    "preg.loc[invalid, \"birthwgt_lb\"] = np.nan"
   ]
  },
  {
   "cell_type": "markdown",
   "id": "cab151e6",
   "metadata": {},
   "source": [
    "The attribute `loc` selects rows and columns from a `DataFrame`.\n",
    "In this example, the first expression in brackets selects the invalid rows; the second expression selects the column."
   ]
  },
  {
   "cell_type": "markdown",
   "id": "a668ab41",
   "metadata": {},
   "source": [
    "## Transformation\n",
    "\n",
    "When you read data like this, you often have to check for errors, deal with special values, convert data into different formats, and perform calculations.\n",
    "These operations are called **data cleaning**.\n",
    "\n",
    "As an example, `agepreg` contains the mother's age at the end of the pregnancy, but it is encoded as an integer number of centiyears (hundredths of a year).\n",
    "To convert it to year, we can divide through by 100."
   ]
  },
  {
   "cell_type": "code",
   "execution_count": 21,
   "id": "feef9b14",
   "metadata": {},
   "outputs": [
    {
     "data": {
      "application/javascript": [
       "\n",
       "            setTimeout(function() {\n",
       "                var nbb_cell_id = 21;\n",
       "                var nbb_unformatted_code = \"preg[\\\"agepreg\\\"] /= 100.0\";\n",
       "                var nbb_formatted_code = \"preg[\\\"agepreg\\\"] /= 100.0\";\n",
       "                var nbb_cells = Jupyter.notebook.get_cells();\n",
       "                for (var i = 0; i < nbb_cells.length; ++i) {\n",
       "                    if (nbb_cells[i].input_prompt_number == nbb_cell_id) {\n",
       "                        if (nbb_cells[i].get_text() == nbb_unformatted_code) {\n",
       "                             nbb_cells[i].set_text(nbb_formatted_code);\n",
       "                        }\n",
       "                        break;\n",
       "                    }\n",
       "                }\n",
       "            }, 500);\n",
       "            "
      ],
      "text/plain": [
       "<IPython.core.display.Javascript object>"
      ]
     },
     "metadata": {},
     "output_type": "display_data"
    }
   ],
   "source": [
    "preg[\"agepreg\"] /= 100.0"
   ]
  },
  {
   "cell_type": "markdown",
   "id": "30376097",
   "metadata": {},
   "source": [
    "As another example, `birthwgt_lb` and `birthwgt_oz` contain the weight of the baby, in pounds and ounces, for pregnancies that end in live birth -- but they also contain several special values."
   ]
  },
  {
   "cell_type": "raw",
   "id": "ab7ca8b4",
   "metadata": {},
   "source": [
    "97      NOT ASCERTAINED\n",
    "98      REFUSED\n",
    "99      DON'T KNOW"
   ]
  },
  {
   "cell_type": "markdown",
   "id": "fa5a5c56",
   "metadata": {},
   "source": [
    "Special values encoded as numbers are *dangerous* because if they are not handled properly, they can generate bogus results, like a 99-pound baby.\n",
    "The `replace` method replaces these values with `np.nan`, which is a special floating-point value that represents \"not a number\"."
   ]
  },
  {
   "cell_type": "code",
   "execution_count": 22,
   "id": "edfb3ad0",
   "metadata": {},
   "outputs": [
    {
     "data": {
      "application/javascript": [
       "\n",
       "            setTimeout(function() {\n",
       "                var nbb_cell_id = 22;\n",
       "                var nbb_unformatted_code = \"na_vals = [97, 98, 99]\\npreg[\\\"birthwgt_lb\\\"] = preg[\\\"birthwgt_lb\\\"].replace(na_vals, np.nan)\\npreg[\\\"birthwgt_oz\\\"] = preg[\\\"birthwgt_oz\\\"].replace(na_vals, np.nan)\";\n",
       "                var nbb_formatted_code = \"na_vals = [97, 98, 99]\\npreg[\\\"birthwgt_lb\\\"] = preg[\\\"birthwgt_lb\\\"].replace(na_vals, np.nan)\\npreg[\\\"birthwgt_oz\\\"] = preg[\\\"birthwgt_oz\\\"].replace(na_vals, np.nan)\";\n",
       "                var nbb_cells = Jupyter.notebook.get_cells();\n",
       "                for (var i = 0; i < nbb_cells.length; ++i) {\n",
       "                    if (nbb_cells[i].input_prompt_number == nbb_cell_id) {\n",
       "                        if (nbb_cells[i].get_text() == nbb_unformatted_code) {\n",
       "                             nbb_cells[i].set_text(nbb_formatted_code);\n",
       "                        }\n",
       "                        break;\n",
       "                    }\n",
       "                }\n",
       "            }, 500);\n",
       "            "
      ],
      "text/plain": [
       "<IPython.core.display.Javascript object>"
      ]
     },
     "metadata": {},
     "output_type": "display_data"
    }
   ],
   "source": [
    "na_vals = [97, 98, 99]\n",
    "preg[\"birthwgt_lb\"] = preg[\"birthwgt_lb\"].replace(na_vals, np.nan)\n",
    "preg[\"birthwgt_oz\"] = preg[\"birthwgt_oz\"].replace(na_vals, np.nan)"
   ]
  },
  {
   "cell_type": "markdown",
   "id": "330e50a4",
   "metadata": {},
   "source": [
    "Now we can use the cleaned values to create a new column that combines pounds and ounces into a single quantity, in pounds."
   ]
  },
  {
   "cell_type": "code",
   "execution_count": 23,
   "id": "8d848dc0",
   "metadata": {},
   "outputs": [
    {
     "data": {
      "application/javascript": [
       "\n",
       "            setTimeout(function() {\n",
       "                var nbb_cell_id = 23;\n",
       "                var nbb_unformatted_code = \"preg[\\\"totalwgt_lb\\\"] = preg[\\\"birthwgt_lb\\\"] + preg[\\\"birthwgt_oz\\\"] / 16.0\";\n",
       "                var nbb_formatted_code = \"preg[\\\"totalwgt_lb\\\"] = preg[\\\"birthwgt_lb\\\"] + preg[\\\"birthwgt_oz\\\"] / 16.0\";\n",
       "                var nbb_cells = Jupyter.notebook.get_cells();\n",
       "                for (var i = 0; i < nbb_cells.length; ++i) {\n",
       "                    if (nbb_cells[i].input_prompt_number == nbb_cell_id) {\n",
       "                        if (nbb_cells[i].get_text() == nbb_unformatted_code) {\n",
       "                             nbb_cells[i].set_text(nbb_formatted_code);\n",
       "                        }\n",
       "                        break;\n",
       "                    }\n",
       "                }\n",
       "            }, 500);\n",
       "            "
      ],
      "text/plain": [
       "<IPython.core.display.Javascript object>"
      ]
     },
     "metadata": {},
     "output_type": "display_data"
    }
   ],
   "source": [
    "preg[\"totalwgt_lb\"] = preg[\"birthwgt_lb\"] + preg[\"birthwgt_oz\"] / 16.0"
   ]
  },
  {
   "cell_type": "markdown",
   "id": "2c08aa55",
   "metadata": {},
   "source": [
    "When you add a new column to a `DataFrame`, you have to use the bracket operator, not dot notation, like this."
   ]
  },
  {
   "cell_type": "code",
   "execution_count": 24,
   "id": "a3b03578",
   "metadata": {},
   "outputs": [
    {
     "data": {
      "application/javascript": [
       "\n",
       "            setTimeout(function() {\n",
       "                var nbb_cell_id = 24;\n",
       "                var nbb_unformatted_code = \"# WRONG!\\n# preg.totalwgt_lb = preg[\\\"birthwgt_lb\\\"] + preg[\\\"birthwgt_oz\\\"] / 16.0\";\n",
       "                var nbb_formatted_code = \"# WRONG!\\n# preg.totalwgt_lb = preg[\\\"birthwgt_lb\\\"] + preg[\\\"birthwgt_oz\\\"] / 16.0\";\n",
       "                var nbb_cells = Jupyter.notebook.get_cells();\n",
       "                for (var i = 0; i < nbb_cells.length; ++i) {\n",
       "                    if (nbb_cells[i].input_prompt_number == nbb_cell_id) {\n",
       "                        if (nbb_cells[i].get_text() == nbb_unformatted_code) {\n",
       "                             nbb_cells[i].set_text(nbb_formatted_code);\n",
       "                        }\n",
       "                        break;\n",
       "                    }\n",
       "                }\n",
       "            }, 500);\n",
       "            "
      ],
      "text/plain": [
       "<IPython.core.display.Javascript object>"
      ]
     },
     "metadata": {},
     "output_type": "display_data"
    }
   ],
   "source": [
    "# WRONG!\n",
    "# preg.totalwgt_lb = preg[\"birthwgt_lb\"] + preg[\"birthwgt_oz\"] / 16.0"
   ]
  },
  {
   "cell_type": "markdown",
   "id": "d7b51584",
   "metadata": {},
   "source": [
    "The version with dot notation adds an attribute to the `DataFrame` object, but that attribute is not treated as a new column."
   ]
  },
  {
   "cell_type": "markdown",
   "id": "6b17ca75",
   "metadata": {},
   "source": [
    "## Summary Statistics\n",
    "\n",
    "A **statistic** is a number derived from a dataset, usually intended to quantify some aspect of the data.\n",
    "Examples include the mean, variance, and standard deviation.\n",
    "\n",
    "A mean is a statistic intended to locate the center of a set of values.\n",
    "But there are many ways to define \"center\", so there are many ways to compute a mean, including arithmetic, geometric, and harmonic means.\n",
    "For now, we'll stick with the **arithmetic mean**, which is the sum of a set of values divided by the number of values.\n",
    "\n",
    "A `Series` object has a `count` method that returns the number of values that are not `nan`."
   ]
  },
  {
   "cell_type": "code",
   "execution_count": 25,
   "id": "a124ce54",
   "metadata": {},
   "outputs": [
    {
     "data": {
      "text/plain": [
       "9038"
      ]
     },
     "execution_count": 25,
     "metadata": {},
     "output_type": "execute_result"
    },
    {
     "data": {
      "application/javascript": [
       "\n",
       "            setTimeout(function() {\n",
       "                var nbb_cell_id = 25;\n",
       "                var nbb_unformatted_code = \"weights = preg[\\\"totalwgt_lb\\\"]\\nn = weights.count()\\nn\";\n",
       "                var nbb_formatted_code = \"weights = preg[\\\"totalwgt_lb\\\"]\\nn = weights.count()\\nn\";\n",
       "                var nbb_cells = Jupyter.notebook.get_cells();\n",
       "                for (var i = 0; i < nbb_cells.length; ++i) {\n",
       "                    if (nbb_cells[i].input_prompt_number == nbb_cell_id) {\n",
       "                        if (nbb_cells[i].get_text() == nbb_unformatted_code) {\n",
       "                             nbb_cells[i].set_text(nbb_formatted_code);\n",
       "                        }\n",
       "                        break;\n",
       "                    }\n",
       "                }\n",
       "            }, 500);\n",
       "            "
      ],
      "text/plain": [
       "<IPython.core.display.Javascript object>"
      ]
     },
     "metadata": {},
     "output_type": "display_data"
    }
   ],
   "source": [
    "weights = preg[\"totalwgt_lb\"]\n",
    "n = weights.count()\n",
    "n"
   ]
  },
  {
   "cell_type": "markdown",
   "id": "b726a26b",
   "metadata": {},
   "source": [
    "It also provides a `sum` method that returns the sum of the values -- we can use it to compute the mean like this."
   ]
  },
  {
   "cell_type": "code",
   "execution_count": 26,
   "id": "370eb75e",
   "metadata": {},
   "outputs": [
    {
     "data": {
      "text/plain": [
       "7.265628457623368"
      ]
     },
     "execution_count": 26,
     "metadata": {},
     "output_type": "execute_result"
    },
    {
     "data": {
      "application/javascript": [
       "\n",
       "            setTimeout(function() {\n",
       "                var nbb_cell_id = 26;\n",
       "                var nbb_unformatted_code = \"mean = weights.sum() / n\\nmean\";\n",
       "                var nbb_formatted_code = \"mean = weights.sum() / n\\nmean\";\n",
       "                var nbb_cells = Jupyter.notebook.get_cells();\n",
       "                for (var i = 0; i < nbb_cells.length; ++i) {\n",
       "                    if (nbb_cells[i].input_prompt_number == nbb_cell_id) {\n",
       "                        if (nbb_cells[i].get_text() == nbb_unformatted_code) {\n",
       "                             nbb_cells[i].set_text(nbb_formatted_code);\n",
       "                        }\n",
       "                        break;\n",
       "                    }\n",
       "                }\n",
       "            }, 500);\n",
       "            "
      ],
      "text/plain": [
       "<IPython.core.display.Javascript object>"
      ]
     },
     "metadata": {},
     "output_type": "display_data"
    }
   ],
   "source": [
    "mean = weights.sum() / n\n",
    "mean"
   ]
  },
  {
   "cell_type": "markdown",
   "id": "83159334",
   "metadata": {},
   "source": [
    "But as you might expect, there's also a `mean` method that does the same thing."
   ]
  },
  {
   "cell_type": "code",
   "execution_count": 27,
   "id": "aebf1089",
   "metadata": {},
   "outputs": [
    {
     "data": {
      "text/plain": [
       "7.265628457623368"
      ]
     },
     "execution_count": 27,
     "metadata": {},
     "output_type": "execute_result"
    },
    {
     "data": {
      "application/javascript": [
       "\n",
       "            setTimeout(function() {\n",
       "                var nbb_cell_id = 27;\n",
       "                var nbb_unformatted_code = \"weights.mean()\";\n",
       "                var nbb_formatted_code = \"weights.mean()\";\n",
       "                var nbb_cells = Jupyter.notebook.get_cells();\n",
       "                for (var i = 0; i < nbb_cells.length; ++i) {\n",
       "                    if (nbb_cells[i].input_prompt_number == nbb_cell_id) {\n",
       "                        if (nbb_cells[i].get_text() == nbb_unformatted_code) {\n",
       "                             nbb_cells[i].set_text(nbb_formatted_code);\n",
       "                        }\n",
       "                        break;\n",
       "                    }\n",
       "                }\n",
       "            }, 500);\n",
       "            "
      ],
      "text/plain": [
       "<IPython.core.display.Javascript object>"
      ]
     },
     "metadata": {},
     "output_type": "display_data"
    }
   ],
   "source": [
    "weights.mean()"
   ]
  },
  {
   "cell_type": "markdown",
   "id": "02b4e371",
   "metadata": {},
   "source": [
    "In this dataset, the mean of the birth weights is about 7.3 pounds.\n",
    "\n",
    "Variance is a statistic that quantifies the spread of a set of values.\n",
    "It is the mean of the squared deviations, which are the distances of each point from the mean."
   ]
  },
  {
   "cell_type": "code",
   "execution_count": 28,
   "id": "17efbc62",
   "metadata": {},
   "outputs": [
    {
     "data": {
      "application/javascript": [
       "\n",
       "            setTimeout(function() {\n",
       "                var nbb_cell_id = 28;\n",
       "                var nbb_unformatted_code = \"squared_deviations = (weights - mean) ** 2\";\n",
       "                var nbb_formatted_code = \"squared_deviations = (weights - mean) ** 2\";\n",
       "                var nbb_cells = Jupyter.notebook.get_cells();\n",
       "                for (var i = 0; i < nbb_cells.length; ++i) {\n",
       "                    if (nbb_cells[i].input_prompt_number == nbb_cell_id) {\n",
       "                        if (nbb_cells[i].get_text() == nbb_unformatted_code) {\n",
       "                             nbb_cells[i].set_text(nbb_formatted_code);\n",
       "                        }\n",
       "                        break;\n",
       "                    }\n",
       "                }\n",
       "            }, 500);\n",
       "            "
      ],
      "text/plain": [
       "<IPython.core.display.Javascript object>"
      ]
     },
     "metadata": {},
     "output_type": "display_data"
    }
   ],
   "source": [
    "squared_deviations = (weights - mean) ** 2"
   ]
  },
  {
   "cell_type": "markdown",
   "id": "325b143d",
   "metadata": {},
   "source": [
    "We can compute the mean of the squared deviations like this."
   ]
  },
  {
   "cell_type": "code",
   "execution_count": 29,
   "id": "10bc8188",
   "metadata": {},
   "outputs": [
    {
     "data": {
      "text/plain": [
       "1.983070989750022"
      ]
     },
     "execution_count": 29,
     "metadata": {},
     "output_type": "execute_result"
    },
    {
     "data": {
      "application/javascript": [
       "\n",
       "            setTimeout(function() {\n",
       "                var nbb_cell_id = 29;\n",
       "                var nbb_unformatted_code = \"var = squared_deviations.sum() / n\\nvar\";\n",
       "                var nbb_formatted_code = \"var = squared_deviations.sum() / n\\nvar\";\n",
       "                var nbb_cells = Jupyter.notebook.get_cells();\n",
       "                for (var i = 0; i < nbb_cells.length; ++i) {\n",
       "                    if (nbb_cells[i].input_prompt_number == nbb_cell_id) {\n",
       "                        if (nbb_cells[i].get_text() == nbb_unformatted_code) {\n",
       "                             nbb_cells[i].set_text(nbb_formatted_code);\n",
       "                        }\n",
       "                        break;\n",
       "                    }\n",
       "                }\n",
       "            }, 500);\n",
       "            "
      ],
      "text/plain": [
       "<IPython.core.display.Javascript object>"
      ]
     },
     "metadata": {},
     "output_type": "display_data"
    }
   ],
   "source": [
    "var = squared_deviations.sum() / n\n",
    "var"
   ]
  },
  {
   "cell_type": "markdown",
   "id": "199652a0",
   "metadata": {},
   "source": [
    "As you might expect, `Series` provides a `var` method that does the same thing, not *exactly* the same thing."
   ]
  },
  {
   "cell_type": "code",
   "execution_count": 30,
   "id": "09b56f75",
   "metadata": {},
   "outputs": [
    {
     "data": {
      "text/plain": [
       "1.9832904288326545"
      ]
     },
     "execution_count": 30,
     "metadata": {},
     "output_type": "execute_result"
    },
    {
     "data": {
      "application/javascript": [
       "\n",
       "            setTimeout(function() {\n",
       "                var nbb_cell_id = 30;\n",
       "                var nbb_unformatted_code = \"weights.var()\";\n",
       "                var nbb_formatted_code = \"weights.var()\";\n",
       "                var nbb_cells = Jupyter.notebook.get_cells();\n",
       "                for (var i = 0; i < nbb_cells.length; ++i) {\n",
       "                    if (nbb_cells[i].input_prompt_number == nbb_cell_id) {\n",
       "                        if (nbb_cells[i].get_text() == nbb_unformatted_code) {\n",
       "                             nbb_cells[i].set_text(nbb_formatted_code);\n",
       "                        }\n",
       "                        break;\n",
       "                    }\n",
       "                }\n",
       "            }, 500);\n",
       "            "
      ],
      "text/plain": [
       "<IPython.core.display.Javascript object>"
      ]
     },
     "metadata": {},
     "output_type": "display_data"
    }
   ],
   "source": [
    "weights.var()"
   ]
  },
  {
   "cell_type": "markdown",
   "id": "b9fb9471",
   "metadata": {},
   "source": [
    "The result is slightly different because when the `var` method computes the mean of the squared deviations, it divides by `n-1` rather than `n`.\n",
    "That's because there are two ways to compute the variance of a sample, depending on what you are trying to do.\n",
    "I'll explain the difference in Chapter XXX -- but in practice it usually doesn't matter.\n",
    "If you prefer the version with `n` in the denominator, you can get it by passing `ddof=0` as a keyword argument to the `var` method."
   ]
  },
  {
   "cell_type": "code",
   "execution_count": 31,
   "id": "4758f78c",
   "metadata": {},
   "outputs": [
    {
     "data": {
      "text/plain": [
       "1.983070989750022"
      ]
     },
     "execution_count": 31,
     "metadata": {},
     "output_type": "execute_result"
    },
    {
     "data": {
      "application/javascript": [
       "\n",
       "            setTimeout(function() {\n",
       "                var nbb_cell_id = 31;\n",
       "                var nbb_unformatted_code = \"weights.var(ddof=0)\";\n",
       "                var nbb_formatted_code = \"weights.var(ddof=0)\";\n",
       "                var nbb_cells = Jupyter.notebook.get_cells();\n",
       "                for (var i = 0; i < nbb_cells.length; ++i) {\n",
       "                    if (nbb_cells[i].input_prompt_number == nbb_cell_id) {\n",
       "                        if (nbb_cells[i].get_text() == nbb_unformatted_code) {\n",
       "                             nbb_cells[i].set_text(nbb_formatted_code);\n",
       "                        }\n",
       "                        break;\n",
       "                    }\n",
       "                }\n",
       "            }, 500);\n",
       "            "
      ],
      "text/plain": [
       "<IPython.core.display.Javascript object>"
      ]
     },
     "metadata": {},
     "output_type": "display_data"
    }
   ],
   "source": [
    "weights.var(ddof=0)"
   ]
  },
  {
   "cell_type": "markdown",
   "id": "48a53ff2",
   "metadata": {},
   "source": [
    "In this dataset, the variance of the birth weights is about 1.98, but that value is hard to interpret -- for one thing, it is in units of pounds squared.\n",
    "Variance is useful in some computations, but not a good way to describe a dataset.\n",
    "\n",
    "A better option is the **standard deviation**, which is the square root of variance.\n",
    "We can compute it like this."
   ]
  },
  {
   "cell_type": "code",
   "execution_count": 32,
   "id": "26d51d61",
   "metadata": {},
   "outputs": [
    {
     "data": {
      "text/plain": [
       "1.40821553384062"
      ]
     },
     "execution_count": 32,
     "metadata": {},
     "output_type": "execute_result"
    },
    {
     "data": {
      "application/javascript": [
       "\n",
       "            setTimeout(function() {\n",
       "                var nbb_cell_id = 32;\n",
       "                var nbb_unformatted_code = \"std = np.sqrt(var)\\nstd\";\n",
       "                var nbb_formatted_code = \"std = np.sqrt(var)\\nstd\";\n",
       "                var nbb_cells = Jupyter.notebook.get_cells();\n",
       "                for (var i = 0; i < nbb_cells.length; ++i) {\n",
       "                    if (nbb_cells[i].input_prompt_number == nbb_cell_id) {\n",
       "                        if (nbb_cells[i].get_text() == nbb_unformatted_code) {\n",
       "                             nbb_cells[i].set_text(nbb_formatted_code);\n",
       "                        }\n",
       "                        break;\n",
       "                    }\n",
       "                }\n",
       "            }, 500);\n",
       "            "
      ],
      "text/plain": [
       "<IPython.core.display.Javascript object>"
      ]
     },
     "metadata": {},
     "output_type": "display_data"
    }
   ],
   "source": [
    "std = np.sqrt(var)\n",
    "std"
   ]
  },
  {
   "cell_type": "markdown",
   "id": "16171375",
   "metadata": {},
   "source": [
    "Or, we can use the `std` method."
   ]
  },
  {
   "cell_type": "code",
   "execution_count": 33,
   "id": "70647ffd",
   "metadata": {},
   "outputs": [
    {
     "data": {
      "text/plain": [
       "1.40821553384062"
      ]
     },
     "execution_count": 33,
     "metadata": {},
     "output_type": "execute_result"
    },
    {
     "data": {
      "application/javascript": [
       "\n",
       "            setTimeout(function() {\n",
       "                var nbb_cell_id = 33;\n",
       "                var nbb_unformatted_code = \"weights.std(ddof=0)\";\n",
       "                var nbb_formatted_code = \"weights.std(ddof=0)\";\n",
       "                var nbb_cells = Jupyter.notebook.get_cells();\n",
       "                for (var i = 0; i < nbb_cells.length; ++i) {\n",
       "                    if (nbb_cells[i].input_prompt_number == nbb_cell_id) {\n",
       "                        if (nbb_cells[i].get_text() == nbb_unformatted_code) {\n",
       "                             nbb_cells[i].set_text(nbb_formatted_code);\n",
       "                        }\n",
       "                        break;\n",
       "                    }\n",
       "                }\n",
       "            }, 500);\n",
       "            "
      ],
      "text/plain": [
       "<IPython.core.display.Javascript object>"
      ]
     },
     "metadata": {},
     "output_type": "display_data"
    }
   ],
   "source": [
    "weights.std(ddof=0)"
   ]
  },
  {
   "cell_type": "markdown",
   "id": "c76c7a47",
   "metadata": {},
   "source": [
    "In this dataset, the standard deviation of birth weights is about 1.4 pounds."
   ]
  },
  {
   "cell_type": "markdown",
   "id": "4234e27e",
   "metadata": {},
   "source": [
    "## Interpretation\n",
    "\n",
    "To work with data effectively, you have to think on two levels at the same time: the level of statistics and the level of context.\n",
    "\n",
    "As an example, let's select the rows in the pregnancy file with `caseid` 10229.\n",
    "The `query` method takes a string that can contain column names, comparison operators, and numbers, among other things."
   ]
  },
  {
   "cell_type": "code",
   "execution_count": 34,
   "id": "34f9a644",
   "metadata": {},
   "outputs": [
    {
     "data": {
      "text/plain": [
       "(7, 244)"
      ]
     },
     "execution_count": 34,
     "metadata": {},
     "output_type": "execute_result"
    },
    {
     "data": {
      "application/javascript": [
       "\n",
       "            setTimeout(function() {\n",
       "                var nbb_cell_id = 34;\n",
       "                var nbb_unformatted_code = \"subset = preg.query(\\\"caseid == 10229\\\")\\nsubset.shape\";\n",
       "                var nbb_formatted_code = \"subset = preg.query(\\\"caseid == 10229\\\")\\nsubset.shape\";\n",
       "                var nbb_cells = Jupyter.notebook.get_cells();\n",
       "                for (var i = 0; i < nbb_cells.length; ++i) {\n",
       "                    if (nbb_cells[i].input_prompt_number == nbb_cell_id) {\n",
       "                        if (nbb_cells[i].get_text() == nbb_unformatted_code) {\n",
       "                             nbb_cells[i].set_text(nbb_formatted_code);\n",
       "                        }\n",
       "                        break;\n",
       "                    }\n",
       "                }\n",
       "            }, 500);\n",
       "            "
      ],
      "text/plain": [
       "<IPython.core.display.Javascript object>"
      ]
     },
     "metadata": {},
     "output_type": "display_data"
    }
   ],
   "source": [
    "subset = preg.query(\"caseid == 10229\")\n",
    "subset.shape"
   ]
  },
  {
   "cell_type": "markdown",
   "id": "c63cae88",
   "metadata": {},
   "source": [
    "The result is a `DataFrame` that contains only the rows where the query is `True`.\n",
    "This respondent reported seven pregnancies -- here are their outcomes, which are recorded in chronological order."
   ]
  },
  {
   "cell_type": "code",
   "execution_count": 35,
   "id": "e4d4907d",
   "metadata": {},
   "outputs": [
    {
     "data": {
      "text/plain": [
       "11093    4\n",
       "11094    4\n",
       "11095    4\n",
       "11096    4\n",
       "11097    4\n",
       "11098    4\n",
       "11099    1\n",
       "Name: outcome, dtype: int64"
      ]
     },
     "execution_count": 35,
     "metadata": {},
     "output_type": "execute_result"
    },
    {
     "data": {
      "application/javascript": [
       "\n",
       "            setTimeout(function() {\n",
       "                var nbb_cell_id = 35;\n",
       "                var nbb_unformatted_code = \"subset[\\\"outcome\\\"]\";\n",
       "                var nbb_formatted_code = \"subset[\\\"outcome\\\"]\";\n",
       "                var nbb_cells = Jupyter.notebook.get_cells();\n",
       "                for (var i = 0; i < nbb_cells.length; ++i) {\n",
       "                    if (nbb_cells[i].input_prompt_number == nbb_cell_id) {\n",
       "                        if (nbb_cells[i].get_text() == nbb_unformatted_code) {\n",
       "                             nbb_cells[i].set_text(nbb_formatted_code);\n",
       "                        }\n",
       "                        break;\n",
       "                    }\n",
       "                }\n",
       "            }, 500);\n",
       "            "
      ],
      "text/plain": [
       "<IPython.core.display.Javascript object>"
      ]
     },
     "metadata": {},
     "output_type": "display_data"
    }
   ],
   "source": [
    "subset[\"outcome\"]"
   ]
  },
  {
   "cell_type": "markdown",
   "id": "0c5ef31b",
   "metadata": {},
   "source": [
    "The outcome code `1` indicates a live birth.\n",
    "Code `4` indicates a miscarriage -- that is, a pregnancy that ended spontaneously, usually with no known medical cause.\n",
    "\n",
    "Statistically this respondent is not unusual.\n",
    "Miscarriages are common and there are other respondents who reported as many or more.\n",
    "But remembering the context, this data tells the story of a woman who was pregnant six times, each time ending in miscarriage.\n",
    "Her seventh and most recent pregnancy ended in a live birth.\n",
    "If we consider this data with empathy, it is natural to be moved by the story it tells.\n",
    "\n",
    "Each record in the NSFG dataset represents a person who provided honest answers to many personal and difficult questions.\n",
    "We can use this data to answer statistical questions about family life, reproduction, and health.\n",
    "At the same time, we have an obligation to consider the people represented by the data, and to afford them respect and gratitude."
   ]
  },
  {
   "cell_type": "markdown",
   "id": "3b3f8c2a",
   "metadata": {
    "collapsed": true
   },
   "source": [
    "## Exercises"
   ]
  },
  {
   "cell_type": "markdown",
   "id": "90fd57dd",
   "metadata": {},
   "source": [
    "### Exercise\n",
    "\n",
    "Select the `birthord` column, print the value counts, and compare to results published in the  codebook."
   ]
  },
  {
   "cell_type": "markdown",
   "id": "bd7b7186",
   "metadata": {
    "tags": [
     "remove-print"
    ]
   },
   "source": [
    "The codebook for this dataset is at <https://ftp.cdc.gov/pub/Health_Statistics/NCHS/Dataset_Documentation/NSFG/Cycle6Codebook-Pregnancy.pdf>."
   ]
  },
  {
   "cell_type": "code",
   "execution_count": 36,
   "id": "09e79aba",
   "metadata": {},
   "outputs": [
    {
     "data": {
      "text/plain": [
       "birthord\n",
       "1.0     4413\n",
       "2.0     2874\n",
       "3.0     1234\n",
       "4.0      421\n",
       "5.0      126\n",
       "6.0       50\n",
       "7.0       20\n",
       "8.0        7\n",
       "9.0        2\n",
       "10.0       1\n",
       "Name: count, dtype: int64"
      ]
     },
     "execution_count": 36,
     "metadata": {},
     "output_type": "execute_result"
    },
    {
     "data": {
      "application/javascript": [
       "\n",
       "            setTimeout(function() {\n",
       "                var nbb_cell_id = 36;\n",
       "                var nbb_unformatted_code = \"# Solution\\n\\npreg[\\\"birthord\\\"].value_counts().sort_index()\";\n",
       "                var nbb_formatted_code = \"# Solution\\n\\npreg[\\\"birthord\\\"].value_counts().sort_index()\";\n",
       "                var nbb_cells = Jupyter.notebook.get_cells();\n",
       "                for (var i = 0; i < nbb_cells.length; ++i) {\n",
       "                    if (nbb_cells[i].input_prompt_number == nbb_cell_id) {\n",
       "                        if (nbb_cells[i].get_text() == nbb_unformatted_code) {\n",
       "                             nbb_cells[i].set_text(nbb_formatted_code);\n",
       "                        }\n",
       "                        break;\n",
       "                    }\n",
       "                }\n",
       "            }, 500);\n",
       "            "
      ],
      "text/plain": [
       "<IPython.core.display.Javascript object>"
      ]
     },
     "metadata": {},
     "output_type": "display_data"
    }
   ],
   "source": []
  },
  {
   "cell_type": "markdown",
   "id": "4a6aabaa",
   "metadata": {},
   "source": [
    "### Exercise\n",
    "\n",
    "Create a new column named `totalwgt_kg` that contains birth weight in kilograms (there are approximately 2.2 pounds per kilogram).\n",
    "Remember that when you create a new column, you have to use the bracket operator, not dot notation.\n",
    "Compute the mean and standard deviation of the new column."
   ]
  },
  {
   "cell_type": "code",
   "execution_count": 37,
   "id": "009d0f95",
   "metadata": {},
   "outputs": [
    {
     "data": {
      "text/plain": [
       "(3.302558389828803, 0.6401333843495532)"
      ]
     },
     "execution_count": 37,
     "metadata": {},
     "output_type": "execute_result"
    },
    {
     "data": {
      "application/javascript": [
       "\n",
       "            setTimeout(function() {\n",
       "                var nbb_cell_id = 37;\n",
       "                var nbb_unformatted_code = \"# Solution\\n\\npreg[\\\"totalwgt_kg\\\"] = preg.totalwgt_lb / 2.2\\npreg[\\\"totalwgt_kg\\\"].mean(), preg[\\\"totalwgt_kg\\\"].std()\";\n",
       "                var nbb_formatted_code = \"# Solution\\n\\npreg[\\\"totalwgt_kg\\\"] = preg.totalwgt_lb / 2.2\\npreg[\\\"totalwgt_kg\\\"].mean(), preg[\\\"totalwgt_kg\\\"].std()\";\n",
       "                var nbb_cells = Jupyter.notebook.get_cells();\n",
       "                for (var i = 0; i < nbb_cells.length; ++i) {\n",
       "                    if (nbb_cells[i].input_prompt_number == nbb_cell_id) {\n",
       "                        if (nbb_cells[i].get_text() == nbb_unformatted_code) {\n",
       "                             nbb_cells[i].set_text(nbb_formatted_code);\n",
       "                        }\n",
       "                        break;\n",
       "                    }\n",
       "                }\n",
       "            }, 500);\n",
       "            "
      ],
      "text/plain": [
       "<IPython.core.display.Javascript object>"
      ]
     },
     "metadata": {},
     "output_type": "display_data"
    }
   ],
   "source": []
  },
  {
   "cell_type": "markdown",
   "id": "ee9bc52d",
   "metadata": {},
   "source": [
    "### Exercise\n",
    "\n",
    "What are the pregnancy lengths for the respondent with `caseid` 2298?"
   ]
  },
  {
   "cell_type": "code",
   "execution_count": 38,
   "id": "69de50aa",
   "metadata": {},
   "outputs": [
    {
     "data": {
      "text/plain": [
       "2610    40\n",
       "2611    36\n",
       "2612    30\n",
       "2613    40\n",
       "Name: prglngth, dtype: int64"
      ]
     },
     "execution_count": 38,
     "metadata": {},
     "output_type": "execute_result"
    },
    {
     "data": {
      "application/javascript": [
       "\n",
       "            setTimeout(function() {\n",
       "                var nbb_cell_id = 38;\n",
       "                var nbb_unformatted_code = \"# Solution\\n\\nsubset = preg.query(\\\"caseid == 2298\\\")\\nsubset[\\\"prglngth\\\"]\";\n",
       "                var nbb_formatted_code = \"# Solution\\n\\nsubset = preg.query(\\\"caseid == 2298\\\")\\nsubset[\\\"prglngth\\\"]\";\n",
       "                var nbb_cells = Jupyter.notebook.get_cells();\n",
       "                for (var i = 0; i < nbb_cells.length; ++i) {\n",
       "                    if (nbb_cells[i].input_prompt_number == nbb_cell_id) {\n",
       "                        if (nbb_cells[i].get_text() == nbb_unformatted_code) {\n",
       "                             nbb_cells[i].set_text(nbb_formatted_code);\n",
       "                        }\n",
       "                        break;\n",
       "                    }\n",
       "                }\n",
       "            }, 500);\n",
       "            "
      ],
      "text/plain": [
       "<IPython.core.display.Javascript object>"
      ]
     },
     "metadata": {},
     "output_type": "display_data"
    }
   ],
   "source": []
  },
  {
   "cell_type": "markdown",
   "id": "a205c407",
   "metadata": {},
   "source": [
    "What was the birth weight of the first baby born to the respondent with `caseid` 5013?\n",
    "Hint: You can use `and` to check more than one condition in a query."
   ]
  },
  {
   "cell_type": "code",
   "execution_count": 39,
   "id": "5ae4cc07",
   "metadata": {},
   "outputs": [
    {
     "data": {
      "text/plain": [
       "5516    7.3750\n",
       "5517       NaN\n",
       "5518    8.3125\n",
       "5519    8.1250\n",
       "Name: totalwgt_lb, dtype: float64"
      ]
     },
     "execution_count": 39,
     "metadata": {},
     "output_type": "execute_result"
    },
    {
     "data": {
      "application/javascript": [
       "\n",
       "            setTimeout(function() {\n",
       "                var nbb_cell_id = 39;\n",
       "                var nbb_unformatted_code = \"# Solution\\n\\nsubset = preg.query(\\\"caseid == 5013\\\")\\nsubset[\\\"totalwgt_lb\\\"]\";\n",
       "                var nbb_formatted_code = \"# Solution\\n\\nsubset = preg.query(\\\"caseid == 5013\\\")\\nsubset[\\\"totalwgt_lb\\\"]\";\n",
       "                var nbb_cells = Jupyter.notebook.get_cells();\n",
       "                for (var i = 0; i < nbb_cells.length; ++i) {\n",
       "                    if (nbb_cells[i].input_prompt_number == nbb_cell_id) {\n",
       "                        if (nbb_cells[i].get_text() == nbb_unformatted_code) {\n",
       "                             nbb_cells[i].set_text(nbb_formatted_code);\n",
       "                        }\n",
       "                        break;\n",
       "                    }\n",
       "                }\n",
       "            }, 500);\n",
       "            "
      ],
      "text/plain": [
       "<IPython.core.display.Javascript object>"
      ]
     },
     "metadata": {},
     "output_type": "display_data"
    }
   ],
   "source": []
  },
  {
   "cell_type": "code",
   "execution_count": 40,
   "id": "53f511d0",
   "metadata": {},
   "outputs": [
    {
     "data": {
      "text/plain": [
       "5516    7.375\n",
       "Name: totalwgt_lb, dtype: float64"
      ]
     },
     "execution_count": 40,
     "metadata": {},
     "output_type": "execute_result"
    },
    {
     "data": {
      "application/javascript": [
       "\n",
       "            setTimeout(function() {\n",
       "                var nbb_cell_id = 40;\n",
       "                var nbb_unformatted_code = \"# Solution\\n\\nsubset = preg.query(\\\"caseid == 5013 and birthord == 1\\\")\\nsubset[\\\"totalwgt_lb\\\"]\";\n",
       "                var nbb_formatted_code = \"# Solution\\n\\nsubset = preg.query(\\\"caseid == 5013 and birthord == 1\\\")\\nsubset[\\\"totalwgt_lb\\\"]\";\n",
       "                var nbb_cells = Jupyter.notebook.get_cells();\n",
       "                for (var i = 0; i < nbb_cells.length; ++i) {\n",
       "                    if (nbb_cells[i].input_prompt_number == nbb_cell_id) {\n",
       "                        if (nbb_cells[i].get_text() == nbb_unformatted_code) {\n",
       "                             nbb_cells[i].set_text(nbb_formatted_code);\n",
       "                        }\n",
       "                        break;\n",
       "                    }\n",
       "                }\n",
       "            }, 500);\n",
       "            "
      ],
      "text/plain": [
       "<IPython.core.display.Javascript object>"
      ]
     },
     "metadata": {},
     "output_type": "display_data"
    }
   ],
   "source": []
  },
  {
   "cell_type": "code",
   "execution_count": 41,
   "id": "c2fdd906",
   "metadata": {},
   "outputs": [
    {
     "data": {
      "application/javascript": [
       "\n",
       "            setTimeout(function() {\n",
       "                var nbb_cell_id = 41;\n",
       "                var nbb_unformatted_code = \"# TODO: add credit cell\";\n",
       "                var nbb_formatted_code = \"# TODO: add credit cell\";\n",
       "                var nbb_cells = Jupyter.notebook.get_cells();\n",
       "                for (var i = 0; i < nbb_cells.length; ++i) {\n",
       "                    if (nbb_cells[i].input_prompt_number == nbb_cell_id) {\n",
       "                        if (nbb_cells[i].get_text() == nbb_unformatted_code) {\n",
       "                             nbb_cells[i].set_text(nbb_formatted_code);\n",
       "                        }\n",
       "                        break;\n",
       "                    }\n",
       "                }\n",
       "            }, 500);\n",
       "            "
      ],
      "text/plain": [
       "<IPython.core.display.Javascript object>"
      ]
     },
     "metadata": {},
     "output_type": "display_data"
    }
   ],
   "source": [
    "# TODO: add credit cell"
   ]
  },
  {
   "cell_type": "code",
   "execution_count": null,
   "id": "8595e012",
   "metadata": {},
   "outputs": [],
   "source": []
  },
  {
   "cell_type": "markdown",
   "id": "e27da3a4",
   "metadata": {
    "tags": []
   },
   "source": [
    "[Think Stats: Exploratory Data Analysis in Python, 3rd Edition](https://allendowney.github.io/ThinkStats/index.html)\n",
    "\n",
    "Copyright 2024 [Allen B. Downey](https://allendowney.com)\n",
    "\n",
    "Code license: [MIT License](https://mit-license.org/)\n",
    "\n",
    "Text license: [Creative Commons Attribution-NonCommercial-ShareAlike 4.0 International](https://creativecommons.org/licenses/by-nc-sa/4.0/)"
   ]
  }
 ],
 "metadata": {
  "celltoolbar": "Tags",
  "kernelspec": {
   "display_name": "Python 3 (ipykernel)",
   "language": "python",
   "name": "python3"
  },
  "language_info": {
   "codemirror_mode": {
    "name": "ipython",
    "version": 3
   },
   "file_extension": ".py",
   "mimetype": "text/x-python",
   "name": "python",
   "nbconvert_exporter": "python",
   "pygments_lexer": "ipython3",
   "version": "3.10.14"
  }
 },
 "nbformat": 4,
 "nbformat_minor": 5
}
