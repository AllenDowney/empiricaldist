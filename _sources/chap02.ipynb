{
 "cells": [
  {
   "cell_type": "markdown",
   "id": "d2f1937f",
   "metadata": {},
   "source": [
    "# Distributions"
   ]
  },
  {
   "cell_type": "markdown",
   "id": "32393b32",
   "metadata": {
    "tags": [
     "remove-print"
    ]
   },
   "source": [
    "[Click here to run this notebook on Colab](https://colab.research.google.com/github/AllenDowney/ThinkStats/blob/v3/nb/chap02.ipynb)."
   ]
  },
  {
   "cell_type": "code",
   "execution_count": null,
   "id": "29ea6b54",
   "metadata": {
    "tags": [
     "remove-print",
     "hide-cell"
    ]
   },
   "outputs": [],
   "source": [
    "%load_ext nb_black\n",
    "%load_ext autoreload\n",
    "%autoreload 2"
   ]
  },
  {
   "cell_type": "code",
   "execution_count": 1,
   "id": "1b3797b5",
   "metadata": {
    "tags": [
     "remove-print",
     "hide-cell"
    ]
   },
   "outputs": [],
   "source": [
    "from os.path import basename, exists\n",
    "\n",
    "\n",
    "def download(url):\n",
    "    filename = basename(url)\n",
    "    if not exists(filename):\n",
    "        from urllib.request import urlretrieve\n",
    "\n",
    "        local, _ = urlretrieve(url, filename)\n",
    "        print(\"Downloaded \" + local)\n",
    "\n",
    "\n",
    "download(\"https://github.com/AllenDowney/ThinkStats/raw/v3/nb/thinkstats.py\")"
   ]
  },
  {
   "cell_type": "code",
   "execution_count": 2,
   "id": "f43cb8b9",
   "metadata": {
    "tags": [
     "remove-print",
     "hide-cell"
    ]
   },
   "outputs": [],
   "source": [
    "try:\n",
    "    import empiricaldist\n",
    "except ImportError:\n",
    "    !pip install empiricaldist"
   ]
  },
  {
   "cell_type": "code",
   "execution_count": 3,
   "id": "338d162a",
   "metadata": {
    "tags": [
     "remove-print",
     "hide-cell"
    ]
   },
   "outputs": [],
   "source": [
    "import numpy as np\n",
    "import matplotlib.pyplot as plt\n",
    "from thinkstats import decorate"
   ]
  },
  {
   "cell_type": "markdown",
   "id": "01d03795",
   "metadata": {},
   "source": [
    "## Histograms\n",
    "\n",
    "One of the best ways to describe a variable is to report the quantities it contains and how many times each one appears.\n",
    "This description is called the **distribution** of the variable.\n",
    "\n",
    "A common representation of a distribution is a **histogram**, which is a graph that shows the **frequency** of each quantity, which is the number of times it appears.\n",
    "\n",
    "To represent distributions, we'll use a library called `empiricaldist`.\n",
    "In this context, \"empirical\" means that the distributions are based on data rather than mathematical models.\n",
    "\n",
    "`empiricaldist` provides a class called `Hist` we can use to compute and plot a histogram.\n",
    "We can import it like this."
   ]
  },
  {
   "cell_type": "code",
   "execution_count": 4,
   "id": "142ef9f5",
   "metadata": {},
   "outputs": [],
   "source": [
    "from empiricaldist import Hist"
   ]
  },
  {
   "cell_type": "markdown",
   "id": "026f22d6",
   "metadata": {},
   "source": [
    "To show how it works, we'll start with a small list of values."
   ]
  },
  {
   "cell_type": "code",
   "execution_count": 5,
   "id": "a8c88e69",
   "metadata": {},
   "outputs": [],
   "source": [
    "t = [1.0, 2.0, 2.0, 3.0, 5.0]"
   ]
  },
  {
   "cell_type": "markdown",
   "id": "6addd31b",
   "metadata": {},
   "source": [
    "`Hist` provides a method called `from_seq` that takes a sequence and makes a `Hist` object."
   ]
  },
  {
   "cell_type": "code",
   "execution_count": 6,
   "id": "32a8fcc3",
   "metadata": {},
   "outputs": [
    {
     "data": {
      "text/html": [
       "<div>\n",
       "<style scoped>\n",
       "    .dataframe tbody tr th:only-of-type {\n",
       "        vertical-align: middle;\n",
       "    }\n",
       "\n",
       "    .dataframe tbody tr th {\n",
       "        vertical-align: top;\n",
       "    }\n",
       "\n",
       "    .dataframe thead th {\n",
       "        text-align: right;\n",
       "    }\n",
       "</style>\n",
       "<table border=\"1\" class=\"dataframe\">\n",
       "  <thead>\n",
       "    <tr style=\"text-align: right;\">\n",
       "      <th></th>\n",
       "      <th>freqs</th>\n",
       "    </tr>\n",
       "  </thead>\n",
       "  <tbody>\n",
       "    <tr>\n",
       "      <th>1.0</th>\n",
       "      <td>1</td>\n",
       "    </tr>\n",
       "    <tr>\n",
       "      <th>2.0</th>\n",
       "      <td>2</td>\n",
       "    </tr>\n",
       "    <tr>\n",
       "      <th>3.0</th>\n",
       "      <td>1</td>\n",
       "    </tr>\n",
       "    <tr>\n",
       "      <th>5.0</th>\n",
       "      <td>1</td>\n",
       "    </tr>\n",
       "  </tbody>\n",
       "</table>\n",
       "</div>"
      ],
      "text/plain": [
       "1.0    1\n",
       "2.0    2\n",
       "3.0    1\n",
       "5.0    1\n",
       "Name: , dtype: int64"
      ]
     },
     "execution_count": 6,
     "metadata": {},
     "output_type": "execute_result"
    }
   ],
   "source": [
    "hist = Hist.from_seq(t)\n",
    "hist"
   ]
  },
  {
   "cell_type": "markdown",
   "id": "d7c83115",
   "metadata": {},
   "source": [
    "A `Hist` object is a kind of Pandas `Series` that contains quantities and their frequencies.\n",
    "In this example, the quantity `1.0` corresponds to frequency 1, the quantity `2.0` corresponds to frequency 2, etc.\n",
    "\n",
    "`Hist` provides a method called `bar` that plots the histogram as a bar chart."
   ]
  },
  {
   "cell_type": "code",
   "execution_count": 7,
   "id": "24f2055e",
   "metadata": {},
   "outputs": [
    {
     "data": {
      "image/png": "[encoded data removed]",
      "text/plain": [
       "<Figure size 450x262.5 with 1 Axes>"
      ]
     },
     "metadata": {},
     "output_type": "display_data"
    }
   ],
   "source": [
    "hist.bar()\n",
    "decorate(xlabel=\"Quantity\", ylabel=\"Frequency\")"
   ]
  },
  {
   "cell_type": "markdown",
   "id": "9b20fe7c",
   "metadata": {},
   "source": [
    "Because a `Hist` is a Pandas `Series`, we can use the bracket operator to look up a quantity and get its frequency. "
   ]
  },
  {
   "cell_type": "code",
   "execution_count": 8,
   "id": "dabde3b8",
   "metadata": {},
   "outputs": [
    {
     "data": {
      "text/plain": [
       "2"
      ]
     },
     "execution_count": 8,
     "metadata": {},
     "output_type": "execute_result"
    }
   ],
   "source": [
    "hist[2.0]"
   ]
  },
  {
   "cell_type": "markdown",
   "id": "3af2a2e9",
   "metadata": {},
   "source": [
    "But unlike a Pandas `Series`, we can also call a `Hist` object like a function to look up a quantity."
   ]
  },
  {
   "cell_type": "code",
   "execution_count": 9,
   "id": "b788c0ba",
   "metadata": {},
   "outputs": [
    {
     "data": {
      "text/plain": [
       "2"
      ]
     },
     "execution_count": 9,
     "metadata": {},
     "output_type": "execute_result"
    }
   ],
   "source": [
    "hist(2.0)"
   ]
  },
  {
   "cell_type": "markdown",
   "id": "fd2ce71f",
   "metadata": {},
   "source": [
    "If we look up a quantity that does not appear in the `Hist`, the function syntax returns `0`."
   ]
  },
  {
   "cell_type": "code",
   "execution_count": 10,
   "id": "ef936c4c",
   "metadata": {},
   "outputs": [
    {
     "data": {
      "text/plain": [
       "0"
      ]
     },
     "execution_count": 10,
     "metadata": {},
     "output_type": "execute_result"
    }
   ],
   "source": [
    "hist(4.0)"
   ]
  },
  {
   "cell_type": "markdown",
   "id": "4f6c7454",
   "metadata": {},
   "source": [
    "A `Hist` object has an attribute called `qs` that returns an array of quantities."
   ]
  },
  {
   "cell_type": "code",
   "execution_count": 11,
   "id": "800a81bc",
   "metadata": {},
   "outputs": [
    {
     "data": {
      "text/plain": [
       "array([1., 2., 3., 5.])"
      ]
     },
     "execution_count": 11,
     "metadata": {},
     "output_type": "execute_result"
    }
   ],
   "source": [
    "hist.qs"
   ]
  },
  {
   "cell_type": "markdown",
   "id": "6ea6cf48",
   "metadata": {},
   "source": [
    "And an attribute called `ps` that returns an array of frequencies."
   ]
  },
  {
   "cell_type": "code",
   "execution_count": 12,
   "id": "51efc825",
   "metadata": {},
   "outputs": [
    {
     "data": {
      "text/plain": [
       "array([1, 2, 1, 1])"
      ]
     },
     "execution_count": 12,
     "metadata": {},
     "output_type": "execute_result"
    }
   ],
   "source": [
    "hist.ps"
   ]
  },
  {
   "cell_type": "markdown",
   "id": "7cef9cc4",
   "metadata": {},
   "source": [
    "We can use `items` to loop through quantity-frequency pairs:"
   ]
  },
  {
   "cell_type": "code",
   "execution_count": 13,
   "id": "631f0d3e",
   "metadata": {},
   "outputs": [
    {
     "name": "stdout",
     "output_type": "stream",
     "text": [
      "1.0 1\n",
      "2.0 2\n",
      "3.0 1\n",
      "5.0 1\n"
     ]
    }
   ],
   "source": [
    "for x, freq in hist.items():\n",
    "    print(x, freq)"
   ]
  },
  {
   "cell_type": "markdown",
   "id": "ead5ffcd",
   "metadata": {},
   "source": [
    "We'll see more methods as we go along."
   ]
  },
  {
   "cell_type": "markdown",
   "id": "f3aa1263",
   "metadata": {},
   "source": [
    "## NSFG Distributions\n",
    "\n",
    "When you start working with a new dataset, I suggest you explore the variables you are planning to use one at a time, and a good way to start is by looking at histograms.\n",
    "\n",
    "As an example, let's look at the NSFG data.\n",
    "The code we used to clean and validate this data is in a module called `nsfg.py`\n",
    "\n",
    "Instructions for downloading the data are in the notebook for this chapter."
   ]
  },
  {
   "cell_type": "markdown",
   "id": "e6eac5b4",
   "metadata": {
    "tags": [
     "remove-print"
    ]
   },
   "source": [
    "The following cells download the data files and install `statadict`, which we need to read the data."
   ]
  },
  {
   "cell_type": "code",
   "execution_count": 14,
   "id": "c77ab1f0",
   "metadata": {
    "tags": [
     "remove-print"
    ]
   },
   "outputs": [],
   "source": [
    "try:\n",
    "    import statadict\n",
    "except ImportError:\n",
    "    !pip install statadict"
   ]
  },
  {
   "cell_type": "code",
   "execution_count": 15,
   "id": "2bbaa48e",
   "metadata": {
    "tags": [
     "remove-print"
    ]
   },
   "outputs": [],
   "source": [
    "download(\"https://github.com/AllenDowney/ThinkStats/raw/v3/nb/nsfg.py\")\n",
    "download(\"https://github.com/AllenDowney/ThinkStats/raw/v3/data/2002FemPreg.dct\")\n",
    "download(\"https://github.com/AllenDowney/ThinkStats/raw/v3/data/2002FemPreg.dat.gz\")"
   ]
  },
  {
   "cell_type": "markdown",
   "id": "339cae3d",
   "metadata": {},
   "source": [
    "We can import it and read the pregnancy file like this."
   ]
  },
  {
   "cell_type": "code",
   "execution_count": 16,
   "id": "d3fe7a84",
   "metadata": {},
   "outputs": [],
   "source": [
    "from nsfg import read_fem_preg\n",
    "\n",
    "preg = read_fem_preg()"
   ]
  },
  {
   "cell_type": "markdown",
   "id": "5e3f1a6a",
   "metadata": {},
   "source": [
    "For the examples in this chapter, we'll focus on pregnancies that ended in live birth.\n",
    "We can use the `query` method to select the rows where `outcome` is 1."
   ]
  },
  {
   "cell_type": "code",
   "execution_count": 17,
   "id": "32e122bf",
   "metadata": {},
   "outputs": [],
   "source": [
    "live = preg.query(\"outcome == 1\")"
   ]
  },
  {
   "cell_type": "markdown",
   "id": "cd02a26b",
   "metadata": {},
   "source": [
    "We can use `Hist.from_seq` to count the number of times each quantity appears in `birthwgt_lb`, which is the pounds part of the birth weights."
   ]
  },
  {
   "cell_type": "code",
   "execution_count": 18,
   "id": "48342667",
   "metadata": {},
   "outputs": [],
   "source": [
    "hist = Hist.from_seq(live[\"birthwgt_lb\"], name=\"birthwgt_lb\")"
   ]
  },
  {
   "cell_type": "markdown",
   "id": "1b79be72",
   "metadata": {},
   "source": [
    "Here's what the distribution looks like."
   ]
  },
  {
   "cell_type": "code",
   "execution_count": 19,
   "id": "114aec3c",
   "metadata": {},
   "outputs": [
    {
     "data": {
      "image/png": "[encoded data removed]",
      "text/plain": [
       "<Figure size 450x262.5 with 1 Axes>"
      ]
     },
     "metadata": {},
     "output_type": "display_data"
    }
   ],
   "source": [
    "hist.bar()\n",
    "decorate(xlabel=\"pounds\", ylabel=\"frequency\")"
   ]
  },
  {
   "cell_type": "markdown",
   "id": "e8f04b3a",
   "metadata": {},
   "source": [
    "Looking at a distribution like this, the first thing we notice is the shape, which resembles the famous bell curve, more formally called a normal distribution or a Gaussian distribution.\n",
    "But unlike a normal distribution, it is not symmetric -- the tail extends farther left than right.\n",
    "A distribution with this shape is said to be **skewed** to the left.\n",
    "\n",
    "The other notable feature of the distribution is the **mode**, which is the most common value.\n",
    "To find the mode, we can use the method `idxmax`, which find the quantity associated with the highest frequency."
   ]
  },
  {
   "cell_type": "code",
   "execution_count": 20,
   "id": "caba970d",
   "metadata": {},
   "outputs": [
    {
     "data": {
      "text/plain": [
       "7.0"
      ]
     },
     "execution_count": 20,
     "metadata": {},
     "output_type": "execute_result"
    }
   ],
   "source": [
    "hist.idxmax()"
   ]
  },
  {
   "cell_type": "markdown",
   "id": "6946f411",
   "metadata": {},
   "source": [
    "`Hist` provides a method called `mode` that does the same thing."
   ]
  },
  {
   "cell_type": "code",
   "execution_count": 21,
   "id": "ba3b2280",
   "metadata": {},
   "outputs": [
    {
     "data": {
      "text/plain": [
       "7.0"
      ]
     },
     "execution_count": 21,
     "metadata": {},
     "output_type": "execute_result"
    }
   ],
   "source": [
    "hist.mode()"
   ]
  },
  {
   "cell_type": "markdown",
   "id": "f98067b9",
   "metadata": {},
   "source": [
    "In this distribution, the mode is at 7 pounds.\n",
    "\n",
    "As another example, here's the histogram of `birthwgt_oz`, which is the ounces part of birth weight."
   ]
  },
  {
   "cell_type": "code",
   "execution_count": 22,
   "id": "70fbced6",
   "metadata": {},
   "outputs": [
    {
     "data": {
      "image/png": "[encoded data removed]",
      "text/plain": [
       "<Figure size 450x262.5 with 1 Axes>"
      ]
     },
     "metadata": {},
     "output_type": "display_data"
    }
   ],
   "source": [
    "hist = Hist.from_seq(live[\"birthwgt_oz\"], name=\"birthwgt_oz\")\n",
    "hist.bar()\n",
    "decorate(xlabel=\"ounces\", ylabel=\"frequency\")"
   ]
  },
  {
   "cell_type": "markdown",
   "id": "c3c93c85",
   "metadata": {},
   "source": [
    "In theory we expect this distribution to be **uniform** -- that is, all quantities should have the same frequency.\n",
    "In fact, 0 is more common than the other quantities, and 1 and 15 are less common, probably because respondents round off birth weights that are close to a whole number of pounds."
   ]
  },
  {
   "cell_type": "markdown",
   "id": "fe115047",
   "metadata": {},
   "source": [
    "As another example, let's look at the histogram of `agepreg`, which is the mother's age at the end of pregnancy."
   ]
  },
  {
   "cell_type": "code",
   "execution_count": 23,
   "id": "6acf262e",
   "metadata": {},
   "outputs": [],
   "source": [
    "hist = Hist.from_seq(live[\"agepreg\"], name=\"agepreg\")"
   ]
  },
  {
   "cell_type": "markdown",
   "id": "0786446c",
   "metadata": {},
   "source": [
    "In the NSFG, age is reported in centiyears, so there are more unique values than in the other distributions we've looked at.\n",
    "For that reason, we'll pass `width=0.1` as a keyword argument to the `bar` method, which adjusts the width of the bars so they don't overlap too much."
   ]
  },
  {
   "cell_type": "code",
   "execution_count": 24,
   "id": "c2655abf",
   "metadata": {},
   "outputs": [
    {
     "data": {
      "image/png": "[encoded data removed]",
      "text/plain": [
       "<Figure size 450x262.5 with 1 Axes>"
      ]
     },
     "metadata": {},
     "output_type": "display_data"
    }
   ],
   "source": [
    "hist.bar(width=0.1)\n",
    "decorate(xlabel=\"age\", ylabel=\"frequency\")"
   ]
  },
  {
   "cell_type": "markdown",
   "id": "8f5b352c",
   "metadata": {},
   "source": [
    "The peak of the distribution is between ages 20 and 25, but there is no clear mode at a specific age.\n",
    "The distribution is very roughly bell-shaped, but it is skewed to the right -- that is, the tail extends farther right than left.\n",
    "\n",
    "Finally, let's look at the histogram of `prglngth`, which is the length of the pregnancy in weeks.\n",
    "The `xlim` argument sets the limit of the x-axis to the range from 20 to 50 weeks -- there are few values outside this range, and they are probably errors."
   ]
  },
  {
   "cell_type": "code",
   "execution_count": 25,
   "id": "4be5468c",
   "metadata": {},
   "outputs": [
    {
     "data": {
      "image/png": "[encoded data removed]",
      "text/plain": [
       "<Figure size 450x262.5 with 1 Axes>"
      ]
     },
     "metadata": {},
     "output_type": "display_data"
    }
   ],
   "source": [
    "hist = Hist.from_seq(live[\"prglngth\"], name=\"prglngth\")\n",
    "hist.bar()\n",
    "decorate(xlabel=\"weeks\", ylabel=\"frequency\", xlim=[20, 50])"
   ]
  },
  {
   "cell_type": "markdown",
   "id": "c536d409",
   "metadata": {},
   "source": [
    "By far the most common quantity is 39 weeks.\n",
    "The left tail is longer than the right -- early babies are common, but pregnancies seldom go past 43 weeks, and doctors often intervene if they do."
   ]
  },
  {
   "cell_type": "markdown",
   "id": "c742286d",
   "metadata": {},
   "source": [
    "## Outliers\n",
    "\n",
    "Looking at histograms, it is easy to identify the shape of the distribution and the most common quantities, but rare quantities are not always visible.\n",
    "Before going on, it is a good idea to check for **outliers**, which are extreme quantities that might be errors in measurement and recording, or might be accurate reports of rare events.\n",
    "\n",
    "To identify outliers, the following function takes a `Hist` object and an integer `n`, and uses a slice index to select the `n` smallest quantities and their frequencies."
   ]
  },
  {
   "cell_type": "code",
   "execution_count": 26,
   "id": "205cad0e",
   "metadata": {},
   "outputs": [],
   "source": [
    "def smallest(hist, n=10):\n",
    "    return hist[:n]"
   ]
  },
  {
   "cell_type": "markdown",
   "id": "2787b9b7",
   "metadata": {},
   "source": [
    "In the histogram of `prglngth`, here are the 10 smallest values."
   ]
  },
  {
   "cell_type": "code",
   "execution_count": 27,
   "id": "aa9cc34c",
   "metadata": {},
   "outputs": [
    {
     "data": {
      "text/plain": [
       "prglngth\n",
       "0     1\n",
       "4     1\n",
       "9     1\n",
       "13    1\n",
       "17    2\n",
       "18    1\n",
       "19    1\n",
       "20    1\n",
       "21    2\n",
       "22    7\n",
       "Name: prglngth, dtype: int64"
      ]
     },
     "execution_count": 27,
     "metadata": {},
     "output_type": "execute_result"
    }
   ],
   "source": [
    "smallest(hist)"
   ]
  },
  {
   "cell_type": "markdown",
   "id": "8d0885b6",
   "metadata": {},
   "source": [
    "Since we selected the rows for live births, pregnancy lengths less than 10 weeks are certainly errors.\n",
    "The most likely explanation is that the outcome was not coded correctly.\n",
    "Lengths higher than 30 weeks are probably legitimate.\n",
    "Between 10 and 30 weeks, it is hard to be sure -- some quantities are probably errors, but some correctly record preterm births.\n",
    "\n",
    "The following function selects the largest values from a `Hist` object."
   ]
  },
  {
   "cell_type": "code",
   "execution_count": 28,
   "id": "f6c279f3",
   "metadata": {},
   "outputs": [],
   "source": [
    "def largest(hist, n=10):\n",
    "    return hist[-n:]"
   ]
  },
  {
   "cell_type": "markdown",
   "id": "6c788726",
   "metadata": {},
   "source": [
    "Here are the longest pregnancy lengths in the dataset."
   ]
  },
  {
   "cell_type": "code",
   "execution_count": 29,
   "id": "79ab04ed",
   "metadata": {},
   "outputs": [
    {
     "data": {
      "text/plain": [
       "prglngth\n",
       "40    1116\n",
       "41     587\n",
       "42     328\n",
       "43     148\n",
       "44      46\n",
       "45      10\n",
       "46       1\n",
       "47       1\n",
       "48       7\n",
       "50       2\n",
       "Name: prglngth, dtype: int64"
      ]
     },
     "execution_count": 29,
     "metadata": {},
     "output_type": "execute_result"
    }
   ],
   "source": [
    "largest(hist)"
   ]
  },
  {
   "cell_type": "markdown",
   "id": "532bed4a",
   "metadata": {},
   "source": [
    "Some of these values are probably errors.\n",
    "Most doctors recommend induced labor if a pregnancy exceeds 41 weeks, so 50 weeks seems unlikely to be correct.\n",
    "But there is no clear line between values that are certainly errors and values that might be correct reports of rare events.\n",
    "\n",
    "The best way to handle outliers depends on \"domain knowledge\" -- that is, information about where the data come from and what they mean.\n",
    "And it depends on what analysis you are planning to perform.\n",
    "\n",
    "In this example, the motivating question is whether first babies tend to be earlier or later than other babies.\n",
    "So we'll try to use statistics that will not be thrown off too much by errors."
   ]
  },
  {
   "cell_type": "markdown",
   "id": "ed8019a0",
   "metadata": {},
   "source": [
    "## First Babies\n",
    "\n",
    "Now we can compare the distribution of pregnancy lengths for first babies and others.\n",
    "We can use the `query` method to select rows that represent first babies and others."
   ]
  },
  {
   "cell_type": "code",
   "execution_count": 30,
   "id": "0769cfcb",
   "metadata": {},
   "outputs": [],
   "source": [
    "firsts = live.query(\"birthord == 1\")\n",
    "others = live.query(\"birthord != 1\")"
   ]
  },
  {
   "cell_type": "markdown",
   "id": "c75165a9",
   "metadata": {},
   "source": [
    "And make a `Hist` of pregnancy lengths for each group."
   ]
  },
  {
   "cell_type": "code",
   "execution_count": 31,
   "id": "cc216b31",
   "metadata": {},
   "outputs": [],
   "source": [
    "first_hist = Hist.from_seq(firsts[\"prglngth\"], name=\"firsts\")\n",
    "other_hist = Hist.from_seq(others[\"prglngth\"], name=\"others\")"
   ]
  },
  {
   "cell_type": "markdown",
   "id": "15a52e24",
   "metadata": {},
   "source": [
    "The following function plots two histograms side-by-side."
   ]
  },
  {
   "cell_type": "code",
   "execution_count": 32,
   "id": "bf917d19",
   "metadata": {},
   "outputs": [],
   "source": [
    "def two_bar_plots(hist1, hist2, width=0.45, **options):\n",
    "    \"\"\"Makes two back-to-back bar plots.\n",
    "\n",
    "    hist1: Hist object\n",
    "    hist2: Hist object\n",
    "    width: width of the bars\n",
    "    options: passed along to plt.bar\n",
    "    \"\"\"\n",
    "    hist1.bar(align=\"edge\", width=-width, **options)\n",
    "    hist2.bar(align=\"edge\", width=width, **options)"
   ]
  },
  {
   "cell_type": "markdown",
   "id": "8c462305",
   "metadata": {},
   "source": [
    "Here's what they look like."
   ]
  },
  {
   "cell_type": "code",
   "execution_count": 33,
   "id": "feecd113",
   "metadata": {},
   "outputs": [
    {
     "data": {
      "image/png": "[encoded data removed]",
      "text/plain": [
       "<Figure size 450x262.5 with 1 Axes>"
      ]
     },
     "metadata": {},
     "output_type": "display_data"
    }
   ],
   "source": [
    "two_bar_plots(first_hist, other_hist)\n",
    "decorate(xlabel=\"weeks\", ylabel=\"probability\", xlim=[20, 50])"
   ]
  },
  {
   "cell_type": "markdown",
   "id": "40217ecf",
   "metadata": {},
   "source": [
    "There is no obvious difference in the shape of the distributions or in the outliers.\n",
    "It looks like more of the non-first babies are born during week 39, but there are more non-first babies in the dataset, so we should not compare the counts directly."
   ]
  },
  {
   "cell_type": "code",
   "execution_count": 34,
   "id": "1034565e",
   "metadata": {},
   "outputs": [
    {
     "data": {
      "text/plain": [
       "(4413, 4735)"
      ]
     },
     "execution_count": 34,
     "metadata": {},
     "output_type": "execute_result"
    }
   ],
   "source": [
    "firsts[\"prglngth\"].count(), others[\"prglngth\"].count()"
   ]
  },
  {
   "cell_type": "markdown",
   "id": "18635f9f",
   "metadata": {},
   "source": [
    "Comparing the means of the distributions, it looks like first babies are a little bit later on average."
   ]
  },
  {
   "cell_type": "code",
   "execution_count": 35,
   "id": "3c2861b7",
   "metadata": {},
   "outputs": [
    {
     "data": {
      "text/plain": [
       "(38.60095173351461, 38.52291446673706)"
      ]
     },
     "execution_count": 35,
     "metadata": {},
     "output_type": "execute_result"
    }
   ],
   "source": [
    "first_mean = firsts[\"prglngth\"].mean()\n",
    "other_mean = others[\"prglngth\"].mean()\n",
    "first_mean, other_mean"
   ]
  },
  {
   "cell_type": "markdown",
   "id": "e5891501",
   "metadata": {},
   "source": [
    "But the difference is only 0.078 weeks, which is about 13 hours."
   ]
  },
  {
   "cell_type": "code",
   "execution_count": 36,
   "id": "d5a1b8d1",
   "metadata": {},
   "outputs": [
    {
     "data": {
      "text/plain": [
       "0.07803726677754952"
      ]
     },
     "execution_count": 36,
     "metadata": {},
     "output_type": "execute_result"
    }
   ],
   "source": [
    "diff = first_mean - other_mean\n",
    "diff"
   ]
  },
  {
   "cell_type": "code",
   "execution_count": 37,
   "id": "8be38f09",
   "metadata": {},
   "outputs": [
    {
     "data": {
      "text/plain": [
       "13.11026081862832"
      ]
     },
     "execution_count": 37,
     "metadata": {},
     "output_type": "execute_result"
    }
   ],
   "source": [
    "diff * 7 * 24"
   ]
  },
  {
   "cell_type": "markdown",
   "id": "4a3a536f",
   "metadata": {},
   "source": [
    "Now, there are three possible implications of this apparent difference:\n",
    "\n",
    "* There might be a consistent difference in pregnancy length between first babies and others.\n",
    "\n",
    "* The apparent difference we see in this dataset might be the result of some other difference between first babies and others.\n",
    "\n",
    "* The apparent difference might be the result of random variation between the two groups.\n",
    "\n",
    "In later chapters, we will consider these possible explanations more carefully, but for now we will take this result at face value: in this dataset, there is a small difference in pregnancy length between these groups."
   ]
  },
  {
   "cell_type": "markdown",
   "id": "dcd38712",
   "metadata": {},
   "source": [
    "## Effect Size\n",
    "\n",
    "A difference like this is sometimes called an \"effect\".\n",
    "There are several ways to quantify the magnitude of an effect.\n",
    "The simplest is to report the difference in absolute terms -- in this example, the difference is 0.78 weeks.\n",
    "\n",
    "Another is to report the difference in relative terms.\n",
    "For example, we might say that first pregnancies are 0.2% longer than others, on average."
   ]
  },
  {
   "cell_type": "code",
   "execution_count": 38,
   "id": "5350ffef",
   "metadata": {},
   "outputs": [
    {
     "data": {
      "text/plain": [
       "0.20257363145493953"
      ]
     },
     "execution_count": 38,
     "metadata": {},
     "output_type": "execute_result"
    }
   ],
   "source": [
    "diff / other_mean * 100"
   ]
  },
  {
   "cell_type": "markdown",
   "id": "3b656e71",
   "metadata": {},
   "source": [
    "One other option is a **standardized** effect size which is a statistic intended to quantify the size of an effect in a way that is comparable between different quantities and different groups.\n",
    "\n",
    "Standardizing means we express the difference as a multiple of the standard deviation.\n",
    "So we might be tempted to write something like this."
   ]
  },
  {
   "cell_type": "code",
   "execution_count": 39,
   "id": "36c39f37",
   "metadata": {},
   "outputs": [
    {
     "data": {
      "text/plain": [
       "0.028877623375210403"
      ]
     },
     "execution_count": 39,
     "metadata": {},
     "output_type": "execute_result"
    }
   ],
   "source": [
    "diff / live[\"prglngth\"].std()"
   ]
  },
  {
   "cell_type": "markdown",
   "id": "09162cf0",
   "metadata": {},
   "source": [
    "But notice that we used both groups to compute the standard deviation.\n",
    "If the groups are substantially different, the standard deviation when we put them together is larger than in either group, which might make the effect size seem small.\n",
    "\n",
    "An alternative is to use the standard deviation of just one group, but it's not clear which. So the next idea might be to take the average of the two standard deviations, but if the groups are different sizes, that might give more weight to one group than it should get.\n",
    "\n",
    "One solution is to use **pooled standard deviation**, which is the square root of pooled variance, which is the weighted sum of the variances in the groups.\n",
    "To compute it, we'll start with the variances."
   ]
  },
  {
   "cell_type": "code",
   "execution_count": 40,
   "id": "7020bf5a",
   "metadata": {},
   "outputs": [],
   "source": [
    "group1, group2 = firsts[\"prglngth\"], others[\"prglngth\"]"
   ]
  },
  {
   "cell_type": "code",
   "execution_count": 41,
   "id": "2f2b5b4e",
   "metadata": {},
   "outputs": [],
   "source": [
    "v1, v2 = group1.var(), group2.var()"
   ]
  },
  {
   "cell_type": "markdown",
   "id": "3d92b828",
   "metadata": {},
   "source": [
    "And here is the weighted sum, with the group sizes as weights."
   ]
  },
  {
   "cell_type": "code",
   "execution_count": 42,
   "id": "abc6ca74",
   "metadata": {},
   "outputs": [],
   "source": [
    "n1, n2 = group1.count(), group2.count()\n",
    "pooled_var = (n1 * v1 + n2 * v2) / (n1 + n2)"
   ]
  },
  {
   "cell_type": "markdown",
   "id": "a533d4ef",
   "metadata": {},
   "source": [
    "Finally, here is the pooled standard deviation."
   ]
  },
  {
   "cell_type": "code",
   "execution_count": 43,
   "id": "03fe9601",
   "metadata": {},
   "outputs": [
    {
     "data": {
      "text/plain": [
       "2.7022108144953862"
      ]
     },
     "execution_count": 43,
     "metadata": {},
     "output_type": "execute_result"
    }
   ],
   "source": [
    "np.sqrt(pooled_var)"
   ]
  },
  {
   "cell_type": "markdown",
   "id": "ea8df9c2",
   "metadata": {},
   "source": [
    "The pooled standard deviation is between the standard deviations of the groups."
   ]
  },
  {
   "cell_type": "code",
   "execution_count": 44,
   "id": "b36d6897",
   "metadata": {},
   "outputs": [
    {
     "data": {
      "text/plain": [
       "(2.7919014146687204, 2.6158523504392375)"
      ]
     },
     "execution_count": 44,
     "metadata": {},
     "output_type": "execute_result"
    }
   ],
   "source": [
    "firsts[\"prglngth\"].std(), others[\"prglngth\"].std()"
   ]
  },
  {
   "cell_type": "markdown",
   "id": "72c5526f",
   "metadata": {},
   "source": [
    "A standardized effect size that uses pooled standard deviation is called Cohen's effect size. Here's a function that computes it."
   ]
  },
  {
   "cell_type": "code",
   "execution_count": 45,
   "id": "0cecadaa",
   "metadata": {},
   "outputs": [],
   "source": [
    "def cohen_effect_size(group1, group2):\n",
    "    \"\"\"Computes Cohen's effect size for two groups.\n",
    "\n",
    "    group1: Series\n",
    "    group2: Series\n",
    "\n",
    "    returns: float\n",
    "    \"\"\"\n",
    "    diff = group1.mean() - group2.mean()\n",
    "\n",
    "    v1, v2 = group1.var(), group2.var()\n",
    "    n1, n2 = group1.count(), group2.count()\n",
    "    pooled_var = (n1 * v1 + n2 * v2) / (n1 + n2)\n",
    "\n",
    "    return diff / np.sqrt(pooled_var)"
   ]
  },
  {
   "cell_type": "markdown",
   "id": "77d764af",
   "metadata": {},
   "source": [
    "And here's the effect size for the difference in mean pregnancy lengths."
   ]
  },
  {
   "cell_type": "code",
   "execution_count": 46,
   "id": "e6e19a82",
   "metadata": {},
   "outputs": [
    {
     "data": {
      "text/plain": [
       "0.028879044654449834"
      ]
     },
     "execution_count": 46,
     "metadata": {},
     "output_type": "execute_result"
    }
   ],
   "source": [
    "cohen_effect_size(firsts[\"prglngth\"], others[\"prglngth\"])"
   ]
  },
  {
   "cell_type": "markdown",
   "id": "bd8c1b97",
   "metadata": {},
   "source": [
    "In this example, the difference is 0.029 standard deviations, which is small.\n",
    "To put that in perspective, the difference in height between men and women is about 1.7 standard deviations."
   ]
  },
  {
   "cell_type": "markdown",
   "id": "73d554e6",
   "metadata": {},
   "source": [
    "## Reporting results\n",
    "\n",
    "We have seen several ways to describe the difference in pregnancy length (if there is one) between first babies and others.\n",
    "How should we report these results?\n",
    "\n",
    "The answer depends on who is asking the question.\n",
    "A scientist might be interested in any (real) effect, no matter how small.\n",
    "A doctor might only care about effects that are **clinically significant** -- that is, differences that affect treatment decisions.\n",
    "A pregnant woman might be interested in results that are relevant to her, like the probability of delivering early or late.\n",
    "\n",
    "How you report results also depends on your goals.\n",
    "If you are trying to demonstrate the importance of an effect, you might choose summary statistics that emphasize differences.\n",
    "If you are trying to reassure a patient, you might choose statistics that put the differences in context.\n",
    "\n",
    "Of course your decisions should also be guided by professional ethics.\n",
    "It's OK to be persuasive -- you *should* design statistical reports and visualizations that tell a story clearly.\n",
    "But you should also do your best to make your reports honest, and to acknowledge uncertainty and limitations."
   ]
  },
  {
   "cell_type": "markdown",
   "id": "9d070d5e",
   "metadata": {},
   "source": [
    "## Glossary\n",
    "\n",
    "-   **distribution**: The quantities that appear in a sample and the frequency of each.\n",
    "\n",
    "-   **histogram**: A mapping from quantities to frequencies, or a graph that shows this mapping.\n",
    "\n",
    "-   **frequency**: The number of times a quantity appears in a sample.\n",
    "\n",
    "-   **mode**: The most frequent quantity in a sample, or one of the most frequent quantities.\n",
    "\n",
    "-   **normal distribution**: An idealization of a bell-shaped distribution; also known as a Gaussian distribution.\n",
    "\n",
    "-   **uniform distribution**: A distribution in which all quantities have the same frequency.\n",
    "\n",
    "-   **tail**: The part of a distribution at the high and low extremes.\n",
    "\n",
    "-   **central tendency**: A characteristic of a sample or population; intuitively, it is an average or typical quantity.\n",
    "\n",
    "-   **outlier**: A quantity far from the central tendency.\n",
    "\n",
    "-   **spread**: A measure of how spread out the quantities in a distribution are.\n",
    "\n",
    "-   **summary statistic**: A statistic that quantifies some aspect of a distribution, like central tendency or spread.\n",
    "\n",
    "-   **variance**: A summary statistic often used to quantify spread.\n",
    "\n",
    "-   **standard deviation**: The square root of variance, also used as a measure of spread.\n",
    "\n",
    "-   **effect size**: A summary statistic intended to quantify the size of an effect like a difference between groups.\n",
    "\n",
    "-   **clinically significant**: A result, like a difference between groups, that is relevant in practice."
   ]
  },
  {
   "cell_type": "markdown",
   "id": "65b9f818",
   "metadata": {
    "collapsed": true
   },
   "source": [
    "## Exercises\n",
    "\n",
    "For the exercises in this chapter, we'll load the NSFG respondent file, which contains one row for each respondent."
   ]
  },
  {
   "cell_type": "code",
   "execution_count": 47,
   "id": "6261b596",
   "metadata": {
    "tags": [
     "remove-print"
    ]
   },
   "outputs": [],
   "source": [
    "download(\"https://github.com/AllenDowney/ThinkStats/raw/v3/data/2002FemResp.dct\")\n",
    "download(\"https://github.com/AllenDowney/ThinkStats/raw/v3/data/2002FemResp.dat.gz\")"
   ]
  },
  {
   "cell_type": "markdown",
   "id": "0f0c3861",
   "metadata": {
    "tags": [
     "remove-print"
    ]
   },
   "source": [
    "The codebook for this dataset is at <https://ftp.cdc.gov/pub/Health_Statistics/NCHS/Dataset_Documentation/NSFG/Cycle6Codebook-Female.pdf>."
   ]
  },
  {
   "cell_type": "markdown",
   "id": "624f6acc",
   "metadata": {},
   "source": [
    "The `nsfg.py` module provides a function that reads the respondent file and returns a `DataFrame`."
   ]
  },
  {
   "cell_type": "code",
   "execution_count": 48,
   "id": "6dffc3cb",
   "metadata": {},
   "outputs": [
    {
     "data": {
      "text/plain": [
       "(7643, 3092)"
      ]
     },
     "execution_count": 48,
     "metadata": {},
     "output_type": "execute_result"
    }
   ],
   "source": [
    "from nsfg import read_fem_resp\n",
    "\n",
    "resp = read_fem_resp()\n",
    "resp.shape"
   ]
  },
  {
   "cell_type": "markdown",
   "id": "b00b5a1e",
   "metadata": {},
   "source": [
    "This `DataFrame` contains 3092 columns, but we'll use just a few of them.\n",
    "\n",
    "We'll start with `totincr`, which records the total income for the respondent's family, encoded with a value from 1 to 14.\n",
    "You can read the codebook to see what income level each value represents."
   ]
  },
  {
   "cell_type": "markdown",
   "id": "de2d533c",
   "metadata": {},
   "source": [
    "Make a `Hist` object to represent the distribution of this variable and plot it as a bar chart."
   ]
  },
  {
   "cell_type": "code",
   "execution_count": 49,
   "id": "2c49d30c",
   "metadata": {},
   "outputs": [
    {
     "data": {
      "image/png": "[encoded data removed]",
      "text/plain": [
       "<Figure size 450x262.5 with 1 Axes>"
      ]
     },
     "metadata": {},
     "output_type": "display_data"
    }
   ],
   "source": []
  },
  {
   "cell_type": "markdown",
   "id": "ebe67fc8",
   "metadata": {},
   "source": [
    "**Exercise:** Make a histogram of the `parity` column, which records the number of children each respondent has borne.\n",
    "How would you describe this distribution?"
   ]
  },
  {
   "cell_type": "code",
   "execution_count": 50,
   "id": "e740d764",
   "metadata": {},
   "outputs": [
    {
     "data": {
      "image/png": "[encoded data removed]",
      "text/plain": [
       "<Figure size 450x262.5 with 1 Axes>"
      ]
     },
     "metadata": {},
     "output_type": "display_data"
    }
   ],
   "source": []
  },
  {
   "cell_type": "code",
   "execution_count": 51,
   "id": "b4ffec77",
   "metadata": {},
   "outputs": [],
   "source": [
    "# The distribution is skewed to the right."
   ]
  },
  {
   "cell_type": "markdown",
   "id": "b5180cf3",
   "metadata": {},
   "source": [
    "Use the `largest` function to find the largest values of `parity`.\n",
    "Are there any values you think are errors?"
   ]
  },
  {
   "cell_type": "code",
   "execution_count": 52,
   "id": "a5a1c3ee",
   "metadata": {},
   "outputs": [
    {
     "data": {
      "text/plain": [
       "parity\n",
       "3     828\n",
       "4     309\n",
       "5      95\n",
       "6      29\n",
       "7      15\n",
       "8       8\n",
       "9       2\n",
       "10      3\n",
       "16      1\n",
       "22      1\n",
       "Name: parity, dtype: int64"
      ]
     },
     "execution_count": 52,
     "metadata": {},
     "output_type": "execute_result"
    }
   ],
   "source": []
  },
  {
   "cell_type": "markdown",
   "id": "0b7de721",
   "metadata": {},
   "source": [
    "**Exercise:** Let's investigate whether people with higher income bear more children.\n",
    "\n",
    "Use the query method to select the respondents with the highest income (level 14).\n",
    "Plot the histogram of `parity` for just the high income respondents."
   ]
  },
  {
   "cell_type": "code",
   "execution_count": 53,
   "id": "8e3ce887",
   "metadata": {},
   "outputs": [
    {
     "data": {
      "image/png": "[encoded data removed]",
      "text/plain": [
       "<Figure size 450x262.5 with 1 Axes>"
      ]
     },
     "metadata": {},
     "output_type": "display_data"
    }
   ],
   "source": []
  },
  {
   "cell_type": "markdown",
   "id": "b1c9b431",
   "metadata": {},
   "source": [
    "Compare the mean `parity` for high income respondents and others."
   ]
  },
  {
   "cell_type": "code",
   "execution_count": 54,
   "id": "9a3f1210",
   "metadata": {},
   "outputs": [
    {
     "data": {
      "text/plain": [
       "(1.0758620689655172, 1.2495758136665125)"
      ]
     },
     "execution_count": 54,
     "metadata": {},
     "output_type": "execute_result"
    }
   ],
   "source": []
  },
  {
   "cell_type": "markdown",
   "id": "fbf95bb5",
   "metadata": {},
   "source": [
    "Compute the Cohen effect size for this difference.\n",
    "How does it compare with the difference in pregnancy length for first babies and others?"
   ]
  },
  {
   "cell_type": "code",
   "execution_count": 55,
   "id": "91b96d39",
   "metadata": {},
   "outputs": [
    {
     "data": {
      "text/plain": [
       "-0.12511855314660367"
      ]
     },
     "execution_count": 55,
     "metadata": {},
     "output_type": "execute_result"
    }
   ],
   "source": []
  },
  {
   "cell_type": "markdown",
   "id": "0e29d464",
   "metadata": {},
   "source": [
    "Do these results show that people with higher income have more children, or can you think of another explanation for the apparent difference?"
   ]
  },
  {
   "cell_type": "code",
   "execution_count": 56,
   "id": "0844b1b3",
   "metadata": {},
   "outputs": [],
   "source": [
    "# The NSFG inteviews respondents at a range of ages.\n",
    "# The older respondents are likely to have higher incomes,\n",
    "# and also more likely to have borne more children.\n",
    "\n",
    "# To check whether people with higher income have more\n",
    "# children, we need to compare people at the same ages."
   ]
  },
  {
   "cell_type": "code",
   "execution_count": null,
   "id": "72605520",
   "metadata": {},
   "outputs": [],
   "source": []
  },
  {
   "cell_type": "markdown",
   "id": "e27da3a4",
   "metadata": {
    "tags": []
   },
   "source": [
    "[Think Stats: Exploratory Data Analysis in Python, 3rd Edition](https://allendowney.github.io/ThinkStats/index.html)\n",
    "\n",
    "Copyright 2024 [Allen B. Downey](https://allendowney.com)\n",
    "\n",
    "Code license: [MIT License](https://mit-license.org/)\n",
    "\n",
    "Text license: [Creative Commons Attribution-NonCommercial-ShareAlike 4.0 International](https://creativecommons.org/licenses/by-nc-sa/4.0/)"
   ]
  }
 ],
 "metadata": {
  "celltoolbar": "Tags",
  "kernelspec": {
   "display_name": "Python 3 (ipykernel)",
   "language": "python",
   "name": "python3"
  },
  "language_info": {
   "codemirror_mode": {
    "name": "ipython",
    "version": 3
   },
   "file_extension": ".py",
   "mimetype": "text/x-python",
   "name": "python",
   "nbconvert_exporter": "python",
   "pygments_lexer": "ipython3",
   "version": "3.10.14"
  }
 },
 "nbformat": 4,
 "nbformat_minor": 5
}
