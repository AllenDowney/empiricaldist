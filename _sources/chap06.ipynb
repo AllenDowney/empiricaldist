{
 "cells": [
  {
   "cell_type": "markdown",
   "id": "83a7c13a",
   "metadata": {},
   "source": [
    "# Probability Density Functions\n",
    "\n",
    "In the previous chapter, we modeled empirical distributions with theoretical distributions including the binomial, Poisson, exponential, and normal distributions.\n",
    "\n",
    "The binomial and Poisson distributions are **discrete**, which means that the outcomes have to be distinct or separate elements, like an integer number of hits and misses, or goals scored.\n",
    "In a discrete distribution, each outcome is associated with a probability mass.\n",
    "\n",
    "The exponential and normal distribution are **continuous**, which means the outcomes can be locations on a spectrum -- like a wavelength -- or ratios -- like height and weight, which are ratios relative to their units of measure.\n",
    "In a discrete distribution, each outcome is associated with a **probability density**.\n",
    "To understand probability density, let's start by comparing distributions."
   ]
  },
  {
   "cell_type": "markdown",
   "id": "b2c77a2e",
   "metadata": {
    "tags": [
     "remove-print"
    ]
   },
   "source": [
    "[Click here to run this notebook on Colab](https://colab.research.google.com/github/AllenDowney/ThinkStats/blob/v3/nb/chap06.ipynb)."
   ]
  },
  {
   "cell_type": "code",
   "execution_count": 1,
   "id": "c252c784",
   "metadata": {
    "tags": [
     "remove-cell",
     "remove-print",
     "hide-cell"
    ]
   },
   "outputs": [
    {
     "data": {
      "application/javascript": [
       "\n",
       "            setTimeout(function() {\n",
       "                var nbb_cell_id = 1;\n",
       "                var nbb_unformatted_code = \"%load_ext nb_black\\n%load_ext autoreload\\n%autoreload 2\";\n",
       "                var nbb_formatted_code = \"%load_ext nb_black\\n%load_ext autoreload\\n%autoreload 2\";\n",
       "                var nbb_cells = Jupyter.notebook.get_cells();\n",
       "                for (var i = 0; i < nbb_cells.length; ++i) {\n",
       "                    if (nbb_cells[i].input_prompt_number == nbb_cell_id) {\n",
       "                        if (nbb_cells[i].get_text() == nbb_unformatted_code) {\n",
       "                             nbb_cells[i].set_text(nbb_formatted_code);\n",
       "                        }\n",
       "                        break;\n",
       "                    }\n",
       "                }\n",
       "            }, 500);\n",
       "            "
      ],
      "text/plain": [
       "<IPython.core.display.Javascript object>"
      ]
     },
     "metadata": {},
     "output_type": "display_data"
    }
   ],
   "source": [
    "%load_ext nb_black\n",
    "%load_ext autoreload\n",
    "%autoreload 2"
   ]
  },
  {
   "cell_type": "code",
   "execution_count": 2,
   "id": "79f64f53",
   "metadata": {
    "tags": [
     "remove-print",
     "hide-cell"
    ]
   },
   "outputs": [
    {
     "data": {
      "application/javascript": [
       "\n",
       "            setTimeout(function() {\n",
       "                var nbb_cell_id = 2;\n",
       "                var nbb_unformatted_code = \"from os.path import basename, exists\\n\\n\\ndef download(url):\\n    filename = basename(url)\\n    if not exists(filename):\\n        from urllib.request import urlretrieve\\n\\n        local, _ = urlretrieve(url, filename)\\n        print(\\\"Downloaded \\\" + local)\\n\\n\\ndownload(\\\"https://github.com/AllenDowney/ThinkStats/raw/v3/nb/thinkstats.py\\\")\";\n",
       "                var nbb_formatted_code = \"from os.path import basename, exists\\n\\n\\ndef download(url):\\n    filename = basename(url)\\n    if not exists(filename):\\n        from urllib.request import urlretrieve\\n\\n        local, _ = urlretrieve(url, filename)\\n        print(\\\"Downloaded \\\" + local)\\n\\n\\ndownload(\\\"https://github.com/AllenDowney/ThinkStats/raw/v3/nb/thinkstats.py\\\")\";\n",
       "                var nbb_cells = Jupyter.notebook.get_cells();\n",
       "                for (var i = 0; i < nbb_cells.length; ++i) {\n",
       "                    if (nbb_cells[i].input_prompt_number == nbb_cell_id) {\n",
       "                        if (nbb_cells[i].get_text() == nbb_unformatted_code) {\n",
       "                             nbb_cells[i].set_text(nbb_formatted_code);\n",
       "                        }\n",
       "                        break;\n",
       "                    }\n",
       "                }\n",
       "            }, 500);\n",
       "            "
      ],
      "text/plain": [
       "<IPython.core.display.Javascript object>"
      ]
     },
     "metadata": {},
     "output_type": "display_data"
    }
   ],
   "source": [
    "from os.path import basename, exists\n",
    "\n",
    "\n",
    "def download(url):\n",
    "    filename = basename(url)\n",
    "    if not exists(filename):\n",
    "        from urllib.request import urlretrieve\n",
    "\n",
    "        local, _ = urlretrieve(url, filename)\n",
    "        print(\"Downloaded \" + local)\n",
    "\n",
    "\n",
    "download(\"https://github.com/AllenDowney/ThinkStats/raw/v3/nb/thinkstats.py\")"
   ]
  },
  {
   "cell_type": "code",
   "execution_count": 3,
   "id": "3b3d4912",
   "metadata": {
    "tags": [
     "remove-print",
     "hide-cell"
    ]
   },
   "outputs": [
    {
     "data": {
      "application/javascript": [
       "\n",
       "            setTimeout(function() {\n",
       "                var nbb_cell_id = 3;\n",
       "                var nbb_unformatted_code = \"try:\\n    import empiricaldist\\nexcept ImportError:\\n    !pip install empiricaldist\";\n",
       "                var nbb_formatted_code = \"try:\\n    import empiricaldist\\nexcept ImportError:\\n    !pip install empiricaldist\";\n",
       "                var nbb_cells = Jupyter.notebook.get_cells();\n",
       "                for (var i = 0; i < nbb_cells.length; ++i) {\n",
       "                    if (nbb_cells[i].input_prompt_number == nbb_cell_id) {\n",
       "                        if (nbb_cells[i].get_text() == nbb_unformatted_code) {\n",
       "                             nbb_cells[i].set_text(nbb_formatted_code);\n",
       "                        }\n",
       "                        break;\n",
       "                    }\n",
       "                }\n",
       "            }, 500);\n",
       "            "
      ],
      "text/plain": [
       "<IPython.core.display.Javascript object>"
      ]
     },
     "metadata": {},
     "output_type": "display_data"
    }
   ],
   "source": [
    "try:\n",
    "    import empiricaldist\n",
    "except ImportError:\n",
    "    !pip install empiricaldist"
   ]
  },
  {
   "cell_type": "code",
   "execution_count": 4,
   "id": "955f8f40",
   "metadata": {
    "tags": [
     "remove-print",
     "hide-cell"
    ]
   },
   "outputs": [
    {
     "data": {
      "application/javascript": [
       "\n",
       "            setTimeout(function() {\n",
       "                var nbb_cell_id = 4;\n",
       "                var nbb_unformatted_code = \"import numpy as np\\nimport pandas as pd\\nimport matplotlib.pyplot as plt\\n\\nfrom thinkstats import decorate\";\n",
       "                var nbb_formatted_code = \"import numpy as np\\nimport pandas as pd\\nimport matplotlib.pyplot as plt\\n\\nfrom thinkstats import decorate\";\n",
       "                var nbb_cells = Jupyter.notebook.get_cells();\n",
       "                for (var i = 0; i < nbb_cells.length; ++i) {\n",
       "                    if (nbb_cells[i].input_prompt_number == nbb_cell_id) {\n",
       "                        if (nbb_cells[i].get_text() == nbb_unformatted_code) {\n",
       "                             nbb_cells[i].set_text(nbb_formatted_code);\n",
       "                        }\n",
       "                        break;\n",
       "                    }\n",
       "                }\n",
       "            }, 500);\n",
       "            "
      ],
      "text/plain": [
       "<IPython.core.display.Javascript object>"
      ]
     },
     "metadata": {},
     "output_type": "display_data"
    }
   ],
   "source": [
    "import numpy as np\n",
    "import pandas as pd\n",
    "import matplotlib.pyplot as plt\n",
    "\n",
    "from thinkstats import decorate"
   ]
  },
  {
   "cell_type": "markdown",
   "id": "6f90e9d5",
   "metadata": {},
   "source": [
    "## Comparing Distributions\n",
    "\n",
    "In the previous chapter, when we compared discrete distributions, we used a bar plot to show their probability mass functions (PMFs).\n",
    "When we compared continuous distributions, we used a line plot to show their cumulative distribution functions (CDFs).\n",
    "\n",
    "For the discrete distributions, we could also have used CDFs.\n",
    "For example, here's the PMF of a Poisson distribution with parameter `lam=2.2`, which is a good model for the distribution of household size in the NSFG.\n",
    "Instructions for downloading the data are in the notebook for this chapter."
   ]
  },
  {
   "cell_type": "markdown",
   "id": "b74d4646",
   "metadata": {
    "tags": [
     "remove-print"
    ]
   },
   "source": [
    "The following cells download the data files and install `statadict`, which we need to read the data."
   ]
  },
  {
   "cell_type": "code",
   "execution_count": 5,
   "id": "54c3271b",
   "metadata": {
    "tags": [
     "remove-print"
    ]
   },
   "outputs": [
    {
     "data": {
      "application/javascript": [
       "\n",
       "            setTimeout(function() {\n",
       "                var nbb_cell_id = 5;\n",
       "                var nbb_unformatted_code = \"download(\\\"https://github.com/AllenDowney/ThinkStats/raw/v3/nb/nsfg.py\\\")\\ndownload(\\\"https://github.com/AllenDowney/ThinkStats/raw/v3/data/2002FemResp.dct\\\")\\ndownload(\\\"https://github.com/AllenDowney/ThinkStats/raw/v3/data/2002FemResp.dat.gz\\\")\";\n",
       "                var nbb_formatted_code = \"download(\\\"https://github.com/AllenDowney/ThinkStats/raw/v3/nb/nsfg.py\\\")\\ndownload(\\\"https://github.com/AllenDowney/ThinkStats/raw/v3/data/2002FemResp.dct\\\")\\ndownload(\\\"https://github.com/AllenDowney/ThinkStats/raw/v3/data/2002FemResp.dat.gz\\\")\";\n",
       "                var nbb_cells = Jupyter.notebook.get_cells();\n",
       "                for (var i = 0; i < nbb_cells.length; ++i) {\n",
       "                    if (nbb_cells[i].input_prompt_number == nbb_cell_id) {\n",
       "                        if (nbb_cells[i].get_text() == nbb_unformatted_code) {\n",
       "                             nbb_cells[i].set_text(nbb_formatted_code);\n",
       "                        }\n",
       "                        break;\n",
       "                    }\n",
       "                }\n",
       "            }, 500);\n",
       "            "
      ],
      "text/plain": [
       "<IPython.core.display.Javascript object>"
      ]
     },
     "metadata": {},
     "output_type": "display_data"
    }
   ],
   "source": [
    "download(\"https://github.com/AllenDowney/ThinkStats/raw/v3/nb/nsfg.py\")\n",
    "download(\"https://github.com/AllenDowney/ThinkStats/raw/v3/data/2002FemResp.dct\")\n",
    "download(\"https://github.com/AllenDowney/ThinkStats/raw/v3/data/2002FemResp.dat.gz\")"
   ]
  },
  {
   "cell_type": "code",
   "execution_count": 6,
   "id": "366f036d",
   "metadata": {
    "tags": [
     "remove-print"
    ]
   },
   "outputs": [
    {
     "data": {
      "application/javascript": [
       "\n",
       "            setTimeout(function() {\n",
       "                var nbb_cell_id = 6;\n",
       "                var nbb_unformatted_code = \"try:\\n    import statadict\\nexcept ImportError:\\n    !pip install statadict\";\n",
       "                var nbb_formatted_code = \"try:\\n    import statadict\\nexcept ImportError:\\n    !pip install statadict\";\n",
       "                var nbb_cells = Jupyter.notebook.get_cells();\n",
       "                for (var i = 0; i < nbb_cells.length; ++i) {\n",
       "                    if (nbb_cells[i].input_prompt_number == nbb_cell_id) {\n",
       "                        if (nbb_cells[i].get_text() == nbb_unformatted_code) {\n",
       "                             nbb_cells[i].set_text(nbb_formatted_code);\n",
       "                        }\n",
       "                        break;\n",
       "                    }\n",
       "                }\n",
       "            }, 500);\n",
       "            "
      ],
      "text/plain": [
       "<IPython.core.display.Javascript object>"
      ]
     },
     "metadata": {},
     "output_type": "display_data"
    }
   ],
   "source": [
    "try:\n",
    "    import statadict\n",
    "except ImportError:\n",
    "    !pip install statadict"
   ]
  },
  {
   "cell_type": "code",
   "execution_count": 7,
   "id": "605099ec",
   "metadata": {},
   "outputs": [
    {
     "data": {
      "application/javascript": [
       "\n",
       "            setTimeout(function() {\n",
       "                var nbb_cell_id = 7;\n",
       "                var nbb_unformatted_code = \"from nsfg import read_fem_resp\\n\\nresp = read_fem_resp()\\nolder = resp.query(\\\"age >= 25\\\")\\nnum_family = older[\\\"numfmhh\\\"]\";\n",
       "                var nbb_formatted_code = \"from nsfg import read_fem_resp\\n\\nresp = read_fem_resp()\\nolder = resp.query(\\\"age >= 25\\\")\\nnum_family = older[\\\"numfmhh\\\"]\";\n",
       "                var nbb_cells = Jupyter.notebook.get_cells();\n",
       "                for (var i = 0; i < nbb_cells.length; ++i) {\n",
       "                    if (nbb_cells[i].input_prompt_number == nbb_cell_id) {\n",
       "                        if (nbb_cells[i].get_text() == nbb_unformatted_code) {\n",
       "                             nbb_cells[i].set_text(nbb_formatted_code);\n",
       "                        }\n",
       "                        break;\n",
       "                    }\n",
       "                }\n",
       "            }, 500);\n",
       "            "
      ],
      "text/plain": [
       "<IPython.core.display.Javascript object>"
      ]
     },
     "metadata": {},
     "output_type": "display_data"
    }
   ],
   "source": [
    "from nsfg import read_fem_resp\n",
    "\n",
    "resp = read_fem_resp()\n",
    "older = resp.query(\"age >= 25\")\n",
    "num_family = older[\"numfmhh\"]"
   ]
  },
  {
   "cell_type": "code",
   "execution_count": 8,
   "id": "763da396",
   "metadata": {},
   "outputs": [
    {
     "data": {
      "application/javascript": [
       "\n",
       "            setTimeout(function() {\n",
       "                var nbb_cell_id = 8;\n",
       "                var nbb_unformatted_code = \"from empiricaldist import Pmf\\n\\npmf_family = Pmf.from_seq(num_family, name=\\\"data\\\")\";\n",
       "                var nbb_formatted_code = \"from empiricaldist import Pmf\\n\\npmf_family = Pmf.from_seq(num_family, name=\\\"data\\\")\";\n",
       "                var nbb_cells = Jupyter.notebook.get_cells();\n",
       "                for (var i = 0; i < nbb_cells.length; ++i) {\n",
       "                    if (nbb_cells[i].input_prompt_number == nbb_cell_id) {\n",
       "                        if (nbb_cells[i].get_text() == nbb_unformatted_code) {\n",
       "                             nbb_cells[i].set_text(nbb_formatted_code);\n",
       "                        }\n",
       "                        break;\n",
       "                    }\n",
       "                }\n",
       "            }, 500);\n",
       "            "
      ],
      "text/plain": [
       "<IPython.core.display.Javascript object>"
      ]
     },
     "metadata": {},
     "output_type": "display_data"
    }
   ],
   "source": [
    "from empiricaldist import Pmf\n",
    "\n",
    "pmf_family = Pmf.from_seq(num_family, name=\"data\")"
   ]
  },
  {
   "cell_type": "code",
   "execution_count": 9,
   "id": "4a4d6062",
   "metadata": {},
   "outputs": [
    {
     "data": {
      "application/javascript": [
       "\n",
       "            setTimeout(function() {\n",
       "                var nbb_cell_id = 9;\n",
       "                var nbb_unformatted_code = \"from thinkstats import poisson_pmf\\n\\nlam = 2.2\\nks = np.arange(11)\\nps = poisson_pmf(ks, lam)\";\n",
       "                var nbb_formatted_code = \"from thinkstats import poisson_pmf\\n\\nlam = 2.2\\nks = np.arange(11)\\nps = poisson_pmf(ks, lam)\";\n",
       "                var nbb_cells = Jupyter.notebook.get_cells();\n",
       "                for (var i = 0; i < nbb_cells.length; ++i) {\n",
       "                    if (nbb_cells[i].input_prompt_number == nbb_cell_id) {\n",
       "                        if (nbb_cells[i].get_text() == nbb_unformatted_code) {\n",
       "                             nbb_cells[i].set_text(nbb_formatted_code);\n",
       "                        }\n",
       "                        break;\n",
       "                    }\n",
       "                }\n",
       "            }, 500);\n",
       "            "
      ],
      "text/plain": [
       "<IPython.core.display.Javascript object>"
      ]
     },
     "metadata": {},
     "output_type": "display_data"
    }
   ],
   "source": [
    "from thinkstats import poisson_pmf\n",
    "\n",
    "lam = 2.2\n",
    "ks = np.arange(11)\n",
    "ps = poisson_pmf(ks, lam)"
   ]
  },
  {
   "cell_type": "code",
   "execution_count": 10,
   "id": "4587e3c5",
   "metadata": {},
   "outputs": [
    {
     "data": {
      "application/javascript": [
       "\n",
       "            setTimeout(function() {\n",
       "                var nbb_cell_id = 10;\n",
       "                var nbb_unformatted_code = \"pmf_poisson = Pmf(ps, ks, name=\\\"Poisson model\\\")\";\n",
       "                var nbb_formatted_code = \"pmf_poisson = Pmf(ps, ks, name=\\\"Poisson model\\\")\";\n",
       "                var nbb_cells = Jupyter.notebook.get_cells();\n",
       "                for (var i = 0; i < nbb_cells.length; ++i) {\n",
       "                    if (nbb_cells[i].input_prompt_number == nbb_cell_id) {\n",
       "                        if (nbb_cells[i].get_text() == nbb_unformatted_code) {\n",
       "                             nbb_cells[i].set_text(nbb_formatted_code);\n",
       "                        }\n",
       "                        break;\n",
       "                    }\n",
       "                }\n",
       "            }, 500);\n",
       "            "
      ],
      "text/plain": [
       "<IPython.core.display.Javascript object>"
      ]
     },
     "metadata": {},
     "output_type": "display_data"
    }
   ],
   "source": [
    "pmf_poisson = Pmf(ps, ks, name=\"Poisson model\")"
   ]
  },
  {
   "cell_type": "code",
   "execution_count": 11,
   "id": "f70ae409",
   "metadata": {},
   "outputs": [
    {
     "data": {
      "image/png": "[encoded data removed]",
      "text/plain": [
       "<Figure size 450x262.5 with 1 Axes>"
      ]
     },
     "metadata": {},
     "output_type": "display_data"
    },
    {
     "data": {
      "application/javascript": [
       "\n",
       "            setTimeout(function() {\n",
       "                var nbb_cell_id = 11;\n",
       "                var nbb_unformatted_code = \"from thinkstats import two_bar_plots\\n\\ntwo_bar_plots(pmf_family, pmf_poisson)\\ndecorate(xlabel=\\\"Number of family members\\\")\";\n",
       "                var nbb_formatted_code = \"from thinkstats import two_bar_plots\\n\\ntwo_bar_plots(pmf_family, pmf_poisson)\\ndecorate(xlabel=\\\"Number of family members\\\")\";\n",
       "                var nbb_cells = Jupyter.notebook.get_cells();\n",
       "                for (var i = 0; i < nbb_cells.length; ++i) {\n",
       "                    if (nbb_cells[i].input_prompt_number == nbb_cell_id) {\n",
       "                        if (nbb_cells[i].get_text() == nbb_unformatted_code) {\n",
       "                             nbb_cells[i].set_text(nbb_formatted_code);\n",
       "                        }\n",
       "                        break;\n",
       "                    }\n",
       "                }\n",
       "            }, 500);\n",
       "            "
      ],
      "text/plain": [
       "<IPython.core.display.Javascript object>"
      ]
     },
     "metadata": {},
     "output_type": "display_data"
    }
   ],
   "source": [
    "from thinkstats import two_bar_plots\n",
    "\n",
    "two_bar_plots(pmf_family, pmf_poisson)\n",
    "decorate(xlabel=\"Number of family members\")"
   ]
  },
  {
   "cell_type": "markdown",
   "id": "6bc92687",
   "metadata": {},
   "source": [
    "Comparing the PMFs, we can see where the data deviates from the model.\n",
    "But PMFs tend to emphasize small differences that might be due to random variation.\n",
    "Sometimes we can see the big picture more clearly by comparing CDFs.\n",
    "\n",
    "For example, here's the CDF of family size compared to the CDF of the Poisson model."
   ]
  },
  {
   "cell_type": "code",
   "execution_count": 12,
   "id": "54e8e079",
   "metadata": {},
   "outputs": [
    {
     "data": {
      "application/javascript": [
       "\n",
       "            setTimeout(function() {\n",
       "                var nbb_cell_id = 12;\n",
       "                var nbb_unformatted_code = \"cdf_family = pmf_family.make_cdf()\\ncdf_poisson = pmf_poisson.make_cdf()\";\n",
       "                var nbb_formatted_code = \"cdf_family = pmf_family.make_cdf()\\ncdf_poisson = pmf_poisson.make_cdf()\";\n",
       "                var nbb_cells = Jupyter.notebook.get_cells();\n",
       "                for (var i = 0; i < nbb_cells.length; ++i) {\n",
       "                    if (nbb_cells[i].input_prompt_number == nbb_cell_id) {\n",
       "                        if (nbb_cells[i].get_text() == nbb_unformatted_code) {\n",
       "                             nbb_cells[i].set_text(nbb_formatted_code);\n",
       "                        }\n",
       "                        break;\n",
       "                    }\n",
       "                }\n",
       "            }, 500);\n",
       "            "
      ],
      "text/plain": [
       "<IPython.core.display.Javascript object>"
      ]
     },
     "metadata": {},
     "output_type": "display_data"
    }
   ],
   "source": [
    "cdf_family = pmf_family.make_cdf()\n",
    "cdf_poisson = pmf_poisson.make_cdf()"
   ]
  },
  {
   "cell_type": "code",
   "execution_count": 13,
   "id": "001fc097",
   "metadata": {},
   "outputs": [
    {
     "data": {
      "image/png": "[encoded data removed]",
      "text/plain": [
       "<Figure size 450x262.5 with 1 Axes>"
      ]
     },
     "metadata": {},
     "output_type": "display_data"
    },
    {
     "data": {
      "application/javascript": [
       "\n",
       "            setTimeout(function() {\n",
       "                var nbb_cell_id = 13;\n",
       "                var nbb_unformatted_code = \"from thinkstats import two_cdf_plots\\n\\ntwo_cdf_plots(cdf_poisson, cdf_family)\\ndecorate(xlabel=\\\"Number of family members\\\")\";\n",
       "                var nbb_formatted_code = \"from thinkstats import two_cdf_plots\\n\\ntwo_cdf_plots(cdf_poisson, cdf_family)\\ndecorate(xlabel=\\\"Number of family members\\\")\";\n",
       "                var nbb_cells = Jupyter.notebook.get_cells();\n",
       "                for (var i = 0; i < nbb_cells.length; ++i) {\n",
       "                    if (nbb_cells[i].input_prompt_number == nbb_cell_id) {\n",
       "                        if (nbb_cells[i].get_text() == nbb_unformatted_code) {\n",
       "                             nbb_cells[i].set_text(nbb_formatted_code);\n",
       "                        }\n",
       "                        break;\n",
       "                    }\n",
       "                }\n",
       "            }, 500);\n",
       "            "
      ],
      "text/plain": [
       "<IPython.core.display.Javascript object>"
      ]
     },
     "metadata": {},
     "output_type": "display_data"
    }
   ],
   "source": [
    "from thinkstats import two_cdf_plots\n",
    "\n",
    "two_cdf_plots(cdf_poisson, cdf_family)\n",
    "decorate(xlabel=\"Number of family members\")"
   ]
  },
  {
   "cell_type": "markdown",
   "id": "ef2b2a89",
   "metadata": {},
   "source": [
    "In my opinion, CDFs are usually the best way to compare data to a model, or compare data from different groups, etc.\n",
    "\n",
    "Also, CDFs work well with continuous data."
   ]
  },
  {
   "cell_type": "code",
   "execution_count": 14,
   "id": "fcbe6cab",
   "metadata": {
    "tags": [
     "remove-print"
    ]
   },
   "outputs": [
    {
     "data": {
      "application/javascript": [
       "\n",
       "            setTimeout(function() {\n",
       "                var nbb_cell_id = 14;\n",
       "                var nbb_unformatted_code = \"download(\\\"https://github.com/AllenDowney/ThinkStats/raw/v3/data/2002FemPreg.dct\\\")\\ndownload(\\\"https://github.com/AllenDowney/ThinkStats/raw/v3/data/2002FemPreg.dat.gz\\\")\";\n",
       "                var nbb_formatted_code = \"download(\\\"https://github.com/AllenDowney/ThinkStats/raw/v3/data/2002FemPreg.dct\\\")\\ndownload(\\\"https://github.com/AllenDowney/ThinkStats/raw/v3/data/2002FemPreg.dat.gz\\\")\";\n",
       "                var nbb_cells = Jupyter.notebook.get_cells();\n",
       "                for (var i = 0; i < nbb_cells.length; ++i) {\n",
       "                    if (nbb_cells[i].input_prompt_number == nbb_cell_id) {\n",
       "                        if (nbb_cells[i].get_text() == nbb_unformatted_code) {\n",
       "                             nbb_cells[i].set_text(nbb_formatted_code);\n",
       "                        }\n",
       "                        break;\n",
       "                    }\n",
       "                }\n",
       "            }, 500);\n",
       "            "
      ],
      "text/plain": [
       "<IPython.core.display.Javascript object>"
      ]
     },
     "metadata": {},
     "output_type": "display_data"
    }
   ],
   "source": [
    "download(\"https://github.com/AllenDowney/ThinkStats/raw/v3/data/2002FemPreg.dct\")\n",
    "download(\"https://github.com/AllenDowney/ThinkStats/raw/v3/data/2002FemPreg.dat.gz\")"
   ]
  },
  {
   "cell_type": "code",
   "execution_count": 15,
   "id": "0d674fef",
   "metadata": {},
   "outputs": [
    {
     "data": {
      "application/javascript": [
       "\n",
       "            setTimeout(function() {\n",
       "                var nbb_cell_id = 15;\n",
       "                var nbb_unformatted_code = \"from nsfg import read_fem_preg\\n\\npreg = read_fem_preg()\\nbirth_weights = preg[\\\"totalwgt_lb\\\"].dropna()\";\n",
       "                var nbb_formatted_code = \"from nsfg import read_fem_preg\\n\\npreg = read_fem_preg()\\nbirth_weights = preg[\\\"totalwgt_lb\\\"].dropna()\";\n",
       "                var nbb_cells = Jupyter.notebook.get_cells();\n",
       "                for (var i = 0; i < nbb_cells.length; ++i) {\n",
       "                    if (nbb_cells[i].input_prompt_number == nbb_cell_id) {\n",
       "                        if (nbb_cells[i].get_text() == nbb_unformatted_code) {\n",
       "                             nbb_cells[i].set_text(nbb_formatted_code);\n",
       "                        }\n",
       "                        break;\n",
       "                    }\n",
       "                }\n",
       "            }, 500);\n",
       "            "
      ],
      "text/plain": [
       "<IPython.core.display.Javascript object>"
      ]
     },
     "metadata": {},
     "output_type": "display_data"
    }
   ],
   "source": [
    "from nsfg import read_fem_preg\n",
    "\n",
    "preg = read_fem_preg()\n",
    "birth_weights = preg[\"totalwgt_lb\"].dropna()"
   ]
  },
  {
   "cell_type": "code",
   "execution_count": 16,
   "id": "1a0bd573",
   "metadata": {},
   "outputs": [
    {
     "data": {
      "application/javascript": [
       "\n",
       "            setTimeout(function() {\n",
       "                var nbb_cell_id = 16;\n",
       "                var nbb_unformatted_code = \"from scipy.stats import trimboth\\n\\ntrimmed = trimboth(birth_weights, 0.01)\";\n",
       "                var nbb_formatted_code = \"from scipy.stats import trimboth\\n\\ntrimmed = trimboth(birth_weights, 0.01)\";\n",
       "                var nbb_cells = Jupyter.notebook.get_cells();\n",
       "                for (var i = 0; i < nbb_cells.length; ++i) {\n",
       "                    if (nbb_cells[i].input_prompt_number == nbb_cell_id) {\n",
       "                        if (nbb_cells[i].get_text() == nbb_unformatted_code) {\n",
       "                             nbb_cells[i].set_text(nbb_formatted_code);\n",
       "                        }\n",
       "                        break;\n",
       "                    }\n",
       "                }\n",
       "            }, 500);\n",
       "            "
      ],
      "text/plain": [
       "<IPython.core.display.Javascript object>"
      ]
     },
     "metadata": {},
     "output_type": "display_data"
    }
   ],
   "source": [
    "from scipy.stats import trimboth\n",
    "\n",
    "trimmed = trimboth(birth_weights, 0.01)"
   ]
  },
  {
   "cell_type": "code",
   "execution_count": 17,
   "id": "568d5ee7",
   "metadata": {},
   "outputs": [
    {
     "data": {
      "application/javascript": [
       "\n",
       "            setTimeout(function() {\n",
       "                var nbb_cell_id = 17;\n",
       "                var nbb_unformatted_code = \"from thinkstats import make_normal_model\\n\\ncdf_model = make_normal_model(trimmed)\";\n",
       "                var nbb_formatted_code = \"from thinkstats import make_normal_model\\n\\ncdf_model = make_normal_model(trimmed)\";\n",
       "                var nbb_cells = Jupyter.notebook.get_cells();\n",
       "                for (var i = 0; i < nbb_cells.length; ++i) {\n",
       "                    if (nbb_cells[i].input_prompt_number == nbb_cell_id) {\n",
       "                        if (nbb_cells[i].get_text() == nbb_unformatted_code) {\n",
       "                             nbb_cells[i].set_text(nbb_formatted_code);\n",
       "                        }\n",
       "                        break;\n",
       "                    }\n",
       "                }\n",
       "            }, 500);\n",
       "            "
      ],
      "text/plain": [
       "<IPython.core.display.Javascript object>"
      ]
     },
     "metadata": {},
     "output_type": "display_data"
    }
   ],
   "source": [
    "from thinkstats import make_normal_model\n",
    "\n",
    "cdf_model = make_normal_model(trimmed)"
   ]
  },
  {
   "cell_type": "code",
   "execution_count": 18,
   "id": "89dc754a",
   "metadata": {},
   "outputs": [
    {
     "data": {
      "image/png": "[encoded data removed]",
      "text/plain": [
       "<Figure size 450x262.5 with 1 Axes>"
      ]
     },
     "metadata": {},
     "output_type": "display_data"
    },
    {
     "data": {
      "application/javascript": [
       "\n",
       "            setTimeout(function() {\n",
       "                var nbb_cell_id = 18;\n",
       "                var nbb_unformatted_code = \"from empiricaldist import Cdf\\n\\ncdf_birth_weight = Cdf.from_seq(birth_weights, name=\\\"sample\\\")\\ntwo_cdf_plots(cdf_model, cdf_birth_weight, xlabel=\\\"Birth weight (pounds)\\\")\";\n",
       "                var nbb_formatted_code = \"from empiricaldist import Cdf\\n\\ncdf_birth_weight = Cdf.from_seq(birth_weights, name=\\\"sample\\\")\\ntwo_cdf_plots(cdf_model, cdf_birth_weight, xlabel=\\\"Birth weight (pounds)\\\")\";\n",
       "                var nbb_cells = Jupyter.notebook.get_cells();\n",
       "                for (var i = 0; i < nbb_cells.length; ++i) {\n",
       "                    if (nbb_cells[i].input_prompt_number == nbb_cell_id) {\n",
       "                        if (nbb_cells[i].get_text() == nbb_unformatted_code) {\n",
       "                             nbb_cells[i].set_text(nbb_formatted_code);\n",
       "                        }\n",
       "                        break;\n",
       "                    }\n",
       "                }\n",
       "            }, 500);\n",
       "            "
      ],
      "text/plain": [
       "<IPython.core.display.Javascript object>"
      ]
     },
     "metadata": {},
     "output_type": "display_data"
    }
   ],
   "source": [
    "from empiricaldist import Cdf\n",
    "\n",
    "cdf_birth_weight = Cdf.from_seq(birth_weights, name=\"sample\")\n",
    "two_cdf_plots(cdf_model, cdf_birth_weight, xlabel=\"Birth weight (pounds)\")"
   ]
  },
  {
   "cell_type": "markdown",
   "id": "b47cc69d",
   "metadata": {},
   "source": [
    "## Probability Density\n",
    "\n",
    "The familiar bell curve is actually the probability density function (PDF) of the normal distribution, which we can compute like this."
   ]
  },
  {
   "cell_type": "code",
   "execution_count": 19,
   "id": "73a75926",
   "metadata": {},
   "outputs": [
    {
     "data": {
      "application/javascript": [
       "\n",
       "            setTimeout(function() {\n",
       "                var nbb_cell_id = 19;\n",
       "                var nbb_unformatted_code = \"def normal_pdf(xs, mu, sigma):\\n    \\\"\\\"\\\"Evaluates the normal probability density function.\\n\\n    xs: float or sequence of floats\\n    mu: mean of the distribution\\n    sigma: standard deviation of the distribution\\n\\n    returns: float or NumPy array of probability density\\n    \\\"\\\"\\\"\\n    z = (xs - mu) / sigma\\n    return np.exp(-(z**2) / 2) / sigma / np.sqrt(2 * np.pi)\";\n",
       "                var nbb_formatted_code = \"def normal_pdf(xs, mu, sigma):\\n    \\\"\\\"\\\"Evaluates the normal probability density function.\\n\\n    xs: float or sequence of floats\\n    mu: mean of the distribution\\n    sigma: standard deviation of the distribution\\n\\n    returns: float or NumPy array of probability density\\n    \\\"\\\"\\\"\\n    z = (xs - mu) / sigma\\n    return np.exp(-(z**2) / 2) / sigma / np.sqrt(2 * np.pi)\";\n",
       "                var nbb_cells = Jupyter.notebook.get_cells();\n",
       "                for (var i = 0; i < nbb_cells.length; ++i) {\n",
       "                    if (nbb_cells[i].input_prompt_number == nbb_cell_id) {\n",
       "                        if (nbb_cells[i].get_text() == nbb_unformatted_code) {\n",
       "                             nbb_cells[i].set_text(nbb_formatted_code);\n",
       "                        }\n",
       "                        break;\n",
       "                    }\n",
       "                }\n",
       "            }, 500);\n",
       "            "
      ],
      "text/plain": [
       "<IPython.core.display.Javascript object>"
      ]
     },
     "metadata": {},
     "output_type": "display_data"
    }
   ],
   "source": [
    "def normal_pdf(xs, mu, sigma):\n",
    "    \"\"\"Evaluates the normal probability density function.\n",
    "\n",
    "    xs: float or sequence of floats\n",
    "    mu: mean of the distribution\n",
    "    sigma: standard deviation of the distribution\n",
    "\n",
    "    returns: float or NumPy array of probability density\n",
    "    \"\"\"\n",
    "    z = (xs - mu) / sigma\n",
    "    return np.exp(-(z**2) / 2) / sigma / np.sqrt(2 * np.pi)"
   ]
  },
  {
   "cell_type": "markdown",
   "id": "0025774f",
   "metadata": {},
   "source": [
    "`thinkstats` provides a `NormalPdf` object that represents the PDF of a normal distribution.\n",
    "We can use it to create a `NormalPdf` with the same mean and standard deviation as the birth weights in the NSFG dataset."
   ]
  },
  {
   "cell_type": "code",
   "execution_count": 20,
   "id": "65c2db0c",
   "metadata": {},
   "outputs": [
    {
     "data": {
      "text/plain": [
       "NormalPdf(7.280883100022579, 1.2430657948614345, name='normal model')"
      ]
     },
     "execution_count": 20,
     "metadata": {},
     "output_type": "execute_result"
    },
    {
     "data": {
      "application/javascript": [
       "\n",
       "            setTimeout(function() {\n",
       "                var nbb_cell_id = 20;\n",
       "                var nbb_unformatted_code = \"from thinkstats import NormalPdf\\n\\nm, s = np.mean(trimmed), np.std(trimmed)\\npdf_model = NormalPdf(m, s, name=\\\"normal model\\\")\\npdf_model\";\n",
       "                var nbb_formatted_code = \"from thinkstats import NormalPdf\\n\\nm, s = np.mean(trimmed), np.std(trimmed)\\npdf_model = NormalPdf(m, s, name=\\\"normal model\\\")\\npdf_model\";\n",
       "                var nbb_cells = Jupyter.notebook.get_cells();\n",
       "                for (var i = 0; i < nbb_cells.length; ++i) {\n",
       "                    if (nbb_cells[i].input_prompt_number == nbb_cell_id) {\n",
       "                        if (nbb_cells[i].get_text() == nbb_unformatted_code) {\n",
       "                             nbb_cells[i].set_text(nbb_formatted_code);\n",
       "                        }\n",
       "                        break;\n",
       "                    }\n",
       "                }\n",
       "            }, 500);\n",
       "            "
      ],
      "text/plain": [
       "<IPython.core.display.Javascript object>"
      ]
     },
     "metadata": {},
     "output_type": "display_data"
    }
   ],
   "source": [
    "from thinkstats import NormalPdf\n",
    "\n",
    "m, s = np.mean(trimmed), np.std(trimmed)\n",
    "pdf_model = NormalPdf(m, s, name=\"normal model\")\n",
    "pdf_model"
   ]
  },
  {
   "cell_type": "markdown",
   "id": "8d75407e",
   "metadata": {},
   "source": [
    "If we call the `NormalPdf` object as a function, it evaluates the normal PDF."
   ]
  },
  {
   "cell_type": "code",
   "execution_count": 21,
   "id": "cfb6935c",
   "metadata": {},
   "outputs": [
    {
     "data": {
      "application/javascript": [
       "\n",
       "            setTimeout(function() {\n",
       "                var nbb_cell_id = 21;\n",
       "                var nbb_unformatted_code = \"low = m - 4 * s\\nhigh = m + 4 * s\\nqs = np.linspace(low, high, 201)\\nps = pdf_model(qs)\";\n",
       "                var nbb_formatted_code = \"low = m - 4 * s\\nhigh = m + 4 * s\\nqs = np.linspace(low, high, 201)\\nps = pdf_model(qs)\";\n",
       "                var nbb_cells = Jupyter.notebook.get_cells();\n",
       "                for (var i = 0; i < nbb_cells.length; ++i) {\n",
       "                    if (nbb_cells[i].input_prompt_number == nbb_cell_id) {\n",
       "                        if (nbb_cells[i].get_text() == nbb_unformatted_code) {\n",
       "                             nbb_cells[i].set_text(nbb_formatted_code);\n",
       "                        }\n",
       "                        break;\n",
       "                    }\n",
       "                }\n",
       "            }, 500);\n",
       "            "
      ],
      "text/plain": [
       "<IPython.core.display.Javascript object>"
      ]
     },
     "metadata": {},
     "output_type": "display_data"
    }
   ],
   "source": [
    "low = m - 4 * s\n",
    "high = m + 4 * s\n",
    "qs = np.linspace(low, high, 201)\n",
    "ps = pdf_model(qs)"
   ]
  },
  {
   "cell_type": "markdown",
   "id": "6cc1c3d7",
   "metadata": {},
   "source": [
    "The result looks like a bell curve."
   ]
  },
  {
   "cell_type": "code",
   "execution_count": 22,
   "id": "c8080871",
   "metadata": {},
   "outputs": [
    {
     "data": {
      "image/png": "[encoded data removed]",
      "text/plain": [
       "<Figure size 450x262.5 with 1 Axes>"
      ]
     },
     "metadata": {},
     "output_type": "display_data"
    },
    {
     "data": {
      "application/javascript": [
       "\n",
       "            setTimeout(function() {\n",
       "                var nbb_cell_id = 22;\n",
       "                var nbb_unformatted_code = \"plt.plot(qs, ps, label=\\\"normal model\\\")\\ndecorate(xlabel=\\\"Birth weight (pounds)\\\", ylabel=\\\"Density\\\")\";\n",
       "                var nbb_formatted_code = \"plt.plot(qs, ps, label=\\\"normal model\\\")\\ndecorate(xlabel=\\\"Birth weight (pounds)\\\", ylabel=\\\"Density\\\")\";\n",
       "                var nbb_cells = Jupyter.notebook.get_cells();\n",
       "                for (var i = 0; i < nbb_cells.length; ++i) {\n",
       "                    if (nbb_cells[i].input_prompt_number == nbb_cell_id) {\n",
       "                        if (nbb_cells[i].get_text() == nbb_unformatted_code) {\n",
       "                             nbb_cells[i].set_text(nbb_formatted_code);\n",
       "                        }\n",
       "                        break;\n",
       "                    }\n",
       "                }\n",
       "            }, 500);\n",
       "            "
      ],
      "text/plain": [
       "<IPython.core.display.Javascript object>"
      ]
     },
     "metadata": {},
     "output_type": "display_data"
    }
   ],
   "source": [
    "plt.plot(qs, ps, label=\"normal model\")\n",
    "decorate(xlabel=\"Birth weight (pounds)\", ylabel=\"Density\")"
   ]
  },
  {
   "cell_type": "markdown",
   "id": "11cb9399",
   "metadata": {},
   "source": [
    "The `PdfNormal` object provides a `plot` function that does the same thing.\n",
    "\n",
    "The peak of the distribution is at `m`.\n",
    "If we evaluate the PDF there, the result is a probability density."
   ]
  },
  {
   "cell_type": "code",
   "execution_count": 23,
   "id": "40ee0737",
   "metadata": {},
   "outputs": [
    {
     "data": {
      "text/plain": [
       "0.32093416297880123"
      ]
     },
     "execution_count": 23,
     "metadata": {},
     "output_type": "execute_result"
    },
    {
     "data": {
      "application/javascript": [
       "\n",
       "            setTimeout(function() {\n",
       "                var nbb_cell_id = 23;\n",
       "                var nbb_unformatted_code = \"pdf_model(m)\";\n",
       "                var nbb_formatted_code = \"pdf_model(m)\";\n",
       "                var nbb_cells = Jupyter.notebook.get_cells();\n",
       "                for (var i = 0; i < nbb_cells.length; ++i) {\n",
       "                    if (nbb_cells[i].input_prompt_number == nbb_cell_id) {\n",
       "                        if (nbb_cells[i].get_text() == nbb_unformatted_code) {\n",
       "                             nbb_cells[i].set_text(nbb_formatted_code);\n",
       "                        }\n",
       "                        break;\n",
       "                    }\n",
       "                }\n",
       "            }, 500);\n",
       "            "
      ],
      "text/plain": [
       "<IPython.core.display.Javascript object>"
      ]
     },
     "metadata": {},
     "output_type": "display_data"
    }
   ],
   "source": [
    "pdf_model(m)"
   ]
  },
  {
   "cell_type": "markdown",
   "id": "7f400a25",
   "metadata": {},
   "source": [
    "By itself, a probability density doesn't mean much -- most importantly, it is *not* a probability.\n",
    "It would be incorrect to say that the probability is 32% that a randomly-chosen birth weight equals `m`.\n",
    "In fact, the probability that a birth weight is truly, exactly, and precisely equal to `m` -- or any other specific value -- is effectively zero.\n",
    "\n",
    "However, we can use these probability densities to compute the probability that a birth weight falls in an interval between two values, by computing the area under the curve.\n",
    "The following function takes a `NormalPdf` object and the bounds of an interval, `low` and `high`.\n",
    "It evaluates the normal PDF at equally-spaced quantities between `low` and `high`, and uses Simpson's method to estimate the area under the curve."
   ]
  },
  {
   "cell_type": "code",
   "execution_count": 24,
   "id": "2186dbe1",
   "metadata": {},
   "outputs": [
    {
     "data": {
      "application/javascript": [
       "\n",
       "            setTimeout(function() {\n",
       "                var nbb_cell_id = 24;\n",
       "                var nbb_unformatted_code = \"from scipy.integrate import simpson\\n\\n\\ndef area_under(pdf, low, high):\\n    \\\"\\\"\\\"Find the area under a PDF.\\n\\n    pdf: Pdf object\\n    low: low end of the interval\\n    high: high end of the interval\\n    \\\"\\\"\\\"\\n    qs = np.linspace(low, high, 501)\\n    ps = pdf(qs)\\n    return simpson(y=ps, x=qs)\";\n",
       "                var nbb_formatted_code = \"from scipy.integrate import simpson\\n\\n\\ndef area_under(pdf, low, high):\\n    \\\"\\\"\\\"Find the area under a PDF.\\n\\n    pdf: Pdf object\\n    low: low end of the interval\\n    high: high end of the interval\\n    \\\"\\\"\\\"\\n    qs = np.linspace(low, high, 501)\\n    ps = pdf(qs)\\n    return simpson(y=ps, x=qs)\";\n",
       "                var nbb_cells = Jupyter.notebook.get_cells();\n",
       "                for (var i = 0; i < nbb_cells.length; ++i) {\n",
       "                    if (nbb_cells[i].input_prompt_number == nbb_cell_id) {\n",
       "                        if (nbb_cells[i].get_text() == nbb_unformatted_code) {\n",
       "                             nbb_cells[i].set_text(nbb_formatted_code);\n",
       "                        }\n",
       "                        break;\n",
       "                    }\n",
       "                }\n",
       "            }, 500);\n",
       "            "
      ],
      "text/plain": [
       "<IPython.core.display.Javascript object>"
      ]
     },
     "metadata": {},
     "output_type": "display_data"
    }
   ],
   "source": [
    "from scipy.integrate import simpson\n",
    "\n",
    "\n",
    "def area_under(pdf, low, high):\n",
    "    \"\"\"Find the area under a PDF.\n",
    "\n",
    "    pdf: Pdf object\n",
    "    low: low end of the interval\n",
    "    high: high end of the interval\n",
    "    \"\"\"\n",
    "    qs = np.linspace(low, high, 501)\n",
    "    ps = pdf(qs)\n",
    "    return simpson(y=ps, x=qs)"
   ]
  },
  {
   "cell_type": "markdown",
   "id": "3890ad65",
   "metadata": {},
   "source": [
    "If we compute the area under the curve from the lowest to the highest point in the graph, the result is close to 1."
   ]
  },
  {
   "cell_type": "code",
   "execution_count": 25,
   "id": "631bade0",
   "metadata": {},
   "outputs": [
    {
     "data": {
      "text/plain": [
       "0.9999158086616793"
      ]
     },
     "execution_count": 25,
     "metadata": {},
     "output_type": "execute_result"
    },
    {
     "data": {
      "application/javascript": [
       "\n",
       "            setTimeout(function() {\n",
       "                var nbb_cell_id = 25;\n",
       "                var nbb_unformatted_code = \"area_under(pdf_model, 2, 12)\";\n",
       "                var nbb_formatted_code = \"area_under(pdf_model, 2, 12)\";\n",
       "                var nbb_cells = Jupyter.notebook.get_cells();\n",
       "                for (var i = 0; i < nbb_cells.length; ++i) {\n",
       "                    if (nbb_cells[i].input_prompt_number == nbb_cell_id) {\n",
       "                        if (nbb_cells[i].get_text() == nbb_unformatted_code) {\n",
       "                             nbb_cells[i].set_text(nbb_formatted_code);\n",
       "                        }\n",
       "                        break;\n",
       "                    }\n",
       "                }\n",
       "            }, 500);\n",
       "            "
      ],
      "text/plain": [
       "<IPython.core.display.Javascript object>"
      ]
     },
     "metadata": {},
     "output_type": "display_data"
    }
   ],
   "source": [
    "area_under(pdf_model, 2, 12)"
   ]
  },
  {
   "cell_type": "markdown",
   "id": "87c0dc81",
   "metadata": {},
   "source": [
    "If we extend the interval from negative infinity to positive infinity, the total area is exactly 1.\n",
    "\n",
    "If we start from 0 -- or any value far below the mean -- we can compute the fraction of birth weights less than or equal to 8.5 pounds."
   ]
  },
  {
   "cell_type": "code",
   "execution_count": 26,
   "id": "dc85a2dd",
   "metadata": {},
   "outputs": [
    {
     "data": {
      "text/plain": [
       "0.8366380335513807"
      ]
     },
     "execution_count": 26,
     "metadata": {},
     "output_type": "execute_result"
    },
    {
     "data": {
      "application/javascript": [
       "\n",
       "            setTimeout(function() {\n",
       "                var nbb_cell_id = 26;\n",
       "                var nbb_unformatted_code = \"area_under(pdf_model, 0, 8.5)\";\n",
       "                var nbb_formatted_code = \"area_under(pdf_model, 0, 8.5)\";\n",
       "                var nbb_cells = Jupyter.notebook.get_cells();\n",
       "                for (var i = 0; i < nbb_cells.length; ++i) {\n",
       "                    if (nbb_cells[i].input_prompt_number == nbb_cell_id) {\n",
       "                        if (nbb_cells[i].get_text() == nbb_unformatted_code) {\n",
       "                             nbb_cells[i].set_text(nbb_formatted_code);\n",
       "                        }\n",
       "                        break;\n",
       "                    }\n",
       "                }\n",
       "            }, 500);\n",
       "            "
      ],
      "text/plain": [
       "<IPython.core.display.Javascript object>"
      ]
     },
     "metadata": {},
     "output_type": "display_data"
    }
   ],
   "source": [
    "area_under(pdf_model, 0, 8.5)"
   ]
  },
  {
   "cell_type": "markdown",
   "id": "a3ccedba",
   "metadata": {},
   "source": [
    "You might recall that the \"fraction less than or equal to a given value\" is the definition of the CDF.\n",
    "So we could compute the same result using the CDF of the normal distribution."
   ]
  },
  {
   "cell_type": "code",
   "execution_count": 27,
   "id": "45841eca",
   "metadata": {},
   "outputs": [
    {
     "data": {
      "text/plain": [
       "0.8366380358092718"
      ]
     },
     "execution_count": 27,
     "metadata": {},
     "output_type": "execute_result"
    },
    {
     "data": {
      "application/javascript": [
       "\n",
       "            setTimeout(function() {\n",
       "                var nbb_cell_id = 27;\n",
       "                var nbb_unformatted_code = \"from scipy.stats import norm\\n\\nnorm.cdf(8.5, m, s)\";\n",
       "                var nbb_formatted_code = \"from scipy.stats import norm\\n\\nnorm.cdf(8.5, m, s)\";\n",
       "                var nbb_cells = Jupyter.notebook.get_cells();\n",
       "                for (var i = 0; i < nbb_cells.length; ++i) {\n",
       "                    if (nbb_cells[i].input_prompt_number == nbb_cell_id) {\n",
       "                        if (nbb_cells[i].get_text() == nbb_unformatted_code) {\n",
       "                             nbb_cells[i].set_text(nbb_formatted_code);\n",
       "                        }\n",
       "                        break;\n",
       "                    }\n",
       "                }\n",
       "            }, 500);\n",
       "            "
      ],
      "text/plain": [
       "<IPython.core.display.Javascript object>"
      ]
     },
     "metadata": {},
     "output_type": "display_data"
    }
   ],
   "source": [
    "from scipy.stats import norm\n",
    "\n",
    "norm.cdf(8.5, m, s)"
   ]
  },
  {
   "cell_type": "markdown",
   "id": "27850ccf",
   "metadata": {},
   "source": [
    "Similarly, we can use the area under the density curve to compute the fraction of birth weights between 6 and 8 pounds."
   ]
  },
  {
   "cell_type": "code",
   "execution_count": 28,
   "id": "53737676",
   "metadata": {},
   "outputs": [
    {
     "data": {
      "text/plain": [
       "0.5671317752927691"
      ]
     },
     "execution_count": 28,
     "metadata": {},
     "output_type": "execute_result"
    },
    {
     "data": {
      "application/javascript": [
       "\n",
       "            setTimeout(function() {\n",
       "                var nbb_cell_id = 28;\n",
       "                var nbb_unformatted_code = \"area_under(pdf_model, 6, 8)\";\n",
       "                var nbb_formatted_code = \"area_under(pdf_model, 6, 8)\";\n",
       "                var nbb_cells = Jupyter.notebook.get_cells();\n",
       "                for (var i = 0; i < nbb_cells.length; ++i) {\n",
       "                    if (nbb_cells[i].input_prompt_number == nbb_cell_id) {\n",
       "                        if (nbb_cells[i].get_text() == nbb_unformatted_code) {\n",
       "                             nbb_cells[i].set_text(nbb_formatted_code);\n",
       "                        }\n",
       "                        break;\n",
       "                    }\n",
       "                }\n",
       "            }, 500);\n",
       "            "
      ],
      "text/plain": [
       "<IPython.core.display.Javascript object>"
      ]
     },
     "metadata": {},
     "output_type": "display_data"
    }
   ],
   "source": [
    "area_under(pdf_model, 6, 8)"
   ]
  },
  {
   "cell_type": "markdown",
   "id": "d3402340",
   "metadata": {},
   "source": [
    "Or we can get the same result using the CDF to compute the fraction less than 8 and then subtracting off the fraction less than 6. "
   ]
  },
  {
   "cell_type": "code",
   "execution_count": 29,
   "id": "143933f5",
   "metadata": {},
   "outputs": [
    {
     "data": {
      "text/plain": [
       "0.5671317752921801"
      ]
     },
     "execution_count": 29,
     "metadata": {},
     "output_type": "execute_result"
    },
    {
     "data": {
      "application/javascript": [
       "\n",
       "            setTimeout(function() {\n",
       "                var nbb_cell_id = 29;\n",
       "                var nbb_unformatted_code = \"norm.cdf(8, m, s) - norm.cdf(6, m, s)\";\n",
       "                var nbb_formatted_code = \"norm.cdf(8, m, s) - norm.cdf(6, m, s)\";\n",
       "                var nbb_cells = Jupyter.notebook.get_cells();\n",
       "                for (var i = 0; i < nbb_cells.length; ++i) {\n",
       "                    if (nbb_cells[i].input_prompt_number == nbb_cell_id) {\n",
       "                        if (nbb_cells[i].get_text() == nbb_unformatted_code) {\n",
       "                             nbb_cells[i].set_text(nbb_formatted_code);\n",
       "                        }\n",
       "                        break;\n",
       "                    }\n",
       "                }\n",
       "            }, 500);\n",
       "            "
      ],
      "text/plain": [
       "<IPython.core.display.Javascript object>"
      ]
     },
     "metadata": {},
     "output_type": "display_data"
    }
   ],
   "source": [
    "norm.cdf(8, m, s) - norm.cdf(6, m, s)"
   ]
  },
  {
   "cell_type": "markdown",
   "id": "da31401d",
   "metadata": {},
   "source": [
    "So the CDF is the area under the curve of the PDF.\n",
    "If you know calculus, another way to say the same thing is that the CDF is the integral of the PDF.\n",
    "And conversely, the PDF is the derivative of the CDF."
   ]
  },
  {
   "cell_type": "markdown",
   "id": "98b83653",
   "metadata": {},
   "source": [
    "## The Exponential PDF\n",
    "\n",
    "To get your head around probability density, it might help to look at another example.\n",
    "In the previous chapter, we used an exponential distribution to model the time until the first goal in a hockey game.\n",
    "We used the following function to compute the exponential CDF."
   ]
  },
  {
   "cell_type": "code",
   "execution_count": 30,
   "id": "18fb5032",
   "metadata": {},
   "outputs": [
    {
     "data": {
      "application/javascript": [
       "\n",
       "            setTimeout(function() {\n",
       "                var nbb_cell_id = 30;\n",
       "                var nbb_unformatted_code = \"def exponential_cdf(x, lam):\\n    \\\"\\\"\\\"Compute the exponential CDF.\\n\\n    x: float or sequence of floats\\n    lam: rate parameter\\n\\n    returns: float or NumPy array of cumulative probability\\n    \\\"\\\"\\\"\\n    return 1 - np.exp(-lam * x)\";\n",
       "                var nbb_formatted_code = \"def exponential_cdf(x, lam):\\n    \\\"\\\"\\\"Compute the exponential CDF.\\n\\n    x: float or sequence of floats\\n    lam: rate parameter\\n\\n    returns: float or NumPy array of cumulative probability\\n    \\\"\\\"\\\"\\n    return 1 - np.exp(-lam * x)\";\n",
       "                var nbb_cells = Jupyter.notebook.get_cells();\n",
       "                for (var i = 0; i < nbb_cells.length; ++i) {\n",
       "                    if (nbb_cells[i].input_prompt_number == nbb_cell_id) {\n",
       "                        if (nbb_cells[i].get_text() == nbb_unformatted_code) {\n",
       "                             nbb_cells[i].set_text(nbb_formatted_code);\n",
       "                        }\n",
       "                        break;\n",
       "                    }\n",
       "                }\n",
       "            }, 500);\n",
       "            "
      ],
      "text/plain": [
       "<IPython.core.display.Javascript object>"
      ]
     },
     "metadata": {},
     "output_type": "display_data"
    }
   ],
   "source": [
    "def exponential_cdf(x, lam):\n",
    "    \"\"\"Compute the exponential CDF.\n",
    "\n",
    "    x: float or sequence of floats\n",
    "    lam: rate parameter\n",
    "\n",
    "    returns: float or NumPy array of cumulative probability\n",
    "    \"\"\"\n",
    "    return 1 - np.exp(-lam * x)"
   ]
  },
  {
   "cell_type": "markdown",
   "id": "2cbcc93a",
   "metadata": {},
   "source": [
    "Where `lam` is the rate parameter in goals per unit of time.\n",
    "We can compute the exponential PDF like this.\n"
   ]
  },
  {
   "cell_type": "code",
   "execution_count": 31,
   "id": "37368771",
   "metadata": {},
   "outputs": [
    {
     "data": {
      "application/javascript": [
       "\n",
       "            setTimeout(function() {\n",
       "                var nbb_cell_id = 31;\n",
       "                var nbb_unformatted_code = \"def exponential_pdf(x, lam):\\n    \\\"\\\"\\\"Evaluates the exponential PDF.\\n\\n    x: float or sequence of floats\\n    lam: rate parameter\\n\\n    returns: float or NumPy array of probability density\\n    \\\"\\\"\\\"\\n    return lam * np.exp(-lam * x)\";\n",
       "                var nbb_formatted_code = \"def exponential_pdf(x, lam):\\n    \\\"\\\"\\\"Evaluates the exponential PDF.\\n\\n    x: float or sequence of floats\\n    lam: rate parameter\\n\\n    returns: float or NumPy array of probability density\\n    \\\"\\\"\\\"\\n    return lam * np.exp(-lam * x)\";\n",
       "                var nbb_cells = Jupyter.notebook.get_cells();\n",
       "                for (var i = 0; i < nbb_cells.length; ++i) {\n",
       "                    if (nbb_cells[i].input_prompt_number == nbb_cell_id) {\n",
       "                        if (nbb_cells[i].get_text() == nbb_unformatted_code) {\n",
       "                             nbb_cells[i].set_text(nbb_formatted_code);\n",
       "                        }\n",
       "                        break;\n",
       "                    }\n",
       "                }\n",
       "            }, 500);\n",
       "            "
      ],
      "text/plain": [
       "<IPython.core.display.Javascript object>"
      ]
     },
     "metadata": {},
     "output_type": "display_data"
    }
   ],
   "source": [
    "def exponential_pdf(x, lam):\n",
    "    \"\"\"Evaluates the exponential PDF.\n",
    "\n",
    "    x: float or sequence of floats\n",
    "    lam: rate parameter\n",
    "\n",
    "    returns: float or NumPy array of probability density\n",
    "    \"\"\"\n",
    "    return lam * np.exp(-lam * x)"
   ]
  },
  {
   "cell_type": "markdown",
   "id": "4891494d",
   "metadata": {},
   "source": [
    "`thinkstats` provides an `ExponentialPdf` object that uses this function to compute the exponential PDF.\n",
    "We can use one to represent an exponential distribution with rate parameter 6 goals per game."
   ]
  },
  {
   "cell_type": "code",
   "execution_count": 32,
   "id": "5f77d24b",
   "metadata": {},
   "outputs": [
    {
     "data": {
      "text/plain": [
       "ExponentialPdf(6, name='model')"
      ]
     },
     "execution_count": 32,
     "metadata": {},
     "output_type": "execute_result"
    },
    {
     "data": {
      "application/javascript": [
       "\n",
       "            setTimeout(function() {\n",
       "                var nbb_cell_id = 32;\n",
       "                var nbb_unformatted_code = \"from thinkstats import ExponentialPdf\\n\\nlam = 6\\npdf_expo = ExponentialPdf(lam, name=\\\"model\\\")\\npdf_expo\";\n",
       "                var nbb_formatted_code = \"from thinkstats import ExponentialPdf\\n\\nlam = 6\\npdf_expo = ExponentialPdf(lam, name=\\\"model\\\")\\npdf_expo\";\n",
       "                var nbb_cells = Jupyter.notebook.get_cells();\n",
       "                for (var i = 0; i < nbb_cells.length; ++i) {\n",
       "                    if (nbb_cells[i].input_prompt_number == nbb_cell_id) {\n",
       "                        if (nbb_cells[i].get_text() == nbb_unformatted_code) {\n",
       "                             nbb_cells[i].set_text(nbb_formatted_code);\n",
       "                        }\n",
       "                        break;\n",
       "                    }\n",
       "                }\n",
       "            }, 500);\n",
       "            "
      ],
      "text/plain": [
       "<IPython.core.display.Javascript object>"
      ]
     },
     "metadata": {},
     "output_type": "display_data"
    }
   ],
   "source": [
    "from thinkstats import ExponentialPdf\n",
    "\n",
    "lam = 6\n",
    "pdf_expo = ExponentialPdf(lam, name=\"model\")\n",
    "pdf_expo"
   ]
  },
  {
   "cell_type": "markdown",
   "id": "7095c57f",
   "metadata": {},
   "source": [
    "`ExponentialPdf` provides a `plot` function we can use to plot the PDF -- notice that the unit of time is games here, rather than seconds as in the previous chapter."
   ]
  },
  {
   "cell_type": "code",
   "execution_count": 33,
   "id": "6d999a2f",
   "metadata": {},
   "outputs": [
    {
     "data": {
      "image/png": "[encoded data removed]",
      "text/plain": [
       "<Figure size 450x262.5 with 1 Axes>"
      ]
     },
     "metadata": {},
     "output_type": "display_data"
    },
    {
     "data": {
      "application/javascript": [
       "\n",
       "            setTimeout(function() {\n",
       "                var nbb_cell_id = 33;\n",
       "                var nbb_unformatted_code = \"qs = np.linspace(0, 1.5, 201)\\npdf_expo.plot(qs)\\ndecorate(xlabel=\\\"Time (games)\\\", ylabel=\\\"Density\\\")\";\n",
       "                var nbb_formatted_code = \"qs = np.linspace(0, 1.5, 201)\\npdf_expo.plot(qs)\\ndecorate(xlabel=\\\"Time (games)\\\", ylabel=\\\"Density\\\")\";\n",
       "                var nbb_cells = Jupyter.notebook.get_cells();\n",
       "                for (var i = 0; i < nbb_cells.length; ++i) {\n",
       "                    if (nbb_cells[i].input_prompt_number == nbb_cell_id) {\n",
       "                        if (nbb_cells[i].get_text() == nbb_unformatted_code) {\n",
       "                             nbb_cells[i].set_text(nbb_formatted_code);\n",
       "                        }\n",
       "                        break;\n",
       "                    }\n",
       "                }\n",
       "            }, 500);\n",
       "            "
      ],
      "text/plain": [
       "<IPython.core.display.Javascript object>"
      ]
     },
     "metadata": {},
     "output_type": "display_data"
    }
   ],
   "source": [
    "qs = np.linspace(0, 1.5, 201)\n",
    "pdf_expo.plot(qs)\n",
    "decorate(xlabel=\"Time (games)\", ylabel=\"Density\")"
   ]
  },
  {
   "cell_type": "markdown",
   "id": "a89be81f",
   "metadata": {},
   "source": [
    "Looking at the y-axis, you might notice that some of these densities are greater than 1, which is a reminder that a probability density is not a probability.\n",
    "But the area under a density curve is a probability, so it should never be greater than 1.\n",
    "\n",
    "If we compute the area under this curve from 0 to 1.5 games, we can confirm that the result is close to 1."
   ]
  },
  {
   "cell_type": "code",
   "execution_count": 34,
   "id": "c0dfefb4",
   "metadata": {},
   "outputs": [
    {
     "data": {
      "text/plain": [
       "0.999876590779019"
      ]
     },
     "execution_count": 34,
     "metadata": {},
     "output_type": "execute_result"
    },
    {
     "data": {
      "application/javascript": [
       "\n",
       "            setTimeout(function() {\n",
       "                var nbb_cell_id = 34;\n",
       "                var nbb_unformatted_code = \"area_under(pdf_expo, 0, 1.5)\";\n",
       "                var nbb_formatted_code = \"area_under(pdf_expo, 0, 1.5)\";\n",
       "                var nbb_cells = Jupyter.notebook.get_cells();\n",
       "                for (var i = 0; i < nbb_cells.length; ++i) {\n",
       "                    if (nbb_cells[i].input_prompt_number == nbb_cell_id) {\n",
       "                        if (nbb_cells[i].get_text() == nbb_unformatted_code) {\n",
       "                             nbb_cells[i].set_text(nbb_formatted_code);\n",
       "                        }\n",
       "                        break;\n",
       "                    }\n",
       "                }\n",
       "            }, 500);\n",
       "            "
      ],
      "text/plain": [
       "<IPython.core.display.Javascript object>"
      ]
     },
     "metadata": {},
     "output_type": "display_data"
    }
   ],
   "source": [
    "area_under(pdf_expo, 0, 1.5)"
   ]
  },
  {
   "cell_type": "markdown",
   "id": "fb0e98cd",
   "metadata": {},
   "source": [
    "If we extend the interval much farther, the result is slightly great than 1, but that's because we're approximating the area numerically.\n",
    "Mathematically, it is exactly 1, as we can confirm using the exponential CDF."
   ]
  },
  {
   "cell_type": "code",
   "execution_count": 35,
   "id": "57963394",
   "metadata": {},
   "outputs": [
    {
     "data": {
      "text/plain": [
       "1.0"
      ]
     },
     "execution_count": 35,
     "metadata": {},
     "output_type": "execute_result"
    },
    {
     "data": {
      "application/javascript": [
       "\n",
       "            setTimeout(function() {\n",
       "                var nbb_cell_id = 35;\n",
       "                var nbb_unformatted_code = \"from thinkstats import exponential_cdf\\n\\nexponential_cdf(7, lam)\";\n",
       "                var nbb_formatted_code = \"from thinkstats import exponential_cdf\\n\\nexponential_cdf(7, lam)\";\n",
       "                var nbb_cells = Jupyter.notebook.get_cells();\n",
       "                for (var i = 0; i < nbb_cells.length; ++i) {\n",
       "                    if (nbb_cells[i].input_prompt_number == nbb_cell_id) {\n",
       "                        if (nbb_cells[i].get_text() == nbb_unformatted_code) {\n",
       "                             nbb_cells[i].set_text(nbb_formatted_code);\n",
       "                        }\n",
       "                        break;\n",
       "                    }\n",
       "                }\n",
       "            }, 500);\n",
       "            "
      ],
      "text/plain": [
       "<IPython.core.display.Javascript object>"
      ]
     },
     "metadata": {},
     "output_type": "display_data"
    }
   ],
   "source": [
    "from thinkstats import exponential_cdf\n",
    "\n",
    "exponential_cdf(7, lam)"
   ]
  },
  {
   "cell_type": "markdown",
   "id": "6eec9cff",
   "metadata": {},
   "source": [
    "We can use the area under the density curve to compute the probability of a goal during any interval.\n",
    "For example, here is the probability of a goal during the first minute of a 60-minute game."
   ]
  },
  {
   "cell_type": "code",
   "execution_count": 36,
   "id": "418d568c",
   "metadata": {},
   "outputs": [
    {
     "data": {
      "text/plain": [
       "0.09516258196404043"
      ]
     },
     "execution_count": 36,
     "metadata": {},
     "output_type": "execute_result"
    },
    {
     "data": {
      "application/javascript": [
       "\n",
       "            setTimeout(function() {\n",
       "                var nbb_cell_id = 36;\n",
       "                var nbb_unformatted_code = \"area_under(pdf_expo, 0, 1 / 60)\";\n",
       "                var nbb_formatted_code = \"area_under(pdf_expo, 0, 1 / 60)\";\n",
       "                var nbb_cells = Jupyter.notebook.get_cells();\n",
       "                for (var i = 0; i < nbb_cells.length; ++i) {\n",
       "                    if (nbb_cells[i].input_prompt_number == nbb_cell_id) {\n",
       "                        if (nbb_cells[i].get_text() == nbb_unformatted_code) {\n",
       "                             nbb_cells[i].set_text(nbb_formatted_code);\n",
       "                        }\n",
       "                        break;\n",
       "                    }\n",
       "                }\n",
       "            }, 500);\n",
       "            "
      ],
      "text/plain": [
       "<IPython.core.display.Javascript object>"
      ]
     },
     "metadata": {},
     "output_type": "display_data"
    }
   ],
   "source": [
    "area_under(pdf_expo, 0, 1 / 60)"
   ]
  },
  {
   "cell_type": "markdown",
   "id": "650d6f29",
   "metadata": {},
   "source": [
    "We can compute the same result using the exponential CDF."
   ]
  },
  {
   "cell_type": "code",
   "execution_count": 37,
   "id": "f6a4f81b",
   "metadata": {},
   "outputs": [
    {
     "data": {
      "text/plain": [
       "0.09516258196404048"
      ]
     },
     "execution_count": 37,
     "metadata": {},
     "output_type": "execute_result"
    },
    {
     "data": {
      "application/javascript": [
       "\n",
       "            setTimeout(function() {\n",
       "                var nbb_cell_id = 37;\n",
       "                var nbb_unformatted_code = \"exponential_cdf(1 / 60, lam)\";\n",
       "                var nbb_formatted_code = \"exponential_cdf(1 / 60, lam)\";\n",
       "                var nbb_cells = Jupyter.notebook.get_cells();\n",
       "                for (var i = 0; i < nbb_cells.length; ++i) {\n",
       "                    if (nbb_cells[i].input_prompt_number == nbb_cell_id) {\n",
       "                        if (nbb_cells[i].get_text() == nbb_unformatted_code) {\n",
       "                             nbb_cells[i].set_text(nbb_formatted_code);\n",
       "                        }\n",
       "                        break;\n",
       "                    }\n",
       "                }\n",
       "            }, 500);\n",
       "            "
      ],
      "text/plain": [
       "<IPython.core.display.Javascript object>"
      ]
     },
     "metadata": {},
     "output_type": "display_data"
    }
   ],
   "source": [
    "exponential_cdf(1 / 60, lam)"
   ]
  },
  {
   "cell_type": "markdown",
   "id": "f7687b0f",
   "metadata": {},
   "source": [
    "## Comparing PMFs and PDFs\n",
    "\n",
    "It is a common error to compare the PMF of a sample with the PDF of a theoretical model.\n",
    "For example, suppose we want to compare the distribution of birth weights to a normal model.\n",
    "Here's a `Pmf` that represents the distribution of the data."
   ]
  },
  {
   "cell_type": "code",
   "execution_count": 38,
   "id": "284649e4",
   "metadata": {},
   "outputs": [
    {
     "data": {
      "application/javascript": [
       "\n",
       "            setTimeout(function() {\n",
       "                var nbb_cell_id = 38;\n",
       "                var nbb_unformatted_code = \"pmf_birth_weight = Pmf.from_seq(birth_weights, name=\\\"data\\\")\";\n",
       "                var nbb_formatted_code = \"pmf_birth_weight = Pmf.from_seq(birth_weights, name=\\\"data\\\")\";\n",
       "                var nbb_cells = Jupyter.notebook.get_cells();\n",
       "                for (var i = 0; i < nbb_cells.length; ++i) {\n",
       "                    if (nbb_cells[i].input_prompt_number == nbb_cell_id) {\n",
       "                        if (nbb_cells[i].get_text() == nbb_unformatted_code) {\n",
       "                             nbb_cells[i].set_text(nbb_formatted_code);\n",
       "                        }\n",
       "                        break;\n",
       "                    }\n",
       "                }\n",
       "            }, 500);\n",
       "            "
      ],
      "text/plain": [
       "<IPython.core.display.Javascript object>"
      ]
     },
     "metadata": {},
     "output_type": "display_data"
    }
   ],
   "source": [
    "pmf_birth_weight = Pmf.from_seq(birth_weights, name=\"data\")"
   ]
  },
  {
   "cell_type": "markdown",
   "id": "2d898d5f",
   "metadata": {},
   "source": [
    "And we already have `pdf_model`, which represents the PDF of the normal distribution with the same mean and standard deviation.\n",
    "Here's what happens if we plot them on the same axis."
   ]
  },
  {
   "cell_type": "code",
   "execution_count": 39,
   "id": "55f3831b",
   "metadata": {},
   "outputs": [
    {
     "data": {
      "image/png": "[encoded data removed]",
      "text/plain": [
       "<Figure size 450x262.5 with 1 Axes>"
      ]
     },
     "metadata": {},
     "output_type": "display_data"
    },
    {
     "data": {
      "application/javascript": [
       "\n",
       "            setTimeout(function() {\n",
       "                var nbb_cell_id = 39;\n",
       "                var nbb_unformatted_code = \"pmf_birth_weight.plot()\\npdf_model.plot(color=\\\"gray\\\")\\n\\ndecorate(xlabel=\\\"Birth weight (pounds)\\\", ylabel=\\\"PMF? Density?\\\")\";\n",
       "                var nbb_formatted_code = \"pmf_birth_weight.plot()\\npdf_model.plot(color=\\\"gray\\\")\\n\\ndecorate(xlabel=\\\"Birth weight (pounds)\\\", ylabel=\\\"PMF? Density?\\\")\";\n",
       "                var nbb_cells = Jupyter.notebook.get_cells();\n",
       "                for (var i = 0; i < nbb_cells.length; ++i) {\n",
       "                    if (nbb_cells[i].input_prompt_number == nbb_cell_id) {\n",
       "                        if (nbb_cells[i].get_text() == nbb_unformatted_code) {\n",
       "                             nbb_cells[i].set_text(nbb_formatted_code);\n",
       "                        }\n",
       "                        break;\n",
       "                    }\n",
       "                }\n",
       "            }, 500);\n",
       "            "
      ],
      "text/plain": [
       "<IPython.core.display.Javascript object>"
      ]
     },
     "metadata": {},
     "output_type": "display_data"
    }
   ],
   "source": [
    "pmf_birth_weight.plot()\n",
    "pdf_model.plot(color=\"gray\")\n",
    "\n",
    "decorate(xlabel=\"Birth weight (pounds)\", ylabel=\"PMF? Density?\")"
   ]
  },
  {
   "cell_type": "markdown",
   "id": "27604636",
   "metadata": {},
   "source": [
    "It doesn't work very well.\n",
    "One reason is that they are not in the same units.\n",
    "A `Pmf` contains probability masses and a `NormalPdf` contains probability densities, so we can't compare them, and we shouldn't plot them on the same axes.\n",
    "\n",
    "As a first attempt to solve the problem, we can make a `Pmf` that approximates the normal distribution by evaluating the PDF at a discrete set of points.\n",
    "`NormalPdf` provides a `make_pmf` method that does that."
   ]
  },
  {
   "cell_type": "code",
   "execution_count": 40,
   "id": "f829f686",
   "metadata": {},
   "outputs": [
    {
     "data": {
      "application/javascript": [
       "\n",
       "            setTimeout(function() {\n",
       "                var nbb_cell_id = 40;\n",
       "                var nbb_unformatted_code = \"pmf_model = pdf_model.make_pmf()\";\n",
       "                var nbb_formatted_code = \"pmf_model = pdf_model.make_pmf()\";\n",
       "                var nbb_cells = Jupyter.notebook.get_cells();\n",
       "                for (var i = 0; i < nbb_cells.length; ++i) {\n",
       "                    if (nbb_cells[i].input_prompt_number == nbb_cell_id) {\n",
       "                        if (nbb_cells[i].get_text() == nbb_unformatted_code) {\n",
       "                             nbb_cells[i].set_text(nbb_formatted_code);\n",
       "                        }\n",
       "                        break;\n",
       "                    }\n",
       "                }\n",
       "            }, 500);\n",
       "            "
      ],
      "text/plain": [
       "<IPython.core.display.Javascript object>"
      ]
     },
     "metadata": {},
     "output_type": "display_data"
    }
   ],
   "source": [
    "pmf_model = pdf_model.make_pmf()"
   ]
  },
  {
   "cell_type": "markdown",
   "id": "e0e4d5e7",
   "metadata": {},
   "source": [
    "The result contain probability masses, so we can at least plot it on the same axes as the PMF of the data."
   ]
  },
  {
   "cell_type": "code",
   "execution_count": 41,
   "id": "36507db8",
   "metadata": {},
   "outputs": [
    {
     "data": {
      "image/png": "[encoded data removed]",
      "text/plain": [
       "<Figure size 450x262.5 with 1 Axes>"
      ]
     },
     "metadata": {},
     "output_type": "display_data"
    },
    {
     "data": {
      "application/javascript": [
       "\n",
       "            setTimeout(function() {\n",
       "                var nbb_cell_id = 41;\n",
       "                var nbb_unformatted_code = \"pmf_model.plot(color=\\\"gray\\\")\\npmf_birth_weight.plot()\\n\\ndecorate(xlabel=\\\"Birth weight (pounds)\\\", ylabel=\\\"PMF\\\")\";\n",
       "                var nbb_formatted_code = \"pmf_model.plot(color=\\\"gray\\\")\\npmf_birth_weight.plot()\\n\\ndecorate(xlabel=\\\"Birth weight (pounds)\\\", ylabel=\\\"PMF\\\")\";\n",
       "                var nbb_cells = Jupyter.notebook.get_cells();\n",
       "                for (var i = 0; i < nbb_cells.length; ++i) {\n",
       "                    if (nbb_cells[i].input_prompt_number == nbb_cell_id) {\n",
       "                        if (nbb_cells[i].get_text() == nbb_unformatted_code) {\n",
       "                             nbb_cells[i].set_text(nbb_formatted_code);\n",
       "                        }\n",
       "                        break;\n",
       "                    }\n",
       "                }\n",
       "            }, 500);\n",
       "            "
      ],
      "text/plain": [
       "<IPython.core.display.Javascript object>"
      ]
     },
     "metadata": {},
     "output_type": "display_data"
    }
   ],
   "source": [
    "pmf_model.plot(color=\"gray\")\n",
    "pmf_birth_weight.plot()\n",
    "\n",
    "decorate(xlabel=\"Birth weight (pounds)\", ylabel=\"PMF\")"
   ]
  },
  {
   "cell_type": "markdown",
   "id": "b8aac9e9",
   "metadata": {},
   "source": [
    "But this is still not a good way to compare distributions.\n",
    "One problem is that the two `Pmf` objects contains different numbers of quantities, and the quantities in `pmf_birth_weight` are not equally spaced, so the probability masses are not really comparable."
   ]
  },
  {
   "cell_type": "code",
   "execution_count": 42,
   "id": "e6a44c0e",
   "metadata": {},
   "outputs": [
    {
     "data": {
      "text/plain": [
       "(201, 184)"
      ]
     },
     "execution_count": 42,
     "metadata": {},
     "output_type": "execute_result"
    },
    {
     "data": {
      "application/javascript": [
       "\n",
       "            setTimeout(function() {\n",
       "                var nbb_cell_id = 42;\n",
       "                var nbb_unformatted_code = \"len(pmf_model), len(pmf_birth_weight)\";\n",
       "                var nbb_formatted_code = \"len(pmf_model), len(pmf_birth_weight)\";\n",
       "                var nbb_cells = Jupyter.notebook.get_cells();\n",
       "                for (var i = 0; i < nbb_cells.length; ++i) {\n",
       "                    if (nbb_cells[i].input_prompt_number == nbb_cell_id) {\n",
       "                        if (nbb_cells[i].get_text() == nbb_unformatted_code) {\n",
       "                             nbb_cells[i].set_text(nbb_formatted_code);\n",
       "                        }\n",
       "                        break;\n",
       "                    }\n",
       "                }\n",
       "            }, 500);\n",
       "            "
      ],
      "text/plain": [
       "<IPython.core.display.Javascript object>"
      ]
     },
     "metadata": {},
     "output_type": "display_data"
    }
   ],
   "source": [
    "len(pmf_model), len(pmf_birth_weight)"
   ]
  },
  {
   "cell_type": "markdown",
   "id": "5cf1cf84",
   "metadata": {},
   "source": [
    "The other problem is that the `Pmf` of the data is noisy."
   ]
  },
  {
   "cell_type": "markdown",
   "id": "7d7a5b57",
   "metadata": {},
   "source": [
    "## Kernel Density Estimation\n",
    "\n",
    "So let's try something else -- instead of converting the model to a PMF, we can convert the distribution of the data to a PDF.\n",
    "To show how that works, I'll start with a small sample of the data."
   ]
  },
  {
   "cell_type": "code",
   "execution_count": 43,
   "id": "6c83c956",
   "metadata": {},
   "outputs": [
    {
     "data": {
      "application/javascript": [
       "\n",
       "            setTimeout(function() {\n",
       "                var nbb_cell_id = 43;\n",
       "                var nbb_unformatted_code = \"np.random.seed(3)\\n\\nn = 10\\nsample = birth_weights.sample(n)\";\n",
       "                var nbb_formatted_code = \"np.random.seed(3)\\n\\nn = 10\\nsample = birth_weights.sample(n)\";\n",
       "                var nbb_cells = Jupyter.notebook.get_cells();\n",
       "                for (var i = 0; i < nbb_cells.length; ++i) {\n",
       "                    if (nbb_cells[i].input_prompt_number == nbb_cell_id) {\n",
       "                        if (nbb_cells[i].get_text() == nbb_unformatted_code) {\n",
       "                             nbb_cells[i].set_text(nbb_formatted_code);\n",
       "                        }\n",
       "                        break;\n",
       "                    }\n",
       "                }\n",
       "            }, 500);\n",
       "            "
      ],
      "text/plain": [
       "<IPython.core.display.Javascript object>"
      ]
     },
     "metadata": {},
     "output_type": "display_data"
    }
   ],
   "source": [
    "np.random.seed(3)\n",
    "\n",
    "n = 10\n",
    "sample = birth_weights.sample(n)"
   ]
  },
  {
   "cell_type": "markdown",
   "id": "8f5356cf",
   "metadata": {},
   "source": [
    "The `Pmf` of this sample looks like this."
   ]
  },
  {
   "cell_type": "code",
   "execution_count": 44,
   "id": "e44b1ecd",
   "metadata": {},
   "outputs": [
    {
     "data": {
      "image/png": "[encoded data removed]",
      "text/plain": [
       "<Figure size 450x262.5 with 1 Axes>"
      ]
     },
     "metadata": {},
     "output_type": "display_data"
    },
    {
     "data": {
      "application/javascript": [
       "\n",
       "            setTimeout(function() {\n",
       "                var nbb_cell_id = 44;\n",
       "                var nbb_unformatted_code = \"for weight in sample:\\n    pmf = Pmf.from_seq([weight]) / n\\n    pmf.bar(width=0.08, alpha=0.5)\\n\\nxlim = [1.5, 12.5]\\ndecorate(xlabel=\\\"Birth weight (pounds)\\\", ylabel=\\\"PMF\\\", xlim=xlim)\";\n",
       "                var nbb_formatted_code = \"for weight in sample:\\n    pmf = Pmf.from_seq([weight]) / n\\n    pmf.bar(width=0.08, alpha=0.5)\\n\\nxlim = [1.5, 12.5]\\ndecorate(xlabel=\\\"Birth weight (pounds)\\\", ylabel=\\\"PMF\\\", xlim=xlim)\";\n",
       "                var nbb_cells = Jupyter.notebook.get_cells();\n",
       "                for (var i = 0; i < nbb_cells.length; ++i) {\n",
       "                    if (nbb_cells[i].input_prompt_number == nbb_cell_id) {\n",
       "                        if (nbb_cells[i].get_text() == nbb_unformatted_code) {\n",
       "                             nbb_cells[i].set_text(nbb_formatted_code);\n",
       "                        }\n",
       "                        break;\n",
       "                    }\n",
       "                }\n",
       "            }, 500);\n",
       "            "
      ],
      "text/plain": [
       "<IPython.core.display.Javascript object>"
      ]
     },
     "metadata": {},
     "output_type": "display_data"
    }
   ],
   "source": [
    "for weight in sample:\n",
    "    pmf = Pmf.from_seq([weight]) / n\n",
    "    pmf.bar(width=0.08, alpha=0.5)\n",
    "\n",
    "xlim = [1.5, 12.5]\n",
    "decorate(xlabel=\"Birth weight (pounds)\", ylabel=\"PMF\", xlim=xlim)"
   ]
  },
  {
   "cell_type": "markdown",
   "id": "70d7c7e0",
   "metadata": {},
   "source": [
    "This way of representing the distribution treats the data as if it is discrete, so each probability mass is stacked up on a single point.\n",
    "But birth weight is actually a continuous quantity, so the quantities between the measurements are also possible.\n",
    "We can represent that possibility by replacing each discrete probability mass with a continuous probability density, like this."
   ]
  },
  {
   "cell_type": "code",
   "execution_count": 45,
   "id": "2bd8fe67",
   "metadata": {},
   "outputs": [
    {
     "data": {
      "image/png": "[encoded data removed]",
      "text/plain": [
       "<Figure size 450x262.5 with 1 Axes>"
      ]
     },
     "metadata": {},
     "output_type": "display_data"
    },
    {
     "data": {
      "application/javascript": [
       "\n",
       "            setTimeout(function() {\n",
       "                var nbb_cell_id = 45;\n",
       "                var nbb_unformatted_code = \"qs = np.linspace(2, 12, 201)\\n\\nfor weight in sample:\\n    ps = NormalPdf(weight, 0.75)(qs) / n\\n    plt.plot(qs, ps, alpha=0.5)\\n\\ndecorate(xlabel=\\\"Birth weight (pounds)\\\", ylabel=\\\"PDF\\\", xlim=xlim)\";\n",
       "                var nbb_formatted_code = \"qs = np.linspace(2, 12, 201)\\n\\nfor weight in sample:\\n    ps = NormalPdf(weight, 0.75)(qs) / n\\n    plt.plot(qs, ps, alpha=0.5)\\n\\ndecorate(xlabel=\\\"Birth weight (pounds)\\\", ylabel=\\\"PDF\\\", xlim=xlim)\";\n",
       "                var nbb_cells = Jupyter.notebook.get_cells();\n",
       "                for (var i = 0; i < nbb_cells.length; ++i) {\n",
       "                    if (nbb_cells[i].input_prompt_number == nbb_cell_id) {\n",
       "                        if (nbb_cells[i].get_text() == nbb_unformatted_code) {\n",
       "                             nbb_cells[i].set_text(nbb_formatted_code);\n",
       "                        }\n",
       "                        break;\n",
       "                    }\n",
       "                }\n",
       "            }, 500);\n",
       "            "
      ],
      "text/plain": [
       "<IPython.core.display.Javascript object>"
      ]
     },
     "metadata": {},
     "output_type": "display_data"
    }
   ],
   "source": [
    "qs = np.linspace(2, 12, 201)\n",
    "\n",
    "for weight in sample:\n",
    "    ps = NormalPdf(weight, 0.75)(qs) / n\n",
    "    plt.plot(qs, ps, alpha=0.5)\n",
    "\n",
    "decorate(xlabel=\"Birth weight (pounds)\", ylabel=\"PDF\", xlim=xlim)"
   ]
  },
  {
   "cell_type": "markdown",
   "id": "bf0aeeb4",
   "metadata": {},
   "source": [
    "For each weight in the sample, we create a `NormalPdf` with the observed weight as the mean -- now let's add them up."
   ]
  },
  {
   "cell_type": "code",
   "execution_count": 46,
   "id": "065680cb",
   "metadata": {},
   "outputs": [
    {
     "data": {
      "image/png": "[encoded data removed]",
      "text/plain": [
       "<Figure size 450x262.5 with 1 Axes>"
      ]
     },
     "metadata": {},
     "output_type": "display_data"
    },
    {
     "data": {
      "application/javascript": [
       "\n",
       "            setTimeout(function() {\n",
       "                var nbb_cell_id = 46;\n",
       "                var nbb_unformatted_code = \"low_ps = np.zeros_like(qs)\\n\\nfor weight in sample:\\n    ps = NormalPdf(weight, 0.75)(qs) / n\\n    high_ps = low_ps + ps\\n    plt.fill_between(qs, low_ps, high_ps, alpha=0.5, lw=0)\\n    low_ps = high_ps\\n\\ndecorate(xlabel=\\\"Birth weight (pounds)\\\", ylabel=\\\"PDF\\\", xlim=xlim)\";\n",
       "                var nbb_formatted_code = \"low_ps = np.zeros_like(qs)\\n\\nfor weight in sample:\\n    ps = NormalPdf(weight, 0.75)(qs) / n\\n    high_ps = low_ps + ps\\n    plt.fill_between(qs, low_ps, high_ps, alpha=0.5, lw=0)\\n    low_ps = high_ps\\n\\ndecorate(xlabel=\\\"Birth weight (pounds)\\\", ylabel=\\\"PDF\\\", xlim=xlim)\";\n",
       "                var nbb_cells = Jupyter.notebook.get_cells();\n",
       "                for (var i = 0; i < nbb_cells.length; ++i) {\n",
       "                    if (nbb_cells[i].input_prompt_number == nbb_cell_id) {\n",
       "                        if (nbb_cells[i].get_text() == nbb_unformatted_code) {\n",
       "                             nbb_cells[i].set_text(nbb_formatted_code);\n",
       "                        }\n",
       "                        break;\n",
       "                    }\n",
       "                }\n",
       "            }, 500);\n",
       "            "
      ],
      "text/plain": [
       "<IPython.core.display.Javascript object>"
      ]
     },
     "metadata": {},
     "output_type": "display_data"
    }
   ],
   "source": [
    "low_ps = np.zeros_like(qs)\n",
    "\n",
    "for weight in sample:\n",
    "    ps = NormalPdf(weight, 0.75)(qs) / n\n",
    "    high_ps = low_ps + ps\n",
    "    plt.fill_between(qs, low_ps, high_ps, alpha=0.5, lw=0)\n",
    "    low_ps = high_ps\n",
    "\n",
    "decorate(xlabel=\"Birth weight (pounds)\", ylabel=\"PDF\", xlim=xlim)"
   ]
  },
  {
   "cell_type": "markdown",
   "id": "594b5d14",
   "metadata": {},
   "source": [
    "When we add up the probability densities for each data point, the result is an estimate of the probability density for the whole sample.\n",
    "This process is called **kernel density estimation** or KDE.\n",
    "In this context, a \"kernel\" is one of the small density functions we added up.\n",
    "Because the kernels we used are normal distributions -- also known as Gaussians -- we could say more specifically that we computed a Gaussian KDE.\n",
    "\n",
    "SciPy provides a function called `gaussian_kde` that implements this algorithm.\n",
    "Here's how we can use it to estimate the distribution of birth weights."
   ]
  },
  {
   "cell_type": "code",
   "execution_count": 47,
   "id": "c3dba7b9",
   "metadata": {},
   "outputs": [
    {
     "data": {
      "application/javascript": [
       "\n",
       "            setTimeout(function() {\n",
       "                var nbb_cell_id = 47;\n",
       "                var nbb_unformatted_code = \"from scipy.stats import gaussian_kde\\n\\nkde = gaussian_kde(birth_weights)\";\n",
       "                var nbb_formatted_code = \"from scipy.stats import gaussian_kde\\n\\nkde = gaussian_kde(birth_weights)\";\n",
       "                var nbb_cells = Jupyter.notebook.get_cells();\n",
       "                for (var i = 0; i < nbb_cells.length; ++i) {\n",
       "                    if (nbb_cells[i].input_prompt_number == nbb_cell_id) {\n",
       "                        if (nbb_cells[i].get_text() == nbb_unformatted_code) {\n",
       "                             nbb_cells[i].set_text(nbb_formatted_code);\n",
       "                        }\n",
       "                        break;\n",
       "                    }\n",
       "                }\n",
       "            }, 500);\n",
       "            "
      ],
      "text/plain": [
       "<IPython.core.display.Javascript object>"
      ]
     },
     "metadata": {},
     "output_type": "display_data"
    }
   ],
   "source": [
    "from scipy.stats import gaussian_kde\n",
    "\n",
    "kde = gaussian_kde(birth_weights)"
   ]
  },
  {
   "cell_type": "markdown",
   "id": "eaaa1528",
   "metadata": {},
   "source": [
    "The result is an object that represents the estimated PDF, which we can evaluate by calling it like  a function."
   ]
  },
  {
   "cell_type": "code",
   "execution_count": 48,
   "id": "10685681",
   "metadata": {},
   "outputs": [
    {
     "data": {
      "application/javascript": [
       "\n",
       "            setTimeout(function() {\n",
       "                var nbb_cell_id = 48;\n",
       "                var nbb_unformatted_code = \"ps = kde(qs)\";\n",
       "                var nbb_formatted_code = \"ps = kde(qs)\";\n",
       "                var nbb_cells = Jupyter.notebook.get_cells();\n",
       "                for (var i = 0; i < nbb_cells.length; ++i) {\n",
       "                    if (nbb_cells[i].input_prompt_number == nbb_cell_id) {\n",
       "                        if (nbb_cells[i].get_text() == nbb_unformatted_code) {\n",
       "                             nbb_cells[i].set_text(nbb_formatted_code);\n",
       "                        }\n",
       "                        break;\n",
       "                    }\n",
       "                }\n",
       "            }, 500);\n",
       "            "
      ],
      "text/plain": [
       "<IPython.core.display.Javascript object>"
      ]
     },
     "metadata": {},
     "output_type": "display_data"
    }
   ],
   "source": [
    "ps = kde(qs)"
   ]
  },
  {
   "cell_type": "markdown",
   "id": "be22fbe4",
   "metadata": {},
   "source": [
    "Here's what the result looks like."
   ]
  },
  {
   "cell_type": "code",
   "execution_count": 49,
   "id": "b5a6b73f",
   "metadata": {},
   "outputs": [
    {
     "data": {
      "image/png": "[encoded data removed]",
      "text/plain": [
       "<Figure size 450x262.5 with 1 Axes>"
      ]
     },
     "metadata": {},
     "output_type": "display_data"
    },
    {
     "data": {
      "application/javascript": [
       "\n",
       "            setTimeout(function() {\n",
       "                var nbb_cell_id = 49;\n",
       "                var nbb_unformatted_code = \"plt.plot(qs, ps)\\n\\ndecorate(xlabel=\\\"Birth weight (pounds)\\\", ylabel=\\\"Density\\\")\";\n",
       "                var nbb_formatted_code = \"plt.plot(qs, ps)\\n\\ndecorate(xlabel=\\\"Birth weight (pounds)\\\", ylabel=\\\"Density\\\")\";\n",
       "                var nbb_cells = Jupyter.notebook.get_cells();\n",
       "                for (var i = 0; i < nbb_cells.length; ++i) {\n",
       "                    if (nbb_cells[i].input_prompt_number == nbb_cell_id) {\n",
       "                        if (nbb_cells[i].get_text() == nbb_unformatted_code) {\n",
       "                             nbb_cells[i].set_text(nbb_formatted_code);\n",
       "                        }\n",
       "                        break;\n",
       "                    }\n",
       "                }\n",
       "            }, 500);\n",
       "            "
      ],
      "text/plain": [
       "<IPython.core.display.Javascript object>"
      ]
     },
     "metadata": {},
     "output_type": "display_data"
    }
   ],
   "source": [
    "plt.plot(qs, ps)\n",
    "\n",
    "decorate(xlabel=\"Birth weight (pounds)\", ylabel=\"Density\")"
   ]
  },
  {
   "cell_type": "markdown",
   "id": "1a3283fa",
   "metadata": {},
   "source": [
    "`thinkstats` provides a `Pdf` object that takes the result from `gaussian_kde`, and a domain that indicates where the density should be evaluated.\n",
    "Here's how we make one."
   ]
  },
  {
   "cell_type": "code",
   "execution_count": 50,
   "id": "b0774e65",
   "metadata": {},
   "outputs": [
    {
     "data": {
      "application/javascript": [
       "\n",
       "            setTimeout(function() {\n",
       "                var nbb_cell_id = 50;\n",
       "                var nbb_unformatted_code = \"from thinkstats import Pdf\\n\\ndomain = np.min(birth_weights), np.max(birth_weights)\\nkde_birth_weights = Pdf(kde, domain, name=\\\"data\\\")\";\n",
       "                var nbb_formatted_code = \"from thinkstats import Pdf\\n\\ndomain = np.min(birth_weights), np.max(birth_weights)\\nkde_birth_weights = Pdf(kde, domain, name=\\\"data\\\")\";\n",
       "                var nbb_cells = Jupyter.notebook.get_cells();\n",
       "                for (var i = 0; i < nbb_cells.length; ++i) {\n",
       "                    if (nbb_cells[i].input_prompt_number == nbb_cell_id) {\n",
       "                        if (nbb_cells[i].get_text() == nbb_unformatted_code) {\n",
       "                             nbb_cells[i].set_text(nbb_formatted_code);\n",
       "                        }\n",
       "                        break;\n",
       "                    }\n",
       "                }\n",
       "            }, 500);\n",
       "            "
      ],
      "text/plain": [
       "<IPython.core.display.Javascript object>"
      ]
     },
     "metadata": {},
     "output_type": "display_data"
    }
   ],
   "source": [
    "from thinkstats import Pdf\n",
    "\n",
    "domain = np.min(birth_weights), np.max(birth_weights)\n",
    "kde_birth_weights = Pdf(kde, domain, name=\"data\")"
   ]
  },
  {
   "cell_type": "markdown",
   "id": "e0023131",
   "metadata": {},
   "source": [
    "`Pdf` provides a `plot` method we can use to compare the estimated PDF of the sample to the PDF of a normal distribution."
   ]
  },
  {
   "cell_type": "code",
   "execution_count": 51,
   "id": "4d79028e",
   "metadata": {},
   "outputs": [
    {
     "data": {
      "image/png": "[encoded data removed]",
      "text/plain": [
       "<Figure size 450x262.5 with 1 Axes>"
      ]
     },
     "metadata": {},
     "output_type": "display_data"
    },
    {
     "data": {
      "application/javascript": [
       "\n",
       "            setTimeout(function() {\n",
       "                var nbb_cell_id = 51;\n",
       "                var nbb_unformatted_code = \"kde_birth_weights.plot()\\npdf_model.plot(color=\\\"gray\\\")\\n\\ndecorate(xlabel=\\\"Birth weight (pounds)\\\", ylabel=\\\"Density\\\")\";\n",
       "                var nbb_formatted_code = \"kde_birth_weights.plot()\\npdf_model.plot(color=\\\"gray\\\")\\n\\ndecorate(xlabel=\\\"Birth weight (pounds)\\\", ylabel=\\\"Density\\\")\";\n",
       "                var nbb_cells = Jupyter.notebook.get_cells();\n",
       "                for (var i = 0; i < nbb_cells.length; ++i) {\n",
       "                    if (nbb_cells[i].input_prompt_number == nbb_cell_id) {\n",
       "                        if (nbb_cells[i].get_text() == nbb_unformatted_code) {\n",
       "                             nbb_cells[i].set_text(nbb_formatted_code);\n",
       "                        }\n",
       "                        break;\n",
       "                    }\n",
       "                }\n",
       "            }, 500);\n",
       "            "
      ],
      "text/plain": [
       "<IPython.core.display.Javascript object>"
      ]
     },
     "metadata": {},
     "output_type": "display_data"
    }
   ],
   "source": [
    "kde_birth_weights.plot()\n",
    "pdf_model.plot(color=\"gray\")\n",
    "\n",
    "decorate(xlabel=\"Birth weight (pounds)\", ylabel=\"Density\")"
   ]
  },
  {
   "cell_type": "markdown",
   "id": "2eaf2160",
   "metadata": {},
   "source": [
    "KDE makes it possible to compare the distribution of a dataset to a theoretical model, and for some audiences, this is a good way to visualize the comparison.\n",
    "But for continuous quantities, I think it's usually better to compare CDFs."
   ]
  },
  {
   "cell_type": "markdown",
   "id": "9890ea3b",
   "metadata": {},
   "source": [
    "## The distribution framework\n",
    "\n",
    "At this point we have a complete set of ways to represent distributions: PMFs, CDFs, and PDFs\n",
    "The following figure shows these representations and the transitions from one to another.\n",
    "For example, if we have a `Pmf`, we can use the `cumsum` function to compute the cumulative sum of the probabilities and get a `Cdf` that represents the same distribution.\n",
    "\n",
    "<img width=\"400\" src=\"https://github.com/AllenDowney/ThinkStats/raw/v3/figs/distribution_framework.png\">\n",
    "\n",
    "To demonstrate these transitions, we'll use a new dataset that \"contains the time of birth, sex, and birth weight for each of 44 babies born in one 24-hour period at a Brisbane, Australia, hospital.\"\n",
    "\n",
    "`thinkstats` provides a function that reads the data and returns a `DataFrame`."
   ]
  },
  {
   "cell_type": "code",
   "execution_count": 52,
   "id": "209b7e67",
   "metadata": {
    "tags": [
     "remove-print"
    ]
   },
   "outputs": [
    {
     "data": {
      "application/javascript": [
       "\n",
       "            setTimeout(function() {\n",
       "                var nbb_cell_id = 52;\n",
       "                var nbb_unformatted_code = \"download(\\\"https://github.com/AllenDowney/ThinkStats/raw/v3/data/babyboom.dat\\\")\";\n",
       "                var nbb_formatted_code = \"download(\\\"https://github.com/AllenDowney/ThinkStats/raw/v3/data/babyboom.dat\\\")\";\n",
       "                var nbb_cells = Jupyter.notebook.get_cells();\n",
       "                for (var i = 0; i < nbb_cells.length; ++i) {\n",
       "                    if (nbb_cells[i].input_prompt_number == nbb_cell_id) {\n",
       "                        if (nbb_cells[i].get_text() == nbb_unformatted_code) {\n",
       "                             nbb_cells[i].set_text(nbb_formatted_code);\n",
       "                        }\n",
       "                        break;\n",
       "                    }\n",
       "                }\n",
       "            }, 500);\n",
       "            "
      ],
      "text/plain": [
       "<IPython.core.display.Javascript object>"
      ]
     },
     "metadata": {},
     "output_type": "display_data"
    }
   ],
   "source": [
    "download(\"https://github.com/AllenDowney/ThinkStats/raw/v3/data/babyboom.dat\")"
   ]
  },
  {
   "cell_type": "code",
   "execution_count": 53,
   "id": "1d4c6176",
   "metadata": {},
   "outputs": [
    {
     "data": {
      "text/html": [
       "<div>\n",
       "<style scoped>\n",
       "    .dataframe tbody tr th:only-of-type {\n",
       "        vertical-align: middle;\n",
       "    }\n",
       "\n",
       "    .dataframe tbody tr th {\n",
       "        vertical-align: top;\n",
       "    }\n",
       "\n",
       "    .dataframe thead th {\n",
       "        text-align: right;\n",
       "    }\n",
       "</style>\n",
       "<table border=\"1\" class=\"dataframe\">\n",
       "  <thead>\n",
       "    <tr style=\"text-align: right;\">\n",
       "      <th></th>\n",
       "      <th>time</th>\n",
       "      <th>sex</th>\n",
       "      <th>weight_g</th>\n",
       "      <th>minutes</th>\n",
       "    </tr>\n",
       "  </thead>\n",
       "  <tbody>\n",
       "    <tr>\n",
       "      <th>0</th>\n",
       "      <td>5</td>\n",
       "      <td>1</td>\n",
       "      <td>3837</td>\n",
       "      <td>5</td>\n",
       "    </tr>\n",
       "    <tr>\n",
       "      <th>1</th>\n",
       "      <td>104</td>\n",
       "      <td>1</td>\n",
       "      <td>3334</td>\n",
       "      <td>64</td>\n",
       "    </tr>\n",
       "    <tr>\n",
       "      <th>2</th>\n",
       "      <td>118</td>\n",
       "      <td>2</td>\n",
       "      <td>3554</td>\n",
       "      <td>78</td>\n",
       "    </tr>\n",
       "    <tr>\n",
       "      <th>3</th>\n",
       "      <td>155</td>\n",
       "      <td>2</td>\n",
       "      <td>3838</td>\n",
       "      <td>115</td>\n",
       "    </tr>\n",
       "    <tr>\n",
       "      <th>4</th>\n",
       "      <td>257</td>\n",
       "      <td>2</td>\n",
       "      <td>3625</td>\n",
       "      <td>177</td>\n",
       "    </tr>\n",
       "  </tbody>\n",
       "</table>\n",
       "</div>"
      ],
      "text/plain": [
       "   time  sex  weight_g  minutes\n",
       "0     5    1      3837        5\n",
       "1   104    1      3334       64\n",
       "2   118    2      3554       78\n",
       "3   155    2      3838      115\n",
       "4   257    2      3625      177"
      ]
     },
     "execution_count": 53,
     "metadata": {},
     "output_type": "execute_result"
    },
    {
     "data": {
      "application/javascript": [
       "\n",
       "            setTimeout(function() {\n",
       "                var nbb_cell_id = 53;\n",
       "                var nbb_unformatted_code = \"from thinkstats import read_baby_boom\\n\\nboom = read_baby_boom()\\nboom.head()\";\n",
       "                var nbb_formatted_code = \"from thinkstats import read_baby_boom\\n\\nboom = read_baby_boom()\\nboom.head()\";\n",
       "                var nbb_cells = Jupyter.notebook.get_cells();\n",
       "                for (var i = 0; i < nbb_cells.length; ++i) {\n",
       "                    if (nbb_cells[i].input_prompt_number == nbb_cell_id) {\n",
       "                        if (nbb_cells[i].get_text() == nbb_unformatted_code) {\n",
       "                             nbb_cells[i].set_text(nbb_formatted_code);\n",
       "                        }\n",
       "                        break;\n",
       "                    }\n",
       "                }\n",
       "            }, 500);\n",
       "            "
      ],
      "text/plain": [
       "<IPython.core.display.Javascript object>"
      ]
     },
     "metadata": {},
     "output_type": "display_data"
    }
   ],
   "source": [
    "from thinkstats import read_baby_boom\n",
    "\n",
    "boom = read_baby_boom()\n",
    "boom.head()"
   ]
  },
  {
   "cell_type": "markdown",
   "id": "e9cc296d",
   "metadata": {},
   "source": [
    "The `minutes` records \"the number of minutes since midnight for each birth\".\n",
    "So can use the `diff` method to compute the interval between each successive birth."
   ]
  },
  {
   "cell_type": "code",
   "execution_count": 54,
   "id": "942f38eb",
   "metadata": {},
   "outputs": [
    {
     "data": {
      "application/javascript": [
       "\n",
       "            setTimeout(function() {\n",
       "                var nbb_cell_id = 54;\n",
       "                var nbb_unformatted_code = \"diffs = boom[\\\"minutes\\\"].diff().dropna()\";\n",
       "                var nbb_formatted_code = \"diffs = boom[\\\"minutes\\\"].diff().dropna()\";\n",
       "                var nbb_cells = Jupyter.notebook.get_cells();\n",
       "                for (var i = 0; i < nbb_cells.length; ++i) {\n",
       "                    if (nbb_cells[i].input_prompt_number == nbb_cell_id) {\n",
       "                        if (nbb_cells[i].get_text() == nbb_unformatted_code) {\n",
       "                             nbb_cells[i].set_text(nbb_formatted_code);\n",
       "                        }\n",
       "                        break;\n",
       "                    }\n",
       "                }\n",
       "            }, 500);\n",
       "            "
      ],
      "text/plain": [
       "<IPython.core.display.Javascript object>"
      ]
     },
     "metadata": {},
     "output_type": "display_data"
    }
   ],
   "source": [
    "diffs = boom[\"minutes\"].diff().dropna()"
   ]
  },
  {
   "cell_type": "markdown",
   "id": "fab56d42",
   "metadata": {},
   "source": [
    "If births happen with equal probability during any minute of the day, we expect these intervals to follow an exponential distribution.\n",
    "In reality, that assumption is not precisely true, but the exponential distribution might still be a good model for the data.\n",
    "\n",
    "To find out, we'll start by making a `Pmf` that represents the distribution of intervals."
   ]
  },
  {
   "cell_type": "code",
   "execution_count": 55,
   "id": "ee30688b",
   "metadata": {},
   "outputs": [
    {
     "data": {
      "image/png": "[encoded data removed]",
      "text/plain": [
       "<Figure size 450x262.5 with 1 Axes>"
      ]
     },
     "metadata": {},
     "output_type": "display_data"
    },
    {
     "data": {
      "application/javascript": [
       "\n",
       "            setTimeout(function() {\n",
       "                var nbb_cell_id = 55;\n",
       "                var nbb_unformatted_code = \"pmf_diffs = Pmf.from_seq(diffs, name=\\\"data\\\")\\npmf_diffs.bar(width=1)\\n\\ndecorate(xlabel=\\\"Interval (minutes)\\\", ylabel=\\\"PMF\\\")\";\n",
       "                var nbb_formatted_code = \"pmf_diffs = Pmf.from_seq(diffs, name=\\\"data\\\")\\npmf_diffs.bar(width=1)\\n\\ndecorate(xlabel=\\\"Interval (minutes)\\\", ylabel=\\\"PMF\\\")\";\n",
       "                var nbb_cells = Jupyter.notebook.get_cells();\n",
       "                for (var i = 0; i < nbb_cells.length; ++i) {\n",
       "                    if (nbb_cells[i].input_prompt_number == nbb_cell_id) {\n",
       "                        if (nbb_cells[i].get_text() == nbb_unformatted_code) {\n",
       "                             nbb_cells[i].set_text(nbb_formatted_code);\n",
       "                        }\n",
       "                        break;\n",
       "                    }\n",
       "                }\n",
       "            }, 500);\n",
       "            "
      ],
      "text/plain": [
       "<IPython.core.display.Javascript object>"
      ]
     },
     "metadata": {},
     "output_type": "display_data"
    }
   ],
   "source": [
    "pmf_diffs = Pmf.from_seq(diffs, name=\"data\")\n",
    "pmf_diffs.bar(width=1)\n",
    "\n",
    "decorate(xlabel=\"Interval (minutes)\", ylabel=\"PMF\")"
   ]
  },
  {
   "cell_type": "markdown",
   "id": "cdcd639f",
   "metadata": {},
   "source": [
    "The `make_cdf` method computes the cumulative sum of the probabilities in the `Pmf` and returns a `Cdf` object."
   ]
  },
  {
   "cell_type": "code",
   "execution_count": 56,
   "id": "4466e8cc",
   "metadata": {},
   "outputs": [
    {
     "data": {
      "image/png": "[encoded data removed]",
      "text/plain": [
       "<Figure size 450x262.5 with 1 Axes>"
      ]
     },
     "metadata": {},
     "output_type": "display_data"
    },
    {
     "data": {
      "application/javascript": [
       "\n",
       "            setTimeout(function() {\n",
       "                var nbb_cell_id = 56;\n",
       "                var nbb_unformatted_code = \"cdf_diffs = pmf_diffs.make_cdf()\\ncdf_diffs.step(color=\\\"C1\\\")\\n\\ndecorate(xlabel=\\\"Interval (minutes)\\\", ylabel=\\\"CDF\\\")\";\n",
       "                var nbb_formatted_code = \"cdf_diffs = pmf_diffs.make_cdf()\\ncdf_diffs.step(color=\\\"C1\\\")\\n\\ndecorate(xlabel=\\\"Interval (minutes)\\\", ylabel=\\\"CDF\\\")\";\n",
       "                var nbb_cells = Jupyter.notebook.get_cells();\n",
       "                for (var i = 0; i < nbb_cells.length; ++i) {\n",
       "                    if (nbb_cells[i].input_prompt_number == nbb_cell_id) {\n",
       "                        if (nbb_cells[i].get_text() == nbb_unformatted_code) {\n",
       "                             nbb_cells[i].set_text(nbb_formatted_code);\n",
       "                        }\n",
       "                        break;\n",
       "                    }\n",
       "                }\n",
       "            }, 500);\n",
       "            "
      ],
      "text/plain": [
       "<IPython.core.display.Javascript object>"
      ]
     },
     "metadata": {},
     "output_type": "display_data"
    }
   ],
   "source": [
    "cdf_diffs = pmf_diffs.make_cdf()\n",
    "cdf_diffs.step(color=\"C1\")\n",
    "\n",
    "decorate(xlabel=\"Interval (minutes)\", ylabel=\"CDF\")"
   ]
  },
  {
   "cell_type": "markdown",
   "id": "8960e286",
   "metadata": {},
   "source": [
    "The `Pmf` and `Cdf` are equivalent in the sense that if we are given either one, we can compute the other.\n",
    "To demonstrate, we'll use the `make_pmf` method, which computes the differences between successive probabilities in a `Cdf` and returns a `Pmf`."
   ]
  },
  {
   "cell_type": "code",
   "execution_count": 57,
   "id": "9367a75f",
   "metadata": {},
   "outputs": [
    {
     "data": {
      "application/javascript": [
       "\n",
       "            setTimeout(function() {\n",
       "                var nbb_cell_id = 57;\n",
       "                var nbb_unformatted_code = \"pmf_diffs2 = cdf_diffs.make_pmf()\";\n",
       "                var nbb_formatted_code = \"pmf_diffs2 = cdf_diffs.make_pmf()\";\n",
       "                var nbb_cells = Jupyter.notebook.get_cells();\n",
       "                for (var i = 0; i < nbb_cells.length; ++i) {\n",
       "                    if (nbb_cells[i].input_prompt_number == nbb_cell_id) {\n",
       "                        if (nbb_cells[i].get_text() == nbb_unformatted_code) {\n",
       "                             nbb_cells[i].set_text(nbb_formatted_code);\n",
       "                        }\n",
       "                        break;\n",
       "                    }\n",
       "                }\n",
       "            }, 500);\n",
       "            "
      ],
      "text/plain": [
       "<IPython.core.display.Javascript object>"
      ]
     },
     "metadata": {},
     "output_type": "display_data"
    }
   ],
   "source": [
    "pmf_diffs2 = cdf_diffs.make_pmf()"
   ]
  },
  {
   "cell_type": "markdown",
   "id": "db091dd4",
   "metadata": {},
   "source": [
    "The result should be identical to the original `Pmf`, but there might be small floating-point errors.\n",
    "We can use `allclose` to check that the result is close to the original `Pmf`."
   ]
  },
  {
   "cell_type": "code",
   "execution_count": 58,
   "id": "57be0167",
   "metadata": {},
   "outputs": [
    {
     "data": {
      "text/plain": [
       "True"
      ]
     },
     "execution_count": 58,
     "metadata": {},
     "output_type": "execute_result"
    },
    {
     "data": {
      "application/javascript": [
       "\n",
       "            setTimeout(function() {\n",
       "                var nbb_cell_id = 58;\n",
       "                var nbb_unformatted_code = \"np.allclose(pmf_diffs, pmf_diffs2)\";\n",
       "                var nbb_formatted_code = \"np.allclose(pmf_diffs, pmf_diffs2)\";\n",
       "                var nbb_cells = Jupyter.notebook.get_cells();\n",
       "                for (var i = 0; i < nbb_cells.length; ++i) {\n",
       "                    if (nbb_cells[i].input_prompt_number == nbb_cell_id) {\n",
       "                        if (nbb_cells[i].get_text() == nbb_unformatted_code) {\n",
       "                             nbb_cells[i].set_text(nbb_formatted_code);\n",
       "                        }\n",
       "                        break;\n",
       "                    }\n",
       "                }\n",
       "            }, 500);\n",
       "            "
      ],
      "text/plain": [
       "<IPython.core.display.Javascript object>"
      ]
     },
     "metadata": {},
     "output_type": "display_data"
    }
   ],
   "source": [
    "np.allclose(pmf_diffs, pmf_diffs2)"
   ]
  },
  {
   "cell_type": "markdown",
   "id": "dfc925f4",
   "metadata": {},
   "source": [
    "And it is.\n",
    "\n",
    "From a `Pmf`, we can estimate a density function by calling `gaussian_kde` with the probabilities from the `Pmf` as weights."
   ]
  },
  {
   "cell_type": "code",
   "execution_count": 59,
   "id": "fcb28634",
   "metadata": {},
   "outputs": [
    {
     "data": {
      "application/javascript": [
       "\n",
       "            setTimeout(function() {\n",
       "                var nbb_cell_id = 59;\n",
       "                var nbb_unformatted_code = \"kde = gaussian_kde(pmf_diffs.qs, weights=pmf_diffs.ps)\";\n",
       "                var nbb_formatted_code = \"kde = gaussian_kde(pmf_diffs.qs, weights=pmf_diffs.ps)\";\n",
       "                var nbb_cells = Jupyter.notebook.get_cells();\n",
       "                for (var i = 0; i < nbb_cells.length; ++i) {\n",
       "                    if (nbb_cells[i].input_prompt_number == nbb_cell_id) {\n",
       "                        if (nbb_cells[i].get_text() == nbb_unformatted_code) {\n",
       "                             nbb_cells[i].set_text(nbb_formatted_code);\n",
       "                        }\n",
       "                        break;\n",
       "                    }\n",
       "                }\n",
       "            }, 500);\n",
       "            "
      ],
      "text/plain": [
       "<IPython.core.display.Javascript object>"
      ]
     },
     "metadata": {},
     "output_type": "display_data"
    }
   ],
   "source": [
    "kde = gaussian_kde(pmf_diffs.qs, weights=pmf_diffs.ps)"
   ]
  },
  {
   "cell_type": "code",
   "execution_count": 60,
   "id": "a8a9a473",
   "metadata": {},
   "outputs": [
    {
     "data": {
      "image/png": "[encoded data removed]",
      "text/plain": [
       "<Figure size 450x262.5 with 1 Axes>"
      ]
     },
     "metadata": {},
     "output_type": "display_data"
    },
    {
     "data": {
      "application/javascript": [
       "\n",
       "            setTimeout(function() {\n",
       "                var nbb_cell_id = 60;\n",
       "                var nbb_unformatted_code = \"domain = np.min(pmf_diffs.qs), np.max(pmf_diffs.qs)\\nkde_diffs = Pdf(kde, domain=domain, name=\\\"estimated density\\\")\\n\\nkde_diffs.plot()\\ndecorate(xlabel=\\\"Interval (minutes)\\\", ylabel=\\\"Density\\\")\";\n",
       "                var nbb_formatted_code = \"domain = np.min(pmf_diffs.qs), np.max(pmf_diffs.qs)\\nkde_diffs = Pdf(kde, domain=domain, name=\\\"estimated density\\\")\\n\\nkde_diffs.plot()\\ndecorate(xlabel=\\\"Interval (minutes)\\\", ylabel=\\\"Density\\\")\";\n",
       "                var nbb_cells = Jupyter.notebook.get_cells();\n",
       "                for (var i = 0; i < nbb_cells.length; ++i) {\n",
       "                    if (nbb_cells[i].input_prompt_number == nbb_cell_id) {\n",
       "                        if (nbb_cells[i].get_text() == nbb_unformatted_code) {\n",
       "                             nbb_cells[i].set_text(nbb_formatted_code);\n",
       "                        }\n",
       "                        break;\n",
       "                    }\n",
       "                }\n",
       "            }, 500);\n",
       "            "
      ],
      "text/plain": [
       "<IPython.core.display.Javascript object>"
      ]
     },
     "metadata": {},
     "output_type": "display_data"
    }
   ],
   "source": [
    "domain = np.min(pmf_diffs.qs), np.max(pmf_diffs.qs)\n",
    "kde_diffs = Pdf(kde, domain=domain, name=\"estimated density\")\n",
    "\n",
    "kde_diffs.plot()\n",
    "decorate(xlabel=\"Interval (minutes)\", ylabel=\"Density\")"
   ]
  },
  {
   "cell_type": "markdown",
   "id": "8ff7e136",
   "metadata": {},
   "source": [
    "To see whether the estimated density follows an exponential model, we can make an `ExponentialPdf` with the same mean as the data."
   ]
  },
  {
   "cell_type": "code",
   "execution_count": 61,
   "id": "e277f839",
   "metadata": {},
   "outputs": [
    {
     "data": {
      "application/javascript": [
       "\n",
       "            setTimeout(function() {\n",
       "                var nbb_cell_id = 61;\n",
       "                var nbb_unformatted_code = \"m = diffs.mean()\\nlam = 1 / m\\npdf_model = ExponentialPdf(lam, name=\\\"exponential PDF\\\")\";\n",
       "                var nbb_formatted_code = \"m = diffs.mean()\\nlam = 1 / m\\npdf_model = ExponentialPdf(lam, name=\\\"exponential PDF\\\")\";\n",
       "                var nbb_cells = Jupyter.notebook.get_cells();\n",
       "                for (var i = 0; i < nbb_cells.length; ++i) {\n",
       "                    if (nbb_cells[i].input_prompt_number == nbb_cell_id) {\n",
       "                        if (nbb_cells[i].get_text() == nbb_unformatted_code) {\n",
       "                             nbb_cells[i].set_text(nbb_formatted_code);\n",
       "                        }\n",
       "                        break;\n",
       "                    }\n",
       "                }\n",
       "            }, 500);\n",
       "            "
      ],
      "text/plain": [
       "<IPython.core.display.Javascript object>"
      ]
     },
     "metadata": {},
     "output_type": "display_data"
    }
   ],
   "source": [
    "m = diffs.mean()\n",
    "lam = 1 / m\n",
    "pdf_model = ExponentialPdf(lam, name=\"exponential PDF\")"
   ]
  },
  {
   "cell_type": "markdown",
   "id": "21a50afc",
   "metadata": {},
   "source": [
    "Here's what it looks like compared to the estimated density."
   ]
  },
  {
   "cell_type": "code",
   "execution_count": 62,
   "id": "7daa6d23",
   "metadata": {},
   "outputs": [
    {
     "data": {
      "image/png": "[encoded data removed]",
      "text/plain": [
       "<Figure size 450x262.5 with 1 Axes>"
      ]
     },
     "metadata": {},
     "output_type": "display_data"
    },
    {
     "data": {
      "application/javascript": [
       "\n",
       "            setTimeout(function() {\n",
       "                var nbb_cell_id = 62;\n",
       "                var nbb_unformatted_code = \"pdf_model.plot(color=\\\"gray\\\")\\nkde_diffs.plot()\\ndecorate(xlabel=\\\"Interval (minutes)\\\", ylabel=\\\"Density\\\")\";\n",
       "                var nbb_formatted_code = \"pdf_model.plot(color=\\\"gray\\\")\\nkde_diffs.plot()\\ndecorate(xlabel=\\\"Interval (minutes)\\\", ylabel=\\\"Density\\\")\";\n",
       "                var nbb_cells = Jupyter.notebook.get_cells();\n",
       "                for (var i = 0; i < nbb_cells.length; ++i) {\n",
       "                    if (nbb_cells[i].input_prompt_number == nbb_cell_id) {\n",
       "                        if (nbb_cells[i].get_text() == nbb_unformatted_code) {\n",
       "                             nbb_cells[i].set_text(nbb_formatted_code);\n",
       "                        }\n",
       "                        break;\n",
       "                    }\n",
       "                }\n",
       "            }, 500);\n",
       "            "
      ],
      "text/plain": [
       "<IPython.core.display.Javascript object>"
      ]
     },
     "metadata": {},
     "output_type": "display_data"
    }
   ],
   "source": [
    "pdf_model.plot(color=\"gray\")\n",
    "kde_diffs.plot()\n",
    "decorate(xlabel=\"Interval (minutes)\", ylabel=\"Density\")"
   ]
  },
  {
   "cell_type": "markdown",
   "id": "d752b804",
   "metadata": {},
   "source": [
    "Comparing the estimated density to an exponential PDF, it doesn't seem like the data fit the model well.\n",
    "But that might be misleading -- again, I think comparing CDFs provides the clearer picture.\n",
    "\n",
    "Here's the CDF of an exponential distribution compared to the CDF of the data."
   ]
  },
  {
   "cell_type": "code",
   "execution_count": 63,
   "id": "fe493a82",
   "metadata": {},
   "outputs": [
    {
     "data": {
      "image/png": "[encoded data removed]",
      "text/plain": [
       "<Figure size 450x262.5 with 1 Axes>"
      ]
     },
     "metadata": {},
     "output_type": "display_data"
    },
    {
     "data": {
      "application/javascript": [
       "\n",
       "            setTimeout(function() {\n",
       "                var nbb_cell_id = 63;\n",
       "                var nbb_unformatted_code = \"from thinkstats import ExponentialCdf\\n\\ncdf_model = ExponentialCdf(lam, name=\\\"exponential CDF\\\")\\ncdf_model.plot(color=\\\"gray\\\")\\ncdf_diffs.step(color=\\\"C1\\\")\\n\\ndecorate(xlabel=\\\"Interval (minutes)\\\", ylabel=\\\"CDF\\\")\";\n",
       "                var nbb_formatted_code = \"from thinkstats import ExponentialCdf\\n\\ncdf_model = ExponentialCdf(lam, name=\\\"exponential CDF\\\")\\ncdf_model.plot(color=\\\"gray\\\")\\ncdf_diffs.step(color=\\\"C1\\\")\\n\\ndecorate(xlabel=\\\"Interval (minutes)\\\", ylabel=\\\"CDF\\\")\";\n",
       "                var nbb_cells = Jupyter.notebook.get_cells();\n",
       "                for (var i = 0; i < nbb_cells.length; ++i) {\n",
       "                    if (nbb_cells[i].input_prompt_number == nbb_cell_id) {\n",
       "                        if (nbb_cells[i].get_text() == nbb_unformatted_code) {\n",
       "                             nbb_cells[i].set_text(nbb_formatted_code);\n",
       "                        }\n",
       "                        break;\n",
       "                    }\n",
       "                }\n",
       "            }, 500);\n",
       "            "
      ],
      "text/plain": [
       "<IPython.core.display.Javascript object>"
      ]
     },
     "metadata": {},
     "output_type": "display_data"
    }
   ],
   "source": [
    "from thinkstats import ExponentialCdf\n",
    "\n",
    "cdf_model = ExponentialCdf(lam, name=\"exponential CDF\")\n",
    "cdf_model.plot(color=\"gray\")\n",
    "cdf_diffs.step(color=\"C1\")\n",
    "\n",
    "decorate(xlabel=\"Interval (minutes)\", ylabel=\"CDF\")"
   ]
  },
  {
   "cell_type": "markdown",
   "id": "323b1e1b",
   "metadata": {},
   "source": [
    "The exponential CDF fits the CDF of the data well.\n",
    "\n",
    "Given an `ExponentialPdf`, we can use `make_pmf` to **discretize** the PDF -- that is, to make a discrete approximation by evaluating the PDF at a sequence of equally spaced quantities."
   ]
  },
  {
   "cell_type": "code",
   "execution_count": 64,
   "id": "7b8aa512",
   "metadata": {},
   "outputs": [
    {
     "data": {
      "image/png": "[encoded data removed]",
      "text/plain": [
       "<Figure size 450x262.5 with 1 Axes>"
      ]
     },
     "metadata": {},
     "output_type": "display_data"
    },
    {
     "data": {
      "application/javascript": [
       "\n",
       "            setTimeout(function() {\n",
       "                var nbb_cell_id = 64;\n",
       "                var nbb_unformatted_code = \"qs = np.linspace(0, 175, 31)\\npmf_model = pdf_model.make_pmf(qs)\\npmf_model.bar(width=2)\\n\\ndecorate(xlabel=\\\"Interval (minutes)\\\", ylabel=\\\"PMF\\\")\";\n",
       "                var nbb_formatted_code = \"qs = np.linspace(0, 175, 31)\\npmf_model = pdf_model.make_pmf(qs)\\npmf_model.bar(width=2)\\n\\ndecorate(xlabel=\\\"Interval (minutes)\\\", ylabel=\\\"PMF\\\")\";\n",
       "                var nbb_cells = Jupyter.notebook.get_cells();\n",
       "                for (var i = 0; i < nbb_cells.length; ++i) {\n",
       "                    if (nbb_cells[i].input_prompt_number == nbb_cell_id) {\n",
       "                        if (nbb_cells[i].get_text() == nbb_unformatted_code) {\n",
       "                             nbb_cells[i].set_text(nbb_formatted_code);\n",
       "                        }\n",
       "                        break;\n",
       "                    }\n",
       "                }\n",
       "            }, 500);\n",
       "            "
      ],
      "text/plain": [
       "<IPython.core.display.Javascript object>"
      ]
     },
     "metadata": {},
     "output_type": "display_data"
    }
   ],
   "source": [
    "qs = np.linspace(0, 175, 31)\n",
    "pmf_model = pdf_model.make_pmf(qs)\n",
    "pmf_model.bar(width=2)\n",
    "\n",
    "decorate(xlabel=\"Interval (minutes)\", ylabel=\"PMF\")"
   ]
  },
  {
   "cell_type": "markdown",
   "id": "51583008",
   "metadata": {},
   "source": [
    "And given an `ExponentialCdf`, we can use `make_cdf` to make a discrete approximation of the exponential CDF."
   ]
  },
  {
   "cell_type": "code",
   "execution_count": 65,
   "id": "6993364d",
   "metadata": {},
   "outputs": [
    {
     "data": {
      "image/png": "[encoded data removed]",
      "text/plain": [
       "<Figure size 450x262.5 with 1 Axes>"
      ]
     },
     "metadata": {},
     "output_type": "display_data"
    },
    {
     "data": {
      "application/javascript": [
       "\n",
       "            setTimeout(function() {\n",
       "                var nbb_cell_id = 65;\n",
       "                var nbb_unformatted_code = \"discrete_cdf_model = cdf_model.make_cdf(qs)\\ndiscrete_cdf_model.step()\\n\\ndecorate(xlabel=\\\"Interval (minutes)\\\", ylabel=\\\"CDF\\\")\";\n",
       "                var nbb_formatted_code = \"discrete_cdf_model = cdf_model.make_cdf(qs)\\ndiscrete_cdf_model.step()\\n\\ndecorate(xlabel=\\\"Interval (minutes)\\\", ylabel=\\\"CDF\\\")\";\n",
       "                var nbb_cells = Jupyter.notebook.get_cells();\n",
       "                for (var i = 0; i < nbb_cells.length; ++i) {\n",
       "                    if (nbb_cells[i].input_prompt_number == nbb_cell_id) {\n",
       "                        if (nbb_cells[i].get_text() == nbb_unformatted_code) {\n",
       "                             nbb_cells[i].set_text(nbb_formatted_code);\n",
       "                        }\n",
       "                        break;\n",
       "                    }\n",
       "                }\n",
       "            }, 500);\n",
       "            "
      ],
      "text/plain": [
       "<IPython.core.display.Javascript object>"
      ]
     },
     "metadata": {},
     "output_type": "display_data"
    }
   ],
   "source": [
    "discrete_cdf_model = cdf_model.make_cdf(qs)\n",
    "discrete_cdf_model.step()\n",
    "\n",
    "decorate(xlabel=\"Interval (minutes)\", ylabel=\"CDF\")"
   ]
  },
  {
   "cell_type": "markdown",
   "id": "ed63815d",
   "metadata": {},
   "source": [
    "Finally, to get from a discrete CDF to a continuous CDF, we can interpolate between the steps, which is what we see if we use the `plot` method instead of the `step` method."
   ]
  },
  {
   "cell_type": "code",
   "execution_count": 66,
   "id": "bf96cbce",
   "metadata": {},
   "outputs": [
    {
     "data": {
      "image/png": "[encoded data removed]",
      "text/plain": [
       "<Figure size 450x262.5 with 1 Axes>"
      ]
     },
     "metadata": {},
     "output_type": "display_data"
    },
    {
     "data": {
      "application/javascript": [
       "\n",
       "            setTimeout(function() {\n",
       "                var nbb_cell_id = 66;\n",
       "                var nbb_unformatted_code = \"discrete_cdf_model.plot()\\n\\ndecorate(xlabel=\\\"Interval (minutes)\\\", ylabel=\\\"CDF\\\")\";\n",
       "                var nbb_formatted_code = \"discrete_cdf_model.plot()\\n\\ndecorate(xlabel=\\\"Interval (minutes)\\\", ylabel=\\\"CDF\\\")\";\n",
       "                var nbb_cells = Jupyter.notebook.get_cells();\n",
       "                for (var i = 0; i < nbb_cells.length; ++i) {\n",
       "                    if (nbb_cells[i].input_prompt_number == nbb_cell_id) {\n",
       "                        if (nbb_cells[i].get_text() == nbb_unformatted_code) {\n",
       "                             nbb_cells[i].set_text(nbb_formatted_code);\n",
       "                        }\n",
       "                        break;\n",
       "                    }\n",
       "                }\n",
       "            }, 500);\n",
       "            "
      ],
      "text/plain": [
       "<IPython.core.display.Javascript object>"
      ]
     },
     "metadata": {},
     "output_type": "display_data"
    }
   ],
   "source": [
    "discrete_cdf_model.plot()\n",
    "\n",
    "decorate(xlabel=\"Interval (minutes)\", ylabel=\"CDF\")"
   ]
  },
  {
   "cell_type": "markdown",
   "id": "bdb6bc7c",
   "metadata": {},
   "source": [
    "Finally, a PDF is the derivative of a continuous CDF, and a CDF is the integral of a PDF."
   ]
  },
  {
   "cell_type": "markdown",
   "id": "f4e5603e",
   "metadata": {
    "tags": [
     "remove-print"
    ]
   },
   "source": [
    "To demonstrate, we can use SymPy to define the CDF of an exponential distribution and compute its derivative."
   ]
  },
  {
   "cell_type": "code",
   "execution_count": 67,
   "id": "54e749a9",
   "metadata": {
    "tags": [
     "remove-print"
    ]
   },
   "outputs": [
    {
     "data": {
      "text/latex": [
       "$\\displaystyle 1 - e^{- x λ}$"
      ],
      "text/plain": [
       "1 - exp(-x*λ)"
      ]
     },
     "execution_count": 67,
     "metadata": {},
     "output_type": "execute_result"
    },
    {
     "data": {
      "application/javascript": [
       "\n",
       "            setTimeout(function() {\n",
       "                var nbb_cell_id = 67;\n",
       "                var nbb_unformatted_code = \"import sympy as sp\\n\\nx = sp.Symbol(\\\"x\\\", real=True, positive=True)\\n\\u03bb = sp.Symbol(\\\"\\u03bb\\\", real=True, positive=True)\\n\\ncdf = 1 - sp.exp(-\\u03bb * x)\\ncdf\";\n",
       "                var nbb_formatted_code = \"import sympy as sp\\n\\nx = sp.Symbol(\\\"x\\\", real=True, positive=True)\\n\\u03bb = sp.Symbol(\\\"\\u03bb\\\", real=True, positive=True)\\n\\ncdf = 1 - sp.exp(-\\u03bb * x)\\ncdf\";\n",
       "                var nbb_cells = Jupyter.notebook.get_cells();\n",
       "                for (var i = 0; i < nbb_cells.length; ++i) {\n",
       "                    if (nbb_cells[i].input_prompt_number == nbb_cell_id) {\n",
       "                        if (nbb_cells[i].get_text() == nbb_unformatted_code) {\n",
       "                             nbb_cells[i].set_text(nbb_formatted_code);\n",
       "                        }\n",
       "                        break;\n",
       "                    }\n",
       "                }\n",
       "            }, 500);\n",
       "            "
      ],
      "text/plain": [
       "<IPython.core.display.Javascript object>"
      ]
     },
     "metadata": {},
     "output_type": "display_data"
    }
   ],
   "source": [
    "import sympy as sp\n",
    "\n",
    "x = sp.Symbol(\"x\", real=True, positive=True)\n",
    "λ = sp.Symbol(\"λ\", real=True, positive=True)\n",
    "\n",
    "cdf = 1 - sp.exp(-λ * x)\n",
    "cdf"
   ]
  },
  {
   "cell_type": "code",
   "execution_count": 68,
   "id": "7c302237",
   "metadata": {
    "tags": [
     "remove-print"
    ]
   },
   "outputs": [
    {
     "data": {
      "text/latex": [
       "$\\displaystyle λ e^{- x λ}$"
      ],
      "text/plain": [
       "λ*exp(-x*λ)"
      ]
     },
     "execution_count": 68,
     "metadata": {},
     "output_type": "execute_result"
    },
    {
     "data": {
      "application/javascript": [
       "\n",
       "            setTimeout(function() {\n",
       "                var nbb_cell_id = 68;\n",
       "                var nbb_unformatted_code = \"pdf = sp.diff(cdf, x)\\npdf\";\n",
       "                var nbb_formatted_code = \"pdf = sp.diff(cdf, x)\\npdf\";\n",
       "                var nbb_cells = Jupyter.notebook.get_cells();\n",
       "                for (var i = 0; i < nbb_cells.length; ++i) {\n",
       "                    if (nbb_cells[i].input_prompt_number == nbb_cell_id) {\n",
       "                        if (nbb_cells[i].get_text() == nbb_unformatted_code) {\n",
       "                             nbb_cells[i].set_text(nbb_formatted_code);\n",
       "                        }\n",
       "                        break;\n",
       "                    }\n",
       "                }\n",
       "            }, 500);\n",
       "            "
      ],
      "text/plain": [
       "<IPython.core.display.Javascript object>"
      ]
     },
     "metadata": {},
     "output_type": "display_data"
    }
   ],
   "source": [
    "pdf = sp.diff(cdf, x)\n",
    "pdf"
   ]
  },
  {
   "cell_type": "markdown",
   "id": "c2f9e807",
   "metadata": {
    "tags": [
     "remove-print"
    ]
   },
   "source": [
    "And if we integrate the result, we get the CDF back -- although we lose the constant of integration in the process."
   ]
  },
  {
   "cell_type": "code",
   "execution_count": 69,
   "id": "f08aa791",
   "metadata": {
    "tags": [
     "remove-print"
    ]
   },
   "outputs": [
    {
     "data": {
      "text/latex": [
       "$\\displaystyle - e^{- x λ}$"
      ],
      "text/plain": [
       "-exp(-x*λ)"
      ]
     },
     "execution_count": 69,
     "metadata": {},
     "output_type": "execute_result"
    },
    {
     "data": {
      "application/javascript": [
       "\n",
       "            setTimeout(function() {\n",
       "                var nbb_cell_id = 69;\n",
       "                var nbb_unformatted_code = \"sp.integrate(pdf, x)\";\n",
       "                var nbb_formatted_code = \"sp.integrate(pdf, x)\";\n",
       "                var nbb_cells = Jupyter.notebook.get_cells();\n",
       "                for (var i = 0; i < nbb_cells.length; ++i) {\n",
       "                    if (nbb_cells[i].input_prompt_number == nbb_cell_id) {\n",
       "                        if (nbb_cells[i].get_text() == nbb_unformatted_code) {\n",
       "                             nbb_cells[i].set_text(nbb_formatted_code);\n",
       "                        }\n",
       "                        break;\n",
       "                    }\n",
       "                }\n",
       "            }, 500);\n",
       "            "
      ],
      "text/plain": [
       "<IPython.core.display.Javascript object>"
      ]
     },
     "metadata": {},
     "output_type": "display_data"
    }
   ],
   "source": [
    "sp.integrate(pdf, x)"
   ]
  },
  {
   "cell_type": "markdown",
   "id": "83d0b0db",
   "metadata": {},
   "source": [
    "## Glossary\n",
    "\n",
    "-   **Probability density function (PDF)**: The derivative of a continuous CDF, a function that maps a value to its probability density.\n",
    "\n",
    "-   **Probability density**: A quantity that can be integrated over a range of values to yield a probability. If the values are in units of cm, for example, probability density is in units of probability per cm.\n",
    "\n",
    "-   **Kernel density estimation (KDE)**: An algorithm that estimates a PDF based on a sample.\n",
    "\n",
    "-   **discretize**: To approximate a continuous function or distribution with a discrete function. The opposite of smoothing.\n",
    "\n"
   ]
  },
  {
   "cell_type": "markdown",
   "id": "a21248f4",
   "metadata": {},
   "source": [
    "## Exercises"
   ]
  },
  {
   "cell_type": "markdown",
   "id": "16858dd0",
   "metadata": {},
   "source": [
    "### Exercise\n",
    "\n",
    "In World Cup soccer (football), suppose the time until the first goal is well modeled by an exponential distribution with rate parameter `lam=2.5` goals per game.\n",
    "Make an `ExponentialPdf` to represent this distribution and use `area_under` to compute the probability a goal is scored in the first half of a game.\n",
    "Then use an `ExponentialCdf` to compute the same probability and check that the results are consistent."
   ]
  },
  {
   "cell_type": "code",
   "execution_count": 70,
   "id": "80d4de90",
   "metadata": {},
   "outputs": [
    {
     "data": {
      "image/png": "[encoded data removed]",
      "text/plain": [
       "<Figure size 450x262.5 with 1 Axes>"
      ]
     },
     "metadata": {},
     "output_type": "display_data"
    },
    {
     "data": {
      "application/javascript": [
       "\n",
       "            setTimeout(function() {\n",
       "                var nbb_cell_id = 70;\n",
       "                var nbb_unformatted_code = \"# Solution\\n\\npdf_model = ExponentialPdf(lam=2.5)\\npdf_model.plot()\\n\\ndecorate(xlabel=\\\"Interval (games)\\\", ylabel=\\\"Density\\\")\";\n",
       "                var nbb_formatted_code = \"# Solution\\n\\npdf_model = ExponentialPdf(lam=2.5)\\npdf_model.plot()\\n\\ndecorate(xlabel=\\\"Interval (games)\\\", ylabel=\\\"Density\\\")\";\n",
       "                var nbb_cells = Jupyter.notebook.get_cells();\n",
       "                for (var i = 0; i < nbb_cells.length; ++i) {\n",
       "                    if (nbb_cells[i].input_prompt_number == nbb_cell_id) {\n",
       "                        if (nbb_cells[i].get_text() == nbb_unformatted_code) {\n",
       "                             nbb_cells[i].set_text(nbb_formatted_code);\n",
       "                        }\n",
       "                        break;\n",
       "                    }\n",
       "                }\n",
       "            }, 500);\n",
       "            "
      ],
      "text/plain": [
       "<IPython.core.display.Javascript object>"
      ]
     },
     "metadata": {},
     "output_type": "display_data"
    }
   ],
   "source": []
  },
  {
   "cell_type": "code",
   "execution_count": 71,
   "id": "d08933d1",
   "metadata": {},
   "outputs": [
    {
     "data": {
      "text/plain": [
       "0.7134952031399646"
      ]
     },
     "execution_count": 71,
     "metadata": {},
     "output_type": "execute_result"
    },
    {
     "data": {
      "application/javascript": [
       "\n",
       "            setTimeout(function() {\n",
       "                var nbb_cell_id = 71;\n",
       "                var nbb_unformatted_code = \"# Solution\\n\\narea_under(pdf_model, 0, 0.5)\";\n",
       "                var nbb_formatted_code = \"# Solution\\n\\narea_under(pdf_model, 0, 0.5)\";\n",
       "                var nbb_cells = Jupyter.notebook.get_cells();\n",
       "                for (var i = 0; i < nbb_cells.length; ++i) {\n",
       "                    if (nbb_cells[i].input_prompt_number == nbb_cell_id) {\n",
       "                        if (nbb_cells[i].get_text() == nbb_unformatted_code) {\n",
       "                             nbb_cells[i].set_text(nbb_formatted_code);\n",
       "                        }\n",
       "                        break;\n",
       "                    }\n",
       "                }\n",
       "            }, 500);\n",
       "            "
      ],
      "text/plain": [
       "<IPython.core.display.Javascript object>"
      ]
     },
     "metadata": {},
     "output_type": "display_data"
    }
   ],
   "source": []
  },
  {
   "cell_type": "code",
   "execution_count": 72,
   "id": "7ae9e038",
   "metadata": {},
   "outputs": [
    {
     "data": {
      "text/plain": [
       "0.7134952031398099"
      ]
     },
     "execution_count": 72,
     "metadata": {},
     "output_type": "execute_result"
    },
    {
     "data": {
      "application/javascript": [
       "\n",
       "            setTimeout(function() {\n",
       "                var nbb_cell_id = 72;\n",
       "                var nbb_unformatted_code = \"# Solution\\n\\ncdf_model = ExponentialCdf(lam=2.5)\\ncdf_model(0.5)\";\n",
       "                var nbb_formatted_code = \"# Solution\\n\\ncdf_model = ExponentialCdf(lam=2.5)\\ncdf_model(0.5)\";\n",
       "                var nbb_cells = Jupyter.notebook.get_cells();\n",
       "                for (var i = 0; i < nbb_cells.length; ++i) {\n",
       "                    if (nbb_cells[i].input_prompt_number == nbb_cell_id) {\n",
       "                        if (nbb_cells[i].get_text() == nbb_unformatted_code) {\n",
       "                             nbb_cells[i].set_text(nbb_formatted_code);\n",
       "                        }\n",
       "                        break;\n",
       "                    }\n",
       "                }\n",
       "            }, 500);\n",
       "            "
      ],
      "text/plain": [
       "<IPython.core.display.Javascript object>"
      ]
     },
     "metadata": {},
     "output_type": "display_data"
    }
   ],
   "source": []
  },
  {
   "cell_type": "markdown",
   "id": "d3029643",
   "metadata": {},
   "source": [
    "Use `ExponentialPdf` to compute the probability the first goal is scored in the second half of the game.\n",
    "Then use an `ExponentialCdf` to compute the same probability and check that the results are consistent."
   ]
  },
  {
   "cell_type": "code",
   "execution_count": 73,
   "id": "9890bed0",
   "metadata": {},
   "outputs": [
    {
     "data": {
      "text/plain": [
       "0.20441979823633566"
      ]
     },
     "execution_count": 73,
     "metadata": {},
     "output_type": "execute_result"
    },
    {
     "data": {
      "application/javascript": [
       "\n",
       "            setTimeout(function() {\n",
       "                var nbb_cell_id = 73;\n",
       "                var nbb_unformatted_code = \"# Solution\\n\\narea_under(pdf_model, 0.5, 1)\";\n",
       "                var nbb_formatted_code = \"# Solution\\n\\narea_under(pdf_model, 0.5, 1)\";\n",
       "                var nbb_cells = Jupyter.notebook.get_cells();\n",
       "                for (var i = 0; i < nbb_cells.length; ++i) {\n",
       "                    if (nbb_cells[i].input_prompt_number == nbb_cell_id) {\n",
       "                        if (nbb_cells[i].get_text() == nbb_unformatted_code) {\n",
       "                             nbb_cells[i].set_text(nbb_formatted_code);\n",
       "                        }\n",
       "                        break;\n",
       "                    }\n",
       "                }\n",
       "            }, 500);\n",
       "            "
      ],
      "text/plain": [
       "<IPython.core.display.Javascript object>"
      ]
     },
     "metadata": {},
     "output_type": "display_data"
    }
   ],
   "source": []
  },
  {
   "cell_type": "code",
   "execution_count": 74,
   "id": "50d82610",
   "metadata": {},
   "outputs": [
    {
     "data": {
      "text/plain": [
       "0.2044197982362913"
      ]
     },
     "execution_count": 74,
     "metadata": {},
     "output_type": "execute_result"
    },
    {
     "data": {
      "application/javascript": [
       "\n",
       "            setTimeout(function() {\n",
       "                var nbb_cell_id = 74;\n",
       "                var nbb_unformatted_code = \"# Solution\\n\\ncdf_model(1) - cdf_model(0.5)\";\n",
       "                var nbb_formatted_code = \"# Solution\\n\\ncdf_model(1) - cdf_model(0.5)\";\n",
       "                var nbb_cells = Jupyter.notebook.get_cells();\n",
       "                for (var i = 0; i < nbb_cells.length; ++i) {\n",
       "                    if (nbb_cells[i].input_prompt_number == nbb_cell_id) {\n",
       "                        if (nbb_cells[i].get_text() == nbb_unformatted_code) {\n",
       "                             nbb_cells[i].set_text(nbb_formatted_code);\n",
       "                        }\n",
       "                        break;\n",
       "                    }\n",
       "                }\n",
       "            }, 500);\n",
       "            "
      ],
      "text/plain": [
       "<IPython.core.display.Javascript object>"
      ]
     },
     "metadata": {},
     "output_type": "display_data"
    }
   ],
   "source": []
  },
  {
   "cell_type": "markdown",
   "id": "a4c52fe0",
   "metadata": {},
   "source": [
    "### Exercise\n",
    "\n",
    "In order to join Blue Man Group, you have to be male between 5’10” and 6’1”, which is roughly 178 to 185 centimeters.\n",
    "Let's see what fraction of the male adult population in the United States meets this requirement.\n",
    "\n",
    "The heights of male participants in the BRFSS are well modeled by a normal distribution with mean 178 cm and standard deviation 7 cm."
   ]
  },
  {
   "cell_type": "code",
   "execution_count": 75,
   "id": "7cb2c493",
   "metadata": {
    "tags": [
     "remove-print"
    ]
   },
   "outputs": [
    {
     "data": {
      "application/javascript": [
       "\n",
       "            setTimeout(function() {\n",
       "                var nbb_cell_id = 75;\n",
       "                var nbb_unformatted_code = \"download(\\\"https://github.com/AllenDowney/ThinkStats/raw/v3/data/CDBRFS08.ASC.gz\\\")\";\n",
       "                var nbb_formatted_code = \"download(\\\"https://github.com/AllenDowney/ThinkStats/raw/v3/data/CDBRFS08.ASC.gz\\\")\";\n",
       "                var nbb_cells = Jupyter.notebook.get_cells();\n",
       "                for (var i = 0; i < nbb_cells.length; ++i) {\n",
       "                    if (nbb_cells[i].input_prompt_number == nbb_cell_id) {\n",
       "                        if (nbb_cells[i].get_text() == nbb_unformatted_code) {\n",
       "                             nbb_cells[i].set_text(nbb_formatted_code);\n",
       "                        }\n",
       "                        break;\n",
       "                    }\n",
       "                }\n",
       "            }, 500);\n",
       "            "
      ],
      "text/plain": [
       "<IPython.core.display.Javascript object>"
      ]
     },
     "metadata": {},
     "output_type": "display_data"
    }
   ],
   "source": [
    "download(\"https://github.com/AllenDowney/ThinkStats/raw/v3/data/CDBRFS08.ASC.gz\")"
   ]
  },
  {
   "cell_type": "code",
   "execution_count": 76,
   "id": "6431e26c",
   "metadata": {},
   "outputs": [
    {
     "data": {
      "application/javascript": [
       "\n",
       "            setTimeout(function() {\n",
       "                var nbb_cell_id = 76;\n",
       "                var nbb_unformatted_code = \"from thinkstats import read_brfss\\n\\nbrfss = read_brfss()\\nmale = brfss.query(\\\"sex == 1\\\")\\nheights = male[\\\"htm3\\\"].dropna()\";\n",
       "                var nbb_formatted_code = \"from thinkstats import read_brfss\\n\\nbrfss = read_brfss()\\nmale = brfss.query(\\\"sex == 1\\\")\\nheights = male[\\\"htm3\\\"].dropna()\";\n",
       "                var nbb_cells = Jupyter.notebook.get_cells();\n",
       "                for (var i = 0; i < nbb_cells.length; ++i) {\n",
       "                    if (nbb_cells[i].input_prompt_number == nbb_cell_id) {\n",
       "                        if (nbb_cells[i].get_text() == nbb_unformatted_code) {\n",
       "                             nbb_cells[i].set_text(nbb_formatted_code);\n",
       "                        }\n",
       "                        break;\n",
       "                    }\n",
       "                }\n",
       "            }, 500);\n",
       "            "
      ],
      "text/plain": [
       "<IPython.core.display.Javascript object>"
      ]
     },
     "metadata": {},
     "output_type": "display_data"
    }
   ],
   "source": [
    "from thinkstats import read_brfss\n",
    "\n",
    "brfss = read_brfss()\n",
    "male = brfss.query(\"sex == 1\")\n",
    "heights = male[\"htm3\"].dropna()"
   ]
  },
  {
   "cell_type": "code",
   "execution_count": 77,
   "id": "ed41b925",
   "metadata": {},
   "outputs": [
    {
     "data": {
      "text/plain": [
       "(178.10278947124948, 7.017054887136004)"
      ]
     },
     "execution_count": 77,
     "metadata": {},
     "output_type": "execute_result"
    },
    {
     "data": {
      "application/javascript": [
       "\n",
       "            setTimeout(function() {\n",
       "                var nbb_cell_id = 77;\n",
       "                var nbb_unformatted_code = \"from scipy.stats import trimboth\\n\\ntrimmed = trimboth(heights, 0.01)\\nm, s = np.mean(trimmed), np.std(trimmed)\\nm, s\";\n",
       "                var nbb_formatted_code = \"from scipy.stats import trimboth\\n\\ntrimmed = trimboth(heights, 0.01)\\nm, s = np.mean(trimmed), np.std(trimmed)\\nm, s\";\n",
       "                var nbb_cells = Jupyter.notebook.get_cells();\n",
       "                for (var i = 0; i < nbb_cells.length; ++i) {\n",
       "                    if (nbb_cells[i].input_prompt_number == nbb_cell_id) {\n",
       "                        if (nbb_cells[i].get_text() == nbb_unformatted_code) {\n",
       "                             nbb_cells[i].set_text(nbb_formatted_code);\n",
       "                        }\n",
       "                        break;\n",
       "                    }\n",
       "                }\n",
       "            }, 500);\n",
       "            "
      ],
      "text/plain": [
       "<IPython.core.display.Javascript object>"
      ]
     },
     "metadata": {},
     "output_type": "display_data"
    }
   ],
   "source": [
    "from scipy.stats import trimboth\n",
    "\n",
    "trimmed = trimboth(heights, 0.01)\n",
    "m, s = np.mean(trimmed), np.std(trimmed)\n",
    "m, s"
   ]
  },
  {
   "cell_type": "markdown",
   "id": "edd36059",
   "metadata": {},
   "source": [
    "Here's a `NormalCdf` object that represents a normal distribution with the same mean and standard deviation as the trimmed data."
   ]
  },
  {
   "cell_type": "code",
   "execution_count": 78,
   "id": "fe3533b0",
   "metadata": {},
   "outputs": [
    {
     "data": {
      "application/javascript": [
       "\n",
       "            setTimeout(function() {\n",
       "                var nbb_cell_id = 78;\n",
       "                var nbb_unformatted_code = \"from thinkstats import NormalCdf\\n\\ncdf_normal_model = NormalCdf(m, s)\";\n",
       "                var nbb_formatted_code = \"from thinkstats import NormalCdf\\n\\ncdf_normal_model = NormalCdf(m, s)\";\n",
       "                var nbb_cells = Jupyter.notebook.get_cells();\n",
       "                for (var i = 0; i < nbb_cells.length; ++i) {\n",
       "                    if (nbb_cells[i].input_prompt_number == nbb_cell_id) {\n",
       "                        if (nbb_cells[i].get_text() == nbb_unformatted_code) {\n",
       "                             nbb_cells[i].set_text(nbb_formatted_code);\n",
       "                        }\n",
       "                        break;\n",
       "                    }\n",
       "                }\n",
       "            }, 500);\n",
       "            "
      ],
      "text/plain": [
       "<IPython.core.display.Javascript object>"
      ]
     },
     "metadata": {},
     "output_type": "display_data"
    }
   ],
   "source": [
    "from thinkstats import NormalCdf\n",
    "\n",
    "cdf_normal_model = NormalCdf(m, s)"
   ]
  },
  {
   "cell_type": "markdown",
   "id": "6b01929f",
   "metadata": {},
   "source": [
    "And here's how it compares to the CDF of the data."
   ]
  },
  {
   "cell_type": "code",
   "execution_count": 79,
   "id": "76ca42c9",
   "metadata": {},
   "outputs": [
    {
     "data": {
      "image/png": "[encoded data removed]",
      "text/plain": [
       "<Figure size 450x262.5 with 1 Axes>"
      ]
     },
     "metadata": {},
     "output_type": "display_data"
    },
    {
     "data": {
      "application/javascript": [
       "\n",
       "            setTimeout(function() {\n",
       "                var nbb_cell_id = 79;\n",
       "                var nbb_unformatted_code = \"cdf_height = Cdf.from_seq(heights, name=\\\"data\\\")\\ncdf_normal_model.plot(color=\\\"gray\\\")\\ncdf_height.step()\\n\\nxlim = [140, 210]\\ndecorate(xlabel=\\\"Height (cm)\\\", ylabel=\\\"CDF\\\", xlim=xlim)\";\n",
       "                var nbb_formatted_code = \"cdf_height = Cdf.from_seq(heights, name=\\\"data\\\")\\ncdf_normal_model.plot(color=\\\"gray\\\")\\ncdf_height.step()\\n\\nxlim = [140, 210]\\ndecorate(xlabel=\\\"Height (cm)\\\", ylabel=\\\"CDF\\\", xlim=xlim)\";\n",
       "                var nbb_cells = Jupyter.notebook.get_cells();\n",
       "                for (var i = 0; i < nbb_cells.length; ++i) {\n",
       "                    if (nbb_cells[i].input_prompt_number == nbb_cell_id) {\n",
       "                        if (nbb_cells[i].get_text() == nbb_unformatted_code) {\n",
       "                             nbb_cells[i].set_text(nbb_formatted_code);\n",
       "                        }\n",
       "                        break;\n",
       "                    }\n",
       "                }\n",
       "            }, 500);\n",
       "            "
      ],
      "text/plain": [
       "<IPython.core.display.Javascript object>"
      ]
     },
     "metadata": {},
     "output_type": "display_data"
    }
   ],
   "source": [
    "cdf_height = Cdf.from_seq(heights, name=\"data\")\n",
    "cdf_normal_model.plot(color=\"gray\")\n",
    "cdf_height.step()\n",
    "\n",
    "xlim = [140, 210]\n",
    "decorate(xlabel=\"Height (cm)\", ylabel=\"CDF\", xlim=xlim)"
   ]
  },
  {
   "cell_type": "markdown",
   "id": "4e013acb",
   "metadata": {},
   "source": [
    "Use `gaussian_kde` to make an `Pdf` to represent the PDF of male height.\n",
    "Hint: Investigate the `bw_method` argument, which can be used to control the smoothness of the estimated density.\n",
    "\n",
    "Plot the estimated density and compare it to a `NormalPdf` with mean `m` and standard deviation `s`."
   ]
  },
  {
   "cell_type": "code",
   "execution_count": 80,
   "id": "66d3eeac",
   "metadata": {},
   "outputs": [
    {
     "data": {
      "application/javascript": [
       "\n",
       "            setTimeout(function() {\n",
       "                var nbb_cell_id = 80;\n",
       "                var nbb_unformatted_code = \"# Solution\\n\\nkde = gaussian_kde(heights, bw_method=0.25)\";\n",
       "                var nbb_formatted_code = \"# Solution\\n\\nkde = gaussian_kde(heights, bw_method=0.25)\";\n",
       "                var nbb_cells = Jupyter.notebook.get_cells();\n",
       "                for (var i = 0; i < nbb_cells.length; ++i) {\n",
       "                    if (nbb_cells[i].input_prompt_number == nbb_cell_id) {\n",
       "                        if (nbb_cells[i].get_text() == nbb_unformatted_code) {\n",
       "                             nbb_cells[i].set_text(nbb_formatted_code);\n",
       "                        }\n",
       "                        break;\n",
       "                    }\n",
       "                }\n",
       "            }, 500);\n",
       "            "
      ],
      "text/plain": [
       "<IPython.core.display.Javascript object>"
      ]
     },
     "metadata": {},
     "output_type": "display_data"
    }
   ],
   "source": []
  },
  {
   "cell_type": "code",
   "execution_count": 81,
   "id": "dec3f886",
   "metadata": {},
   "outputs": [
    {
     "data": {
      "application/javascript": [
       "\n",
       "            setTimeout(function() {\n",
       "                var nbb_cell_id = 81;\n",
       "                var nbb_unformatted_code = \"# Solution\\n\\nkde = gaussian_kde(heights, bw_method=0.25)\\n\\ndomain = np.min(heights), np.max(heights)\\nkde_height = Pdf(kde, domain, name=\\\"estimated density\\\")\";\n",
       "                var nbb_formatted_code = \"# Solution\\n\\nkde = gaussian_kde(heights, bw_method=0.25)\\n\\ndomain = np.min(heights), np.max(heights)\\nkde_height = Pdf(kde, domain, name=\\\"estimated density\\\")\";\n",
       "                var nbb_cells = Jupyter.notebook.get_cells();\n",
       "                for (var i = 0; i < nbb_cells.length; ++i) {\n",
       "                    if (nbb_cells[i].input_prompt_number == nbb_cell_id) {\n",
       "                        if (nbb_cells[i].get_text() == nbb_unformatted_code) {\n",
       "                             nbb_cells[i].set_text(nbb_formatted_code);\n",
       "                        }\n",
       "                        break;\n",
       "                    }\n",
       "                }\n",
       "            }, 500);\n",
       "            "
      ],
      "text/plain": [
       "<IPython.core.display.Javascript object>"
      ]
     },
     "metadata": {},
     "output_type": "display_data"
    }
   ],
   "source": []
  },
  {
   "cell_type": "code",
   "execution_count": 82,
   "id": "80c814eb",
   "metadata": {},
   "outputs": [
    {
     "data": {
      "application/javascript": [
       "\n",
       "            setTimeout(function() {\n",
       "                var nbb_cell_id = 82;\n",
       "                var nbb_unformatted_code = \"# Solution\\n\\npdf_normal_model = NormalPdf(m, s, name=\\\"normal model\\\")\";\n",
       "                var nbb_formatted_code = \"# Solution\\n\\npdf_normal_model = NormalPdf(m, s, name=\\\"normal model\\\")\";\n",
       "                var nbb_cells = Jupyter.notebook.get_cells();\n",
       "                for (var i = 0; i < nbb_cells.length; ++i) {\n",
       "                    if (nbb_cells[i].input_prompt_number == nbb_cell_id) {\n",
       "                        if (nbb_cells[i].get_text() == nbb_unformatted_code) {\n",
       "                             nbb_cells[i].set_text(nbb_formatted_code);\n",
       "                        }\n",
       "                        break;\n",
       "                    }\n",
       "                }\n",
       "            }, 500);\n",
       "            "
      ],
      "text/plain": [
       "<IPython.core.display.Javascript object>"
      ]
     },
     "metadata": {},
     "output_type": "display_data"
    }
   ],
   "source": []
  },
  {
   "cell_type": "code",
   "execution_count": 83,
   "id": "d61eaec6",
   "metadata": {},
   "outputs": [
    {
     "data": {
      "image/png": "[encoded data removed]",
      "text/plain": [
       "<Figure size 450x262.5 with 1 Axes>"
      ]
     },
     "metadata": {},
     "output_type": "display_data"
    },
    {
     "data": {
      "application/javascript": [
       "\n",
       "            setTimeout(function() {\n",
       "                var nbb_cell_id = 83;\n",
       "                var nbb_unformatted_code = \"# Solution\\n\\npdf_normal_model.plot(color=\\\"gray\\\")\\nkde_height.plot()\\n\\ndecorate(xlabel=\\\"Height (cm)\\\", ylabel=\\\"CDF\\\", xlim=xlim)\";\n",
       "                var nbb_formatted_code = \"# Solution\\n\\npdf_normal_model.plot(color=\\\"gray\\\")\\nkde_height.plot()\\n\\ndecorate(xlabel=\\\"Height (cm)\\\", ylabel=\\\"CDF\\\", xlim=xlim)\";\n",
       "                var nbb_cells = Jupyter.notebook.get_cells();\n",
       "                for (var i = 0; i < nbb_cells.length; ++i) {\n",
       "                    if (nbb_cells[i].input_prompt_number == nbb_cell_id) {\n",
       "                        if (nbb_cells[i].get_text() == nbb_unformatted_code) {\n",
       "                             nbb_cells[i].set_text(nbb_formatted_code);\n",
       "                        }\n",
       "                        break;\n",
       "                    }\n",
       "                }\n",
       "            }, 500);\n",
       "            "
      ],
      "text/plain": [
       "<IPython.core.display.Javascript object>"
      ]
     },
     "metadata": {},
     "output_type": "display_data"
    }
   ],
   "source": []
  },
  {
   "cell_type": "markdown",
   "id": "53604a1a",
   "metadata": {},
   "source": [
    "Use a `NormalPdf` and `area_under` to compute the fraction of people in the normal model that are between 178 and 185 centimeters.\n",
    "Use a `NormalCdf` to compute the same fraction, and check that the results are consistent.\n",
    "Finally, use the empirical `Cdf` of the data to see what fraction of people in the dataset are in the same range."
   ]
  },
  {
   "cell_type": "code",
   "execution_count": 84,
   "id": "e0485114",
   "metadata": {},
   "outputs": [
    {
     "data": {
      "text/plain": [
       "0.343020541679175"
      ]
     },
     "execution_count": 84,
     "metadata": {},
     "output_type": "execute_result"
    },
    {
     "data": {
      "application/javascript": [
       "\n",
       "            setTimeout(function() {\n",
       "                var nbb_cell_id = 84;\n",
       "                var nbb_unformatted_code = \"# Solution\\n\\nlow, high = 178, 185\\n\\narea_under(pdf_normal_model, low, high)\";\n",
       "                var nbb_formatted_code = \"# Solution\\n\\nlow, high = 178, 185\\n\\narea_under(pdf_normal_model, low, high)\";\n",
       "                var nbb_cells = Jupyter.notebook.get_cells();\n",
       "                for (var i = 0; i < nbb_cells.length; ++i) {\n",
       "                    if (nbb_cells[i].input_prompt_number == nbb_cell_id) {\n",
       "                        if (nbb_cells[i].get_text() == nbb_unformatted_code) {\n",
       "                             nbb_cells[i].set_text(nbb_formatted_code);\n",
       "                        }\n",
       "                        break;\n",
       "                    }\n",
       "                }\n",
       "            }, 500);\n",
       "            "
      ],
      "text/plain": [
       "<IPython.core.display.Javascript object>"
      ]
     },
     "metadata": {},
     "output_type": "display_data"
    }
   ],
   "source": []
  },
  {
   "cell_type": "code",
   "execution_count": 85,
   "id": "18db45b3",
   "metadata": {},
   "outputs": [
    {
     "data": {
      "text/plain": [
       "0.34302054167913015"
      ]
     },
     "execution_count": 85,
     "metadata": {},
     "output_type": "execute_result"
    },
    {
     "data": {
      "application/javascript": [
       "\n",
       "            setTimeout(function() {\n",
       "                var nbb_cell_id = 85;\n",
       "                var nbb_unformatted_code = \"# Solution\\n\\ncdf_normal_model(high) - cdf_normal_model(low)\";\n",
       "                var nbb_formatted_code = \"# Solution\\n\\ncdf_normal_model(high) - cdf_normal_model(low)\";\n",
       "                var nbb_cells = Jupyter.notebook.get_cells();\n",
       "                for (var i = 0; i < nbb_cells.length; ++i) {\n",
       "                    if (nbb_cells[i].input_prompt_number == nbb_cell_id) {\n",
       "                        if (nbb_cells[i].get_text() == nbb_unformatted_code) {\n",
       "                             nbb_cells[i].set_text(nbb_formatted_code);\n",
       "                        }\n",
       "                        break;\n",
       "                    }\n",
       "                }\n",
       "            }, 500);\n",
       "            "
      ],
      "text/plain": [
       "<IPython.core.display.Javascript object>"
      ]
     },
     "metadata": {},
     "output_type": "display_data"
    }
   ],
   "source": []
  },
  {
   "cell_type": "code",
   "execution_count": 86,
   "id": "5e0ad75b",
   "metadata": {},
   "outputs": [
    {
     "data": {
      "text/plain": [
       "0.3354705421386336"
      ]
     },
     "execution_count": 86,
     "metadata": {},
     "output_type": "execute_result"
    },
    {
     "data": {
      "application/javascript": [
       "\n",
       "            setTimeout(function() {\n",
       "                var nbb_cell_id = 86;\n",
       "                var nbb_unformatted_code = \"# Solution\\n\\ncdf_height(high) - cdf_height(low)\";\n",
       "                var nbb_formatted_code = \"# Solution\\n\\ncdf_height(high) - cdf_height(low)\";\n",
       "                var nbb_cells = Jupyter.notebook.get_cells();\n",
       "                for (var i = 0; i < nbb_cells.length; ++i) {\n",
       "                    if (nbb_cells[i].input_prompt_number == nbb_cell_id) {\n",
       "                        if (nbb_cells[i].get_text() == nbb_unformatted_code) {\n",
       "                             nbb_cells[i].set_text(nbb_formatted_code);\n",
       "                        }\n",
       "                        break;\n",
       "                    }\n",
       "                }\n",
       "            }, 500);\n",
       "            "
      ],
      "text/plain": [
       "<IPython.core.display.Javascript object>"
      ]
     },
     "metadata": {},
     "output_type": "display_data"
    }
   ],
   "source": []
  },
  {
   "cell_type": "code",
   "execution_count": null,
   "id": "c726d530",
   "metadata": {},
   "outputs": [],
   "source": []
  },
  {
   "cell_type": "markdown",
   "id": "e27da3a4",
   "metadata": {
    "tags": []
   },
   "source": [
    "[Think Stats: Exploratory Data Analysis in Python, 3rd Edition](https://allendowney.github.io/ThinkStats/index.html)\n",
    "\n",
    "Copyright 2024 [Allen B. Downey](https://allendowney.com)\n",
    "\n",
    "Code license: [MIT License](https://mit-license.org/)\n",
    "\n",
    "Text license: [Creative Commons Attribution-NonCommercial-ShareAlike 4.0 International](https://creativecommons.org/licenses/by-nc-sa/4.0/)"
   ]
  }
 ],
 "metadata": {
  "celltoolbar": "Tags",
  "kernelspec": {
   "display_name": "Python 3 (ipykernel)",
   "language": "python",
   "name": "python3"
  },
  "language_info": {
   "codemirror_mode": {
    "name": "ipython",
    "version": 3
   },
   "file_extension": ".py",
   "mimetype": "text/x-python",
   "name": "python",
   "nbconvert_exporter": "python",
   "pygments_lexer": "ipython3",
   "version": "3.10.14"
  }
 },
 "nbformat": 4,
 "nbformat_minor": 5
}
